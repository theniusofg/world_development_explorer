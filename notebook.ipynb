{
 "cells": [
  {
   "cell_type": "markdown",
   "source": "#  Does 👩‍🏫 + 📚 + 🕓 + 🎓 === 💵💵💵💵?\n  \nSomething that is emblematic of the immigrant experience is the focus on hard work, resilience, and educational attainment. And, although I was born in this country, I, also come from a long line of immigrants. So I know what it’s like to live the immigrant experience. When I was a kid, it sometimes felt like education was the end all be all of belonging to an immigrant family. There was such intense focus on it from everyone in my family — my parents and aunts and uncles and grandparents and even friends of the family. They all waxed eloquent about the virtues of education. They were relentless (or, at least, it felt that way). Basically, it was the only thing I ever heard about, ever. Education represented a way for a person to change their lot in life — to have a chance at achieving financial security or maybe even gaining real wealth. In short, education was the key to success. It wasn’t just education writ ?large that was the focus — it was post-secondary education that was lauded as the ultimate goal. \n \nGrowing up in this environment, naturally meant I learned from an early age to value and appreciate the pursuit of higher education. However, since I was little, I never took anything I was told on faith alone. Because of this, I felt inclined to research whether there really was any correlation between between higher education and wealth, or was it all part of my immigrant mythology. In order to answer this question, I pointed my web browser to http://www.worlddev.xyz/. This website is a treasure trove of information. It aggregates open-source data collected from the World Bank and presents the data visually in the form of charts and graphs. It is an excellent tool to probe for answers to my question. \n \nI agonized for weeks on what specific questions I could ask. There is so much data on worlddev.xyz to comb through. I felt overwhelmed. While feverishly scouring over the data I stumbled upon three indicators that piqued my interest. They involved the different levels of post-secondary education. That is, the attainment of bachelor’s, master’s, and doctoral degrees. I thought to myself, “this is it!”. It was something that spoke to me and my experience. It was exactly what I was looking for. \n \nI want to examine these data to see if there is a relationship between a country’s wealth and the proportion of its population that has obtained higher education. I am curious to know what these two factors can tell us about larger global trends. \n \nThe world bank describes the bachelor’s degree attainment as, “The percentage of population ages 25 and over that attained or completed Bachelor's or equivalent,” (databank.worldbank.org). The wording is exactly the same for the other two degrees as well. It stands to reason that since a subordinate degree is a prerequisite for getting a higher degree then it is understood that the bachelor’s indicator will include some number of persons with master’s and doctoral degrees. And that the master’s indicator will include some portion of people that have also received doctoral degrees. This fact aside I think it is still worthwhile to see what impressions we can glean regarding all three indicators. \n \nThey will be compared against economic indicators: GDP per capita (Current US$) and Adjusted Net National Income (Current US$). The definitions of each are as described by the world bank’s website are provided below.\n \n**GDP per capita (Current US$)**\n \n>“GDP per capita is gross domestic product divided by midyear population. GDP is the sum of gross value added by all resident producers in the economy plus any product taxes and minus any subsidies not included in the value of the products. It is calculated without making deductions for depreciation of fabricated assets or for depletion and degradation of natural resources. Data are in current U.S. dollars.”\n        \n**Adjusted Net National Income (Current US$)**\n \n>“Adjusted net national income is GNI minus consumption of fixed capital and natural resources depletion.”\n \nI chose GDP because it is the indicator I see used most often in the world of economics and politics. It is the “gold standard” of economic indicators. As the definition states it reflects the entire wealth represented by a given country. However, the numbers stated in terms of GDP are hard for me to wrap my head around. Especially because I am a layperson. I like the net national income indicator because it makes a little more sense to me because it represents on a per capita basis the take-home pay of a person in a given country year-over-year.",
   "metadata": {
    "tags": [],
    "cell_id": "00004-b1441bf6-c525-42af-b396-28b83ae63c72",
    "deepnote_cell_type": "markdown"
   }
  },
  {
   "cell_type": "markdown",
   "source": "## Analysis\n \nI chose to analyze five countries (Australia, Bangladesh, Mexico, Serbia, Sweden) that had data across five years (2013-2017). I could only pick these five due to the limitations of the dataset. Luckily, the world bank has a similar indicator that compares to the ones I outlined above. \nThis indicator also looks at those over 25 and if they have completed post-secondary education. This indicator is not as specific as the ones I'm interested in but can give us a good sense of the overall trends in this space.\n \n \n### Select countries percent of population over age 25 with post-secondary education\nHere you can see 20 countries represented in the bubble graph below. They are compared against GDP. There is a distinct upward trend reflected in the data. When looking at the next graph. The disparity becomes starker because instead of isolating each data point as an individual country the data are grouped together by income. The high income groups, for the most part, all have the highest rates of post-secondary reducation completion.\n",
   "metadata": {
    "tags": [],
    "cell_id": "00002-74607c0b-6325-41cf-bf2a-700335ef4c2d",
    "deepnote_cell_type": "markdown"
   }
  },
  {
   "cell_type": "code",
   "source": "import pandas as pd\nimport plotly.express as px\nimport plotly.io as pio\n\npio.templates.default = \"plotly_dark\" # adds dark theme to better see the data",
   "metadata": {
    "tags": [],
    "cell_id": "00003-87a65f54-9bdf-4ed5-a17d-224cde3d7d68",
    "deepnote_to_be_reexecuted": false,
    "source_hash": "a2fc475d",
    "execution_start": 1621802937677,
    "execution_millis": 32,
    "deepnote_cell_type": "code"
   },
   "outputs": [],
   "execution_count": 43
  },
  {
   "cell_type": "markdown",
   "source": "#### importing data frame for global context\n\nThis data is helpful in understanding the global trends and if they are vaible to study on a smaller scale. there is minimal cleaning and organizing for the data frame.",
   "metadata": {
    "tags": [],
    "cell_id": "00006-00f39f35-713c-4af9-8d21-9fe3a1dbc519",
    "deepnote_cell_type": "markdown"
   },
   "outputs": [],
   "execution_count": null
  },
  {
   "cell_type": "code",
   "source": "df_world = pd.read_csv('data/world_data.csv')\ndf_world.drop(columns=[\"Unnamed: 0\"], inplace=True)\n\ndf_world",
   "metadata": {
    "tags": [],
    "cell_id": "00006-406da2bb-c5f4-4de5-a20c-123675bc2206",
    "deepnote_to_be_reexecuted": false,
    "source_hash": "32cffe67",
    "execution_start": 1621808582252,
    "execution_millis": 7,
    "deepnote_cell_type": "code"
   },
   "outputs": [
    {
     "output_type": "execute_result",
     "execution_count": 108,
     "data": {
      "application/vnd.deepnote.dataframe.v2+json": {
       "row_count": 95,
       "column_count": 9,
       "columns": [
        {
         "name": "Year",
         "dtype": "int64",
         "stats": {
          "unique_count": 5,
          "nan_count": 0,
          "min": "2012",
          "max": "2016",
          "histogram": [
           {
            "bin_start": 2012,
            "bin_end": 2012.4,
            "count": 19
           },
           {
            "bin_start": 2012.4,
            "bin_end": 2012.8,
            "count": 0
           },
           {
            "bin_start": 2012.8,
            "bin_end": 2013.2,
            "count": 19
           },
           {
            "bin_start": 2013.2,
            "bin_end": 2013.6,
            "count": 0
           },
           {
            "bin_start": 2013.6,
            "bin_end": 2014,
            "count": 0
           },
           {
            "bin_start": 2014,
            "bin_end": 2014.4,
            "count": 19
           },
           {
            "bin_start": 2014.4,
            "bin_end": 2014.8,
            "count": 0
           },
           {
            "bin_start": 2014.8,
            "bin_end": 2015.2,
            "count": 19
           },
           {
            "bin_start": 2015.2,
            "bin_end": 2015.6,
            "count": 0
           },
           {
            "bin_start": 2015.6,
            "bin_end": 2016,
            "count": 19
           }
          ]
         }
        },
        {
         "name": "SP.POP.TOTL",
         "dtype": "int64",
         "stats": {
          "unique_count": 95,
          "nan_count": 0,
          "min": "5407579",
          "max": "322941311",
          "histogram": [
           {
            "bin_start": 5407579,
            "bin_end": 37160952.2,
            "count": 55
           },
           {
            "bin_start": 37160952.2,
            "bin_end": 68914325.4,
            "count": 10
           },
           {
            "bin_start": 68914325.4,
            "bin_end": 100667698.6,
            "count": 10
           },
           {
            "bin_start": 100667698.6,
            "bin_end": 132421071.8,
            "count": 5
           },
           {
            "bin_start": 132421071.8,
            "bin_end": 164174445,
            "count": 5
           },
           {
            "bin_start": 164174445,
            "bin_end": 195927818.2,
            "count": 0
           },
           {
            "bin_start": 195927818.2,
            "bin_end": 227681191.4,
            "count": 5
           },
           {
            "bin_start": 227681191.4,
            "bin_end": 259434564.6,
            "count": 0
           },
           {
            "bin_start": 259434564.6,
            "bin_end": 291187937.8,
            "count": 0
           },
           {
            "bin_start": 291187937.8,
            "bin_end": 322941311,
            "count": 5
           }
          ]
         }
        },
        {
         "name": "NY.GDP.PCAP.CD",
         "dtype": "float64",
         "stats": {
          "unique_count": 95,
          "nan_count": 0,
          "min": "883.1050005413",
          "max": "68150.1070413215",
          "histogram": [
           {
            "bin_start": 883.1050005413,
            "bin_end": 7609.805204619321,
            "count": 20
           },
           {
            "bin_start": 7609.805204619321,
            "bin_end": 14336.505408697341,
            "count": 30
           },
           {
            "bin_start": 14336.505408697341,
            "bin_end": 21063.205612775364,
            "count": 13
           },
           {
            "bin_start": 21063.205612775364,
            "bin_end": 27789.905816853385,
            "count": 2
           },
           {
            "bin_start": 27789.905816853385,
            "bin_end": 34516.6060209314,
            "count": 0
           },
           {
            "bin_start": 34516.6060209314,
            "bin_end": 41243.30622500942,
            "count": 5
           },
           {
            "bin_start": 41243.30622500942,
            "bin_end": 47970.00642908744,
            "count": 12
           },
           {
            "bin_start": 47970.00642908744,
            "bin_end": 54696.706633165464,
            "count": 6
           },
           {
            "bin_start": 54696.706633165464,
            "bin_end": 61423.406837243485,
            "count": 4
           },
           {
            "bin_start": 61423.406837243485,
            "bin_end": 68150.1070413215,
            "count": 3
           }
          ]
         }
        },
        {
         "name": "SE.SEC.CUAT.PO.ZS",
         "dtype": "float64",
         "stats": {
          "unique_count": 95,
          "nan_count": 0,
          "min": "9.4185600281",
          "max": "46.4734306335",
          "histogram": [
           {
            "bin_start": 9.4185600281,
            "bin_end": 13.12404708864,
            "count": 12
           },
           {
            "bin_start": 13.12404708864,
            "bin_end": 16.82953414918,
            "count": 17
           },
           {
            "bin_start": 16.82953414918,
            "bin_end": 20.53502120972,
            "count": 23
           },
           {
            "bin_start": 20.53502120972,
            "bin_end": 24.24050827026,
            "count": 4
           },
           {
            "bin_start": 24.24050827026,
            "bin_end": 27.9459953308,
            "count": 2
           },
           {
            "bin_start": 27.9459953308,
            "bin_end": 31.65148239134,
            "count": 15
           },
           {
            "bin_start": 31.65148239134,
            "bin_end": 35.35696945188,
            "count": 11
           },
           {
            "bin_start": 35.35696945188,
            "bin_end": 39.06245651242,
            "count": 2
           },
           {
            "bin_start": 39.06245651242,
            "bin_end": 42.76794357295999,
            "count": 5
           },
           {
            "bin_start": 42.76794357295999,
            "bin_end": 46.4734306335,
            "count": 4
           }
          ]
         }
        },
        {
         "name": "Country Code",
         "dtype": "object",
         "stats": {
          "unique_count": 19,
          "nan_count": 0,
          "categories": [
           {
            "name": "AUS",
            "count": 5
           },
           {
            "name": "AZE",
            "count": 5
           },
           {
            "name": "17 others",
            "count": 85
           }
          ]
         }
        },
        {
         "name": "Country Name",
         "dtype": "object",
         "stats": {
          "unique_count": 19,
          "nan_count": 0,
          "categories": [
           {
            "name": "Australia",
            "count": 5
           },
           {
            "name": "Azerbaijan",
            "count": 5
           },
           {
            "name": "17 others",
            "count": 85
           }
          ]
         }
        },
        {
         "name": "Region",
         "dtype": "object",
         "stats": {
          "unique_count": 5,
          "nan_count": 0,
          "categories": [
           {
            "name": "Europe & Central Asia",
            "count": 55
           },
           {
            "name": "Latin America & Caribbean ",
            "count": 25
           },
           {
            "name": "3 others",
            "count": 15
           }
          ]
         }
        },
        {
         "name": "Income Group",
         "dtype": "object",
         "stats": {
          "unique_count": 3,
          "nan_count": 0,
          "categories": [
           {
            "name": "High income",
            "count": 55
           },
           {
            "name": "Upper middle income",
            "count": 35
           },
           {
            "name": "Lower middle income",
            "count": 5
           }
          ]
         }
        },
        {
         "name": "Lending Type",
         "dtype": "object",
         "stats": {
          "unique_count": 3,
          "nan_count": 0,
          "categories": [
           {
            "name": "Not classified",
            "count": 50
           },
           {
            "name": "IBRD",
            "count": 40
           },
           {
            "name": "IDA",
            "count": 5
           }
          ]
         }
        },
        {
         "name": "_deepnote_index_column",
         "dtype": "int64"
        }
       ],
       "rows_top": [
        {
         "Year": 2012,
         "SP.POP.TOTL": 22733465,
         "NY.GDP.PCAP.CD": 68012.1479005934,
         "SE.SEC.CUAT.PO.ZS": 46.461971283,
         "Country Code": "AUS",
         "Country Name": "Australia",
         "Region": "East Asia & Pacific",
         "Income Group": "High income",
         "Lending Type": "Not classified",
         "_deepnote_index_column": 0
        },
        {
         "Year": 2013,
         "SP.POP.TOTL": 23128129,
         "NY.GDP.PCAP.CD": 68150.1070413215,
         "SE.SEC.CUAT.PO.ZS": 41.6409111023,
         "Country Code": "AUS",
         "Country Name": "Australia",
         "Region": "East Asia & Pacific",
         "Income Group": "High income",
         "Lending Type": "Not classified",
         "_deepnote_index_column": 1
        },
        {
         "Year": 2014,
         "SP.POP.TOTL": 23475686,
         "NY.GDP.PCAP.CD": 62510.7911705641,
         "SE.SEC.CUAT.PO.ZS": 39.0349807739,
         "Country Code": "AUS",
         "Country Name": "Australia",
         "Region": "East Asia & Pacific",
         "Income Group": "High income",
         "Lending Type": "Not classified",
         "_deepnote_index_column": 2
        },
        {
         "Year": 2015,
         "SP.POP.TOTL": 23815995,
         "NY.GDP.PCAP.CD": 56755.7217124249,
         "SE.SEC.CUAT.PO.ZS": 45.3450698853,
         "Country Code": "AUS",
         "Country Name": "Australia",
         "Region": "East Asia & Pacific",
         "Income Group": "High income",
         "Lending Type": "Not classified",
         "_deepnote_index_column": 3
        },
        {
         "Year": 2016,
         "SP.POP.TOTL": 24190907,
         "NY.GDP.PCAP.CD": 49971.131456129,
         "SE.SEC.CUAT.PO.ZS": 46.4734306335,
         "Country Code": "AUS",
         "Country Name": "Australia",
         "Region": "East Asia & Pacific",
         "Income Group": "High income",
         "Lending Type": "Not classified",
         "_deepnote_index_column": 4
        },
        {
         "Year": 2012,
         "SP.POP.TOTL": 9295784,
         "NY.GDP.PCAP.CD": 7496.2946476826,
         "SE.SEC.CUAT.PO.ZS": 30.0363502502,
         "Country Code": "AZE",
         "Country Name": "Azerbaijan",
         "Region": "Europe & Central Asia",
         "Income Group": "Upper middle income",
         "Lending Type": "IBRD",
         "_deepnote_index_column": 5
        },
        {
         "Year": 2013,
         "SP.POP.TOTL": 9416801,
         "NY.GDP.PCAP.CD": 7875.7569525429,
         "SE.SEC.CUAT.PO.ZS": 30.0331306458,
         "Country Code": "AZE",
         "Country Name": "Azerbaijan",
         "Region": "Europe & Central Asia",
         "Income Group": "Upper middle income",
         "Lending Type": "IBRD",
         "_deepnote_index_column": 6
        },
        {
         "Year": 2014,
         "SP.POP.TOTL": 9535079,
         "NY.GDP.PCAP.CD": 7891.3131474999,
         "SE.SEC.CUAT.PO.ZS": 30.0571193695,
         "Country Code": "AZE",
         "Country Name": "Azerbaijan",
         "Region": "Europe & Central Asia",
         "Income Group": "Upper middle income",
         "Lending Type": "IBRD",
         "_deepnote_index_column": 7
        },
        {
         "Year": 2015,
         "SP.POP.TOTL": 9649341,
         "NY.GDP.PCAP.CD": 5500.3103824441,
         "SE.SEC.CUAT.PO.ZS": 30.0416603088,
         "Country Code": "AZE",
         "Country Name": "Azerbaijan",
         "Region": "Europe & Central Asia",
         "Income Group": "Upper middle income",
         "Lending Type": "IBRD",
         "_deepnote_index_column": 8
        },
        {
         "Year": 2016,
         "SP.POP.TOTL": 9757812,
         "NY.GDP.PCAP.CD": 3880.7387308956,
         "SE.SEC.CUAT.PO.ZS": 30.091709137,
         "Country Code": "AZE",
         "Country Name": "Azerbaijan",
         "Region": "Europe & Central Asia",
         "Income Group": "Upper middle income",
         "Lending Type": "IBRD",
         "_deepnote_index_column": 9
        },
        {
         "Year": 2012,
         "SP.POP.TOTL": 151007807,
         "NY.GDP.PCAP.CD": 883.1050005413,
         "SE.SEC.CUAT.PO.ZS": 10.5072097778,
         "Country Code": "BGD",
         "Country Name": "Bangladesh",
         "Region": "South Asia",
         "Income Group": "Lower middle income",
         "Lending Type": "IDA",
         "_deepnote_index_column": 10
        },
        {
         "Year": 2013,
         "SP.POP.TOTL": 152764676,
         "NY.GDP.PCAP.CD": 981.8398791504,
         "SE.SEC.CUAT.PO.ZS": 9.4185600281,
         "Country Code": "BGD",
         "Country Name": "Bangladesh",
         "Region": "South Asia",
         "Income Group": "Lower middle income",
         "Lending Type": "IDA",
         "_deepnote_index_column": 11
        },
        {
         "Year": 2014,
         "SP.POP.TOTL": 154520167,
         "NY.GDP.PCAP.CD": 1118.8536634927,
         "SE.SEC.CUAT.PO.ZS": 10.2895097733,
         "Country Code": "BGD",
         "Country Name": "Bangladesh",
         "Region": "South Asia",
         "Income Group": "Lower middle income",
         "Lending Type": "IDA",
         "_deepnote_index_column": 12
        },
        {
         "Year": 2015,
         "SP.POP.TOTL": 156256276,
         "NY.GDP.PCAP.CD": 1248.4533977837,
         "SE.SEC.CUAT.PO.ZS": 13.9909801483,
         "Country Code": "BGD",
         "Country Name": "Bangladesh",
         "Region": "South Asia",
         "Income Group": "Lower middle income",
         "Lending Type": "IDA",
         "_deepnote_index_column": 13
        },
        {
         "Year": 2016,
         "SP.POP.TOTL": 157970840,
         "NY.GDP.PCAP.CD": 1401.6206282151,
         "SE.SEC.CUAT.PO.ZS": 14.347319603,
         "Country Code": "BGD",
         "Country Name": "Bangladesh",
         "Region": "South Asia",
         "Income Group": "Lower middle income",
         "Lending Type": "IDA",
         "_deepnote_index_column": 14
        },
        {
         "Year": 2012,
         "SP.POP.TOTL": 11106932,
         "NY.GDP.PCAP.CD": 44673.1158755901,
         "SE.SEC.CUAT.PO.ZS": 32.7122497559,
         "Country Code": "BEL",
         "Country Name": "Belgium",
         "Region": "Europe & Central Asia",
         "Income Group": "High income",
         "Lending Type": "Not classified",
         "_deepnote_index_column": 15
        },
        {
         "Year": 2013,
         "SP.POP.TOTL": 11159407,
         "NY.GDP.PCAP.CD": 46744.6625441516,
         "SE.SEC.CUAT.PO.ZS": 32.9851417542,
         "Country Code": "BEL",
         "Country Name": "Belgium",
         "Region": "Europe & Central Asia",
         "Income Group": "High income",
         "Lending Type": "Not classified",
         "_deepnote_index_column": 16
        },
        {
         "Year": 2014,
         "SP.POP.TOTL": 11209057,
         "NY.GDP.PCAP.CD": 47700.5403601178,
         "SE.SEC.CUAT.PO.ZS": 32.8033905029,
         "Country Code": "BEL",
         "Country Name": "Belgium",
         "Region": "Europe & Central Asia",
         "Income Group": "High income",
         "Lending Type": "Not classified",
         "_deepnote_index_column": 17
        },
        {
         "Year": 2015,
         "SP.POP.TOTL": 11274196,
         "NY.GDP.PCAP.CD": 40991.8081381432,
         "SE.SEC.CUAT.PO.ZS": 33.2611503601,
         "Country Code": "BEL",
         "Country Name": "Belgium",
         "Region": "Europe & Central Asia",
         "Income Group": "High income",
         "Lending Type": "Not classified",
         "_deepnote_index_column": 18
        },
        {
         "Year": 2016,
         "SP.POP.TOTL": 11331422,
         "NY.GDP.PCAP.CD": 41984.1030335609,
         "SE.SEC.CUAT.PO.ZS": 33.7627182007,
         "Country Code": "BEL",
         "Country Name": "Belgium",
         "Region": "Europe & Central Asia",
         "Income Group": "High income",
         "Lending Type": "Not classified",
         "_deepnote_index_column": 19
        },
        {
         "Year": 2012,
         "SP.POP.TOTL": 199287296,
         "NY.GDP.PCAP.CD": 12370.0242007149,
         "SE.SEC.CUAT.PO.ZS": 11.9615001678,
         "Country Code": "BRA",
         "Country Name": "Brazil",
         "Region": "Latin America & Caribbean ",
         "Income Group": "Upper middle income",
         "Lending Type": "IBRD",
         "_deepnote_index_column": 20
        },
        {
         "Year": 2013,
         "SP.POP.TOTL": 201035903,
         "NY.GDP.PCAP.CD": 12300.3248822758,
         "SE.SEC.CUAT.PO.ZS": 12.6315698624,
         "Country Code": "BRA",
         "Country Name": "Brazil",
         "Region": "Latin America & Caribbean ",
         "Income Group": "Upper middle income",
         "Lending Type": "IBRD",
         "_deepnote_index_column": 21
        },
        {
         "Year": 2014,
         "SP.POP.TOTL": 202763735,
         "NY.GDP.PCAP.CD": 12112.5882059697,
         "SE.SEC.CUAT.PO.ZS": 13.1573696136,
         "Country Code": "BRA",
         "Country Name": "Brazil",
         "Region": "Latin America & Caribbean ",
         "Income Group": "Upper middle income",
         "Lending Type": "IBRD",
         "_deepnote_index_column": 22
        },
        {
         "Year": 2015,
         "SP.POP.TOTL": 204471769,
         "NY.GDP.PCAP.CD": 8814.0009868126,
         "SE.SEC.CUAT.PO.ZS": 13.5562496185,
         "Country Code": "BRA",
         "Country Name": "Brazil",
         "Region": "Latin America & Caribbean ",
         "Income Group": "Upper middle income",
         "Lending Type": "IBRD",
         "_deepnote_index_column": 23
        },
        {
         "Year": 2016,
         "SP.POP.TOTL": 206163058,
         "NY.GDP.PCAP.CD": 8710.0966895412,
         "SE.SEC.CUAT.PO.ZS": 15.3451795578,
         "Country Code": "BRA",
         "Country Name": "Brazil",
         "Region": "Latin America & Caribbean ",
         "Income Group": "Upper middle income",
         "Lending Type": "IBRD",
         "_deepnote_index_column": 24
        },
        {
         "Year": 2012,
         "SP.POP.TOTL": 46075721,
         "NY.GDP.PCAP.CD": 8050.2553716705,
         "SE.SEC.CUAT.PO.ZS": 17.0799694061,
         "Country Code": "COL",
         "Country Name": "Colombia",
         "Region": "Latin America & Caribbean ",
         "Income Group": "Upper middle income",
         "Lending Type": "IBRD",
         "_deepnote_index_column": 25
        },
        {
         "Year": 2013,
         "SP.POP.TOTL": 46495492,
         "NY.GDP.PCAP.CD": 8218.3478443148,
         "SE.SEC.CUAT.PO.ZS": 18.5945796967,
         "Country Code": "COL",
         "Country Name": "Colombia",
         "Region": "Latin America & Caribbean ",
         "Income Group": "Upper middle income",
         "Lending Type": "IBRD",
         "_deepnote_index_column": 26
        },
        {
         "Year": 2014,
         "SP.POP.TOTL": 46967706,
         "NY.GDP.PCAP.CD": 8114.3439208516,
         "SE.SEC.CUAT.PO.ZS": 19.7050495148,
         "Country Code": "COL",
         "Country Name": "Colombia",
         "Region": "Latin America & Caribbean ",
         "Income Group": "Upper middle income",
         "Lending Type": "IBRD",
         "_deepnote_index_column": 27
        },
        {
         "Year": 2015,
         "SP.POP.TOTL": 47520667,
         "NY.GDP.PCAP.CD": 6175.8760297026,
         "SE.SEC.CUAT.PO.ZS": 19.5199699402,
         "Country Code": "COL",
         "Country Name": "Colombia",
         "Region": "Latin America & Caribbean ",
         "Income Group": "Upper middle income",
         "Lending Type": "IBRD",
         "_deepnote_index_column": 28
        },
        {
         "Year": 2016,
         "SP.POP.TOTL": 48175048,
         "NY.GDP.PCAP.CD": 5870.7779572416,
         "SE.SEC.CUAT.PO.ZS": 20.1363105774,
         "Country Code": "COL",
         "Country Name": "Colombia",
         "Region": "Latin America & Caribbean ",
         "Income Group": "Upper middle income",
         "Lending Type": "IBRD",
         "_deepnote_index_column": 29
        },
        {
         "Year": 2012,
         "SP.POP.TOTL": 10510785,
         "NY.GDP.PCAP.CD": 19870.8012123403,
         "SE.SEC.CUAT.PO.ZS": 19.0093002319,
         "Country Code": "CZE",
         "Country Name": "Czech Republic",
         "Region": "Europe & Central Asia",
         "Income Group": "High income",
         "Lending Type": "Not classified",
         "_deepnote_index_column": 30
        },
        {
         "Year": 2013,
         "SP.POP.TOTL": 10514272,
         "NY.GDP.PCAP.CD": 20133.1691431353,
         "SE.SEC.CUAT.PO.ZS": 19.9570407867,
         "Country Code": "CZE",
         "Country Name": "Czech Republic",
         "Region": "Europe & Central Asia",
         "Income Group": "High income",
         "Lending Type": "Not classified",
         "_deepnote_index_column": 31
        },
        {
         "Year": 2014,
         "SP.POP.TOTL": 10525347,
         "NY.GDP.PCAP.CD": 19890.9199056648,
         "SE.SEC.CUAT.PO.ZS": 18.967250824,
         "Country Code": "CZE",
         "Country Name": "Czech Republic",
         "Region": "Europe & Central Asia",
         "Income Group": "High income",
         "Lending Type": "Not classified",
         "_deepnote_index_column": 32
        },
        {
         "Year": 2015,
         "SP.POP.TOTL": 10546059,
         "NY.GDP.PCAP.CD": 17829.6983223668,
         "SE.SEC.CUAT.PO.ZS": 19.5305309296,
         "Country Code": "CZE",
         "Country Name": "Czech Republic",
         "Region": "Europe & Central Asia",
         "Income Group": "High income",
         "Lending Type": "Not classified",
         "_deepnote_index_column": 33
        },
        {
         "Year": 2016,
         "SP.POP.TOTL": 10566332,
         "NY.GDP.PCAP.CD": 18575.2320271915,
         "SE.SEC.CUAT.PO.ZS": 20.2412490845,
         "Country Code": "CZE",
         "Country Name": "Czech Republic",
         "Region": "Europe & Central Asia",
         "Income Group": "High income",
         "Lending Type": "Not classified",
         "_deepnote_index_column": 34
        },
        {
         "Year": 2012,
         "SP.POP.TOTL": 9930911,
         "NY.GDP.PCAP.CD": 6110.369652362,
         "SE.SEC.CUAT.PO.ZS": 10.7886600494,
         "Country Code": "DOM",
         "Country Name": "Dominican Republic",
         "Region": "Latin America & Caribbean ",
         "Income Group": "Upper middle income",
         "Lending Type": "IBRD",
         "_deepnote_index_column": 35
        },
        {
         "Year": 2013,
         "SP.POP.TOTL": 10048224,
         "NY.GDP.PCAP.CD": 6238.1336082528,
         "SE.SEC.CUAT.PO.ZS": 10.858590126,
         "Country Code": "DOM",
         "Country Name": "Dominican Republic",
         "Region": "Latin America & Caribbean ",
         "Income Group": "Upper middle income",
         "Lending Type": "IBRD",
         "_deepnote_index_column": 36
        },
        {
         "Year": 2014,
         "SP.POP.TOTL": 10165178,
         "NY.GDP.PCAP.CD": 6608.8281018077,
         "SE.SEC.CUAT.PO.ZS": 11.7863502502,
         "Country Code": "DOM",
         "Country Name": "Dominican Republic",
         "Region": "Latin America & Caribbean ",
         "Income Group": "Upper middle income",
         "Lending Type": "IBRD",
         "_deepnote_index_column": 37
        },
        {
         "Year": 2015,
         "SP.POP.TOTL": 10281680,
         "NY.GDP.PCAP.CD": 6921.5172284818,
         "SE.SEC.CUAT.PO.ZS": 12.3803501129,
         "Country Code": "DOM",
         "Country Name": "Dominican Republic",
         "Region": "Latin America & Caribbean ",
         "Income Group": "Upper middle income",
         "Lending Type": "IBRD",
         "_deepnote_index_column": 38
        },
        {
         "Year": 2016,
         "SP.POP.TOTL": 10397743,
         "NY.GDP.PCAP.CD": 7280.8801092334,
         "SE.SEC.CUAT.PO.ZS": 22.5186195374,
         "Country Code": "DOM",
         "Country Name": "Dominican Republic",
         "Region": "Latin America & Caribbean ",
         "Income Group": "Upper middle income",
         "Lending Type": "IBRD",
         "_deepnote_index_column": 39
        },
        {
         "Year": 2012,
         "SP.POP.TOTL": 15474102,
         "NY.GDP.PCAP.CD": 5682.0450065535,
         "SE.SEC.CUAT.PO.ZS": 12.0028495789,
         "Country Code": "ECU",
         "Country Name": "Ecuador",
         "Region": "Latin America & Caribbean ",
         "Income Group": "Upper middle income",
         "Lending Type": "IBRD",
         "_deepnote_index_column": 40
        },
        {
         "Year": 2013,
         "SP.POP.TOTL": 15707474,
         "NY.GDP.PCAP.CD": 6056.3308269681,
         "SE.SEC.CUAT.PO.ZS": 12.7312202454,
         "Country Code": "ECU",
         "Country Name": "Ecuador",
         "Region": "Latin America & Caribbean ",
         "Income Group": "Upper middle income",
         "Lending Type": "IBRD",
         "_deepnote_index_column": 41
        },
        {
         "Year": 2014,
         "SP.POP.TOTL": 15951838,
         "NY.GDP.PCAP.CD": 6377.0915301422,
         "SE.SEC.CUAT.PO.ZS": 11.7284297943,
         "Country Code": "ECU",
         "Country Name": "Ecuador",
         "Region": "Latin America & Caribbean ",
         "Income Group": "Upper middle income",
         "Lending Type": "IBRD",
         "_deepnote_index_column": 42
        },
        {
         "Year": 2015,
         "SP.POP.TOTL": 16212020,
         "NY.GDP.PCAP.CD": 6124.4916426207,
         "SE.SEC.CUAT.PO.ZS": 13.6028995514,
         "Country Code": "ECU",
         "Country Name": "Ecuador",
         "Region": "Latin America & Caribbean ",
         "Income Group": "Upper middle income",
         "Lending Type": "IBRD",
         "_deepnote_index_column": 43
        },
        {
         "Year": 2016,
         "SP.POP.TOTL": 16491115,
         "NY.GDP.PCAP.CD": 6060.0933290442,
         "SE.SEC.CUAT.PO.ZS": 13.4826698303,
         "Country Code": "ECU",
         "Country Name": "Ecuador",
         "Region": "Latin America & Caribbean ",
         "Income Group": "Upper middle income",
         "Lending Type": "IBRD",
         "_deepnote_index_column": 44
        },
        {
         "Year": 2012,
         "SP.POP.TOTL": 65659809,
         "NY.GDP.PCAP.CD": 40874.7035053457,
         "SE.SEC.CUAT.PO.ZS": 26.0628604889,
         "Country Code": "FRA",
         "Country Name": "France",
         "Region": "Europe & Central Asia",
         "Income Group": "High income",
         "Lending Type": "Not classified",
         "_deepnote_index_column": 45
        },
        {
         "Year": 2013,
         "SP.POP.TOTL": 65998687,
         "NY.GDP.PCAP.CD": 42592.9340943342,
         "SE.SEC.CUAT.PO.ZS": 27.370470047,
         "Country Code": "FRA",
         "Country Name": "France",
         "Region": "Europe & Central Asia",
         "Income Group": "High income",
         "Lending Type": "Not classified",
         "_deepnote_index_column": 46
        },
        {
         "Year": 2014,
         "SP.POP.TOTL": 66312067,
         "NY.GDP.PCAP.CD": 43011.2631028417,
         "SE.SEC.CUAT.PO.ZS": 28.662979126,
         "Country Code": "FRA",
         "Country Name": "France",
         "Region": "Europe & Central Asia",
         "Income Group": "High income",
         "Lending Type": "Not classified",
         "_deepnote_index_column": 47
        },
        {
         "Year": 2015,
         "SP.POP.TOTL": 66548272,
         "NY.GDP.PCAP.CD": 36638.184929157,
         "SE.SEC.CUAT.PO.ZS": 30.4950809479,
         "Country Code": "FRA",
         "Country Name": "France",
         "Region": "Europe & Central Asia",
         "Income Group": "High income",
         "Lending Type": "Not classified",
         "_deepnote_index_column": 48
        },
        {
         "Year": 2016,
         "SP.POP.TOTL": 66724104,
         "NY.GDP.PCAP.CD": 37037.3741861219,
         "SE.SEC.CUAT.PO.ZS": 29.6249599457,
         "Country Code": "FRA",
         "Country Name": "France",
         "Region": "Europe & Central Asia",
         "Income Group": "High income",
         "Lending Type": "Not classified",
         "_deepnote_index_column": 49
        },
        {
         "Year": 2012,
         "SP.POP.TOTL": 80425823,
         "NY.GDP.PCAP.CD": 43858.3630551076,
         "SE.SEC.CUAT.PO.ZS": 31.7936401367,
         "Country Code": "DEU",
         "Country Name": "Germany",
         "Region": "Europe & Central Asia",
         "Income Group": "High income",
         "Lending Type": "Not classified",
         "_deepnote_index_column": 50
        },
        {
         "Year": 2013,
         "SP.POP.TOTL": 80645605,
         "NY.GDP.PCAP.CD": 46285.7640688407,
         "SE.SEC.CUAT.PO.ZS": 32.3349189758,
         "Country Code": "DEU",
         "Country Name": "Germany",
         "Region": "Europe & Central Asia",
         "Income Group": "High income",
         "Lending Type": "Not classified",
         "_deepnote_index_column": 51
        },
        {
         "Year": 2014,
         "SP.POP.TOTL": 80982500,
         "NY.GDP.PCAP.CD": 47959.9932737599,
         "SE.SEC.CUAT.PO.ZS": 33.4242095947,
         "Country Code": "DEU",
         "Country Name": "Germany",
         "Region": "Europe & Central Asia",
         "Income Group": "High income",
         "Lending Type": "Not classified",
         "_deepnote_index_column": 52
        },
        {
         "Year": 2015,
         "SP.POP.TOTL": 81686611,
         "NY.GDP.PCAP.CD": 41086.7296737253,
         "SE.SEC.CUAT.PO.ZS": 34.4100914001,
         "Country Code": "DEU",
         "Country Name": "Germany",
         "Region": "Europe & Central Asia",
         "Income Group": "High income",
         "Lending Type": "Not classified",
         "_deepnote_index_column": 53
        },
        {
         "Year": 2016,
         "SP.POP.TOTL": 82348669,
         "NY.GDP.PCAP.CD": 42107.5172703074,
         "SE.SEC.CUAT.PO.ZS": 35.652721405,
         "Country Code": "DEU",
         "Country Name": "Germany",
         "Region": "Europe & Central Asia",
         "Income Group": "High income",
         "Lending Type": "Not classified",
         "_deepnote_index_column": 54
        },
        {
         "Year": 2012,
         "SP.POP.TOTL": 9920362,
         "NY.GDP.PCAP.CD": 12950.6865153085,
         "SE.SEC.CUAT.PO.ZS": 22.8525390625,
         "Country Code": "HUN",
         "Country Name": "Hungary",
         "Region": "Europe & Central Asia",
         "Income Group": "High income",
         "Lending Type": "Not classified",
         "_deepnote_index_column": 55
        },
        {
         "Year": 2013,
         "SP.POP.TOTL": 9893082,
         "NY.GDP.PCAP.CD": 13687.5140593304,
         "SE.SEC.CUAT.PO.ZS": 29.0240802765,
         "Country Code": "HUN",
         "Country Name": "Hungary",
         "Region": "Europe & Central Asia",
         "Income Group": "High income",
         "Lending Type": "Not classified",
         "_deepnote_index_column": 56
        },
        {
         "Year": 2014,
         "SP.POP.TOTL": 9866468,
         "NY.GDP.PCAP.CD": 14267.0121547683,
         "SE.SEC.CUAT.PO.ZS": 28.2089099884,
         "Country Code": "HUN",
         "Country Name": "Hungary",
         "Region": "Europe & Central Asia",
         "Income Group": "High income",
         "Lending Type": "Not classified",
         "_deepnote_index_column": 57
        },
        {
         "Year": 2015,
         "SP.POP.TOTL": 9843028,
         "NY.GDP.PCAP.CD": 12706.8912148924,
         "SE.SEC.CUAT.PO.ZS": 28.7417697906,
         "Country Code": "HUN",
         "Country Name": "Hungary",
         "Region": "Europe & Central Asia",
         "Income Group": "High income",
         "Lending Type": "Not classified",
         "_deepnote_index_column": 58
        },
        {
         "Year": 2016,
         "SP.POP.TOTL": 9814023,
         "NY.GDP.PCAP.CD": 13090.5067287853,
         "SE.SEC.CUAT.PO.ZS": 28.5094604492,
         "Country Code": "HUN",
         "Country Name": "Hungary",
         "Region": "Europe & Central Asia",
         "Income Group": "High income",
         "Lending Type": "Not classified",
         "_deepnote_index_column": 59
        },
        {
         "Year": 2012,
         "SP.POP.TOTL": 117274155,
         "NY.GDP.PCAP.CD": 10241.7279153745,
         "SE.SEC.CUAT.PO.ZS": 16.3126907349,
         "Country Code": "MEX",
         "Country Name": "Mexico",
         "Region": "Latin America & Caribbean ",
         "Income Group": "Upper middle income",
         "Lending Type": "IBRD",
         "_deepnote_index_column": 60
        },
        {
         "Year": 2013,
         "SP.POP.TOTL": 118827161,
         "NY.GDP.PCAP.CD": 10725.1833166036,
         "SE.SEC.CUAT.PO.ZS": 14.7768001556,
         "Country Code": "MEX",
         "Country Name": "Mexico",
         "Region": "Latin America & Caribbean ",
         "Income Group": "Upper middle income",
         "Lending Type": "IBRD",
         "_deepnote_index_column": 61
        },
        {
         "Year": 2014,
         "SP.POP.TOTL": 120355128,
         "NY.GDP.PCAP.CD": 10928.9168262489,
         "SE.SEC.CUAT.PO.ZS": 14.4319295883,
         "Country Code": "MEX",
         "Country Name": "Mexico",
         "Region": "Latin America & Caribbean ",
         "Income Group": "Upper middle income",
         "Lending Type": "IBRD",
         "_deepnote_index_column": 62
        },
        {
         "Year": 2015,
         "SP.POP.TOTL": 121858258,
         "NY.GDP.PCAP.CD": 9616.6450056895,
         "SE.SEC.CUAT.PO.ZS": 16.2725505829,
         "Country Code": "MEX",
         "Country Name": "Mexico",
         "Region": "Latin America & Caribbean ",
         "Income Group": "Upper middle income",
         "Lending Type": "IBRD",
         "_deepnote_index_column": 63
        },
        {
         "Year": 2016,
         "SP.POP.TOTL": 123333376,
         "NY.GDP.PCAP.CD": 8744.5157718322,
         "SE.SEC.CUAT.PO.ZS": 15.1532297134,
         "Country Code": "MEX",
         "Country Name": "Mexico",
         "Region": "Latin America & Caribbean ",
         "Income Group": "Upper middle income",
         "Lending Type": "IBRD",
         "_deepnote_index_column": 64
        },
        {
         "Year": 2012,
         "SP.POP.TOTL": 16754962,
         "NY.GDP.PCAP.CD": 50073.0056559308,
         "SE.SEC.CUAT.PO.ZS": 32.0577507019,
         "Country Code": "NLD",
         "Country Name": "Netherlands",
         "Region": "Europe & Central Asia",
         "Income Group": "High income",
         "Lending Type": "Not classified",
         "_deepnote_index_column": 65
        },
        {
         "Year": 2013,
         "SP.POP.TOTL": 16804432,
         "NY.GDP.PCAP.CD": 52184.0618504931,
         "SE.SEC.CUAT.PO.ZS": 30.2877502441,
         "Country Code": "NLD",
         "Country Name": "Netherlands",
         "Region": "Europe & Central Asia",
         "Income Group": "High income",
         "Lending Type": "Not classified",
         "_deepnote_index_column": 66
        },
        {
         "Year": 2014,
         "SP.POP.TOTL": 16865008,
         "NY.GDP.PCAP.CD": 52830.1742328055,
         "SE.SEC.CUAT.PO.ZS": 30.5605792999,
         "Country Code": "NLD",
         "Country Name": "Netherlands",
         "Region": "Europe & Central Asia",
         "Income Group": "High income",
         "Lending Type": "Not classified",
         "_deepnote_index_column": 67
        },
        {
         "Year": 2015,
         "SP.POP.TOTL": 16939923,
         "NY.GDP.PCAP.CD": 45175.2318933798,
         "SE.SEC.CUAT.PO.ZS": 31.209810257,
         "Country Code": "NLD",
         "Country Name": "Netherlands",
         "Region": "Europe & Central Asia",
         "Income Group": "High income",
         "Lending Type": "Not classified",
         "_deepnote_index_column": 68
        },
        {
         "Year": 2016,
         "SP.POP.TOTL": 17030314,
         "NY.GDP.PCAP.CD": 46007.8529206547,
         "SE.SEC.CUAT.PO.ZS": 31.7883090973,
         "Country Code": "NLD",
         "Country Name": "Netherlands",
         "Region": "Europe & Central Asia",
         "Income Group": "High income",
         "Lending Type": "Not classified",
         "_deepnote_index_column": 69
        },
        {
         "Year": 2012,
         "SP.POP.TOTL": 10514844,
         "NY.GDP.PCAP.CD": 20564.8898617969,
         "SE.SEC.CUAT.PO.ZS": 15.5597200394,
         "Country Code": "PRT",
         "Country Name": "Portugal",
         "Region": "Europe & Central Asia",
         "Income Group": "High income",
         "Lending Type": "Not classified",
         "_deepnote_index_column": 70
        },
        {
         "Year": 2013,
         "SP.POP.TOTL": 10457295,
         "NY.GDP.PCAP.CD": 21647.0418118869,
         "SE.SEC.CUAT.PO.ZS": 16.3137702942,
         "Country Code": "PRT",
         "Country Name": "Portugal",
         "Region": "Europe & Central Asia",
         "Income Group": "High income",
         "Lending Type": "Not classified",
         "_deepnote_index_column": 71
        },
        {
         "Year": 2014,
         "SP.POP.TOTL": 10401062,
         "NY.GDP.PCAP.CD": 22074.3007634216,
         "SE.SEC.CUAT.PO.ZS": 17.9767093658,
         "Country Code": "PRT",
         "Country Name": "Portugal",
         "Region": "Europe & Central Asia",
         "Income Group": "High income",
         "Lending Type": "Not classified",
         "_deepnote_index_column": 72
        },
        {
         "Year": 2015,
         "SP.POP.TOTL": 10358076,
         "NY.GDP.PCAP.CD": 19242.3664710981,
         "SE.SEC.CUAT.PO.ZS": 18.7413902283,
         "Country Code": "PRT",
         "Country Name": "Portugal",
         "Region": "Europe & Central Asia",
         "Income Group": "High income",
         "Lending Type": "Not classified",
         "_deepnote_index_column": 73
        },
        {
         "Year": 2016,
         "SP.POP.TOTL": 10325452,
         "NY.GDP.PCAP.CD": 19978.401214968,
         "SE.SEC.CUAT.PO.ZS": 19.5643501282,
         "Country Code": "PRT",
         "Country Name": "Portugal",
         "Region": "Europe & Central Asia",
         "Income Group": "High income",
         "Lending Type": "Not classified",
         "_deepnote_index_column": 74
        },
        {
         "Year": 2012,
         "SP.POP.TOTL": 20058035,
         "NY.GDP.PCAP.CD": 8507.1047745644,
         "SE.SEC.CUAT.PO.ZS": 17.0980491638,
         "Country Code": "ROU",
         "Country Name": "Romania",
         "Region": "Europe & Central Asia",
         "Income Group": "High income",
         "Lending Type": "IBRD",
         "_deepnote_index_column": 75
        },
        {
         "Year": 2013,
         "SP.POP.TOTL": 19983693,
         "NY.GDP.PCAP.CD": 9547.8521509661,
         "SE.SEC.CUAT.PO.ZS": 17.3730602264,
         "Country Code": "ROU",
         "Country Name": "Romania",
         "Region": "Europe & Central Asia",
         "Income Group": "High income",
         "Lending Type": "IBRD",
         "_deepnote_index_column": 76
        },
        {
         "Year": 2014,
         "SP.POP.TOTL": 19908979,
         "NY.GDP.PCAP.CD": 10043.6774497614,
         "SE.SEC.CUAT.PO.ZS": 17.2269802094,
         "Country Code": "ROU",
         "Country Name": "Romania",
         "Region": "Europe & Central Asia",
         "Income Group": "High income",
         "Lending Type": "IBRD",
         "_deepnote_index_column": 77
        },
        {
         "Year": 2015,
         "SP.POP.TOTL": 19815616,
         "NY.GDP.PCAP.CD": 8969.1489214619,
         "SE.SEC.CUAT.PO.ZS": 17.7632293701,
         "Country Code": "ROU",
         "Country Name": "Romania",
         "Region": "Europe & Central Asia",
         "Income Group": "High income",
         "Lending Type": "IBRD",
         "_deepnote_index_column": 78
        },
        {
         "Year": 2016,
         "SP.POP.TOTL": 19702267,
         "NY.GDP.PCAP.CD": 9548.5874029827,
         "SE.SEC.CUAT.PO.ZS": 17.7419300079,
         "Country Code": "ROU",
         "Country Name": "Romania",
         "Region": "Europe & Central Asia",
         "Income Group": "High income",
         "Lending Type": "IBRD",
         "_deepnote_index_column": 79
        },
        {
         "Year": 2012,
         "SP.POP.TOTL": 5407579,
         "NY.GDP.PCAP.CD": 17481.8954435252,
         "SE.SEC.CUAT.PO.ZS": 17.1679096222,
         "Country Code": "SVK",
         "Country Name": "Slovak Republic",
         "Region": "Europe & Central Asia",
         "Income Group": "High income",
         "Lending Type": "Not classified",
         "_deepnote_index_column": 80
        },
        {
         "Year": 2013,
         "SP.POP.TOTL": 5413393,
         "NY.GDP.PCAP.CD": 18260.0157710019,
         "SE.SEC.CUAT.PO.ZS": 17.8810997009,
         "Country Code": "SVK",
         "Country Name": "Slovak Republic",
         "Region": "Europe & Central Asia",
         "Income Group": "High income",
         "Lending Type": "Not classified",
         "_deepnote_index_column": 81
        },
        {
         "Year": 2014,
         "SP.POP.TOTL": 5418649,
         "NY.GDP.PCAP.CD": 18674.3440568625,
         "SE.SEC.CUAT.PO.ZS": 19.4953899384,
         "Country Code": "SVK",
         "Country Name": "Slovak Republic",
         "Region": "Europe & Central Asia",
         "Income Group": "High income",
         "Lending Type": "Not classified",
         "_deepnote_index_column": 82
        },
        {
         "Year": 2015,
         "SP.POP.TOTL": 5423801,
         "NY.GDP.PCAP.CD": 16310.9884090005,
         "SE.SEC.CUAT.PO.ZS": 20.626159668,
         "Country Code": "SVK",
         "Country Name": "Slovak Republic",
         "Region": "Europe & Central Asia",
         "Income Group": "High income",
         "Lending Type": "Not classified",
         "_deepnote_index_column": 83
        },
        {
         "Year": 2016,
         "SP.POP.TOTL": 5430798,
         "NY.GDP.PCAP.CD": 16508.6703604932,
         "SE.SEC.CUAT.PO.ZS": 21.5165290833,
         "Country Code": "SVK",
         "Country Name": "Slovak Republic",
         "Region": "Europe & Central Asia",
         "Income Group": "High income",
         "Lending Type": "Not classified",
         "_deepnote_index_column": 84
        },
        {
         "Year": 2012,
         "SP.POP.TOTL": 74653016,
         "NY.GDP.PCAP.CD": 11795.316711752,
         "SE.SEC.CUAT.PO.ZS": 13.3758897781,
         "Country Code": "TUR",
         "Country Name": "Turkey",
         "Region": "Europe & Central Asia",
         "Income Group": "Upper middle income",
         "Lending Type": "IBRD",
         "_deepnote_index_column": 85
        },
        {
         "Year": 2013,
         "SP.POP.TOTL": 75928564,
         "NY.GDP.PCAP.CD": 12614.4802575975,
         "SE.SEC.CUAT.PO.ZS": 14.8832502365,
         "Country Code": "TUR",
         "Country Name": "Turkey",
         "Region": "Europe & Central Asia",
         "Income Group": "Upper middle income",
         "Lending Type": "IBRD",
         "_deepnote_index_column": 86
        },
        {
         "Year": 2014,
         "SP.POP.TOTL": 77231907,
         "NY.GDP.PCAP.CD": 12157.3379609015,
         "SE.SEC.CUAT.PO.ZS": 15.8283195496,
         "Country Code": "TUR",
         "Country Name": "Turkey",
         "Region": "Europe & Central Asia",
         "Income Group": "Upper middle income",
         "Lending Type": "IBRD",
         "_deepnote_index_column": 87
        },
        {
         "Year": 2015,
         "SP.POP.TOTL": 78529409,
         "NY.GDP.PCAP.CD": 11006.2497363978,
         "SE.SEC.CUAT.PO.ZS": 17.393579483,
         "Country Code": "TUR",
         "Country Name": "Turkey",
         "Region": "Europe & Central Asia",
         "Income Group": "Upper middle income",
         "Lending Type": "IBRD",
         "_deepnote_index_column": 88
        },
        {
         "Year": 2016,
         "SP.POP.TOTL": 79821724,
         "NY.GDP.PCAP.CD": 10895.3186924719,
         "SE.SEC.CUAT.PO.ZS": 18.1570796967,
         "Country Code": "TUR",
         "Country Name": "Turkey",
         "Region": "Europe & Central Asia",
         "Income Group": "Upper middle income",
         "Lending Type": "IBRD",
         "_deepnote_index_column": 89
        },
        {
         "Year": 2012,
         "SP.POP.TOTL": 313830990,
         "NY.GDP.PCAP.CD": 51610.6052783379,
         "SE.SEC.CUAT.PO.ZS": 40.663230896,
         "Country Code": "USA",
         "Country Name": "United States",
         "Region": "North America",
         "Income Group": "High income",
         "Lending Type": "Not classified",
         "_deepnote_index_column": 90
        },
        {
         "Year": 2013,
         "SP.POP.TOTL": 315993715,
         "NY.GDP.PCAP.CD": 53117.6678498178,
         "SE.SEC.CUAT.PO.ZS": 41.5046691895,
         "Country Code": "USA",
         "Country Name": "United States",
         "Region": "North America",
         "Income Group": "High income",
         "Lending Type": "Not classified",
         "_deepnote_index_column": 91
        },
        {
         "Year": 2014,
         "SP.POP.TOTL": 318301008,
         "NY.GDP.PCAP.CD": 55064.7445483427,
         "SE.SEC.CUAT.PO.ZS": 41.8897018433,
         "Country Code": "USA",
         "Country Name": "United States",
         "Region": "North America",
         "Income Group": "High income",
         "Lending Type": "Not classified",
         "_deepnote_index_column": 92
        },
        {
         "Year": 2015,
         "SP.POP.TOTL": 320635163,
         "NY.GDP.PCAP.CD": 56839.3817742317,
         "SE.SEC.CUAT.PO.ZS": 42.3375091553,
         "Country Code": "USA",
         "Country Name": "United States",
         "Region": "North America",
         "Income Group": "High income",
         "Lending Type": "Not classified",
         "_deepnote_index_column": 93
        },
        {
         "Year": 2016,
         "SP.POP.TOTL": 322941311,
         "NY.GDP.PCAP.CD": 57951.5840820997,
         "SE.SEC.CUAT.PO.ZS": 43.5118789673,
         "Country Code": "USA",
         "Country Name": "United States",
         "Region": "North America",
         "Income Group": "High income",
         "Lending Type": "Not classified",
         "_deepnote_index_column": 94
        }
       ],
       "rows_bottom": null
      },
      "text/plain": "    Year  SP.POP.TOTL  NY.GDP.PCAP.CD  SE.SEC.CUAT.PO.ZS Country Code  \\\n0   2012     22733465    68012.147901          46.461971          AUS   \n1   2013     23128129    68150.107041          41.640911          AUS   \n2   2014     23475686    62510.791171          39.034981          AUS   \n3   2015     23815995    56755.721712          45.345070          AUS   \n4   2016     24190907    49971.131456          46.473431          AUS   \n..   ...          ...             ...                ...          ...   \n90  2012    313830990    51610.605278          40.663231          USA   \n91  2013    315993715    53117.667850          41.504669          USA   \n92  2014    318301008    55064.744548          41.889702          USA   \n93  2015    320635163    56839.381774          42.337509          USA   \n94  2016    322941311    57951.584082          43.511879          USA   \n\n     Country Name               Region Income Group    Lending Type  \n0       Australia  East Asia & Pacific  High income  Not classified  \n1       Australia  East Asia & Pacific  High income  Not classified  \n2       Australia  East Asia & Pacific  High income  Not classified  \n3       Australia  East Asia & Pacific  High income  Not classified  \n4       Australia  East Asia & Pacific  High income  Not classified  \n..            ...                  ...          ...             ...  \n90  United States        North America  High income  Not classified  \n91  United States        North America  High income  Not classified  \n92  United States        North America  High income  Not classified  \n93  United States        North America  High income  Not classified  \n94  United States        North America  High income  Not classified  \n\n[95 rows x 9 columns]",
      "text/html": "<div>\n<style scoped>\n    .dataframe tbody tr th:only-of-type {\n        vertical-align: middle;\n    }\n\n    .dataframe tbody tr th {\n        vertical-align: top;\n    }\n\n    .dataframe thead th {\n        text-align: right;\n    }\n</style>\n<table border=\"1\" class=\"dataframe\">\n  <thead>\n    <tr style=\"text-align: right;\">\n      <th></th>\n      <th>Year</th>\n      <th>SP.POP.TOTL</th>\n      <th>NY.GDP.PCAP.CD</th>\n      <th>SE.SEC.CUAT.PO.ZS</th>\n      <th>Country Code</th>\n      <th>Country Name</th>\n      <th>Region</th>\n      <th>Income Group</th>\n      <th>Lending Type</th>\n    </tr>\n  </thead>\n  <tbody>\n    <tr>\n      <th>0</th>\n      <td>2012</td>\n      <td>22733465</td>\n      <td>68012.147901</td>\n      <td>46.461971</td>\n      <td>AUS</td>\n      <td>Australia</td>\n      <td>East Asia &amp; Pacific</td>\n      <td>High income</td>\n      <td>Not classified</td>\n    </tr>\n    <tr>\n      <th>1</th>\n      <td>2013</td>\n      <td>23128129</td>\n      <td>68150.107041</td>\n      <td>41.640911</td>\n      <td>AUS</td>\n      <td>Australia</td>\n      <td>East Asia &amp; Pacific</td>\n      <td>High income</td>\n      <td>Not classified</td>\n    </tr>\n    <tr>\n      <th>2</th>\n      <td>2014</td>\n      <td>23475686</td>\n      <td>62510.791171</td>\n      <td>39.034981</td>\n      <td>AUS</td>\n      <td>Australia</td>\n      <td>East Asia &amp; Pacific</td>\n      <td>High income</td>\n      <td>Not classified</td>\n    </tr>\n    <tr>\n      <th>3</th>\n      <td>2015</td>\n      <td>23815995</td>\n      <td>56755.721712</td>\n      <td>45.345070</td>\n      <td>AUS</td>\n      <td>Australia</td>\n      <td>East Asia &amp; Pacific</td>\n      <td>High income</td>\n      <td>Not classified</td>\n    </tr>\n    <tr>\n      <th>4</th>\n      <td>2016</td>\n      <td>24190907</td>\n      <td>49971.131456</td>\n      <td>46.473431</td>\n      <td>AUS</td>\n      <td>Australia</td>\n      <td>East Asia &amp; Pacific</td>\n      <td>High income</td>\n      <td>Not classified</td>\n    </tr>\n    <tr>\n      <th>...</th>\n      <td>...</td>\n      <td>...</td>\n      <td>...</td>\n      <td>...</td>\n      <td>...</td>\n      <td>...</td>\n      <td>...</td>\n      <td>...</td>\n      <td>...</td>\n    </tr>\n    <tr>\n      <th>90</th>\n      <td>2012</td>\n      <td>313830990</td>\n      <td>51610.605278</td>\n      <td>40.663231</td>\n      <td>USA</td>\n      <td>United States</td>\n      <td>North America</td>\n      <td>High income</td>\n      <td>Not classified</td>\n    </tr>\n    <tr>\n      <th>91</th>\n      <td>2013</td>\n      <td>315993715</td>\n      <td>53117.667850</td>\n      <td>41.504669</td>\n      <td>USA</td>\n      <td>United States</td>\n      <td>North America</td>\n      <td>High income</td>\n      <td>Not classified</td>\n    </tr>\n    <tr>\n      <th>92</th>\n      <td>2014</td>\n      <td>318301008</td>\n      <td>55064.744548</td>\n      <td>41.889702</td>\n      <td>USA</td>\n      <td>United States</td>\n      <td>North America</td>\n      <td>High income</td>\n      <td>Not classified</td>\n    </tr>\n    <tr>\n      <th>93</th>\n      <td>2015</td>\n      <td>320635163</td>\n      <td>56839.381774</td>\n      <td>42.337509</td>\n      <td>USA</td>\n      <td>United States</td>\n      <td>North America</td>\n      <td>High income</td>\n      <td>Not classified</td>\n    </tr>\n    <tr>\n      <th>94</th>\n      <td>2016</td>\n      <td>322941311</td>\n      <td>57951.584082</td>\n      <td>43.511879</td>\n      <td>USA</td>\n      <td>United States</td>\n      <td>North America</td>\n      <td>High income</td>\n      <td>Not classified</td>\n    </tr>\n  </tbody>\n</table>\n<p>95 rows × 9 columns</p>\n</div>"
     },
     "metadata": {}
    }
   ],
   "execution_count": 108
  },
  {
   "cell_type": "code",
   "source": "fig = px.scatter(data_frame = df_world,\n                 height=675,\n                 size_max= 60,\n                 title = 'Bubble Size, Population, total',\n                 labels= {\n                   \"NY.GDP.PCAP.CD\": 'GDP per capita (Current US$)',\n                    'SE.SEC.CUAT.PO.ZS': '% 25+ completed at least Post-Secondary',\n                    'SP.POP.TOTL' : 'Population, total'\n                 },\n                 x=\"NY.GDP.PCAP.CD\",\n                 y=\"SE.SEC.CUAT.PO.ZS\",\n                 color=\"Country Name\",\n                 size='SP.POP.TOTL', \n                 animation_frame=\"Year\")\n\nfig.show()",
   "metadata": {
    "tags": [],
    "cell_id": "00007-0c674e98-92dc-44b2-91e8-03f61b578139",
    "deepnote_to_be_reexecuted": false,
    "source_hash": "43ade9ac",
    "execution_start": 1621809320686,
    "execution_millis": 441,
    "deepnote_cell_type": "code"
   },
   "outputs": [
    {
     "data": {
      "text/html": "<html>\n<head><meta charset=\"utf-8\" /></head>\n<body>\n    <div>            <script src=\"https://cdnjs.cloudflare.com/ajax/libs/mathjax/2.7.5/MathJax.js?config=TeX-AMS-MML_SVG\"></script><script type=\"text/javascript\">if (window.MathJax) {MathJax.Hub.Config({SVG: {font: \"STIX-Web\"}});}</script>                <script type=\"text/javascript\">window.PlotlyConfig = {MathJaxConfig: 'local'};</script>\n        <script src=\"https://cdn.plot.ly/plotly-latest.min.js\"></script>                <div id=\"732af2da-152c-47ac-91a8-2b1ca0c3060a\" class=\"plotly-graph-div\" style=\"height:675px; width:100%;\"></div>            <script type=\"text/javascript\">                                    window.PLOTLYENV=window.PLOTLYENV || {};                                    if (document.getElementById(\"732af2da-152c-47ac-91a8-2b1ca0c3060a\")) {                    Plotly.newPlot(                        \"732af2da-152c-47ac-91a8-2b1ca0c3060a\",                        [{\"hovertemplate\": \"Country Name=Australia<br>Year=2012<br>GDP per capita (Current US$)=%{x}<br>% 25+ completed at least Post-Secondary=%{y}<br>Population, total=%{marker.size}<extra></extra>\", \"legendgroup\": \"Australia\", \"marker\": {\"color\": \"#636efa\", \"size\": [22733465], \"sizemode\": \"area\", \"sizeref\": 89705.91972222223, \"symbol\": \"circle\"}, \"mode\": \"markers\", \"name\": \"Australia\", \"orientation\": \"v\", \"showlegend\": true, \"type\": \"scatter\", \"x\": [68012.1479005934], \"xaxis\": \"x\", \"y\": [46.461971283], \"yaxis\": \"y\"}, {\"hovertemplate\": \"Country Name=Azerbaijan<br>Year=2012<br>GDP per capita (Current US$)=%{x}<br>% 25+ completed at least Post-Secondary=%{y}<br>Population, total=%{marker.size}<extra></extra>\", \"legendgroup\": \"Azerbaijan\", \"marker\": {\"color\": \"#EF553B\", \"size\": [9295784], \"sizemode\": \"area\", \"sizeref\": 89705.91972222223, \"symbol\": \"circle\"}, \"mode\": \"markers\", \"name\": \"Azerbaijan\", \"orientation\": \"v\", \"showlegend\": true, \"type\": \"scatter\", \"x\": [7496.2946476826], \"xaxis\": \"x\", \"y\": [30.0363502502], \"yaxis\": \"y\"}, {\"hovertemplate\": \"Country Name=Bangladesh<br>Year=2012<br>GDP per capita (Current US$)=%{x}<br>% 25+ completed at least Post-Secondary=%{y}<br>Population, total=%{marker.size}<extra></extra>\", \"legendgroup\": \"Bangladesh\", \"marker\": {\"color\": \"#00cc96\", \"size\": [151007807], \"sizemode\": \"area\", \"sizeref\": 89705.91972222223, \"symbol\": \"circle\"}, \"mode\": \"markers\", \"name\": \"Bangladesh\", \"orientation\": \"v\", \"showlegend\": true, \"type\": \"scatter\", \"x\": [883.1050005413], \"xaxis\": \"x\", \"y\": [10.5072097778], \"yaxis\": \"y\"}, {\"hovertemplate\": \"Country Name=Belgium<br>Year=2012<br>GDP per capita (Current US$)=%{x}<br>% 25+ completed at least Post-Secondary=%{y}<br>Population, total=%{marker.size}<extra></extra>\", \"legendgroup\": \"Belgium\", \"marker\": {\"color\": \"#ab63fa\", \"size\": [11106932], \"sizemode\": \"area\", \"sizeref\": 89705.91972222223, \"symbol\": \"circle\"}, \"mode\": \"markers\", \"name\": \"Belgium\", \"orientation\": \"v\", \"showlegend\": true, \"type\": \"scatter\", \"x\": [44673.1158755901], \"xaxis\": \"x\", \"y\": [32.7122497559], \"yaxis\": \"y\"}, {\"hovertemplate\": \"Country Name=Brazil<br>Year=2012<br>GDP per capita (Current US$)=%{x}<br>% 25+ completed at least Post-Secondary=%{y}<br>Population, total=%{marker.size}<extra></extra>\", \"legendgroup\": \"Brazil\", \"marker\": {\"color\": \"#FFA15A\", \"size\": [199287296], \"sizemode\": \"area\", \"sizeref\": 89705.91972222223, \"symbol\": \"circle\"}, \"mode\": \"markers\", \"name\": \"Brazil\", \"orientation\": \"v\", \"showlegend\": true, \"type\": \"scatter\", \"x\": [12370.0242007149], \"xaxis\": \"x\", \"y\": [11.9615001678], \"yaxis\": \"y\"}, {\"hovertemplate\": \"Country Name=Colombia<br>Year=2012<br>GDP per capita (Current US$)=%{x}<br>% 25+ completed at least Post-Secondary=%{y}<br>Population, total=%{marker.size}<extra></extra>\", \"legendgroup\": \"Colombia\", \"marker\": {\"color\": \"#19d3f3\", \"size\": [46075721], \"sizemode\": \"area\", \"sizeref\": 89705.91972222223, \"symbol\": \"circle\"}, \"mode\": \"markers\", \"name\": \"Colombia\", \"orientation\": \"v\", \"showlegend\": true, \"type\": \"scatter\", \"x\": [8050.2553716705], \"xaxis\": \"x\", \"y\": [17.0799694061], \"yaxis\": \"y\"}, {\"hovertemplate\": \"Country Name=Czech Republic<br>Year=2012<br>GDP per capita (Current US$)=%{x}<br>% 25+ completed at least Post-Secondary=%{y}<br>Population, total=%{marker.size}<extra></extra>\", \"legendgroup\": \"Czech Republic\", \"marker\": {\"color\": \"#FF6692\", \"size\": [10510785], \"sizemode\": \"area\", \"sizeref\": 89705.91972222223, \"symbol\": \"circle\"}, \"mode\": \"markers\", \"name\": \"Czech Republic\", \"orientation\": \"v\", \"showlegend\": true, \"type\": \"scatter\", \"x\": [19870.8012123403], \"xaxis\": \"x\", \"y\": [19.0093002319], \"yaxis\": \"y\"}, {\"hovertemplate\": \"Country Name=Dominican Republic<br>Year=2012<br>GDP per capita (Current US$)=%{x}<br>% 25+ completed at least Post-Secondary=%{y}<br>Population, total=%{marker.size}<extra></extra>\", \"legendgroup\": \"Dominican Republic\", \"marker\": {\"color\": \"#B6E880\", \"size\": [9930911], \"sizemode\": \"area\", \"sizeref\": 89705.91972222223, \"symbol\": \"circle\"}, \"mode\": \"markers\", \"name\": \"Dominican Republic\", \"orientation\": \"v\", \"showlegend\": true, \"type\": \"scatter\", \"x\": [6110.369652362], \"xaxis\": \"x\", \"y\": [10.7886600494], \"yaxis\": \"y\"}, {\"hovertemplate\": \"Country Name=Ecuador<br>Year=2012<br>GDP per capita (Current US$)=%{x}<br>% 25+ completed at least Post-Secondary=%{y}<br>Population, total=%{marker.size}<extra></extra>\", \"legendgroup\": \"Ecuador\", \"marker\": {\"color\": \"#FF97FF\", \"size\": [15474102], \"sizemode\": \"area\", \"sizeref\": 89705.91972222223, \"symbol\": \"circle\"}, \"mode\": \"markers\", \"name\": \"Ecuador\", \"orientation\": \"v\", \"showlegend\": true, \"type\": \"scatter\", \"x\": [5682.0450065535], \"xaxis\": \"x\", \"y\": [12.0028495789], \"yaxis\": \"y\"}, {\"hovertemplate\": \"Country Name=France<br>Year=2012<br>GDP per capita (Current US$)=%{x}<br>% 25+ completed at least Post-Secondary=%{y}<br>Population, total=%{marker.size}<extra></extra>\", \"legendgroup\": \"France\", \"marker\": {\"color\": \"#FECB52\", \"size\": [65659809], \"sizemode\": \"area\", \"sizeref\": 89705.91972222223, \"symbol\": \"circle\"}, \"mode\": \"markers\", \"name\": \"France\", \"orientation\": \"v\", \"showlegend\": true, \"type\": \"scatter\", \"x\": [40874.7035053457], \"xaxis\": \"x\", \"y\": [26.0628604889], \"yaxis\": \"y\"}, {\"hovertemplate\": \"Country Name=Germany<br>Year=2012<br>GDP per capita (Current US$)=%{x}<br>% 25+ completed at least Post-Secondary=%{y}<br>Population, total=%{marker.size}<extra></extra>\", \"legendgroup\": \"Germany\", \"marker\": {\"color\": \"#636efa\", \"size\": [80425823], \"sizemode\": \"area\", \"sizeref\": 89705.91972222223, \"symbol\": \"circle\"}, \"mode\": \"markers\", \"name\": \"Germany\", \"orientation\": \"v\", \"showlegend\": true, \"type\": \"scatter\", \"x\": [43858.3630551076], \"xaxis\": \"x\", \"y\": [31.7936401367], \"yaxis\": \"y\"}, {\"hovertemplate\": \"Country Name=Hungary<br>Year=2012<br>GDP per capita (Current US$)=%{x}<br>% 25+ completed at least Post-Secondary=%{y}<br>Population, total=%{marker.size}<extra></extra>\", \"legendgroup\": \"Hungary\", \"marker\": {\"color\": \"#EF553B\", \"size\": [9920362], \"sizemode\": \"area\", \"sizeref\": 89705.91972222223, \"symbol\": \"circle\"}, \"mode\": \"markers\", \"name\": \"Hungary\", \"orientation\": \"v\", \"showlegend\": true, \"type\": \"scatter\", \"x\": [12950.6865153085], \"xaxis\": \"x\", \"y\": [22.8525390625], \"yaxis\": \"y\"}, {\"hovertemplate\": \"Country Name=Mexico<br>Year=2012<br>GDP per capita (Current US$)=%{x}<br>% 25+ completed at least Post-Secondary=%{y}<br>Population, total=%{marker.size}<extra></extra>\", \"legendgroup\": \"Mexico\", \"marker\": {\"color\": \"#00cc96\", \"size\": [117274155], \"sizemode\": \"area\", \"sizeref\": 89705.91972222223, \"symbol\": \"circle\"}, \"mode\": \"markers\", \"name\": \"Mexico\", \"orientation\": \"v\", \"showlegend\": true, \"type\": \"scatter\", \"x\": [10241.7279153745], \"xaxis\": \"x\", \"y\": [16.3126907349], \"yaxis\": \"y\"}, {\"hovertemplate\": \"Country Name=Netherlands<br>Year=2012<br>GDP per capita (Current US$)=%{x}<br>% 25+ completed at least Post-Secondary=%{y}<br>Population, total=%{marker.size}<extra></extra>\", \"legendgroup\": \"Netherlands\", \"marker\": {\"color\": \"#ab63fa\", \"size\": [16754962], \"sizemode\": \"area\", \"sizeref\": 89705.91972222223, \"symbol\": \"circle\"}, \"mode\": \"markers\", \"name\": \"Netherlands\", \"orientation\": \"v\", \"showlegend\": true, \"type\": \"scatter\", \"x\": [50073.0056559308], \"xaxis\": \"x\", \"y\": [32.0577507019], \"yaxis\": \"y\"}, {\"hovertemplate\": \"Country Name=Portugal<br>Year=2012<br>GDP per capita (Current US$)=%{x}<br>% 25+ completed at least Post-Secondary=%{y}<br>Population, total=%{marker.size}<extra></extra>\", \"legendgroup\": \"Portugal\", \"marker\": {\"color\": \"#FFA15A\", \"size\": [10514844], \"sizemode\": \"area\", \"sizeref\": 89705.91972222223, \"symbol\": \"circle\"}, \"mode\": \"markers\", \"name\": \"Portugal\", \"orientation\": \"v\", \"showlegend\": true, \"type\": \"scatter\", \"x\": [20564.8898617969], \"xaxis\": \"x\", \"y\": [15.5597200394], \"yaxis\": \"y\"}, {\"hovertemplate\": \"Country Name=Romania<br>Year=2012<br>GDP per capita (Current US$)=%{x}<br>% 25+ completed at least Post-Secondary=%{y}<br>Population, total=%{marker.size}<extra></extra>\", \"legendgroup\": \"Romania\", \"marker\": {\"color\": \"#19d3f3\", \"size\": [20058035], \"sizemode\": \"area\", \"sizeref\": 89705.91972222223, \"symbol\": \"circle\"}, \"mode\": \"markers\", \"name\": \"Romania\", \"orientation\": \"v\", \"showlegend\": true, \"type\": \"scatter\", \"x\": [8507.1047745644], \"xaxis\": \"x\", \"y\": [17.0980491638], \"yaxis\": \"y\"}, {\"hovertemplate\": \"Country Name=Slovak Republic<br>Year=2012<br>GDP per capita (Current US$)=%{x}<br>% 25+ completed at least Post-Secondary=%{y}<br>Population, total=%{marker.size}<extra></extra>\", \"legendgroup\": \"Slovak Republic\", \"marker\": {\"color\": \"#FF6692\", \"size\": [5407579], \"sizemode\": \"area\", \"sizeref\": 89705.91972222223, \"symbol\": \"circle\"}, \"mode\": \"markers\", \"name\": \"Slovak Republic\", \"orientation\": \"v\", \"showlegend\": true, \"type\": \"scatter\", \"x\": [17481.8954435252], \"xaxis\": \"x\", \"y\": [17.1679096222], \"yaxis\": \"y\"}, {\"hovertemplate\": \"Country Name=Turkey<br>Year=2012<br>GDP per capita (Current US$)=%{x}<br>% 25+ completed at least Post-Secondary=%{y}<br>Population, total=%{marker.size}<extra></extra>\", \"legendgroup\": \"Turkey\", \"marker\": {\"color\": \"#B6E880\", \"size\": [74653016], \"sizemode\": \"area\", \"sizeref\": 89705.91972222223, \"symbol\": \"circle\"}, \"mode\": \"markers\", \"name\": \"Turkey\", \"orientation\": \"v\", \"showlegend\": true, \"type\": \"scatter\", \"x\": [11795.316711752], \"xaxis\": \"x\", \"y\": [13.3758897781], \"yaxis\": \"y\"}, {\"hovertemplate\": \"Country Name=United States<br>Year=2012<br>GDP per capita (Current US$)=%{x}<br>% 25+ completed at least Post-Secondary=%{y}<br>Population, total=%{marker.size}<extra></extra>\", \"legendgroup\": \"United States\", \"marker\": {\"color\": \"#FF97FF\", \"size\": [313830990], \"sizemode\": \"area\", \"sizeref\": 89705.91972222223, \"symbol\": \"circle\"}, \"mode\": \"markers\", \"name\": \"United States\", \"orientation\": \"v\", \"showlegend\": true, \"type\": \"scatter\", \"x\": [51610.6052783379], \"xaxis\": \"x\", \"y\": [40.663230896], \"yaxis\": \"y\"}],                        {\"height\": 675, \"legend\": {\"itemsizing\": \"constant\", \"title\": {\"text\": \"Country Name\"}, \"tracegroupgap\": 0}, \"sliders\": [{\"active\": 0, \"currentvalue\": {\"prefix\": \"Year=\"}, \"len\": 0.9, \"pad\": {\"b\": 10, \"t\": 60}, \"steps\": [{\"args\": [[\"2012\"], {\"frame\": {\"duration\": 0, \"redraw\": false}, \"fromcurrent\": true, \"mode\": \"immediate\", \"transition\": {\"duration\": 0, \"easing\": \"linear\"}}], \"label\": \"2012\", \"method\": \"animate\"}, {\"args\": [[\"2013\"], {\"frame\": {\"duration\": 0, \"redraw\": false}, \"fromcurrent\": true, \"mode\": \"immediate\", \"transition\": {\"duration\": 0, \"easing\": \"linear\"}}], \"label\": \"2013\", \"method\": \"animate\"}, {\"args\": [[\"2014\"], {\"frame\": {\"duration\": 0, \"redraw\": false}, \"fromcurrent\": true, \"mode\": \"immediate\", \"transition\": {\"duration\": 0, \"easing\": \"linear\"}}], \"label\": \"2014\", \"method\": \"animate\"}, {\"args\": [[\"2015\"], {\"frame\": {\"duration\": 0, \"redraw\": false}, \"fromcurrent\": true, \"mode\": \"immediate\", \"transition\": {\"duration\": 0, \"easing\": \"linear\"}}], \"label\": \"2015\", \"method\": \"animate\"}, {\"args\": [[\"2016\"], {\"frame\": {\"duration\": 0, \"redraw\": false}, \"fromcurrent\": true, \"mode\": \"immediate\", \"transition\": {\"duration\": 0, \"easing\": \"linear\"}}], \"label\": \"2016\", \"method\": \"animate\"}], \"x\": 0.1, \"xanchor\": \"left\", \"y\": 0, \"yanchor\": \"top\"}], \"template\": {\"data\": {\"bar\": [{\"error_x\": {\"color\": \"#f2f5fa\"}, \"error_y\": {\"color\": \"#f2f5fa\"}, \"marker\": {\"line\": {\"color\": \"rgb(17,17,17)\", \"width\": 0.5}}, \"type\": \"bar\"}], \"barpolar\": [{\"marker\": {\"line\": {\"color\": \"rgb(17,17,17)\", \"width\": 0.5}}, \"type\": \"barpolar\"}], \"carpet\": [{\"aaxis\": {\"endlinecolor\": \"#A2B1C6\", \"gridcolor\": \"#506784\", \"linecolor\": \"#506784\", \"minorgridcolor\": \"#506784\", \"startlinecolor\": \"#A2B1C6\"}, \"baxis\": {\"endlinecolor\": \"#A2B1C6\", \"gridcolor\": \"#506784\", \"linecolor\": \"#506784\", \"minorgridcolor\": \"#506784\", \"startlinecolor\": \"#A2B1C6\"}, \"type\": \"carpet\"}], \"choropleth\": [{\"colorbar\": {\"outlinewidth\": 0, \"ticks\": \"\"}, \"type\": \"choropleth\"}], \"contour\": [{\"colorbar\": {\"outlinewidth\": 0, \"ticks\": \"\"}, \"colorscale\": [[0.0, \"#0d0887\"], [0.1111111111111111, \"#46039f\"], [0.2222222222222222, \"#7201a8\"], [0.3333333333333333, \"#9c179e\"], [0.4444444444444444, \"#bd3786\"], [0.5555555555555556, \"#d8576b\"], [0.6666666666666666, \"#ed7953\"], [0.7777777777777778, \"#fb9f3a\"], [0.8888888888888888, \"#fdca26\"], [1.0, \"#f0f921\"]], \"type\": \"contour\"}], \"contourcarpet\": [{\"colorbar\": {\"outlinewidth\": 0, \"ticks\": \"\"}, \"type\": \"contourcarpet\"}], \"heatmap\": [{\"colorbar\": {\"outlinewidth\": 0, \"ticks\": \"\"}, \"colorscale\": [[0.0, \"#0d0887\"], [0.1111111111111111, \"#46039f\"], [0.2222222222222222, \"#7201a8\"], [0.3333333333333333, \"#9c179e\"], [0.4444444444444444, \"#bd3786\"], [0.5555555555555556, \"#d8576b\"], [0.6666666666666666, \"#ed7953\"], [0.7777777777777778, \"#fb9f3a\"], [0.8888888888888888, \"#fdca26\"], [1.0, \"#f0f921\"]], \"type\": \"heatmap\"}], \"heatmapgl\": [{\"colorbar\": {\"outlinewidth\": 0, \"ticks\": \"\"}, \"colorscale\": [[0.0, \"#0d0887\"], [0.1111111111111111, \"#46039f\"], [0.2222222222222222, \"#7201a8\"], [0.3333333333333333, \"#9c179e\"], [0.4444444444444444, \"#bd3786\"], [0.5555555555555556, \"#d8576b\"], [0.6666666666666666, \"#ed7953\"], [0.7777777777777778, \"#fb9f3a\"], [0.8888888888888888, \"#fdca26\"], [1.0, \"#f0f921\"]], \"type\": \"heatmapgl\"}], \"histogram\": [{\"marker\": {\"colorbar\": {\"outlinewidth\": 0, \"ticks\": \"\"}}, \"type\": \"histogram\"}], \"histogram2d\": [{\"colorbar\": {\"outlinewidth\": 0, \"ticks\": \"\"}, \"colorscale\": [[0.0, \"#0d0887\"], [0.1111111111111111, \"#46039f\"], [0.2222222222222222, \"#7201a8\"], [0.3333333333333333, \"#9c179e\"], [0.4444444444444444, \"#bd3786\"], [0.5555555555555556, \"#d8576b\"], [0.6666666666666666, \"#ed7953\"], [0.7777777777777778, \"#fb9f3a\"], [0.8888888888888888, \"#fdca26\"], [1.0, \"#f0f921\"]], \"type\": \"histogram2d\"}], \"histogram2dcontour\": [{\"colorbar\": {\"outlinewidth\": 0, \"ticks\": \"\"}, \"colorscale\": [[0.0, \"#0d0887\"], [0.1111111111111111, \"#46039f\"], [0.2222222222222222, \"#7201a8\"], [0.3333333333333333, \"#9c179e\"], [0.4444444444444444, \"#bd3786\"], [0.5555555555555556, \"#d8576b\"], [0.6666666666666666, \"#ed7953\"], [0.7777777777777778, \"#fb9f3a\"], [0.8888888888888888, \"#fdca26\"], [1.0, \"#f0f921\"]], \"type\": \"histogram2dcontour\"}], \"mesh3d\": [{\"colorbar\": {\"outlinewidth\": 0, \"ticks\": \"\"}, \"type\": \"mesh3d\"}], \"parcoords\": [{\"line\": {\"colorbar\": {\"outlinewidth\": 0, \"ticks\": \"\"}}, \"type\": \"parcoords\"}], \"pie\": [{\"automargin\": true, \"type\": \"pie\"}], \"scatter\": [{\"marker\": {\"line\": {\"color\": \"#283442\"}}, \"type\": \"scatter\"}], \"scatter3d\": [{\"line\": {\"colorbar\": {\"outlinewidth\": 0, \"ticks\": \"\"}}, \"marker\": {\"colorbar\": {\"outlinewidth\": 0, \"ticks\": \"\"}}, \"type\": \"scatter3d\"}], \"scattercarpet\": [{\"marker\": {\"colorbar\": {\"outlinewidth\": 0, \"ticks\": \"\"}}, \"type\": \"scattercarpet\"}], \"scattergeo\": [{\"marker\": {\"colorbar\": {\"outlinewidth\": 0, \"ticks\": \"\"}}, \"type\": \"scattergeo\"}], \"scattergl\": [{\"marker\": {\"line\": {\"color\": \"#283442\"}}, \"type\": \"scattergl\"}], \"scattermapbox\": [{\"marker\": {\"colorbar\": {\"outlinewidth\": 0, \"ticks\": \"\"}}, \"type\": \"scattermapbox\"}], \"scatterpolar\": [{\"marker\": {\"colorbar\": {\"outlinewidth\": 0, \"ticks\": \"\"}}, \"type\": \"scatterpolar\"}], \"scatterpolargl\": [{\"marker\": {\"colorbar\": {\"outlinewidth\": 0, \"ticks\": \"\"}}, \"type\": \"scatterpolargl\"}], \"scatterternary\": [{\"marker\": {\"colorbar\": {\"outlinewidth\": 0, \"ticks\": \"\"}}, \"type\": \"scatterternary\"}], \"surface\": [{\"colorbar\": {\"outlinewidth\": 0, \"ticks\": \"\"}, \"colorscale\": [[0.0, \"#0d0887\"], [0.1111111111111111, \"#46039f\"], [0.2222222222222222, \"#7201a8\"], [0.3333333333333333, \"#9c179e\"], [0.4444444444444444, \"#bd3786\"], [0.5555555555555556, \"#d8576b\"], [0.6666666666666666, \"#ed7953\"], [0.7777777777777778, \"#fb9f3a\"], [0.8888888888888888, \"#fdca26\"], [1.0, \"#f0f921\"]], \"type\": \"surface\"}], \"table\": [{\"cells\": {\"fill\": {\"color\": \"#506784\"}, \"line\": {\"color\": \"rgb(17,17,17)\"}}, \"header\": {\"fill\": {\"color\": \"#2a3f5f\"}, \"line\": {\"color\": \"rgb(17,17,17)\"}}, \"type\": \"table\"}]}, \"layout\": {\"annotationdefaults\": {\"arrowcolor\": \"#f2f5fa\", \"arrowhead\": 0, \"arrowwidth\": 1}, \"autotypenumbers\": \"strict\", \"coloraxis\": {\"colorbar\": {\"outlinewidth\": 0, \"ticks\": \"\"}}, \"colorscale\": {\"diverging\": [[0, \"#8e0152\"], [0.1, \"#c51b7d\"], [0.2, \"#de77ae\"], [0.3, \"#f1b6da\"], [0.4, \"#fde0ef\"], [0.5, \"#f7f7f7\"], [0.6, \"#e6f5d0\"], [0.7, \"#b8e186\"], [0.8, \"#7fbc41\"], [0.9, \"#4d9221\"], [1, \"#276419\"]], \"sequential\": [[0.0, \"#0d0887\"], [0.1111111111111111, \"#46039f\"], [0.2222222222222222, \"#7201a8\"], [0.3333333333333333, \"#9c179e\"], [0.4444444444444444, \"#bd3786\"], [0.5555555555555556, \"#d8576b\"], [0.6666666666666666, \"#ed7953\"], [0.7777777777777778, \"#fb9f3a\"], [0.8888888888888888, \"#fdca26\"], [1.0, \"#f0f921\"]], \"sequentialminus\": [[0.0, \"#0d0887\"], [0.1111111111111111, \"#46039f\"], [0.2222222222222222, \"#7201a8\"], [0.3333333333333333, \"#9c179e\"], [0.4444444444444444, \"#bd3786\"], [0.5555555555555556, \"#d8576b\"], [0.6666666666666666, \"#ed7953\"], [0.7777777777777778, \"#fb9f3a\"], [0.8888888888888888, \"#fdca26\"], [1.0, \"#f0f921\"]]}, \"colorway\": [\"#636efa\", \"#EF553B\", \"#00cc96\", \"#ab63fa\", \"#FFA15A\", \"#19d3f3\", \"#FF6692\", \"#B6E880\", \"#FF97FF\", \"#FECB52\"], \"font\": {\"color\": \"#f2f5fa\"}, \"geo\": {\"bgcolor\": \"rgb(17,17,17)\", \"lakecolor\": \"rgb(17,17,17)\", \"landcolor\": \"rgb(17,17,17)\", \"showlakes\": true, \"showland\": true, \"subunitcolor\": \"#506784\"}, \"hoverlabel\": {\"align\": \"left\"}, \"hovermode\": \"closest\", \"mapbox\": {\"style\": \"dark\"}, \"paper_bgcolor\": \"rgb(17,17,17)\", \"plot_bgcolor\": \"rgb(17,17,17)\", \"polar\": {\"angularaxis\": {\"gridcolor\": \"#506784\", \"linecolor\": \"#506784\", \"ticks\": \"\"}, \"bgcolor\": \"rgb(17,17,17)\", \"radialaxis\": {\"gridcolor\": \"#506784\", \"linecolor\": \"#506784\", \"ticks\": \"\"}}, \"scene\": {\"xaxis\": {\"backgroundcolor\": \"rgb(17,17,17)\", \"gridcolor\": \"#506784\", \"gridwidth\": 2, \"linecolor\": \"#506784\", \"showbackground\": true, \"ticks\": \"\", \"zerolinecolor\": \"#C8D4E3\"}, \"yaxis\": {\"backgroundcolor\": \"rgb(17,17,17)\", \"gridcolor\": \"#506784\", \"gridwidth\": 2, \"linecolor\": \"#506784\", \"showbackground\": true, \"ticks\": \"\", \"zerolinecolor\": \"#C8D4E3\"}, \"zaxis\": {\"backgroundcolor\": \"rgb(17,17,17)\", \"gridcolor\": \"#506784\", \"gridwidth\": 2, \"linecolor\": \"#506784\", \"showbackground\": true, \"ticks\": \"\", \"zerolinecolor\": \"#C8D4E3\"}}, \"shapedefaults\": {\"line\": {\"color\": \"#f2f5fa\"}}, \"sliderdefaults\": {\"bgcolor\": \"#C8D4E3\", \"bordercolor\": \"rgb(17,17,17)\", \"borderwidth\": 1, \"tickwidth\": 0}, \"ternary\": {\"aaxis\": {\"gridcolor\": \"#506784\", \"linecolor\": \"#506784\", \"ticks\": \"\"}, \"baxis\": {\"gridcolor\": \"#506784\", \"linecolor\": \"#506784\", \"ticks\": \"\"}, \"bgcolor\": \"rgb(17,17,17)\", \"caxis\": {\"gridcolor\": \"#506784\", \"linecolor\": \"#506784\", \"ticks\": \"\"}}, \"title\": {\"x\": 0.05}, \"updatemenudefaults\": {\"bgcolor\": \"#506784\", \"borderwidth\": 0}, \"xaxis\": {\"automargin\": true, \"gridcolor\": \"#283442\", \"linecolor\": \"#506784\", \"ticks\": \"\", \"title\": {\"standoff\": 15}, \"zerolinecolor\": \"#283442\", \"zerolinewidth\": 2}, \"yaxis\": {\"automargin\": true, \"gridcolor\": \"#283442\", \"linecolor\": \"#506784\", \"ticks\": \"\", \"title\": {\"standoff\": 15}, \"zerolinecolor\": \"#283442\", \"zerolinewidth\": 2}}}, \"title\": {\"text\": \"Bubble Size, Population, total\"}, \"updatemenus\": [{\"buttons\": [{\"args\": [null, {\"frame\": {\"duration\": 500, \"redraw\": false}, \"fromcurrent\": true, \"mode\": \"immediate\", \"transition\": {\"duration\": 500, \"easing\": \"linear\"}}], \"label\": \"&#9654;\", \"method\": \"animate\"}, {\"args\": [[null], {\"frame\": {\"duration\": 0, \"redraw\": false}, \"fromcurrent\": true, \"mode\": \"immediate\", \"transition\": {\"duration\": 0, \"easing\": \"linear\"}}], \"label\": \"&#9724;\", \"method\": \"animate\"}], \"direction\": \"left\", \"pad\": {\"r\": 10, \"t\": 70}, \"showactive\": false, \"type\": \"buttons\", \"x\": 0.1, \"xanchor\": \"right\", \"y\": 0, \"yanchor\": \"top\"}], \"xaxis\": {\"anchor\": \"y\", \"domain\": [0.0, 1.0], \"title\": {\"text\": \"GDP per capita (Current US$)\"}}, \"yaxis\": {\"anchor\": \"x\", \"domain\": [0.0, 1.0], \"title\": {\"text\": \"% 25+ completed at least Post-Secondary\"}}},                        {\"responsive\": true}                    ).then(function(){\n                            Plotly.addFrames('732af2da-152c-47ac-91a8-2b1ca0c3060a', [{\"data\": [{\"hovertemplate\": \"Country Name=Australia<br>Year=2012<br>GDP per capita (Current US$)=%{x}<br>% 25+ completed at least Post-Secondary=%{y}<br>Population, total=%{marker.size}<extra></extra>\", \"legendgroup\": \"Australia\", \"marker\": {\"color\": \"#636efa\", \"size\": [22733465], \"sizemode\": \"area\", \"sizeref\": 89705.91972222223, \"symbol\": \"circle\"}, \"mode\": \"markers\", \"name\": \"Australia\", \"orientation\": \"v\", \"showlegend\": true, \"x\": [68012.1479005934], \"xaxis\": \"x\", \"y\": [46.461971283], \"yaxis\": \"y\", \"type\": \"scatter\"}, {\"hovertemplate\": \"Country Name=Azerbaijan<br>Year=2012<br>GDP per capita (Current US$)=%{x}<br>% 25+ completed at least Post-Secondary=%{y}<br>Population, total=%{marker.size}<extra></extra>\", \"legendgroup\": \"Azerbaijan\", \"marker\": {\"color\": \"#EF553B\", \"size\": [9295784], \"sizemode\": \"area\", \"sizeref\": 89705.91972222223, \"symbol\": \"circle\"}, \"mode\": \"markers\", \"name\": \"Azerbaijan\", \"orientation\": \"v\", \"showlegend\": true, \"x\": [7496.2946476826], \"xaxis\": \"x\", \"y\": [30.0363502502], \"yaxis\": \"y\", \"type\": \"scatter\"}, {\"hovertemplate\": \"Country Name=Bangladesh<br>Year=2012<br>GDP per capita (Current US$)=%{x}<br>% 25+ completed at least Post-Secondary=%{y}<br>Population, total=%{marker.size}<extra></extra>\", \"legendgroup\": \"Bangladesh\", \"marker\": {\"color\": \"#00cc96\", \"size\": [151007807], \"sizemode\": \"area\", \"sizeref\": 89705.91972222223, \"symbol\": \"circle\"}, \"mode\": \"markers\", \"name\": \"Bangladesh\", \"orientation\": \"v\", \"showlegend\": true, \"x\": [883.1050005413], \"xaxis\": \"x\", \"y\": [10.5072097778], \"yaxis\": \"y\", \"type\": \"scatter\"}, {\"hovertemplate\": \"Country Name=Belgium<br>Year=2012<br>GDP per capita (Current US$)=%{x}<br>% 25+ completed at least Post-Secondary=%{y}<br>Population, total=%{marker.size}<extra></extra>\", \"legendgroup\": \"Belgium\", \"marker\": {\"color\": \"#ab63fa\", \"size\": [11106932], \"sizemode\": \"area\", \"sizeref\": 89705.91972222223, \"symbol\": \"circle\"}, \"mode\": \"markers\", \"name\": \"Belgium\", \"orientation\": \"v\", \"showlegend\": true, \"x\": [44673.1158755901], \"xaxis\": \"x\", \"y\": [32.7122497559], \"yaxis\": \"y\", \"type\": \"scatter\"}, {\"hovertemplate\": \"Country Name=Brazil<br>Year=2012<br>GDP per capita (Current US$)=%{x}<br>% 25+ completed at least Post-Secondary=%{y}<br>Population, total=%{marker.size}<extra></extra>\", \"legendgroup\": \"Brazil\", \"marker\": {\"color\": \"#FFA15A\", \"size\": [199287296], \"sizemode\": \"area\", \"sizeref\": 89705.91972222223, \"symbol\": \"circle\"}, \"mode\": \"markers\", \"name\": \"Brazil\", \"orientation\": \"v\", \"showlegend\": true, \"x\": [12370.0242007149], \"xaxis\": \"x\", \"y\": [11.9615001678], \"yaxis\": \"y\", \"type\": \"scatter\"}, {\"hovertemplate\": \"Country Name=Colombia<br>Year=2012<br>GDP per capita (Current US$)=%{x}<br>% 25+ completed at least Post-Secondary=%{y}<br>Population, total=%{marker.size}<extra></extra>\", \"legendgroup\": \"Colombia\", \"marker\": {\"color\": \"#19d3f3\", \"size\": [46075721], \"sizemode\": \"area\", \"sizeref\": 89705.91972222223, \"symbol\": \"circle\"}, \"mode\": \"markers\", \"name\": \"Colombia\", \"orientation\": \"v\", \"showlegend\": true, \"x\": [8050.2553716705], \"xaxis\": \"x\", \"y\": [17.0799694061], \"yaxis\": \"y\", \"type\": \"scatter\"}, {\"hovertemplate\": \"Country Name=Czech Republic<br>Year=2012<br>GDP per capita (Current US$)=%{x}<br>% 25+ completed at least Post-Secondary=%{y}<br>Population, total=%{marker.size}<extra></extra>\", \"legendgroup\": \"Czech Republic\", \"marker\": {\"color\": \"#FF6692\", \"size\": [10510785], \"sizemode\": \"area\", \"sizeref\": 89705.91972222223, \"symbol\": \"circle\"}, \"mode\": \"markers\", \"name\": \"Czech Republic\", \"orientation\": \"v\", \"showlegend\": true, \"x\": [19870.8012123403], \"xaxis\": \"x\", \"y\": [19.0093002319], \"yaxis\": \"y\", \"type\": \"scatter\"}, {\"hovertemplate\": \"Country Name=Dominican Republic<br>Year=2012<br>GDP per capita (Current US$)=%{x}<br>% 25+ completed at least Post-Secondary=%{y}<br>Population, total=%{marker.size}<extra></extra>\", \"legendgroup\": \"Dominican Republic\", \"marker\": {\"color\": \"#B6E880\", \"size\": [9930911], \"sizemode\": \"area\", \"sizeref\": 89705.91972222223, \"symbol\": \"circle\"}, \"mode\": \"markers\", \"name\": \"Dominican Republic\", \"orientation\": \"v\", \"showlegend\": true, \"x\": [6110.369652362], \"xaxis\": \"x\", \"y\": [10.7886600494], \"yaxis\": \"y\", \"type\": \"scatter\"}, {\"hovertemplate\": \"Country Name=Ecuador<br>Year=2012<br>GDP per capita (Current US$)=%{x}<br>% 25+ completed at least Post-Secondary=%{y}<br>Population, total=%{marker.size}<extra></extra>\", \"legendgroup\": \"Ecuador\", \"marker\": {\"color\": \"#FF97FF\", \"size\": [15474102], \"sizemode\": \"area\", \"sizeref\": 89705.91972222223, \"symbol\": \"circle\"}, \"mode\": \"markers\", \"name\": \"Ecuador\", \"orientation\": \"v\", \"showlegend\": true, \"x\": [5682.0450065535], \"xaxis\": \"x\", \"y\": [12.0028495789], \"yaxis\": \"y\", \"type\": \"scatter\"}, {\"hovertemplate\": \"Country Name=France<br>Year=2012<br>GDP per capita (Current US$)=%{x}<br>% 25+ completed at least Post-Secondary=%{y}<br>Population, total=%{marker.size}<extra></extra>\", \"legendgroup\": \"France\", \"marker\": {\"color\": \"#FECB52\", \"size\": [65659809], \"sizemode\": \"area\", \"sizeref\": 89705.91972222223, \"symbol\": \"circle\"}, \"mode\": \"markers\", \"name\": \"France\", \"orientation\": \"v\", \"showlegend\": true, \"x\": [40874.7035053457], \"xaxis\": \"x\", \"y\": [26.0628604889], \"yaxis\": \"y\", \"type\": \"scatter\"}, {\"hovertemplate\": \"Country Name=Germany<br>Year=2012<br>GDP per capita (Current US$)=%{x}<br>% 25+ completed at least Post-Secondary=%{y}<br>Population, total=%{marker.size}<extra></extra>\", \"legendgroup\": \"Germany\", \"marker\": {\"color\": \"#636efa\", \"size\": [80425823], \"sizemode\": \"area\", \"sizeref\": 89705.91972222223, \"symbol\": \"circle\"}, \"mode\": \"markers\", \"name\": \"Germany\", \"orientation\": \"v\", \"showlegend\": true, \"x\": [43858.3630551076], \"xaxis\": \"x\", \"y\": [31.7936401367], \"yaxis\": \"y\", \"type\": \"scatter\"}, {\"hovertemplate\": \"Country Name=Hungary<br>Year=2012<br>GDP per capita (Current US$)=%{x}<br>% 25+ completed at least Post-Secondary=%{y}<br>Population, total=%{marker.size}<extra></extra>\", \"legendgroup\": \"Hungary\", \"marker\": {\"color\": \"#EF553B\", \"size\": [9920362], \"sizemode\": \"area\", \"sizeref\": 89705.91972222223, \"symbol\": \"circle\"}, \"mode\": \"markers\", \"name\": \"Hungary\", \"orientation\": \"v\", \"showlegend\": true, \"x\": [12950.6865153085], \"xaxis\": \"x\", \"y\": [22.8525390625], \"yaxis\": \"y\", \"type\": \"scatter\"}, {\"hovertemplate\": \"Country Name=Mexico<br>Year=2012<br>GDP per capita (Current US$)=%{x}<br>% 25+ completed at least Post-Secondary=%{y}<br>Population, total=%{marker.size}<extra></extra>\", \"legendgroup\": \"Mexico\", \"marker\": {\"color\": \"#00cc96\", \"size\": [117274155], \"sizemode\": \"area\", \"sizeref\": 89705.91972222223, \"symbol\": \"circle\"}, \"mode\": \"markers\", \"name\": \"Mexico\", \"orientation\": \"v\", \"showlegend\": true, \"x\": [10241.7279153745], \"xaxis\": \"x\", \"y\": [16.3126907349], \"yaxis\": \"y\", \"type\": \"scatter\"}, {\"hovertemplate\": \"Country Name=Netherlands<br>Year=2012<br>GDP per capita (Current US$)=%{x}<br>% 25+ completed at least Post-Secondary=%{y}<br>Population, total=%{marker.size}<extra></extra>\", \"legendgroup\": \"Netherlands\", \"marker\": {\"color\": \"#ab63fa\", \"size\": [16754962], \"sizemode\": \"area\", \"sizeref\": 89705.91972222223, \"symbol\": \"circle\"}, \"mode\": \"markers\", \"name\": \"Netherlands\", \"orientation\": \"v\", \"showlegend\": true, \"x\": [50073.0056559308], \"xaxis\": \"x\", \"y\": [32.0577507019], \"yaxis\": \"y\", \"type\": \"scatter\"}, {\"hovertemplate\": \"Country Name=Portugal<br>Year=2012<br>GDP per capita (Current US$)=%{x}<br>% 25+ completed at least Post-Secondary=%{y}<br>Population, total=%{marker.size}<extra></extra>\", \"legendgroup\": \"Portugal\", \"marker\": {\"color\": \"#FFA15A\", \"size\": [10514844], \"sizemode\": \"area\", \"sizeref\": 89705.91972222223, \"symbol\": \"circle\"}, \"mode\": \"markers\", \"name\": \"Portugal\", \"orientation\": \"v\", \"showlegend\": true, \"x\": [20564.8898617969], \"xaxis\": \"x\", \"y\": [15.5597200394], \"yaxis\": \"y\", \"type\": \"scatter\"}, {\"hovertemplate\": \"Country Name=Romania<br>Year=2012<br>GDP per capita (Current US$)=%{x}<br>% 25+ completed at least Post-Secondary=%{y}<br>Population, total=%{marker.size}<extra></extra>\", \"legendgroup\": \"Romania\", \"marker\": {\"color\": \"#19d3f3\", \"size\": [20058035], \"sizemode\": \"area\", \"sizeref\": 89705.91972222223, \"symbol\": \"circle\"}, \"mode\": \"markers\", \"name\": \"Romania\", \"orientation\": \"v\", \"showlegend\": true, \"x\": [8507.1047745644], \"xaxis\": \"x\", \"y\": [17.0980491638], \"yaxis\": \"y\", \"type\": \"scatter\"}, {\"hovertemplate\": \"Country Name=Slovak Republic<br>Year=2012<br>GDP per capita (Current US$)=%{x}<br>% 25+ completed at least Post-Secondary=%{y}<br>Population, total=%{marker.size}<extra></extra>\", \"legendgroup\": \"Slovak Republic\", \"marker\": {\"color\": \"#FF6692\", \"size\": [5407579], \"sizemode\": \"area\", \"sizeref\": 89705.91972222223, \"symbol\": \"circle\"}, \"mode\": \"markers\", \"name\": \"Slovak Republic\", \"orientation\": \"v\", \"showlegend\": true, \"x\": [17481.8954435252], \"xaxis\": \"x\", \"y\": [17.1679096222], \"yaxis\": \"y\", \"type\": \"scatter\"}, {\"hovertemplate\": \"Country Name=Turkey<br>Year=2012<br>GDP per capita (Current US$)=%{x}<br>% 25+ completed at least Post-Secondary=%{y}<br>Population, total=%{marker.size}<extra></extra>\", \"legendgroup\": \"Turkey\", \"marker\": {\"color\": \"#B6E880\", \"size\": [74653016], \"sizemode\": \"area\", \"sizeref\": 89705.91972222223, \"symbol\": \"circle\"}, \"mode\": \"markers\", \"name\": \"Turkey\", \"orientation\": \"v\", \"showlegend\": true, \"x\": [11795.316711752], \"xaxis\": \"x\", \"y\": [13.3758897781], \"yaxis\": \"y\", \"type\": \"scatter\"}, {\"hovertemplate\": \"Country Name=United States<br>Year=2012<br>GDP per capita (Current US$)=%{x}<br>% 25+ completed at least Post-Secondary=%{y}<br>Population, total=%{marker.size}<extra></extra>\", \"legendgroup\": \"United States\", \"marker\": {\"color\": \"#FF97FF\", \"size\": [313830990], \"sizemode\": \"area\", \"sizeref\": 89705.91972222223, \"symbol\": \"circle\"}, \"mode\": \"markers\", \"name\": \"United States\", \"orientation\": \"v\", \"showlegend\": true, \"x\": [51610.6052783379], \"xaxis\": \"x\", \"y\": [40.663230896], \"yaxis\": \"y\", \"type\": \"scatter\"}], \"name\": \"2012\"}, {\"data\": [{\"hovertemplate\": \"Country Name=Australia<br>Year=2013<br>GDP per capita (Current US$)=%{x}<br>% 25+ completed at least Post-Secondary=%{y}<br>Population, total=%{marker.size}<extra></extra>\", \"legendgroup\": \"Australia\", \"marker\": {\"color\": \"#636efa\", \"size\": [23128129], \"sizemode\": \"area\", \"sizeref\": 89705.91972222223, \"symbol\": \"circle\"}, \"mode\": \"markers\", \"name\": \"Australia\", \"orientation\": \"v\", \"showlegend\": true, \"x\": [68150.1070413215], \"xaxis\": \"x\", \"y\": [41.6409111023], \"yaxis\": \"y\", \"type\": \"scatter\"}, {\"hovertemplate\": \"Country Name=Azerbaijan<br>Year=2013<br>GDP per capita (Current US$)=%{x}<br>% 25+ completed at least Post-Secondary=%{y}<br>Population, total=%{marker.size}<extra></extra>\", \"legendgroup\": \"Azerbaijan\", \"marker\": {\"color\": \"#EF553B\", \"size\": [9416801], \"sizemode\": \"area\", \"sizeref\": 89705.91972222223, \"symbol\": \"circle\"}, \"mode\": \"markers\", \"name\": \"Azerbaijan\", \"orientation\": \"v\", \"showlegend\": true, \"x\": [7875.7569525429], \"xaxis\": \"x\", \"y\": [30.0331306458], \"yaxis\": \"y\", \"type\": \"scatter\"}, {\"hovertemplate\": \"Country Name=Bangladesh<br>Year=2013<br>GDP per capita (Current US$)=%{x}<br>% 25+ completed at least Post-Secondary=%{y}<br>Population, total=%{marker.size}<extra></extra>\", \"legendgroup\": \"Bangladesh\", \"marker\": {\"color\": \"#00cc96\", \"size\": [152764676], \"sizemode\": \"area\", \"sizeref\": 89705.91972222223, \"symbol\": \"circle\"}, \"mode\": \"markers\", \"name\": \"Bangladesh\", \"orientation\": \"v\", \"showlegend\": true, \"x\": [981.8398791504], \"xaxis\": \"x\", \"y\": [9.4185600281], \"yaxis\": \"y\", \"type\": \"scatter\"}, {\"hovertemplate\": \"Country Name=Belgium<br>Year=2013<br>GDP per capita (Current US$)=%{x}<br>% 25+ completed at least Post-Secondary=%{y}<br>Population, total=%{marker.size}<extra></extra>\", \"legendgroup\": \"Belgium\", \"marker\": {\"color\": \"#ab63fa\", \"size\": [11159407], \"sizemode\": \"area\", \"sizeref\": 89705.91972222223, \"symbol\": \"circle\"}, \"mode\": \"markers\", \"name\": \"Belgium\", \"orientation\": \"v\", \"showlegend\": true, \"x\": [46744.6625441516], \"xaxis\": \"x\", \"y\": [32.9851417542], \"yaxis\": \"y\", \"type\": \"scatter\"}, {\"hovertemplate\": \"Country Name=Brazil<br>Year=2013<br>GDP per capita (Current US$)=%{x}<br>% 25+ completed at least Post-Secondary=%{y}<br>Population, total=%{marker.size}<extra></extra>\", \"legendgroup\": \"Brazil\", \"marker\": {\"color\": \"#FFA15A\", \"size\": [201035903], \"sizemode\": \"area\", \"sizeref\": 89705.91972222223, \"symbol\": \"circle\"}, \"mode\": \"markers\", \"name\": \"Brazil\", \"orientation\": \"v\", \"showlegend\": true, \"x\": [12300.3248822758], \"xaxis\": \"x\", \"y\": [12.6315698624], \"yaxis\": \"y\", \"type\": \"scatter\"}, {\"hovertemplate\": \"Country Name=Colombia<br>Year=2013<br>GDP per capita (Current US$)=%{x}<br>% 25+ completed at least Post-Secondary=%{y}<br>Population, total=%{marker.size}<extra></extra>\", \"legendgroup\": \"Colombia\", \"marker\": {\"color\": \"#19d3f3\", \"size\": [46495492], \"sizemode\": \"area\", \"sizeref\": 89705.91972222223, \"symbol\": \"circle\"}, \"mode\": \"markers\", \"name\": \"Colombia\", \"orientation\": \"v\", \"showlegend\": true, \"x\": [8218.3478443148], \"xaxis\": \"x\", \"y\": [18.5945796967], \"yaxis\": \"y\", \"type\": \"scatter\"}, {\"hovertemplate\": \"Country Name=Czech Republic<br>Year=2013<br>GDP per capita (Current US$)=%{x}<br>% 25+ completed at least Post-Secondary=%{y}<br>Population, total=%{marker.size}<extra></extra>\", \"legendgroup\": \"Czech Republic\", \"marker\": {\"color\": \"#FF6692\", \"size\": [10514272], \"sizemode\": \"area\", \"sizeref\": 89705.91972222223, \"symbol\": \"circle\"}, \"mode\": \"markers\", \"name\": \"Czech Republic\", \"orientation\": \"v\", \"showlegend\": true, \"x\": [20133.1691431353], \"xaxis\": \"x\", \"y\": [19.9570407867], \"yaxis\": \"y\", \"type\": \"scatter\"}, {\"hovertemplate\": \"Country Name=Dominican Republic<br>Year=2013<br>GDP per capita (Current US$)=%{x}<br>% 25+ completed at least Post-Secondary=%{y}<br>Population, total=%{marker.size}<extra></extra>\", \"legendgroup\": \"Dominican Republic\", \"marker\": {\"color\": \"#B6E880\", \"size\": [10048224], \"sizemode\": \"area\", \"sizeref\": 89705.91972222223, \"symbol\": \"circle\"}, \"mode\": \"markers\", \"name\": \"Dominican Republic\", \"orientation\": \"v\", \"showlegend\": true, \"x\": [6238.1336082528], \"xaxis\": \"x\", \"y\": [10.858590126], \"yaxis\": \"y\", \"type\": \"scatter\"}, {\"hovertemplate\": \"Country Name=Ecuador<br>Year=2013<br>GDP per capita (Current US$)=%{x}<br>% 25+ completed at least Post-Secondary=%{y}<br>Population, total=%{marker.size}<extra></extra>\", \"legendgroup\": \"Ecuador\", \"marker\": {\"color\": \"#FF97FF\", \"size\": [15707474], \"sizemode\": \"area\", \"sizeref\": 89705.91972222223, \"symbol\": \"circle\"}, \"mode\": \"markers\", \"name\": \"Ecuador\", \"orientation\": \"v\", \"showlegend\": true, \"x\": [6056.3308269681], \"xaxis\": \"x\", \"y\": [12.7312202454], \"yaxis\": \"y\", \"type\": \"scatter\"}, {\"hovertemplate\": \"Country Name=France<br>Year=2013<br>GDP per capita (Current US$)=%{x}<br>% 25+ completed at least Post-Secondary=%{y}<br>Population, total=%{marker.size}<extra></extra>\", \"legendgroup\": \"France\", \"marker\": {\"color\": \"#FECB52\", \"size\": [65998687], \"sizemode\": \"area\", \"sizeref\": 89705.91972222223, \"symbol\": \"circle\"}, \"mode\": \"markers\", \"name\": \"France\", \"orientation\": \"v\", \"showlegend\": true, \"x\": [42592.9340943342], \"xaxis\": \"x\", \"y\": [27.370470047], \"yaxis\": \"y\", \"type\": \"scatter\"}, {\"hovertemplate\": \"Country Name=Germany<br>Year=2013<br>GDP per capita (Current US$)=%{x}<br>% 25+ completed at least Post-Secondary=%{y}<br>Population, total=%{marker.size}<extra></extra>\", \"legendgroup\": \"Germany\", \"marker\": {\"color\": \"#636efa\", \"size\": [80645605], \"sizemode\": \"area\", \"sizeref\": 89705.91972222223, \"symbol\": \"circle\"}, \"mode\": \"markers\", \"name\": \"Germany\", \"orientation\": \"v\", \"showlegend\": true, \"x\": [46285.7640688407], \"xaxis\": \"x\", \"y\": [32.3349189758], \"yaxis\": \"y\", \"type\": \"scatter\"}, {\"hovertemplate\": \"Country Name=Hungary<br>Year=2013<br>GDP per capita (Current US$)=%{x}<br>% 25+ completed at least Post-Secondary=%{y}<br>Population, total=%{marker.size}<extra></extra>\", \"legendgroup\": \"Hungary\", \"marker\": {\"color\": \"#EF553B\", \"size\": [9893082], \"sizemode\": \"area\", \"sizeref\": 89705.91972222223, \"symbol\": \"circle\"}, \"mode\": \"markers\", \"name\": \"Hungary\", \"orientation\": \"v\", \"showlegend\": true, \"x\": [13687.5140593304], \"xaxis\": \"x\", \"y\": [29.0240802765], \"yaxis\": \"y\", \"type\": \"scatter\"}, {\"hovertemplate\": \"Country Name=Mexico<br>Year=2013<br>GDP per capita (Current US$)=%{x}<br>% 25+ completed at least Post-Secondary=%{y}<br>Population, total=%{marker.size}<extra></extra>\", \"legendgroup\": \"Mexico\", \"marker\": {\"color\": \"#00cc96\", \"size\": [118827161], \"sizemode\": \"area\", \"sizeref\": 89705.91972222223, \"symbol\": \"circle\"}, \"mode\": \"markers\", \"name\": \"Mexico\", \"orientation\": \"v\", \"showlegend\": true, \"x\": [10725.1833166036], \"xaxis\": \"x\", \"y\": [14.7768001556], \"yaxis\": \"y\", \"type\": \"scatter\"}, {\"hovertemplate\": \"Country Name=Netherlands<br>Year=2013<br>GDP per capita (Current US$)=%{x}<br>% 25+ completed at least Post-Secondary=%{y}<br>Population, total=%{marker.size}<extra></extra>\", \"legendgroup\": \"Netherlands\", \"marker\": {\"color\": \"#ab63fa\", \"size\": [16804432], \"sizemode\": \"area\", \"sizeref\": 89705.91972222223, \"symbol\": \"circle\"}, \"mode\": \"markers\", \"name\": \"Netherlands\", \"orientation\": \"v\", \"showlegend\": true, \"x\": [52184.0618504931], \"xaxis\": \"x\", \"y\": [30.2877502441], \"yaxis\": \"y\", \"type\": \"scatter\"}, {\"hovertemplate\": \"Country Name=Portugal<br>Year=2013<br>GDP per capita (Current US$)=%{x}<br>% 25+ completed at least Post-Secondary=%{y}<br>Population, total=%{marker.size}<extra></extra>\", \"legendgroup\": \"Portugal\", \"marker\": {\"color\": \"#FFA15A\", \"size\": [10457295], \"sizemode\": \"area\", \"sizeref\": 89705.91972222223, \"symbol\": \"circle\"}, \"mode\": \"markers\", \"name\": \"Portugal\", \"orientation\": \"v\", \"showlegend\": true, \"x\": [21647.0418118869], \"xaxis\": \"x\", \"y\": [16.3137702942], \"yaxis\": \"y\", \"type\": \"scatter\"}, {\"hovertemplate\": \"Country Name=Romania<br>Year=2013<br>GDP per capita (Current US$)=%{x}<br>% 25+ completed at least Post-Secondary=%{y}<br>Population, total=%{marker.size}<extra></extra>\", \"legendgroup\": \"Romania\", \"marker\": {\"color\": \"#19d3f3\", \"size\": [19983693], \"sizemode\": \"area\", \"sizeref\": 89705.91972222223, \"symbol\": \"circle\"}, \"mode\": \"markers\", \"name\": \"Romania\", \"orientation\": \"v\", \"showlegend\": true, \"x\": [9547.8521509661], \"xaxis\": \"x\", \"y\": [17.3730602264], \"yaxis\": \"y\", \"type\": \"scatter\"}, {\"hovertemplate\": \"Country Name=Slovak Republic<br>Year=2013<br>GDP per capita (Current US$)=%{x}<br>% 25+ completed at least Post-Secondary=%{y}<br>Population, total=%{marker.size}<extra></extra>\", \"legendgroup\": \"Slovak Republic\", \"marker\": {\"color\": \"#FF6692\", \"size\": [5413393], \"sizemode\": \"area\", \"sizeref\": 89705.91972222223, \"symbol\": \"circle\"}, \"mode\": \"markers\", \"name\": \"Slovak Republic\", \"orientation\": \"v\", \"showlegend\": true, \"x\": [18260.0157710019], \"xaxis\": \"x\", \"y\": [17.8810997009], \"yaxis\": \"y\", \"type\": \"scatter\"}, {\"hovertemplate\": \"Country Name=Turkey<br>Year=2013<br>GDP per capita (Current US$)=%{x}<br>% 25+ completed at least Post-Secondary=%{y}<br>Population, total=%{marker.size}<extra></extra>\", \"legendgroup\": \"Turkey\", \"marker\": {\"color\": \"#B6E880\", \"size\": [75928564], \"sizemode\": \"area\", \"sizeref\": 89705.91972222223, \"symbol\": \"circle\"}, \"mode\": \"markers\", \"name\": \"Turkey\", \"orientation\": \"v\", \"showlegend\": true, \"x\": [12614.4802575975], \"xaxis\": \"x\", \"y\": [14.8832502365], \"yaxis\": \"y\", \"type\": \"scatter\"}, {\"hovertemplate\": \"Country Name=United States<br>Year=2013<br>GDP per capita (Current US$)=%{x}<br>% 25+ completed at least Post-Secondary=%{y}<br>Population, total=%{marker.size}<extra></extra>\", \"legendgroup\": \"United States\", \"marker\": {\"color\": \"#FF97FF\", \"size\": [315993715], \"sizemode\": \"area\", \"sizeref\": 89705.91972222223, \"symbol\": \"circle\"}, \"mode\": \"markers\", \"name\": \"United States\", \"orientation\": \"v\", \"showlegend\": true, \"x\": [53117.6678498178], \"xaxis\": \"x\", \"y\": [41.5046691895], \"yaxis\": \"y\", \"type\": \"scatter\"}], \"name\": \"2013\"}, {\"data\": [{\"hovertemplate\": \"Country Name=Australia<br>Year=2014<br>GDP per capita (Current US$)=%{x}<br>% 25+ completed at least Post-Secondary=%{y}<br>Population, total=%{marker.size}<extra></extra>\", \"legendgroup\": \"Australia\", \"marker\": {\"color\": \"#636efa\", \"size\": [23475686], \"sizemode\": \"area\", \"sizeref\": 89705.91972222223, \"symbol\": \"circle\"}, \"mode\": \"markers\", \"name\": \"Australia\", \"orientation\": \"v\", \"showlegend\": true, \"x\": [62510.7911705641], \"xaxis\": \"x\", \"y\": [39.0349807739], \"yaxis\": \"y\", \"type\": \"scatter\"}, {\"hovertemplate\": \"Country Name=Azerbaijan<br>Year=2014<br>GDP per capita (Current US$)=%{x}<br>% 25+ completed at least Post-Secondary=%{y}<br>Population, total=%{marker.size}<extra></extra>\", \"legendgroup\": \"Azerbaijan\", \"marker\": {\"color\": \"#EF553B\", \"size\": [9535079], \"sizemode\": \"area\", \"sizeref\": 89705.91972222223, \"symbol\": \"circle\"}, \"mode\": \"markers\", \"name\": \"Azerbaijan\", \"orientation\": \"v\", \"showlegend\": true, \"x\": [7891.3131474999], \"xaxis\": \"x\", \"y\": [30.0571193695], \"yaxis\": \"y\", \"type\": \"scatter\"}, {\"hovertemplate\": \"Country Name=Bangladesh<br>Year=2014<br>GDP per capita (Current US$)=%{x}<br>% 25+ completed at least Post-Secondary=%{y}<br>Population, total=%{marker.size}<extra></extra>\", \"legendgroup\": \"Bangladesh\", \"marker\": {\"color\": \"#00cc96\", \"size\": [154520167], \"sizemode\": \"area\", \"sizeref\": 89705.91972222223, \"symbol\": \"circle\"}, \"mode\": \"markers\", \"name\": \"Bangladesh\", \"orientation\": \"v\", \"showlegend\": true, \"x\": [1118.8536634927], \"xaxis\": \"x\", \"y\": [10.2895097733], \"yaxis\": \"y\", \"type\": \"scatter\"}, {\"hovertemplate\": \"Country Name=Belgium<br>Year=2014<br>GDP per capita (Current US$)=%{x}<br>% 25+ completed at least Post-Secondary=%{y}<br>Population, total=%{marker.size}<extra></extra>\", \"legendgroup\": \"Belgium\", \"marker\": {\"color\": \"#ab63fa\", \"size\": [11209057], \"sizemode\": \"area\", \"sizeref\": 89705.91972222223, \"symbol\": \"circle\"}, \"mode\": \"markers\", \"name\": \"Belgium\", \"orientation\": \"v\", \"showlegend\": true, \"x\": [47700.5403601178], \"xaxis\": \"x\", \"y\": [32.8033905029], \"yaxis\": \"y\", \"type\": \"scatter\"}, {\"hovertemplate\": \"Country Name=Brazil<br>Year=2014<br>GDP per capita (Current US$)=%{x}<br>% 25+ completed at least Post-Secondary=%{y}<br>Population, total=%{marker.size}<extra></extra>\", \"legendgroup\": \"Brazil\", \"marker\": {\"color\": \"#FFA15A\", \"size\": [202763735], \"sizemode\": \"area\", \"sizeref\": 89705.91972222223, \"symbol\": \"circle\"}, \"mode\": \"markers\", \"name\": \"Brazil\", \"orientation\": \"v\", \"showlegend\": true, \"x\": [12112.5882059697], \"xaxis\": \"x\", \"y\": [13.1573696136], \"yaxis\": \"y\", \"type\": \"scatter\"}, {\"hovertemplate\": \"Country Name=Colombia<br>Year=2014<br>GDP per capita (Current US$)=%{x}<br>% 25+ completed at least Post-Secondary=%{y}<br>Population, total=%{marker.size}<extra></extra>\", \"legendgroup\": \"Colombia\", \"marker\": {\"color\": \"#19d3f3\", \"size\": [46967706], \"sizemode\": \"area\", \"sizeref\": 89705.91972222223, \"symbol\": \"circle\"}, \"mode\": \"markers\", \"name\": \"Colombia\", \"orientation\": \"v\", \"showlegend\": true, \"x\": [8114.3439208516], \"xaxis\": \"x\", \"y\": [19.7050495148], \"yaxis\": \"y\", \"type\": \"scatter\"}, {\"hovertemplate\": \"Country Name=Czech Republic<br>Year=2014<br>GDP per capita (Current US$)=%{x}<br>% 25+ completed at least Post-Secondary=%{y}<br>Population, total=%{marker.size}<extra></extra>\", \"legendgroup\": \"Czech Republic\", \"marker\": {\"color\": \"#FF6692\", \"size\": [10525347], \"sizemode\": \"area\", \"sizeref\": 89705.91972222223, \"symbol\": \"circle\"}, \"mode\": \"markers\", \"name\": \"Czech Republic\", \"orientation\": \"v\", \"showlegend\": true, \"x\": [19890.9199056648], \"xaxis\": \"x\", \"y\": [18.967250824], \"yaxis\": \"y\", \"type\": \"scatter\"}, {\"hovertemplate\": \"Country Name=Dominican Republic<br>Year=2014<br>GDP per capita (Current US$)=%{x}<br>% 25+ completed at least Post-Secondary=%{y}<br>Population, total=%{marker.size}<extra></extra>\", \"legendgroup\": \"Dominican Republic\", \"marker\": {\"color\": \"#B6E880\", \"size\": [10165178], \"sizemode\": \"area\", \"sizeref\": 89705.91972222223, \"symbol\": \"circle\"}, \"mode\": \"markers\", \"name\": \"Dominican Republic\", \"orientation\": \"v\", \"showlegend\": true, \"x\": [6608.8281018077], \"xaxis\": \"x\", \"y\": [11.7863502502], \"yaxis\": \"y\", \"type\": \"scatter\"}, {\"hovertemplate\": \"Country Name=Ecuador<br>Year=2014<br>GDP per capita (Current US$)=%{x}<br>% 25+ completed at least Post-Secondary=%{y}<br>Population, total=%{marker.size}<extra></extra>\", \"legendgroup\": \"Ecuador\", \"marker\": {\"color\": \"#FF97FF\", \"size\": [15951838], \"sizemode\": \"area\", \"sizeref\": 89705.91972222223, \"symbol\": \"circle\"}, \"mode\": \"markers\", \"name\": \"Ecuador\", \"orientation\": \"v\", \"showlegend\": true, \"x\": [6377.0915301422], \"xaxis\": \"x\", \"y\": [11.7284297943], \"yaxis\": \"y\", \"type\": \"scatter\"}, {\"hovertemplate\": \"Country Name=France<br>Year=2014<br>GDP per capita (Current US$)=%{x}<br>% 25+ completed at least Post-Secondary=%{y}<br>Population, total=%{marker.size}<extra></extra>\", \"legendgroup\": \"France\", \"marker\": {\"color\": \"#FECB52\", \"size\": [66312067], \"sizemode\": \"area\", \"sizeref\": 89705.91972222223, \"symbol\": \"circle\"}, \"mode\": \"markers\", \"name\": \"France\", \"orientation\": \"v\", \"showlegend\": true, \"x\": [43011.2631028417], \"xaxis\": \"x\", \"y\": [28.662979126], \"yaxis\": \"y\", \"type\": \"scatter\"}, {\"hovertemplate\": \"Country Name=Germany<br>Year=2014<br>GDP per capita (Current US$)=%{x}<br>% 25+ completed at least Post-Secondary=%{y}<br>Population, total=%{marker.size}<extra></extra>\", \"legendgroup\": \"Germany\", \"marker\": {\"color\": \"#636efa\", \"size\": [80982500], \"sizemode\": \"area\", \"sizeref\": 89705.91972222223, \"symbol\": \"circle\"}, \"mode\": \"markers\", \"name\": \"Germany\", \"orientation\": \"v\", \"showlegend\": true, \"x\": [47959.9932737599], \"xaxis\": \"x\", \"y\": [33.4242095947], \"yaxis\": \"y\", \"type\": \"scatter\"}, {\"hovertemplate\": \"Country Name=Hungary<br>Year=2014<br>GDP per capita (Current US$)=%{x}<br>% 25+ completed at least Post-Secondary=%{y}<br>Population, total=%{marker.size}<extra></extra>\", \"legendgroup\": \"Hungary\", \"marker\": {\"color\": \"#EF553B\", \"size\": [9866468], \"sizemode\": \"area\", \"sizeref\": 89705.91972222223, \"symbol\": \"circle\"}, \"mode\": \"markers\", \"name\": \"Hungary\", \"orientation\": \"v\", \"showlegend\": true, \"x\": [14267.0121547683], \"xaxis\": \"x\", \"y\": [28.2089099884], \"yaxis\": \"y\", \"type\": \"scatter\"}, {\"hovertemplate\": \"Country Name=Mexico<br>Year=2014<br>GDP per capita (Current US$)=%{x}<br>% 25+ completed at least Post-Secondary=%{y}<br>Population, total=%{marker.size}<extra></extra>\", \"legendgroup\": \"Mexico\", \"marker\": {\"color\": \"#00cc96\", \"size\": [120355128], \"sizemode\": \"area\", \"sizeref\": 89705.91972222223, \"symbol\": \"circle\"}, \"mode\": \"markers\", \"name\": \"Mexico\", \"orientation\": \"v\", \"showlegend\": true, \"x\": [10928.9168262489], \"xaxis\": \"x\", \"y\": [14.4319295883], \"yaxis\": \"y\", \"type\": \"scatter\"}, {\"hovertemplate\": \"Country Name=Netherlands<br>Year=2014<br>GDP per capita (Current US$)=%{x}<br>% 25+ completed at least Post-Secondary=%{y}<br>Population, total=%{marker.size}<extra></extra>\", \"legendgroup\": \"Netherlands\", \"marker\": {\"color\": \"#ab63fa\", \"size\": [16865008], \"sizemode\": \"area\", \"sizeref\": 89705.91972222223, \"symbol\": \"circle\"}, \"mode\": \"markers\", \"name\": \"Netherlands\", \"orientation\": \"v\", \"showlegend\": true, \"x\": [52830.1742328055], \"xaxis\": \"x\", \"y\": [30.5605792999], \"yaxis\": \"y\", \"type\": \"scatter\"}, {\"hovertemplate\": \"Country Name=Portugal<br>Year=2014<br>GDP per capita (Current US$)=%{x}<br>% 25+ completed at least Post-Secondary=%{y}<br>Population, total=%{marker.size}<extra></extra>\", \"legendgroup\": \"Portugal\", \"marker\": {\"color\": \"#FFA15A\", \"size\": [10401062], \"sizemode\": \"area\", \"sizeref\": 89705.91972222223, \"symbol\": \"circle\"}, \"mode\": \"markers\", \"name\": \"Portugal\", \"orientation\": \"v\", \"showlegend\": true, \"x\": [22074.3007634216], \"xaxis\": \"x\", \"y\": [17.9767093658], \"yaxis\": \"y\", \"type\": \"scatter\"}, {\"hovertemplate\": \"Country Name=Romania<br>Year=2014<br>GDP per capita (Current US$)=%{x}<br>% 25+ completed at least Post-Secondary=%{y}<br>Population, total=%{marker.size}<extra></extra>\", \"legendgroup\": \"Romania\", \"marker\": {\"color\": \"#19d3f3\", \"size\": [19908979], \"sizemode\": \"area\", \"sizeref\": 89705.91972222223, \"symbol\": \"circle\"}, \"mode\": \"markers\", \"name\": \"Romania\", \"orientation\": \"v\", \"showlegend\": true, \"x\": [10043.6774497614], \"xaxis\": \"x\", \"y\": [17.2269802094], \"yaxis\": \"y\", \"type\": \"scatter\"}, {\"hovertemplate\": \"Country Name=Slovak Republic<br>Year=2014<br>GDP per capita (Current US$)=%{x}<br>% 25+ completed at least Post-Secondary=%{y}<br>Population, total=%{marker.size}<extra></extra>\", \"legendgroup\": \"Slovak Republic\", \"marker\": {\"color\": \"#FF6692\", \"size\": [5418649], \"sizemode\": \"area\", \"sizeref\": 89705.91972222223, \"symbol\": \"circle\"}, \"mode\": \"markers\", \"name\": \"Slovak Republic\", \"orientation\": \"v\", \"showlegend\": true, \"x\": [18674.3440568625], \"xaxis\": \"x\", \"y\": [19.4953899384], \"yaxis\": \"y\", \"type\": \"scatter\"}, {\"hovertemplate\": \"Country Name=Turkey<br>Year=2014<br>GDP per capita (Current US$)=%{x}<br>% 25+ completed at least Post-Secondary=%{y}<br>Population, total=%{marker.size}<extra></extra>\", \"legendgroup\": \"Turkey\", \"marker\": {\"color\": \"#B6E880\", \"size\": [77231907], \"sizemode\": \"area\", \"sizeref\": 89705.91972222223, \"symbol\": \"circle\"}, \"mode\": \"markers\", \"name\": \"Turkey\", \"orientation\": \"v\", \"showlegend\": true, \"x\": [12157.3379609015], \"xaxis\": \"x\", \"y\": [15.8283195496], \"yaxis\": \"y\", \"type\": \"scatter\"}, {\"hovertemplate\": \"Country Name=United States<br>Year=2014<br>GDP per capita (Current US$)=%{x}<br>% 25+ completed at least Post-Secondary=%{y}<br>Population, total=%{marker.size}<extra></extra>\", \"legendgroup\": \"United States\", \"marker\": {\"color\": \"#FF97FF\", \"size\": [318301008], \"sizemode\": \"area\", \"sizeref\": 89705.91972222223, \"symbol\": \"circle\"}, \"mode\": \"markers\", \"name\": \"United States\", \"orientation\": \"v\", \"showlegend\": true, \"x\": [55064.7445483427], \"xaxis\": \"x\", \"y\": [41.8897018433], \"yaxis\": \"y\", \"type\": \"scatter\"}], \"name\": \"2014\"}, {\"data\": [{\"hovertemplate\": \"Country Name=Australia<br>Year=2015<br>GDP per capita (Current US$)=%{x}<br>% 25+ completed at least Post-Secondary=%{y}<br>Population, total=%{marker.size}<extra></extra>\", \"legendgroup\": \"Australia\", \"marker\": {\"color\": \"#636efa\", \"size\": [23815995], \"sizemode\": \"area\", \"sizeref\": 89705.91972222223, \"symbol\": \"circle\"}, \"mode\": \"markers\", \"name\": \"Australia\", \"orientation\": \"v\", \"showlegend\": true, \"x\": [56755.7217124249], \"xaxis\": \"x\", \"y\": [45.3450698853], \"yaxis\": \"y\", \"type\": \"scatter\"}, {\"hovertemplate\": \"Country Name=Azerbaijan<br>Year=2015<br>GDP per capita (Current US$)=%{x}<br>% 25+ completed at least Post-Secondary=%{y}<br>Population, total=%{marker.size}<extra></extra>\", \"legendgroup\": \"Azerbaijan\", \"marker\": {\"color\": \"#EF553B\", \"size\": [9649341], \"sizemode\": \"area\", \"sizeref\": 89705.91972222223, \"symbol\": \"circle\"}, \"mode\": \"markers\", \"name\": \"Azerbaijan\", \"orientation\": \"v\", \"showlegend\": true, \"x\": [5500.3103824441], \"xaxis\": \"x\", \"y\": [30.0416603088], \"yaxis\": \"y\", \"type\": \"scatter\"}, {\"hovertemplate\": \"Country Name=Bangladesh<br>Year=2015<br>GDP per capita (Current US$)=%{x}<br>% 25+ completed at least Post-Secondary=%{y}<br>Population, total=%{marker.size}<extra></extra>\", \"legendgroup\": \"Bangladesh\", \"marker\": {\"color\": \"#00cc96\", \"size\": [156256276], \"sizemode\": \"area\", \"sizeref\": 89705.91972222223, \"symbol\": \"circle\"}, \"mode\": \"markers\", \"name\": \"Bangladesh\", \"orientation\": \"v\", \"showlegend\": true, \"x\": [1248.4533977837], \"xaxis\": \"x\", \"y\": [13.9909801483], \"yaxis\": \"y\", \"type\": \"scatter\"}, {\"hovertemplate\": \"Country Name=Belgium<br>Year=2015<br>GDP per capita (Current US$)=%{x}<br>% 25+ completed at least Post-Secondary=%{y}<br>Population, total=%{marker.size}<extra></extra>\", \"legendgroup\": \"Belgium\", \"marker\": {\"color\": \"#ab63fa\", \"size\": [11274196], \"sizemode\": \"area\", \"sizeref\": 89705.91972222223, \"symbol\": \"circle\"}, \"mode\": \"markers\", \"name\": \"Belgium\", \"orientation\": \"v\", \"showlegend\": true, \"x\": [40991.8081381432], \"xaxis\": \"x\", \"y\": [33.2611503601], \"yaxis\": \"y\", \"type\": \"scatter\"}, {\"hovertemplate\": \"Country Name=Brazil<br>Year=2015<br>GDP per capita (Current US$)=%{x}<br>% 25+ completed at least Post-Secondary=%{y}<br>Population, total=%{marker.size}<extra></extra>\", \"legendgroup\": \"Brazil\", \"marker\": {\"color\": \"#FFA15A\", \"size\": [204471769], \"sizemode\": \"area\", \"sizeref\": 89705.91972222223, \"symbol\": \"circle\"}, \"mode\": \"markers\", \"name\": \"Brazil\", \"orientation\": \"v\", \"showlegend\": true, \"x\": [8814.0009868126], \"xaxis\": \"x\", \"y\": [13.5562496185], \"yaxis\": \"y\", \"type\": \"scatter\"}, {\"hovertemplate\": \"Country Name=Colombia<br>Year=2015<br>GDP per capita (Current US$)=%{x}<br>% 25+ completed at least Post-Secondary=%{y}<br>Population, total=%{marker.size}<extra></extra>\", \"legendgroup\": \"Colombia\", \"marker\": {\"color\": \"#19d3f3\", \"size\": [47520667], \"sizemode\": \"area\", \"sizeref\": 89705.91972222223, \"symbol\": \"circle\"}, \"mode\": \"markers\", \"name\": \"Colombia\", \"orientation\": \"v\", \"showlegend\": true, \"x\": [6175.8760297026], \"xaxis\": \"x\", \"y\": [19.5199699402], \"yaxis\": \"y\", \"type\": \"scatter\"}, {\"hovertemplate\": \"Country Name=Czech Republic<br>Year=2015<br>GDP per capita (Current US$)=%{x}<br>% 25+ completed at least Post-Secondary=%{y}<br>Population, total=%{marker.size}<extra></extra>\", \"legendgroup\": \"Czech Republic\", \"marker\": {\"color\": \"#FF6692\", \"size\": [10546059], \"sizemode\": \"area\", \"sizeref\": 89705.91972222223, \"symbol\": \"circle\"}, \"mode\": \"markers\", \"name\": \"Czech Republic\", \"orientation\": \"v\", \"showlegend\": true, \"x\": [17829.6983223668], \"xaxis\": \"x\", \"y\": [19.5305309296], \"yaxis\": \"y\", \"type\": \"scatter\"}, {\"hovertemplate\": \"Country Name=Dominican Republic<br>Year=2015<br>GDP per capita (Current US$)=%{x}<br>% 25+ completed at least Post-Secondary=%{y}<br>Population, total=%{marker.size}<extra></extra>\", \"legendgroup\": \"Dominican Republic\", \"marker\": {\"color\": \"#B6E880\", \"size\": [10281680], \"sizemode\": \"area\", \"sizeref\": 89705.91972222223, \"symbol\": \"circle\"}, \"mode\": \"markers\", \"name\": \"Dominican Republic\", \"orientation\": \"v\", \"showlegend\": true, \"x\": [6921.5172284818], \"xaxis\": \"x\", \"y\": [12.3803501129], \"yaxis\": \"y\", \"type\": \"scatter\"}, {\"hovertemplate\": \"Country Name=Ecuador<br>Year=2015<br>GDP per capita (Current US$)=%{x}<br>% 25+ completed at least Post-Secondary=%{y}<br>Population, total=%{marker.size}<extra></extra>\", \"legendgroup\": \"Ecuador\", \"marker\": {\"color\": \"#FF97FF\", \"size\": [16212020], \"sizemode\": \"area\", \"sizeref\": 89705.91972222223, \"symbol\": \"circle\"}, \"mode\": \"markers\", \"name\": \"Ecuador\", \"orientation\": \"v\", \"showlegend\": true, \"x\": [6124.4916426207], \"xaxis\": \"x\", \"y\": [13.6028995514], \"yaxis\": \"y\", \"type\": \"scatter\"}, {\"hovertemplate\": \"Country Name=France<br>Year=2015<br>GDP per capita (Current US$)=%{x}<br>% 25+ completed at least Post-Secondary=%{y}<br>Population, total=%{marker.size}<extra></extra>\", \"legendgroup\": \"France\", \"marker\": {\"color\": \"#FECB52\", \"size\": [66548272], \"sizemode\": \"area\", \"sizeref\": 89705.91972222223, \"symbol\": \"circle\"}, \"mode\": \"markers\", \"name\": \"France\", \"orientation\": \"v\", \"showlegend\": true, \"x\": [36638.184929157], \"xaxis\": \"x\", \"y\": [30.4950809479], \"yaxis\": \"y\", \"type\": \"scatter\"}, {\"hovertemplate\": \"Country Name=Germany<br>Year=2015<br>GDP per capita (Current US$)=%{x}<br>% 25+ completed at least Post-Secondary=%{y}<br>Population, total=%{marker.size}<extra></extra>\", \"legendgroup\": \"Germany\", \"marker\": {\"color\": \"#636efa\", \"size\": [81686611], \"sizemode\": \"area\", \"sizeref\": 89705.91972222223, \"symbol\": \"circle\"}, \"mode\": \"markers\", \"name\": \"Germany\", \"orientation\": \"v\", \"showlegend\": true, \"x\": [41086.7296737253], \"xaxis\": \"x\", \"y\": [34.4100914001], \"yaxis\": \"y\", \"type\": \"scatter\"}, {\"hovertemplate\": \"Country Name=Hungary<br>Year=2015<br>GDP per capita (Current US$)=%{x}<br>% 25+ completed at least Post-Secondary=%{y}<br>Population, total=%{marker.size}<extra></extra>\", \"legendgroup\": \"Hungary\", \"marker\": {\"color\": \"#EF553B\", \"size\": [9843028], \"sizemode\": \"area\", \"sizeref\": 89705.91972222223, \"symbol\": \"circle\"}, \"mode\": \"markers\", \"name\": \"Hungary\", \"orientation\": \"v\", \"showlegend\": true, \"x\": [12706.8912148924], \"xaxis\": \"x\", \"y\": [28.7417697906], \"yaxis\": \"y\", \"type\": \"scatter\"}, {\"hovertemplate\": \"Country Name=Mexico<br>Year=2015<br>GDP per capita (Current US$)=%{x}<br>% 25+ completed at least Post-Secondary=%{y}<br>Population, total=%{marker.size}<extra></extra>\", \"legendgroup\": \"Mexico\", \"marker\": {\"color\": \"#00cc96\", \"size\": [121858258], \"sizemode\": \"area\", \"sizeref\": 89705.91972222223, \"symbol\": \"circle\"}, \"mode\": \"markers\", \"name\": \"Mexico\", \"orientation\": \"v\", \"showlegend\": true, \"x\": [9616.6450056895], \"xaxis\": \"x\", \"y\": [16.2725505829], \"yaxis\": \"y\", \"type\": \"scatter\"}, {\"hovertemplate\": \"Country Name=Netherlands<br>Year=2015<br>GDP per capita (Current US$)=%{x}<br>% 25+ completed at least Post-Secondary=%{y}<br>Population, total=%{marker.size}<extra></extra>\", \"legendgroup\": \"Netherlands\", \"marker\": {\"color\": \"#ab63fa\", \"size\": [16939923], \"sizemode\": \"area\", \"sizeref\": 89705.91972222223, \"symbol\": \"circle\"}, \"mode\": \"markers\", \"name\": \"Netherlands\", \"orientation\": \"v\", \"showlegend\": true, \"x\": [45175.2318933798], \"xaxis\": \"x\", \"y\": [31.209810257], \"yaxis\": \"y\", \"type\": \"scatter\"}, {\"hovertemplate\": \"Country Name=Portugal<br>Year=2015<br>GDP per capita (Current US$)=%{x}<br>% 25+ completed at least Post-Secondary=%{y}<br>Population, total=%{marker.size}<extra></extra>\", \"legendgroup\": \"Portugal\", \"marker\": {\"color\": \"#FFA15A\", \"size\": [10358076], \"sizemode\": \"area\", \"sizeref\": 89705.91972222223, \"symbol\": \"circle\"}, \"mode\": \"markers\", \"name\": \"Portugal\", \"orientation\": \"v\", \"showlegend\": true, \"x\": [19242.3664710981], \"xaxis\": \"x\", \"y\": [18.7413902283], \"yaxis\": \"y\", \"type\": \"scatter\"}, {\"hovertemplate\": \"Country Name=Romania<br>Year=2015<br>GDP per capita (Current US$)=%{x}<br>% 25+ completed at least Post-Secondary=%{y}<br>Population, total=%{marker.size}<extra></extra>\", \"legendgroup\": \"Romania\", \"marker\": {\"color\": \"#19d3f3\", \"size\": [19815616], \"sizemode\": \"area\", \"sizeref\": 89705.91972222223, \"symbol\": \"circle\"}, \"mode\": \"markers\", \"name\": \"Romania\", \"orientation\": \"v\", \"showlegend\": true, \"x\": [8969.1489214619], \"xaxis\": \"x\", \"y\": [17.7632293701], \"yaxis\": \"y\", \"type\": \"scatter\"}, {\"hovertemplate\": \"Country Name=Slovak Republic<br>Year=2015<br>GDP per capita (Current US$)=%{x}<br>% 25+ completed at least Post-Secondary=%{y}<br>Population, total=%{marker.size}<extra></extra>\", \"legendgroup\": \"Slovak Republic\", \"marker\": {\"color\": \"#FF6692\", \"size\": [5423801], \"sizemode\": \"area\", \"sizeref\": 89705.91972222223, \"symbol\": \"circle\"}, \"mode\": \"markers\", \"name\": \"Slovak Republic\", \"orientation\": \"v\", \"showlegend\": true, \"x\": [16310.9884090005], \"xaxis\": \"x\", \"y\": [20.626159668], \"yaxis\": \"y\", \"type\": \"scatter\"}, {\"hovertemplate\": \"Country Name=Turkey<br>Year=2015<br>GDP per capita (Current US$)=%{x}<br>% 25+ completed at least Post-Secondary=%{y}<br>Population, total=%{marker.size}<extra></extra>\", \"legendgroup\": \"Turkey\", \"marker\": {\"color\": \"#B6E880\", \"size\": [78529409], \"sizemode\": \"area\", \"sizeref\": 89705.91972222223, \"symbol\": \"circle\"}, \"mode\": \"markers\", \"name\": \"Turkey\", \"orientation\": \"v\", \"showlegend\": true, \"x\": [11006.2497363978], \"xaxis\": \"x\", \"y\": [17.393579483], \"yaxis\": \"y\", \"type\": \"scatter\"}, {\"hovertemplate\": \"Country Name=United States<br>Year=2015<br>GDP per capita (Current US$)=%{x}<br>% 25+ completed at least Post-Secondary=%{y}<br>Population, total=%{marker.size}<extra></extra>\", \"legendgroup\": \"United States\", \"marker\": {\"color\": \"#FF97FF\", \"size\": [320635163], \"sizemode\": \"area\", \"sizeref\": 89705.91972222223, \"symbol\": \"circle\"}, \"mode\": \"markers\", \"name\": \"United States\", \"orientation\": \"v\", \"showlegend\": true, \"x\": [56839.3817742317], \"xaxis\": \"x\", \"y\": [42.3375091553], \"yaxis\": \"y\", \"type\": \"scatter\"}], \"name\": \"2015\"}, {\"data\": [{\"hovertemplate\": \"Country Name=Australia<br>Year=2016<br>GDP per capita (Current US$)=%{x}<br>% 25+ completed at least Post-Secondary=%{y}<br>Population, total=%{marker.size}<extra></extra>\", \"legendgroup\": \"Australia\", \"marker\": {\"color\": \"#636efa\", \"size\": [24190907], \"sizemode\": \"area\", \"sizeref\": 89705.91972222223, \"symbol\": \"circle\"}, \"mode\": \"markers\", \"name\": \"Australia\", \"orientation\": \"v\", \"showlegend\": true, \"x\": [49971.131456129], \"xaxis\": \"x\", \"y\": [46.4734306335], \"yaxis\": \"y\", \"type\": \"scatter\"}, {\"hovertemplate\": \"Country Name=Azerbaijan<br>Year=2016<br>GDP per capita (Current US$)=%{x}<br>% 25+ completed at least Post-Secondary=%{y}<br>Population, total=%{marker.size}<extra></extra>\", \"legendgroup\": \"Azerbaijan\", \"marker\": {\"color\": \"#EF553B\", \"size\": [9757812], \"sizemode\": \"area\", \"sizeref\": 89705.91972222223, \"symbol\": \"circle\"}, \"mode\": \"markers\", \"name\": \"Azerbaijan\", \"orientation\": \"v\", \"showlegend\": true, \"x\": [3880.7387308956], \"xaxis\": \"x\", \"y\": [30.091709137], \"yaxis\": \"y\", \"type\": \"scatter\"}, {\"hovertemplate\": \"Country Name=Bangladesh<br>Year=2016<br>GDP per capita (Current US$)=%{x}<br>% 25+ completed at least Post-Secondary=%{y}<br>Population, total=%{marker.size}<extra></extra>\", \"legendgroup\": \"Bangladesh\", \"marker\": {\"color\": \"#00cc96\", \"size\": [157970840], \"sizemode\": \"area\", \"sizeref\": 89705.91972222223, \"symbol\": \"circle\"}, \"mode\": \"markers\", \"name\": \"Bangladesh\", \"orientation\": \"v\", \"showlegend\": true, \"x\": [1401.6206282151], \"xaxis\": \"x\", \"y\": [14.347319603], \"yaxis\": \"y\", \"type\": \"scatter\"}, {\"hovertemplate\": \"Country Name=Belgium<br>Year=2016<br>GDP per capita (Current US$)=%{x}<br>% 25+ completed at least Post-Secondary=%{y}<br>Population, total=%{marker.size}<extra></extra>\", \"legendgroup\": \"Belgium\", \"marker\": {\"color\": \"#ab63fa\", \"size\": [11331422], \"sizemode\": \"area\", \"sizeref\": 89705.91972222223, \"symbol\": \"circle\"}, \"mode\": \"markers\", \"name\": \"Belgium\", \"orientation\": \"v\", \"showlegend\": true, \"x\": [41984.1030335609], \"xaxis\": \"x\", \"y\": [33.7627182007], \"yaxis\": \"y\", \"type\": \"scatter\"}, {\"hovertemplate\": \"Country Name=Brazil<br>Year=2016<br>GDP per capita (Current US$)=%{x}<br>% 25+ completed at least Post-Secondary=%{y}<br>Population, total=%{marker.size}<extra></extra>\", \"legendgroup\": \"Brazil\", \"marker\": {\"color\": \"#FFA15A\", \"size\": [206163058], \"sizemode\": \"area\", \"sizeref\": 89705.91972222223, \"symbol\": \"circle\"}, \"mode\": \"markers\", \"name\": \"Brazil\", \"orientation\": \"v\", \"showlegend\": true, \"x\": [8710.0966895412], \"xaxis\": \"x\", \"y\": [15.3451795578], \"yaxis\": \"y\", \"type\": \"scatter\"}, {\"hovertemplate\": \"Country Name=Colombia<br>Year=2016<br>GDP per capita (Current US$)=%{x}<br>% 25+ completed at least Post-Secondary=%{y}<br>Population, total=%{marker.size}<extra></extra>\", \"legendgroup\": \"Colombia\", \"marker\": {\"color\": \"#19d3f3\", \"size\": [48175048], \"sizemode\": \"area\", \"sizeref\": 89705.91972222223, \"symbol\": \"circle\"}, \"mode\": \"markers\", \"name\": \"Colombia\", \"orientation\": \"v\", \"showlegend\": true, \"x\": [5870.7779572416], \"xaxis\": \"x\", \"y\": [20.1363105774], \"yaxis\": \"y\", \"type\": \"scatter\"}, {\"hovertemplate\": \"Country Name=Czech Republic<br>Year=2016<br>GDP per capita (Current US$)=%{x}<br>% 25+ completed at least Post-Secondary=%{y}<br>Population, total=%{marker.size}<extra></extra>\", \"legendgroup\": \"Czech Republic\", \"marker\": {\"color\": \"#FF6692\", \"size\": [10566332], \"sizemode\": \"area\", \"sizeref\": 89705.91972222223, \"symbol\": \"circle\"}, \"mode\": \"markers\", \"name\": \"Czech Republic\", \"orientation\": \"v\", \"showlegend\": true, \"x\": [18575.2320271915], \"xaxis\": \"x\", \"y\": [20.2412490845], \"yaxis\": \"y\", \"type\": \"scatter\"}, {\"hovertemplate\": \"Country Name=Dominican Republic<br>Year=2016<br>GDP per capita (Current US$)=%{x}<br>% 25+ completed at least Post-Secondary=%{y}<br>Population, total=%{marker.size}<extra></extra>\", \"legendgroup\": \"Dominican Republic\", \"marker\": {\"color\": \"#B6E880\", \"size\": [10397743], \"sizemode\": \"area\", \"sizeref\": 89705.91972222223, \"symbol\": \"circle\"}, \"mode\": \"markers\", \"name\": \"Dominican Republic\", \"orientation\": \"v\", \"showlegend\": true, \"x\": [7280.8801092334], \"xaxis\": \"x\", \"y\": [22.5186195374], \"yaxis\": \"y\", \"type\": \"scatter\"}, {\"hovertemplate\": \"Country Name=Ecuador<br>Year=2016<br>GDP per capita (Current US$)=%{x}<br>% 25+ completed at least Post-Secondary=%{y}<br>Population, total=%{marker.size}<extra></extra>\", \"legendgroup\": \"Ecuador\", \"marker\": {\"color\": \"#FF97FF\", \"size\": [16491115], \"sizemode\": \"area\", \"sizeref\": 89705.91972222223, \"symbol\": \"circle\"}, \"mode\": \"markers\", \"name\": \"Ecuador\", \"orientation\": \"v\", \"showlegend\": true, \"x\": [6060.0933290442], \"xaxis\": \"x\", \"y\": [13.4826698303], \"yaxis\": \"y\", \"type\": \"scatter\"}, {\"hovertemplate\": \"Country Name=France<br>Year=2016<br>GDP per capita (Current US$)=%{x}<br>% 25+ completed at least Post-Secondary=%{y}<br>Population, total=%{marker.size}<extra></extra>\", \"legendgroup\": \"France\", \"marker\": {\"color\": \"#FECB52\", \"size\": [66724104], \"sizemode\": \"area\", \"sizeref\": 89705.91972222223, \"symbol\": \"circle\"}, \"mode\": \"markers\", \"name\": \"France\", \"orientation\": \"v\", \"showlegend\": true, \"x\": [37037.3741861219], \"xaxis\": \"x\", \"y\": [29.6249599457], \"yaxis\": \"y\", \"type\": \"scatter\"}, {\"hovertemplate\": \"Country Name=Germany<br>Year=2016<br>GDP per capita (Current US$)=%{x}<br>% 25+ completed at least Post-Secondary=%{y}<br>Population, total=%{marker.size}<extra></extra>\", \"legendgroup\": \"Germany\", \"marker\": {\"color\": \"#636efa\", \"size\": [82348669], \"sizemode\": \"area\", \"sizeref\": 89705.91972222223, \"symbol\": \"circle\"}, \"mode\": \"markers\", \"name\": \"Germany\", \"orientation\": \"v\", \"showlegend\": true, \"x\": [42107.5172703074], \"xaxis\": \"x\", \"y\": [35.652721405], \"yaxis\": \"y\", \"type\": \"scatter\"}, {\"hovertemplate\": \"Country Name=Hungary<br>Year=2016<br>GDP per capita (Current US$)=%{x}<br>% 25+ completed at least Post-Secondary=%{y}<br>Population, total=%{marker.size}<extra></extra>\", \"legendgroup\": \"Hungary\", \"marker\": {\"color\": \"#EF553B\", \"size\": [9814023], \"sizemode\": \"area\", \"sizeref\": 89705.91972222223, \"symbol\": \"circle\"}, \"mode\": \"markers\", \"name\": \"Hungary\", \"orientation\": \"v\", \"showlegend\": true, \"x\": [13090.5067287853], \"xaxis\": \"x\", \"y\": [28.5094604492], \"yaxis\": \"y\", \"type\": \"scatter\"}, {\"hovertemplate\": \"Country Name=Mexico<br>Year=2016<br>GDP per capita (Current US$)=%{x}<br>% 25+ completed at least Post-Secondary=%{y}<br>Population, total=%{marker.size}<extra></extra>\", \"legendgroup\": \"Mexico\", \"marker\": {\"color\": \"#00cc96\", \"size\": [123333376], \"sizemode\": \"area\", \"sizeref\": 89705.91972222223, \"symbol\": \"circle\"}, \"mode\": \"markers\", \"name\": \"Mexico\", \"orientation\": \"v\", \"showlegend\": true, \"x\": [8744.5157718322], \"xaxis\": \"x\", \"y\": [15.1532297134], \"yaxis\": \"y\", \"type\": \"scatter\"}, {\"hovertemplate\": \"Country Name=Netherlands<br>Year=2016<br>GDP per capita (Current US$)=%{x}<br>% 25+ completed at least Post-Secondary=%{y}<br>Population, total=%{marker.size}<extra></extra>\", \"legendgroup\": \"Netherlands\", \"marker\": {\"color\": \"#ab63fa\", \"size\": [17030314], \"sizemode\": \"area\", \"sizeref\": 89705.91972222223, \"symbol\": \"circle\"}, \"mode\": \"markers\", \"name\": \"Netherlands\", \"orientation\": \"v\", \"showlegend\": true, \"x\": [46007.8529206547], \"xaxis\": \"x\", \"y\": [31.7883090973], \"yaxis\": \"y\", \"type\": \"scatter\"}, {\"hovertemplate\": \"Country Name=Portugal<br>Year=2016<br>GDP per capita (Current US$)=%{x}<br>% 25+ completed at least Post-Secondary=%{y}<br>Population, total=%{marker.size}<extra></extra>\", \"legendgroup\": \"Portugal\", \"marker\": {\"color\": \"#FFA15A\", \"size\": [10325452], \"sizemode\": \"area\", \"sizeref\": 89705.91972222223, \"symbol\": \"circle\"}, \"mode\": \"markers\", \"name\": \"Portugal\", \"orientation\": \"v\", \"showlegend\": true, \"x\": [19978.401214968], \"xaxis\": \"x\", \"y\": [19.5643501282], \"yaxis\": \"y\", \"type\": \"scatter\"}, {\"hovertemplate\": \"Country Name=Romania<br>Year=2016<br>GDP per capita (Current US$)=%{x}<br>% 25+ completed at least Post-Secondary=%{y}<br>Population, total=%{marker.size}<extra></extra>\", \"legendgroup\": \"Romania\", \"marker\": {\"color\": \"#19d3f3\", \"size\": [19702267], \"sizemode\": \"area\", \"sizeref\": 89705.91972222223, \"symbol\": \"circle\"}, \"mode\": \"markers\", \"name\": \"Romania\", \"orientation\": \"v\", \"showlegend\": true, \"x\": [9548.5874029827], \"xaxis\": \"x\", \"y\": [17.7419300079], \"yaxis\": \"y\", \"type\": \"scatter\"}, {\"hovertemplate\": \"Country Name=Slovak Republic<br>Year=2016<br>GDP per capita (Current US$)=%{x}<br>% 25+ completed at least Post-Secondary=%{y}<br>Population, total=%{marker.size}<extra></extra>\", \"legendgroup\": \"Slovak Republic\", \"marker\": {\"color\": \"#FF6692\", \"size\": [5430798], \"sizemode\": \"area\", \"sizeref\": 89705.91972222223, \"symbol\": \"circle\"}, \"mode\": \"markers\", \"name\": \"Slovak Republic\", \"orientation\": \"v\", \"showlegend\": true, \"x\": [16508.6703604932], \"xaxis\": \"x\", \"y\": [21.5165290833], \"yaxis\": \"y\", \"type\": \"scatter\"}, {\"hovertemplate\": \"Country Name=Turkey<br>Year=2016<br>GDP per capita (Current US$)=%{x}<br>% 25+ completed at least Post-Secondary=%{y}<br>Population, total=%{marker.size}<extra></extra>\", \"legendgroup\": \"Turkey\", \"marker\": {\"color\": \"#B6E880\", \"size\": [79821724], \"sizemode\": \"area\", \"sizeref\": 89705.91972222223, \"symbol\": \"circle\"}, \"mode\": \"markers\", \"name\": \"Turkey\", \"orientation\": \"v\", \"showlegend\": true, \"x\": [10895.3186924719], \"xaxis\": \"x\", \"y\": [18.1570796967], \"yaxis\": \"y\", \"type\": \"scatter\"}, {\"hovertemplate\": \"Country Name=United States<br>Year=2016<br>GDP per capita (Current US$)=%{x}<br>% 25+ completed at least Post-Secondary=%{y}<br>Population, total=%{marker.size}<extra></extra>\", \"legendgroup\": \"United States\", \"marker\": {\"color\": \"#FF97FF\", \"size\": [322941311], \"sizemode\": \"area\", \"sizeref\": 89705.91972222223, \"symbol\": \"circle\"}, \"mode\": \"markers\", \"name\": \"United States\", \"orientation\": \"v\", \"showlegend\": true, \"x\": [57951.5840820997], \"xaxis\": \"x\", \"y\": [43.5118789673], \"yaxis\": \"y\", \"type\": \"scatter\"}], \"name\": \"2016\"}]);\n                        }).then(function(){\n                            \nvar gd = document.getElementById('732af2da-152c-47ac-91a8-2b1ca0c3060a');\nvar x = new MutationObserver(function (mutations, observer) {{\n        var display = window.getComputedStyle(gd).display;\n        if (!display || display === 'none') {{\n            console.log([gd, 'removed!']);\n            Plotly.purge(gd);\n            observer.disconnect();\n        }}\n}});\n\n// Listen for the removal of the full notebook cells\nvar notebookContainer = gd.closest('#notebook-container');\nif (notebookContainer) {{\n    x.observe(notebookContainer, {childList: true});\n}}\n\n// Listen for the clearing of the current output cell\nvar outputEl = gd.closest('.output');\nif (outputEl) {{\n    x.observe(outputEl, {childList: true});\n}}\n\n                        })                };                            </script>        </div>\n</body>\n</html>"
     },
     "metadata": {},
     "output_type": "display_data"
    }
   ],
   "execution_count": 138
  },
  {
   "cell_type": "code",
   "source": "fig = px.scatter(data_frame = df_world,\n                 height=600,\n                 size_max= 60,\n                 title = 'Bubble Size, Population, total',\n                 labels= {\n                   \"NY.GDP.PCAP.CD\": 'GDP per capita (Current US$)',\n                    'SE.SEC.CUAT.PO.ZS': '% 25+ completed at least Post-Secondary',\n                    'SP.POP.TOTL' : 'Population, total'\n                 },\n                 x=\"NY.GDP.PCAP.CD\",\n                 y=\"SE.SEC.CUAT.PO.ZS\",\n                 color=\"Income Group\",\n                 size='SP.POP.TOTL',\n                 animation_frame=\"Year\")\nfig.show()",
   "metadata": {
    "tags": [],
    "cell_id": "00008-63337249-35d5-4c1b-9c85-f35bf5124b48",
    "deepnote_to_be_reexecuted": false,
    "source_hash": "579ecbb5",
    "execution_start": 1621809327575,
    "execution_millis": 115,
    "deepnote_cell_type": "code"
   },
   "outputs": [
    {
     "data": {
      "text/html": "<html>\n<head><meta charset=\"utf-8\" /></head>\n<body>\n    <div>            <script src=\"https://cdnjs.cloudflare.com/ajax/libs/mathjax/2.7.5/MathJax.js?config=TeX-AMS-MML_SVG\"></script><script type=\"text/javascript\">if (window.MathJax) {MathJax.Hub.Config({SVG: {font: \"STIX-Web\"}});}</script>                <script type=\"text/javascript\">window.PlotlyConfig = {MathJaxConfig: 'local'};</script>\n        <script src=\"https://cdn.plot.ly/plotly-latest.min.js\"></script>                <div id=\"729b5f5d-aa33-4b8d-86e8-a821f6a4d7c4\" class=\"plotly-graph-div\" style=\"height:600px; width:100%;\"></div>            <script type=\"text/javascript\">                                    window.PLOTLYENV=window.PLOTLYENV || {};                                    if (document.getElementById(\"729b5f5d-aa33-4b8d-86e8-a821f6a4d7c4\")) {                    Plotly.newPlot(                        \"729b5f5d-aa33-4b8d-86e8-a821f6a4d7c4\",                        [{\"hovertemplate\": \"Income Group=High income<br>Year=2012<br>GDP per capita (Current US$)=%{x}<br>% 25+ completed at least Post-Secondary=%{y}<br>Population, total=%{marker.size}<extra></extra>\", \"legendgroup\": \"High income\", \"marker\": {\"color\": \"#636efa\", \"size\": [22733465, 11106932, 10510785, 65659809, 80425823, 9920362, 16754962, 10514844, 20058035, 5407579, 313830990], \"sizemode\": \"area\", \"sizeref\": 89705.91972222223, \"symbol\": \"circle\"}, \"mode\": \"markers\", \"name\": \"High income\", \"orientation\": \"v\", \"showlegend\": true, \"type\": \"scatter\", \"x\": [68012.1479005934, 44673.1158755901, 19870.8012123403, 40874.7035053457, 43858.3630551076, 12950.6865153085, 50073.0056559308, 20564.8898617969, 8507.1047745644, 17481.8954435252, 51610.6052783379], \"xaxis\": \"x\", \"y\": [46.461971283, 32.7122497559, 19.0093002319, 26.0628604889, 31.7936401367, 22.8525390625, 32.0577507019, 15.5597200394, 17.0980491638, 17.1679096222, 40.663230896], \"yaxis\": \"y\"}, {\"hovertemplate\": \"Income Group=Upper middle income<br>Year=2012<br>GDP per capita (Current US$)=%{x}<br>% 25+ completed at least Post-Secondary=%{y}<br>Population, total=%{marker.size}<extra></extra>\", \"legendgroup\": \"Upper middle income\", \"marker\": {\"color\": \"#EF553B\", \"size\": [9295784, 199287296, 46075721, 9930911, 15474102, 117274155, 74653016], \"sizemode\": \"area\", \"sizeref\": 89705.91972222223, \"symbol\": \"circle\"}, \"mode\": \"markers\", \"name\": \"Upper middle income\", \"orientation\": \"v\", \"showlegend\": true, \"type\": \"scatter\", \"x\": [7496.2946476826, 12370.0242007149, 8050.2553716705, 6110.369652362, 5682.0450065535, 10241.7279153745, 11795.316711752], \"xaxis\": \"x\", \"y\": [30.0363502502, 11.9615001678, 17.0799694061, 10.7886600494, 12.0028495789, 16.3126907349, 13.3758897781], \"yaxis\": \"y\"}, {\"hovertemplate\": \"Income Group=Lower middle income<br>Year=2012<br>GDP per capita (Current US$)=%{x}<br>% 25+ completed at least Post-Secondary=%{y}<br>Population, total=%{marker.size}<extra></extra>\", \"legendgroup\": \"Lower middle income\", \"marker\": {\"color\": \"#00cc96\", \"size\": [151007807], \"sizemode\": \"area\", \"sizeref\": 89705.91972222223, \"symbol\": \"circle\"}, \"mode\": \"markers\", \"name\": \"Lower middle income\", \"orientation\": \"v\", \"showlegend\": true, \"type\": \"scatter\", \"x\": [883.1050005413], \"xaxis\": \"x\", \"y\": [10.5072097778], \"yaxis\": \"y\"}],                        {\"height\": 600, \"legend\": {\"itemsizing\": \"constant\", \"title\": {\"text\": \"Income Group\"}, \"tracegroupgap\": 0}, \"sliders\": [{\"active\": 0, \"currentvalue\": {\"prefix\": \"Year=\"}, \"len\": 0.9, \"pad\": {\"b\": 10, \"t\": 60}, \"steps\": [{\"args\": [[\"2012\"], {\"frame\": {\"duration\": 0, \"redraw\": false}, \"fromcurrent\": true, \"mode\": \"immediate\", \"transition\": {\"duration\": 0, \"easing\": \"linear\"}}], \"label\": \"2012\", \"method\": \"animate\"}, {\"args\": [[\"2013\"], {\"frame\": {\"duration\": 0, \"redraw\": false}, \"fromcurrent\": true, \"mode\": \"immediate\", \"transition\": {\"duration\": 0, \"easing\": \"linear\"}}], \"label\": \"2013\", \"method\": \"animate\"}, {\"args\": [[\"2014\"], {\"frame\": {\"duration\": 0, \"redraw\": false}, \"fromcurrent\": true, \"mode\": \"immediate\", \"transition\": {\"duration\": 0, \"easing\": \"linear\"}}], \"label\": \"2014\", \"method\": \"animate\"}, {\"args\": [[\"2015\"], {\"frame\": {\"duration\": 0, \"redraw\": false}, \"fromcurrent\": true, \"mode\": \"immediate\", \"transition\": {\"duration\": 0, \"easing\": \"linear\"}}], \"label\": \"2015\", \"method\": \"animate\"}, {\"args\": [[\"2016\"], {\"frame\": {\"duration\": 0, \"redraw\": false}, \"fromcurrent\": true, \"mode\": \"immediate\", \"transition\": {\"duration\": 0, \"easing\": \"linear\"}}], \"label\": \"2016\", \"method\": \"animate\"}], \"x\": 0.1, \"xanchor\": \"left\", \"y\": 0, \"yanchor\": \"top\"}], \"template\": {\"data\": {\"bar\": [{\"error_x\": {\"color\": \"#f2f5fa\"}, \"error_y\": {\"color\": \"#f2f5fa\"}, \"marker\": {\"line\": {\"color\": \"rgb(17,17,17)\", \"width\": 0.5}}, \"type\": \"bar\"}], \"barpolar\": [{\"marker\": {\"line\": {\"color\": \"rgb(17,17,17)\", \"width\": 0.5}}, \"type\": \"barpolar\"}], \"carpet\": [{\"aaxis\": {\"endlinecolor\": \"#A2B1C6\", \"gridcolor\": \"#506784\", \"linecolor\": \"#506784\", \"minorgridcolor\": \"#506784\", \"startlinecolor\": \"#A2B1C6\"}, \"baxis\": {\"endlinecolor\": \"#A2B1C6\", \"gridcolor\": \"#506784\", \"linecolor\": \"#506784\", \"minorgridcolor\": \"#506784\", \"startlinecolor\": \"#A2B1C6\"}, \"type\": \"carpet\"}], \"choropleth\": [{\"colorbar\": {\"outlinewidth\": 0, \"ticks\": \"\"}, \"type\": \"choropleth\"}], \"contour\": [{\"colorbar\": {\"outlinewidth\": 0, \"ticks\": \"\"}, \"colorscale\": [[0.0, \"#0d0887\"], [0.1111111111111111, \"#46039f\"], [0.2222222222222222, \"#7201a8\"], [0.3333333333333333, \"#9c179e\"], [0.4444444444444444, \"#bd3786\"], [0.5555555555555556, \"#d8576b\"], [0.6666666666666666, \"#ed7953\"], [0.7777777777777778, \"#fb9f3a\"], [0.8888888888888888, \"#fdca26\"], [1.0, \"#f0f921\"]], \"type\": \"contour\"}], \"contourcarpet\": [{\"colorbar\": {\"outlinewidth\": 0, \"ticks\": \"\"}, \"type\": \"contourcarpet\"}], \"heatmap\": [{\"colorbar\": {\"outlinewidth\": 0, \"ticks\": \"\"}, \"colorscale\": [[0.0, \"#0d0887\"], [0.1111111111111111, \"#46039f\"], [0.2222222222222222, \"#7201a8\"], [0.3333333333333333, \"#9c179e\"], [0.4444444444444444, \"#bd3786\"], [0.5555555555555556, \"#d8576b\"], [0.6666666666666666, \"#ed7953\"], [0.7777777777777778, \"#fb9f3a\"], [0.8888888888888888, \"#fdca26\"], [1.0, \"#f0f921\"]], \"type\": \"heatmap\"}], \"heatmapgl\": [{\"colorbar\": {\"outlinewidth\": 0, \"ticks\": \"\"}, \"colorscale\": [[0.0, \"#0d0887\"], [0.1111111111111111, \"#46039f\"], [0.2222222222222222, \"#7201a8\"], [0.3333333333333333, \"#9c179e\"], [0.4444444444444444, \"#bd3786\"], [0.5555555555555556, \"#d8576b\"], [0.6666666666666666, \"#ed7953\"], [0.7777777777777778, \"#fb9f3a\"], [0.8888888888888888, \"#fdca26\"], [1.0, \"#f0f921\"]], \"type\": \"heatmapgl\"}], \"histogram\": [{\"marker\": {\"colorbar\": {\"outlinewidth\": 0, \"ticks\": \"\"}}, \"type\": \"histogram\"}], \"histogram2d\": [{\"colorbar\": {\"outlinewidth\": 0, \"ticks\": \"\"}, \"colorscale\": [[0.0, \"#0d0887\"], [0.1111111111111111, \"#46039f\"], [0.2222222222222222, \"#7201a8\"], [0.3333333333333333, \"#9c179e\"], [0.4444444444444444, \"#bd3786\"], [0.5555555555555556, \"#d8576b\"], [0.6666666666666666, \"#ed7953\"], [0.7777777777777778, \"#fb9f3a\"], [0.8888888888888888, \"#fdca26\"], [1.0, \"#f0f921\"]], \"type\": \"histogram2d\"}], \"histogram2dcontour\": [{\"colorbar\": {\"outlinewidth\": 0, \"ticks\": \"\"}, \"colorscale\": [[0.0, \"#0d0887\"], [0.1111111111111111, \"#46039f\"], [0.2222222222222222, \"#7201a8\"], [0.3333333333333333, \"#9c179e\"], [0.4444444444444444, \"#bd3786\"], [0.5555555555555556, \"#d8576b\"], [0.6666666666666666, \"#ed7953\"], [0.7777777777777778, \"#fb9f3a\"], [0.8888888888888888, \"#fdca26\"], [1.0, \"#f0f921\"]], \"type\": \"histogram2dcontour\"}], \"mesh3d\": [{\"colorbar\": {\"outlinewidth\": 0, \"ticks\": \"\"}, \"type\": \"mesh3d\"}], \"parcoords\": [{\"line\": {\"colorbar\": {\"outlinewidth\": 0, \"ticks\": \"\"}}, \"type\": \"parcoords\"}], \"pie\": [{\"automargin\": true, \"type\": \"pie\"}], \"scatter\": [{\"marker\": {\"line\": {\"color\": \"#283442\"}}, \"type\": \"scatter\"}], \"scatter3d\": [{\"line\": {\"colorbar\": {\"outlinewidth\": 0, \"ticks\": \"\"}}, \"marker\": {\"colorbar\": {\"outlinewidth\": 0, \"ticks\": \"\"}}, \"type\": \"scatter3d\"}], \"scattercarpet\": [{\"marker\": {\"colorbar\": {\"outlinewidth\": 0, \"ticks\": \"\"}}, \"type\": \"scattercarpet\"}], \"scattergeo\": [{\"marker\": {\"colorbar\": {\"outlinewidth\": 0, \"ticks\": \"\"}}, \"type\": \"scattergeo\"}], \"scattergl\": [{\"marker\": {\"line\": {\"color\": \"#283442\"}}, \"type\": \"scattergl\"}], \"scattermapbox\": [{\"marker\": {\"colorbar\": {\"outlinewidth\": 0, \"ticks\": \"\"}}, \"type\": \"scattermapbox\"}], \"scatterpolar\": [{\"marker\": {\"colorbar\": {\"outlinewidth\": 0, \"ticks\": \"\"}}, \"type\": \"scatterpolar\"}], \"scatterpolargl\": [{\"marker\": {\"colorbar\": {\"outlinewidth\": 0, \"ticks\": \"\"}}, \"type\": \"scatterpolargl\"}], \"scatterternary\": [{\"marker\": {\"colorbar\": {\"outlinewidth\": 0, \"ticks\": \"\"}}, \"type\": \"scatterternary\"}], \"surface\": [{\"colorbar\": {\"outlinewidth\": 0, \"ticks\": \"\"}, \"colorscale\": [[0.0, \"#0d0887\"], [0.1111111111111111, \"#46039f\"], [0.2222222222222222, \"#7201a8\"], [0.3333333333333333, \"#9c179e\"], [0.4444444444444444, \"#bd3786\"], [0.5555555555555556, \"#d8576b\"], [0.6666666666666666, \"#ed7953\"], [0.7777777777777778, \"#fb9f3a\"], [0.8888888888888888, \"#fdca26\"], [1.0, \"#f0f921\"]], \"type\": \"surface\"}], \"table\": [{\"cells\": {\"fill\": {\"color\": \"#506784\"}, \"line\": {\"color\": \"rgb(17,17,17)\"}}, \"header\": {\"fill\": {\"color\": \"#2a3f5f\"}, \"line\": {\"color\": \"rgb(17,17,17)\"}}, \"type\": \"table\"}]}, \"layout\": {\"annotationdefaults\": {\"arrowcolor\": \"#f2f5fa\", \"arrowhead\": 0, \"arrowwidth\": 1}, \"autotypenumbers\": \"strict\", \"coloraxis\": {\"colorbar\": {\"outlinewidth\": 0, \"ticks\": \"\"}}, \"colorscale\": {\"diverging\": [[0, \"#8e0152\"], [0.1, \"#c51b7d\"], [0.2, \"#de77ae\"], [0.3, \"#f1b6da\"], [0.4, \"#fde0ef\"], [0.5, \"#f7f7f7\"], [0.6, \"#e6f5d0\"], [0.7, \"#b8e186\"], [0.8, \"#7fbc41\"], [0.9, \"#4d9221\"], [1, \"#276419\"]], \"sequential\": [[0.0, \"#0d0887\"], [0.1111111111111111, \"#46039f\"], [0.2222222222222222, \"#7201a8\"], [0.3333333333333333, \"#9c179e\"], [0.4444444444444444, \"#bd3786\"], [0.5555555555555556, \"#d8576b\"], [0.6666666666666666, \"#ed7953\"], [0.7777777777777778, \"#fb9f3a\"], [0.8888888888888888, \"#fdca26\"], [1.0, \"#f0f921\"]], \"sequentialminus\": [[0.0, \"#0d0887\"], [0.1111111111111111, \"#46039f\"], [0.2222222222222222, \"#7201a8\"], [0.3333333333333333, \"#9c179e\"], [0.4444444444444444, \"#bd3786\"], [0.5555555555555556, \"#d8576b\"], [0.6666666666666666, \"#ed7953\"], [0.7777777777777778, \"#fb9f3a\"], [0.8888888888888888, \"#fdca26\"], [1.0, \"#f0f921\"]]}, \"colorway\": [\"#636efa\", \"#EF553B\", \"#00cc96\", \"#ab63fa\", \"#FFA15A\", \"#19d3f3\", \"#FF6692\", \"#B6E880\", \"#FF97FF\", \"#FECB52\"], \"font\": {\"color\": \"#f2f5fa\"}, \"geo\": {\"bgcolor\": \"rgb(17,17,17)\", \"lakecolor\": \"rgb(17,17,17)\", \"landcolor\": \"rgb(17,17,17)\", \"showlakes\": true, \"showland\": true, \"subunitcolor\": \"#506784\"}, \"hoverlabel\": {\"align\": \"left\"}, \"hovermode\": \"closest\", \"mapbox\": {\"style\": \"dark\"}, \"paper_bgcolor\": \"rgb(17,17,17)\", \"plot_bgcolor\": \"rgb(17,17,17)\", \"polar\": {\"angularaxis\": {\"gridcolor\": \"#506784\", \"linecolor\": \"#506784\", \"ticks\": \"\"}, \"bgcolor\": \"rgb(17,17,17)\", \"radialaxis\": {\"gridcolor\": \"#506784\", \"linecolor\": \"#506784\", \"ticks\": \"\"}}, \"scene\": {\"xaxis\": {\"backgroundcolor\": \"rgb(17,17,17)\", \"gridcolor\": \"#506784\", \"gridwidth\": 2, \"linecolor\": \"#506784\", \"showbackground\": true, \"ticks\": \"\", \"zerolinecolor\": \"#C8D4E3\"}, \"yaxis\": {\"backgroundcolor\": \"rgb(17,17,17)\", \"gridcolor\": \"#506784\", \"gridwidth\": 2, \"linecolor\": \"#506784\", \"showbackground\": true, \"ticks\": \"\", \"zerolinecolor\": \"#C8D4E3\"}, \"zaxis\": {\"backgroundcolor\": \"rgb(17,17,17)\", \"gridcolor\": \"#506784\", \"gridwidth\": 2, \"linecolor\": \"#506784\", \"showbackground\": true, \"ticks\": \"\", \"zerolinecolor\": \"#C8D4E3\"}}, \"shapedefaults\": {\"line\": {\"color\": \"#f2f5fa\"}}, \"sliderdefaults\": {\"bgcolor\": \"#C8D4E3\", \"bordercolor\": \"rgb(17,17,17)\", \"borderwidth\": 1, \"tickwidth\": 0}, \"ternary\": {\"aaxis\": {\"gridcolor\": \"#506784\", \"linecolor\": \"#506784\", \"ticks\": \"\"}, \"baxis\": {\"gridcolor\": \"#506784\", \"linecolor\": \"#506784\", \"ticks\": \"\"}, \"bgcolor\": \"rgb(17,17,17)\", \"caxis\": {\"gridcolor\": \"#506784\", \"linecolor\": \"#506784\", \"ticks\": \"\"}}, \"title\": {\"x\": 0.05}, \"updatemenudefaults\": {\"bgcolor\": \"#506784\", \"borderwidth\": 0}, \"xaxis\": {\"automargin\": true, \"gridcolor\": \"#283442\", \"linecolor\": \"#506784\", \"ticks\": \"\", \"title\": {\"standoff\": 15}, \"zerolinecolor\": \"#283442\", \"zerolinewidth\": 2}, \"yaxis\": {\"automargin\": true, \"gridcolor\": \"#283442\", \"linecolor\": \"#506784\", \"ticks\": \"\", \"title\": {\"standoff\": 15}, \"zerolinecolor\": \"#283442\", \"zerolinewidth\": 2}}}, \"title\": {\"text\": \"Bubble Size, Population, total\"}, \"updatemenus\": [{\"buttons\": [{\"args\": [null, {\"frame\": {\"duration\": 500, \"redraw\": false}, \"fromcurrent\": true, \"mode\": \"immediate\", \"transition\": {\"duration\": 500, \"easing\": \"linear\"}}], \"label\": \"&#9654;\", \"method\": \"animate\"}, {\"args\": [[null], {\"frame\": {\"duration\": 0, \"redraw\": false}, \"fromcurrent\": true, \"mode\": \"immediate\", \"transition\": {\"duration\": 0, \"easing\": \"linear\"}}], \"label\": \"&#9724;\", \"method\": \"animate\"}], \"direction\": \"left\", \"pad\": {\"r\": 10, \"t\": 70}, \"showactive\": false, \"type\": \"buttons\", \"x\": 0.1, \"xanchor\": \"right\", \"y\": 0, \"yanchor\": \"top\"}], \"xaxis\": {\"anchor\": \"y\", \"domain\": [0.0, 1.0], \"title\": {\"text\": \"GDP per capita (Current US$)\"}}, \"yaxis\": {\"anchor\": \"x\", \"domain\": [0.0, 1.0], \"title\": {\"text\": \"% 25+ completed at least Post-Secondary\"}}},                        {\"responsive\": true}                    ).then(function(){\n                            Plotly.addFrames('729b5f5d-aa33-4b8d-86e8-a821f6a4d7c4', [{\"data\": [{\"hovertemplate\": \"Income Group=High income<br>Year=2012<br>GDP per capita (Current US$)=%{x}<br>% 25+ completed at least Post-Secondary=%{y}<br>Population, total=%{marker.size}<extra></extra>\", \"legendgroup\": \"High income\", \"marker\": {\"color\": \"#636efa\", \"size\": [22733465, 11106932, 10510785, 65659809, 80425823, 9920362, 16754962, 10514844, 20058035, 5407579, 313830990], \"sizemode\": \"area\", \"sizeref\": 89705.91972222223, \"symbol\": \"circle\"}, \"mode\": \"markers\", \"name\": \"High income\", \"orientation\": \"v\", \"showlegend\": true, \"x\": [68012.1479005934, 44673.1158755901, 19870.8012123403, 40874.7035053457, 43858.3630551076, 12950.6865153085, 50073.0056559308, 20564.8898617969, 8507.1047745644, 17481.8954435252, 51610.6052783379], \"xaxis\": \"x\", \"y\": [46.461971283, 32.7122497559, 19.0093002319, 26.0628604889, 31.7936401367, 22.8525390625, 32.0577507019, 15.5597200394, 17.0980491638, 17.1679096222, 40.663230896], \"yaxis\": \"y\", \"type\": \"scatter\"}, {\"hovertemplate\": \"Income Group=Upper middle income<br>Year=2012<br>GDP per capita (Current US$)=%{x}<br>% 25+ completed at least Post-Secondary=%{y}<br>Population, total=%{marker.size}<extra></extra>\", \"legendgroup\": \"Upper middle income\", \"marker\": {\"color\": \"#EF553B\", \"size\": [9295784, 199287296, 46075721, 9930911, 15474102, 117274155, 74653016], \"sizemode\": \"area\", \"sizeref\": 89705.91972222223, \"symbol\": \"circle\"}, \"mode\": \"markers\", \"name\": \"Upper middle income\", \"orientation\": \"v\", \"showlegend\": true, \"x\": [7496.2946476826, 12370.0242007149, 8050.2553716705, 6110.369652362, 5682.0450065535, 10241.7279153745, 11795.316711752], \"xaxis\": \"x\", \"y\": [30.0363502502, 11.9615001678, 17.0799694061, 10.7886600494, 12.0028495789, 16.3126907349, 13.3758897781], \"yaxis\": \"y\", \"type\": \"scatter\"}, {\"hovertemplate\": \"Income Group=Lower middle income<br>Year=2012<br>GDP per capita (Current US$)=%{x}<br>% 25+ completed at least Post-Secondary=%{y}<br>Population, total=%{marker.size}<extra></extra>\", \"legendgroup\": \"Lower middle income\", \"marker\": {\"color\": \"#00cc96\", \"size\": [151007807], \"sizemode\": \"area\", \"sizeref\": 89705.91972222223, \"symbol\": \"circle\"}, \"mode\": \"markers\", \"name\": \"Lower middle income\", \"orientation\": \"v\", \"showlegend\": true, \"x\": [883.1050005413], \"xaxis\": \"x\", \"y\": [10.5072097778], \"yaxis\": \"y\", \"type\": \"scatter\"}], \"name\": \"2012\"}, {\"data\": [{\"hovertemplate\": \"Income Group=High income<br>Year=2013<br>GDP per capita (Current US$)=%{x}<br>% 25+ completed at least Post-Secondary=%{y}<br>Population, total=%{marker.size}<extra></extra>\", \"legendgroup\": \"High income\", \"marker\": {\"color\": \"#636efa\", \"size\": [23128129, 11159407, 10514272, 65998687, 80645605, 9893082, 16804432, 10457295, 19983693, 5413393, 315993715], \"sizemode\": \"area\", \"sizeref\": 89705.91972222223, \"symbol\": \"circle\"}, \"mode\": \"markers\", \"name\": \"High income\", \"orientation\": \"v\", \"showlegend\": true, \"x\": [68150.1070413215, 46744.6625441516, 20133.1691431353, 42592.9340943342, 46285.7640688407, 13687.5140593304, 52184.0618504931, 21647.0418118869, 9547.8521509661, 18260.0157710019, 53117.6678498178], \"xaxis\": \"x\", \"y\": [41.6409111023, 32.9851417542, 19.9570407867, 27.370470047, 32.3349189758, 29.0240802765, 30.2877502441, 16.3137702942, 17.3730602264, 17.8810997009, 41.5046691895], \"yaxis\": \"y\", \"type\": \"scatter\"}, {\"hovertemplate\": \"Income Group=Upper middle income<br>Year=2013<br>GDP per capita (Current US$)=%{x}<br>% 25+ completed at least Post-Secondary=%{y}<br>Population, total=%{marker.size}<extra></extra>\", \"legendgroup\": \"Upper middle income\", \"marker\": {\"color\": \"#EF553B\", \"size\": [9416801, 201035903, 46495492, 10048224, 15707474, 118827161, 75928564], \"sizemode\": \"area\", \"sizeref\": 89705.91972222223, \"symbol\": \"circle\"}, \"mode\": \"markers\", \"name\": \"Upper middle income\", \"orientation\": \"v\", \"showlegend\": true, \"x\": [7875.7569525429, 12300.3248822758, 8218.3478443148, 6238.1336082528, 6056.3308269681, 10725.1833166036, 12614.4802575975], \"xaxis\": \"x\", \"y\": [30.0331306458, 12.6315698624, 18.5945796967, 10.858590126, 12.7312202454, 14.7768001556, 14.8832502365], \"yaxis\": \"y\", \"type\": \"scatter\"}, {\"hovertemplate\": \"Income Group=Lower middle income<br>Year=2013<br>GDP per capita (Current US$)=%{x}<br>% 25+ completed at least Post-Secondary=%{y}<br>Population, total=%{marker.size}<extra></extra>\", \"legendgroup\": \"Lower middle income\", \"marker\": {\"color\": \"#00cc96\", \"size\": [152764676], \"sizemode\": \"area\", \"sizeref\": 89705.91972222223, \"symbol\": \"circle\"}, \"mode\": \"markers\", \"name\": \"Lower middle income\", \"orientation\": \"v\", \"showlegend\": true, \"x\": [981.8398791504], \"xaxis\": \"x\", \"y\": [9.4185600281], \"yaxis\": \"y\", \"type\": \"scatter\"}], \"name\": \"2013\"}, {\"data\": [{\"hovertemplate\": \"Income Group=High income<br>Year=2014<br>GDP per capita (Current US$)=%{x}<br>% 25+ completed at least Post-Secondary=%{y}<br>Population, total=%{marker.size}<extra></extra>\", \"legendgroup\": \"High income\", \"marker\": {\"color\": \"#636efa\", \"size\": [23475686, 11209057, 10525347, 66312067, 80982500, 9866468, 16865008, 10401062, 19908979, 5418649, 318301008], \"sizemode\": \"area\", \"sizeref\": 89705.91972222223, \"symbol\": \"circle\"}, \"mode\": \"markers\", \"name\": \"High income\", \"orientation\": \"v\", \"showlegend\": true, \"x\": [62510.7911705641, 47700.5403601178, 19890.9199056648, 43011.2631028417, 47959.9932737599, 14267.0121547683, 52830.1742328055, 22074.3007634216, 10043.6774497614, 18674.3440568625, 55064.7445483427], \"xaxis\": \"x\", \"y\": [39.0349807739, 32.8033905029, 18.967250824, 28.662979126, 33.4242095947, 28.2089099884, 30.5605792999, 17.9767093658, 17.2269802094, 19.4953899384, 41.8897018433], \"yaxis\": \"y\", \"type\": \"scatter\"}, {\"hovertemplate\": \"Income Group=Upper middle income<br>Year=2014<br>GDP per capita (Current US$)=%{x}<br>% 25+ completed at least Post-Secondary=%{y}<br>Population, total=%{marker.size}<extra></extra>\", \"legendgroup\": \"Upper middle income\", \"marker\": {\"color\": \"#EF553B\", \"size\": [9535079, 202763735, 46967706, 10165178, 15951838, 120355128, 77231907], \"sizemode\": \"area\", \"sizeref\": 89705.91972222223, \"symbol\": \"circle\"}, \"mode\": \"markers\", \"name\": \"Upper middle income\", \"orientation\": \"v\", \"showlegend\": true, \"x\": [7891.3131474999, 12112.5882059697, 8114.3439208516, 6608.8281018077, 6377.0915301422, 10928.9168262489, 12157.3379609015], \"xaxis\": \"x\", \"y\": [30.0571193695, 13.1573696136, 19.7050495148, 11.7863502502, 11.7284297943, 14.4319295883, 15.8283195496], \"yaxis\": \"y\", \"type\": \"scatter\"}, {\"hovertemplate\": \"Income Group=Lower middle income<br>Year=2014<br>GDP per capita (Current US$)=%{x}<br>% 25+ completed at least Post-Secondary=%{y}<br>Population, total=%{marker.size}<extra></extra>\", \"legendgroup\": \"Lower middle income\", \"marker\": {\"color\": \"#00cc96\", \"size\": [154520167], \"sizemode\": \"area\", \"sizeref\": 89705.91972222223, \"symbol\": \"circle\"}, \"mode\": \"markers\", \"name\": \"Lower middle income\", \"orientation\": \"v\", \"showlegend\": true, \"x\": [1118.8536634927], \"xaxis\": \"x\", \"y\": [10.2895097733], \"yaxis\": \"y\", \"type\": \"scatter\"}], \"name\": \"2014\"}, {\"data\": [{\"hovertemplate\": \"Income Group=High income<br>Year=2015<br>GDP per capita (Current US$)=%{x}<br>% 25+ completed at least Post-Secondary=%{y}<br>Population, total=%{marker.size}<extra></extra>\", \"legendgroup\": \"High income\", \"marker\": {\"color\": \"#636efa\", \"size\": [23815995, 11274196, 10546059, 66548272, 81686611, 9843028, 16939923, 10358076, 19815616, 5423801, 320635163], \"sizemode\": \"area\", \"sizeref\": 89705.91972222223, \"symbol\": \"circle\"}, \"mode\": \"markers\", \"name\": \"High income\", \"orientation\": \"v\", \"showlegend\": true, \"x\": [56755.7217124249, 40991.8081381432, 17829.6983223668, 36638.184929157, 41086.7296737253, 12706.8912148924, 45175.2318933798, 19242.3664710981, 8969.1489214619, 16310.9884090005, 56839.3817742317], \"xaxis\": \"x\", \"y\": [45.3450698853, 33.2611503601, 19.5305309296, 30.4950809479, 34.4100914001, 28.7417697906, 31.209810257, 18.7413902283, 17.7632293701, 20.626159668, 42.3375091553], \"yaxis\": \"y\", \"type\": \"scatter\"}, {\"hovertemplate\": \"Income Group=Upper middle income<br>Year=2015<br>GDP per capita (Current US$)=%{x}<br>% 25+ completed at least Post-Secondary=%{y}<br>Population, total=%{marker.size}<extra></extra>\", \"legendgroup\": \"Upper middle income\", \"marker\": {\"color\": \"#EF553B\", \"size\": [9649341, 204471769, 47520667, 10281680, 16212020, 121858258, 78529409], \"sizemode\": \"area\", \"sizeref\": 89705.91972222223, \"symbol\": \"circle\"}, \"mode\": \"markers\", \"name\": \"Upper middle income\", \"orientation\": \"v\", \"showlegend\": true, \"x\": [5500.3103824441, 8814.0009868126, 6175.8760297026, 6921.5172284818, 6124.4916426207, 9616.6450056895, 11006.2497363978], \"xaxis\": \"x\", \"y\": [30.0416603088, 13.5562496185, 19.5199699402, 12.3803501129, 13.6028995514, 16.2725505829, 17.393579483], \"yaxis\": \"y\", \"type\": \"scatter\"}, {\"hovertemplate\": \"Income Group=Lower middle income<br>Year=2015<br>GDP per capita (Current US$)=%{x}<br>% 25+ completed at least Post-Secondary=%{y}<br>Population, total=%{marker.size}<extra></extra>\", \"legendgroup\": \"Lower middle income\", \"marker\": {\"color\": \"#00cc96\", \"size\": [156256276], \"sizemode\": \"area\", \"sizeref\": 89705.91972222223, \"symbol\": \"circle\"}, \"mode\": \"markers\", \"name\": \"Lower middle income\", \"orientation\": \"v\", \"showlegend\": true, \"x\": [1248.4533977837], \"xaxis\": \"x\", \"y\": [13.9909801483], \"yaxis\": \"y\", \"type\": \"scatter\"}], \"name\": \"2015\"}, {\"data\": [{\"hovertemplate\": \"Income Group=High income<br>Year=2016<br>GDP per capita (Current US$)=%{x}<br>% 25+ completed at least Post-Secondary=%{y}<br>Population, total=%{marker.size}<extra></extra>\", \"legendgroup\": \"High income\", \"marker\": {\"color\": \"#636efa\", \"size\": [24190907, 11331422, 10566332, 66724104, 82348669, 9814023, 17030314, 10325452, 19702267, 5430798, 322941311], \"sizemode\": \"area\", \"sizeref\": 89705.91972222223, \"symbol\": \"circle\"}, \"mode\": \"markers\", \"name\": \"High income\", \"orientation\": \"v\", \"showlegend\": true, \"x\": [49971.131456129, 41984.1030335609, 18575.2320271915, 37037.3741861219, 42107.5172703074, 13090.5067287853, 46007.8529206547, 19978.401214968, 9548.5874029827, 16508.6703604932, 57951.5840820997], \"xaxis\": \"x\", \"y\": [46.4734306335, 33.7627182007, 20.2412490845, 29.6249599457, 35.652721405, 28.5094604492, 31.7883090973, 19.5643501282, 17.7419300079, 21.5165290833, 43.5118789673], \"yaxis\": \"y\", \"type\": \"scatter\"}, {\"hovertemplate\": \"Income Group=Upper middle income<br>Year=2016<br>GDP per capita (Current US$)=%{x}<br>% 25+ completed at least Post-Secondary=%{y}<br>Population, total=%{marker.size}<extra></extra>\", \"legendgroup\": \"Upper middle income\", \"marker\": {\"color\": \"#EF553B\", \"size\": [9757812, 206163058, 48175048, 10397743, 16491115, 123333376, 79821724], \"sizemode\": \"area\", \"sizeref\": 89705.91972222223, \"symbol\": \"circle\"}, \"mode\": \"markers\", \"name\": \"Upper middle income\", \"orientation\": \"v\", \"showlegend\": true, \"x\": [3880.7387308956, 8710.0966895412, 5870.7779572416, 7280.8801092334, 6060.0933290442, 8744.5157718322, 10895.3186924719], \"xaxis\": \"x\", \"y\": [30.091709137, 15.3451795578, 20.1363105774, 22.5186195374, 13.4826698303, 15.1532297134, 18.1570796967], \"yaxis\": \"y\", \"type\": \"scatter\"}, {\"hovertemplate\": \"Income Group=Lower middle income<br>Year=2016<br>GDP per capita (Current US$)=%{x}<br>% 25+ completed at least Post-Secondary=%{y}<br>Population, total=%{marker.size}<extra></extra>\", \"legendgroup\": \"Lower middle income\", \"marker\": {\"color\": \"#00cc96\", \"size\": [157970840], \"sizemode\": \"area\", \"sizeref\": 89705.91972222223, \"symbol\": \"circle\"}, \"mode\": \"markers\", \"name\": \"Lower middle income\", \"orientation\": \"v\", \"showlegend\": true, \"x\": [1401.6206282151], \"xaxis\": \"x\", \"y\": [14.347319603], \"yaxis\": \"y\", \"type\": \"scatter\"}], \"name\": \"2016\"}]);\n                        }).then(function(){\n                            \nvar gd = document.getElementById('729b5f5d-aa33-4b8d-86e8-a821f6a4d7c4');\nvar x = new MutationObserver(function (mutations, observer) {{\n        var display = window.getComputedStyle(gd).display;\n        if (!display || display === 'none') {{\n            console.log([gd, 'removed!']);\n            Plotly.purge(gd);\n            observer.disconnect();\n        }}\n}});\n\n// Listen for the removal of the full notebook cells\nvar notebookContainer = gd.closest('#notebook-container');\nif (notebookContainer) {{\n    x.observe(notebookContainer, {childList: true});\n}}\n\n// Listen for the clearing of the current output cell\nvar outputEl = gd.closest('.output');\nif (outputEl) {{\n    x.observe(outputEl, {childList: true});\n}}\n\n                        })                };                            </script>        </div>\n</body>\n</html>"
     },
     "metadata": {},
     "output_type": "display_data"
    }
   ],
   "execution_count": 139
  },
  {
   "cell_type": "markdown",
   "source": "\n \n \n### What about Bachelor's, Master's, and Doctoral Degree attainment?\n \nI think the post-secondary data gives us a good sense of the validity of the trends even though we are limited to 5 countries' data. Below we can see that for each type of degree the trend is upheld. For each degree type, the wealthiest countries (Australia and Sweden) outstrip the other countries in terms of how many of their citizens have completed higher education.\n",
   "metadata": {
    "tags": [],
    "cell_id": "00004-c969d179-32f3-4626-8c56-8d3290c742ad",
    "deepnote_cell_type": "markdown"
   }
  },
  {
   "cell_type": "markdown",
   "source": "#### Importing the rest of the data\nThere three three remaining csv files that need to be read into a dataframe. these three files differ only in a single column, so merging the data frames is required before proceeding.",
   "metadata": {
    "tags": [],
    "cell_id": "00011-43eee5ce-4340-42df-9c33-a6a4a3dc6ea2",
    "deepnote_cell_type": "markdown"
   },
   "outputs": [],
   "execution_count": null
  },
  {
   "cell_type": "code",
   "source": "df_higher_ed = pd.read_csv('data/bach_data.csv')\ndata_m = pd.read_csv('data/mast_data.csv')\ndata_d = pd.read_csv('data/doc_data.csv')\n\ndf_higher_ed.drop(columns=[\"Unnamed: 0\"], inplace=True)\n\n# Add the masters and doctoral columns to df_higher_ed\n\ndf_higher_ed.insert(4, 'SE.TER.CUAT.MS.ZS', data_m['SE.TER.CUAT.MS.ZS'])\n\ndf_higher_ed.insert(5,'SE.TER.CUAT.DO.ZS', data_d['SE.TER.CUAT.DO.ZS'])\n\ndf_higher_ed\n\n",
   "metadata": {
    "tags": [],
    "cell_id": "00010-50dd1bdf-473d-4f9d-8121-06221db1a848",
    "deepnote_to_be_reexecuted": false,
    "source_hash": "5a33d641",
    "execution_start": 1621808675289,
    "execution_millis": 31,
    "deepnote_cell_type": "code"
   },
   "outputs": [
    {
     "output_type": "execute_result",
     "execution_count": 115,
     "data": {
      "application/vnd.deepnote.dataframe.v2+json": {
       "row_count": 25,
       "column_count": 11,
       "columns": [
        {
         "name": "Year",
         "dtype": "int64",
         "stats": {
          "unique_count": 5,
          "nan_count": 0,
          "min": "2013",
          "max": "2017",
          "histogram": [
           {
            "bin_start": 2013,
            "bin_end": 2013.4,
            "count": 5
           },
           {
            "bin_start": 2013.4,
            "bin_end": 2013.8,
            "count": 0
           },
           {
            "bin_start": 2013.8,
            "bin_end": 2014.2,
            "count": 5
           },
           {
            "bin_start": 2014.2,
            "bin_end": 2014.6,
            "count": 0
           },
           {
            "bin_start": 2014.6,
            "bin_end": 2015,
            "count": 0
           },
           {
            "bin_start": 2015,
            "bin_end": 2015.4,
            "count": 5
           },
           {
            "bin_start": 2015.4,
            "bin_end": 2015.8,
            "count": 0
           },
           {
            "bin_start": 2015.8,
            "bin_end": 2016.2,
            "count": 5
           },
           {
            "bin_start": 2016.2,
            "bin_end": 2016.6,
            "count": 0
           },
           {
            "bin_start": 2016.6,
            "bin_end": 2017,
            "count": 5
           }
          ]
         }
        },
        {
         "name": "NY.ADJ.NNTY.PC.CD",
         "dtype": "float64",
         "stats": {
          "unique_count": 25,
          "nan_count": 0,
          "min": "972.9217209548",
          "max": "53920.0370293533",
          "histogram": [
           {
            "bin_start": 972.9217209548,
            "bin_end": 6267.633251794649,
            "count": 10
           },
           {
            "bin_start": 6267.633251794649,
            "bin_end": 11562.3447826345,
            "count": 5
           },
           {
            "bin_start": 11562.3447826345,
            "bin_end": 16857.05631347435,
            "count": 0
           },
           {
            "bin_start": 16857.05631347435,
            "bin_end": 22151.7678443142,
            "count": 0
           },
           {
            "bin_start": 22151.7678443142,
            "bin_end": 27446.47937515405,
            "count": 0
           },
           {
            "bin_start": 27446.47937515405,
            "bin_end": 32741.1909059939,
            "count": 0
           },
           {
            "bin_start": 32741.1909059939,
            "bin_end": 38035.90243683375,
            "count": 0
           },
           {
            "bin_start": 38035.90243683375,
            "bin_end": 43330.6139676736,
            "count": 2
           },
           {
            "bin_start": 43330.6139676736,
            "bin_end": 48625.32549851345,
            "count": 4
           },
           {
            "bin_start": 48625.32549851345,
            "bin_end": 53920.0370293533,
            "count": 4
           }
          ]
         }
        },
        {
         "name": "SP.POP.TOTL",
         "dtype": "int64",
         "stats": {
          "unique_count": 25,
          "nan_count": 0,
          "min": "7020858",
          "max": "159670593",
          "histogram": [
           {
            "bin_start": 7020858,
            "bin_end": 22285831.5,
            "count": 10
           },
           {
            "bin_start": 22285831.5,
            "bin_end": 37550805,
            "count": 5
           },
           {
            "bin_start": 37550805,
            "bin_end": 52815778.5,
            "count": 0
           },
           {
            "bin_start": 52815778.5,
            "bin_end": 68080752,
            "count": 0
           },
           {
            "bin_start": 68080752,
            "bin_end": 83345725.5,
            "count": 0
           },
           {
            "bin_start": 83345725.5,
            "bin_end": 98610699,
            "count": 0
           },
           {
            "bin_start": 98610699,
            "bin_end": 113875672.5,
            "count": 0
           },
           {
            "bin_start": 113875672.5,
            "bin_end": 129140646,
            "count": 5
           },
           {
            "bin_start": 129140646,
            "bin_end": 144405619.5,
            "count": 0
           },
           {
            "bin_start": 144405619.5,
            "bin_end": 159670593,
            "count": 5
           }
          ]
         }
        },
        {
         "name": "SE.TER.CUAT.BA.ZS",
         "dtype": "float64",
         "stats": {
          "unique_count": 25,
          "nan_count": 0,
          "min": "5.5023198128",
          "max": "31.3911895752",
          "histogram": [
           {
            "bin_start": 5.5023198128,
            "bin_end": 8.09120678904,
            "count": 2
           },
           {
            "bin_start": 8.09120678904,
            "bin_end": 10.680093765279999,
            "count": 3
           },
           {
            "bin_start": 10.680093765279999,
            "bin_end": 13.26898074152,
            "count": 2
           },
           {
            "bin_start": 13.26898074152,
            "bin_end": 15.85786771776,
            "count": 8
           },
           {
            "bin_start": 15.85786771776,
            "bin_end": 18.446754694,
            "count": 0
           },
           {
            "bin_start": 18.446754694,
            "bin_end": 21.03564167024,
            "count": 0
           },
           {
            "bin_start": 21.03564167024,
            "bin_end": 23.624528646479998,
            "count": 4
           },
           {
            "bin_start": 23.624528646479998,
            "bin_end": 26.21341562272,
            "count": 2
           },
           {
            "bin_start": 26.21341562272,
            "bin_end": 28.80230259896,
            "count": 1
           },
           {
            "bin_start": 28.80230259896,
            "bin_end": 31.3911895752,
            "count": 3
           }
          ]
         }
        },
        {
         "name": "SE.TER.CUAT.MS.ZS",
         "dtype": "float64",
         "stats": {
          "unique_count": 25,
          "nan_count": 0,
          "min": "0.7617200017",
          "max": "11.3197698593",
          "histogram": [
           {
            "bin_start": 0.7617200017,
            "bin_end": 1.8175249874599997,
            "count": 6
           },
           {
            "bin_start": 1.8175249874599997,
            "bin_end": 2.8733299732199997,
            "count": 6
           },
           {
            "bin_start": 2.8733299732199997,
            "bin_end": 3.9291349589799993,
            "count": 3
           },
           {
            "bin_start": 3.9291349589799993,
            "bin_end": 4.984939944739999,
            "count": 0
           },
           {
            "bin_start": 4.984939944739999,
            "bin_end": 6.040744930499999,
            "count": 2
           },
           {
            "bin_start": 6.040744930499999,
            "bin_end": 7.096549916259998,
            "count": 2
           },
           {
            "bin_start": 7.096549916259998,
            "bin_end": 8.152354902019999,
            "count": 1
           },
           {
            "bin_start": 8.152354902019999,
            "bin_end": 9.208159887779999,
            "count": 0
           },
           {
            "bin_start": 9.208159887779999,
            "bin_end": 10.263964873539999,
            "count": 0
           },
           {
            "bin_start": 10.263964873539999,
            "bin_end": 11.3197698593,
            "count": 5
           }
          ]
         }
        },
        {
         "name": "SE.TER.CUAT.DO.ZS",
         "dtype": "float64",
         "stats": {
          "unique_count": 25,
          "nan_count": 0,
          "min": "0.0762600005",
          "max": "1.3170000315",
          "histogram": [
           {
            "bin_start": 0.0762600005,
            "bin_end": 0.20033400359999998,
            "count": 9
           },
           {
            "bin_start": 0.20033400359999998,
            "bin_end": 0.3244080067,
            "count": 2
           },
           {
            "bin_start": 0.3244080067,
            "bin_end": 0.4484820097999999,
            "count": 3
           },
           {
            "bin_start": 0.4484820097999999,
            "bin_end": 0.5725560128999999,
            "count": 1
           },
           {
            "bin_start": 0.5725560128999999,
            "bin_end": 0.696630016,
            "count": 0
           },
           {
            "bin_start": 0.696630016,
            "bin_end": 0.8207040190999999,
            "count": 0
           },
           {
            "bin_start": 0.8207040190999999,
            "bin_end": 0.9447780222,
            "count": 1
           },
           {
            "bin_start": 0.9447780222,
            "bin_end": 1.0688520252999998,
            "count": 1
           },
           {
            "bin_start": 1.0688520252999998,
            "bin_end": 1.1929260283999998,
            "count": 3
           },
           {
            "bin_start": 1.1929260283999998,
            "bin_end": 1.3170000315,
            "count": 5
           }
          ]
         }
        },
        {
         "name": "Country Code",
         "dtype": "object",
         "stats": {
          "unique_count": 5,
          "nan_count": 0,
          "categories": [
           {
            "name": "AUS",
            "count": 5
           },
           {
            "name": "BGD",
            "count": 5
           },
           {
            "name": "3 others",
            "count": 15
           }
          ]
         }
        },
        {
         "name": "Country Name",
         "dtype": "object",
         "stats": {
          "unique_count": 5,
          "nan_count": 0,
          "categories": [
           {
            "name": "Australia",
            "count": 5
           },
           {
            "name": "Bangladesh",
            "count": 5
           },
           {
            "name": "3 others",
            "count": 15
           }
          ]
         }
        },
        {
         "name": "Region",
         "dtype": "object",
         "stats": {
          "unique_count": 4,
          "nan_count": 0,
          "categories": [
           {
            "name": "Europe & Central Asia",
            "count": 10
           },
           {
            "name": "East Asia & Pacific",
            "count": 5
           },
           {
            "name": "2 others",
            "count": 10
           }
          ]
         }
        },
        {
         "name": "Income Group",
         "dtype": "object",
         "stats": {
          "unique_count": 3,
          "nan_count": 0,
          "categories": [
           {
            "name": "High income",
            "count": 10
           },
           {
            "name": "Upper middle income",
            "count": 10
           },
           {
            "name": "Lower middle income",
            "count": 5
           }
          ]
         }
        },
        {
         "name": "Lending Type",
         "dtype": "object",
         "stats": {
          "unique_count": 3,
          "nan_count": 0,
          "categories": [
           {
            "name": "Not classified",
            "count": 10
           },
           {
            "name": "IBRD",
            "count": 10
           },
           {
            "name": "IDA",
            "count": 5
           }
          ]
         }
        },
        {
         "name": "_deepnote_index_column",
         "dtype": "int64"
        }
       ],
       "rows_top": [
        {
         "Year": 2013,
         "NY.ADJ.NNTY.PC.CD": 53920.0370293533,
         "SP.POP.TOTL": 23128129,
         "SE.TER.CUAT.BA.ZS": 26.7436008453,
         "SE.TER.CUAT.MS.ZS": 5.7569799423,
         "SE.TER.CUAT.DO.ZS": 0.9857800007,
         "Country Code": "AUS",
         "Country Name": "Australia",
         "Region": "East Asia & Pacific",
         "Income Group": "High income",
         "Lending Type": "Not classified",
         "_deepnote_index_column": 0
        },
        {
         "Year": 2014,
         "NY.ADJ.NNTY.PC.CD": 48738.7479734066,
         "SP.POP.TOTL": 23475686,
         "SE.TER.CUAT.BA.ZS": 24.9464492798,
         "SE.TER.CUAT.MS.ZS": 5.3248500824,
         "SE.TER.CUAT.DO.ZS": 0.9340800047,
         "Country Code": "AUS",
         "Country Name": "Australia",
         "Region": "East Asia & Pacific",
         "Income Group": "High income",
         "Lending Type": "Not classified",
         "_deepnote_index_column": 1
        },
        {
         "Year": 2015,
         "NY.ADJ.NNTY.PC.CD": 44352.1378460602,
         "SP.POP.TOTL": 23815995,
         "SE.TER.CUAT.BA.ZS": 29.7842502594,
         "SE.TER.CUAT.MS.ZS": 7.0222902298,
         "SE.TER.CUAT.DO.ZS": 1.3170000315,
         "Country Code": "AUS",
         "Country Name": "Australia",
         "Region": "East Asia & Pacific",
         "Income Group": "High income",
         "Lending Type": "Not classified",
         "_deepnote_index_column": 2
        },
        {
         "Year": 2016,
         "NY.ADJ.NNTY.PC.CD": 39137.3003580273,
         "SP.POP.TOTL": 24190907,
         "SE.TER.CUAT.BA.ZS": 30.0298099518,
         "SE.TER.CUAT.MS.ZS": 6.7346901894,
         "SE.TER.CUAT.DO.ZS": 1.0824199915,
         "Country Code": "AUS",
         "Country Name": "Australia",
         "Region": "East Asia & Pacific",
         "Income Group": "High income",
         "Lending Type": "Not classified",
         "_deepnote_index_column": 3
        },
        {
         "Year": 2017,
         "NY.ADJ.NNTY.PC.CD": 42036.7964195284,
         "SP.POP.TOTL": 24601860,
         "SE.TER.CUAT.BA.ZS": 31.3911895752,
         "SE.TER.CUAT.MS.ZS": 7.3698401451,
         "SE.TER.CUAT.DO.ZS": 1.2035000324,
         "Country Code": "AUS",
         "Country Name": "Australia",
         "Region": "East Asia & Pacific",
         "Income Group": "High income",
         "Lending Type": "Not classified",
         "_deepnote_index_column": 4
        },
        {
         "Year": 2013,
         "NY.ADJ.NNTY.PC.CD": 972.9217209548,
         "SP.POP.TOTL": 152764676,
         "SE.TER.CUAT.BA.ZS": 5.5023198128,
         "SE.TER.CUAT.MS.ZS": 1.9667099714,
         "SE.TER.CUAT.DO.ZS": 0.0916299969,
         "Country Code": "BGD",
         "Country Name": "Bangladesh",
         "Region": "South Asia",
         "Income Group": "Lower middle income",
         "Lending Type": "IDA",
         "_deepnote_index_column": 5
        },
        {
         "Year": 2014,
         "NY.ADJ.NNTY.PC.CD": 1091.4812041342,
         "SP.POP.TOTL": 154520167,
         "SE.TER.CUAT.BA.ZS": 5.8521399498,
         "SE.TER.CUAT.MS.ZS": 2.0582199097,
         "SE.TER.CUAT.DO.ZS": 0.0967900008,
         "Country Code": "BGD",
         "Country Name": "Bangladesh",
         "Region": "South Asia",
         "Income Group": "Lower middle income",
         "Lending Type": "IDA",
         "_deepnote_index_column": 6
        },
        {
         "Year": 2015,
         "NY.ADJ.NNTY.PC.CD": 1217.8435479379,
         "SP.POP.TOTL": 156256276,
         "SE.TER.CUAT.BA.ZS": 8.2371397018,
         "SE.TER.CUAT.MS.ZS": 3.3259398937,
         "SE.TER.CUAT.DO.ZS": 0.1583700031,
         "Country Code": "BGD",
         "Country Name": "Bangladesh",
         "Region": "South Asia",
         "Income Group": "Lower middle income",
         "Lending Type": "IDA",
         "_deepnote_index_column": 7
        },
        {
         "Year": 2016,
         "NY.ADJ.NNTY.PC.CD": 1360.2067836738,
         "SP.POP.TOTL": 157970840,
         "SE.TER.CUAT.BA.ZS": 8.5095996857,
         "SE.TER.CUAT.MS.ZS": 3.4811899662,
         "SE.TER.CUAT.DO.ZS": 0.165959999,
         "Country Code": "BGD",
         "Country Name": "Bangladesh",
         "Region": "South Asia",
         "Income Group": "Lower middle income",
         "Lending Type": "IDA",
         "_deepnote_index_column": 8
        },
        {
         "Year": 2017,
         "NY.ADJ.NNTY.PC.CD": 1493.5547956769,
         "SP.POP.TOTL": 159670593,
         "SE.TER.CUAT.BA.ZS": 8.9768800735,
         "SE.TER.CUAT.MS.ZS": 3.7924399376,
         "SE.TER.CUAT.DO.ZS": 0.1794099957,
         "Country Code": "BGD",
         "Country Name": "Bangladesh",
         "Region": "South Asia",
         "Income Group": "Lower middle income",
         "Lending Type": "IDA",
         "_deepnote_index_column": 9
        },
        {
         "Year": 2013,
         "NY.ADJ.NNTY.PC.CD": 8251.4125021299,
         "SP.POP.TOTL": 118827161,
         "SE.TER.CUAT.BA.ZS": 14.3226099014,
         "SE.TER.CUAT.MS.ZS": 1.2828299999,
         "SE.TER.CUAT.DO.ZS": 0.0850400031,
         "Country Code": "MEX",
         "Country Name": "Mexico",
         "Region": "Latin America & Caribbean ",
         "Income Group": "Upper middle income",
         "Lending Type": "IBRD",
         "_deepnote_index_column": 10
        },
        {
         "Year": 2014,
         "NY.ADJ.NNTY.PC.CD": 8568.5255756291,
         "SP.POP.TOTL": 120355128,
         "SE.TER.CUAT.BA.ZS": 13.9571304321,
         "SE.TER.CUAT.MS.ZS": 1.2443399429,
         "SE.TER.CUAT.DO.ZS": 0.0840200037,
         "Country Code": "MEX",
         "Country Name": "Mexico",
         "Region": "Latin America & Caribbean ",
         "Income Group": "Upper middle income",
         "Lending Type": "IBRD",
         "_deepnote_index_column": 11
        },
        {
         "Year": 2015,
         "NY.ADJ.NNTY.PC.CD": 7638.8646525228,
         "SP.POP.TOTL": 121858258,
         "SE.TER.CUAT.BA.ZS": 14.7796497345,
         "SE.TER.CUAT.MS.ZS": 2.0877399445,
         "SE.TER.CUAT.DO.ZS": 0.2247699946,
         "Country Code": "MEX",
         "Country Name": "Mexico",
         "Region": "Latin America & Caribbean ",
         "Income Group": "Upper middle income",
         "Lending Type": "IBRD",
         "_deepnote_index_column": 12
        },
        {
         "Year": 2016,
         "NY.ADJ.NNTY.PC.CD": 6905.1090466206,
         "SP.POP.TOTL": 123333376,
         "SE.TER.CUAT.BA.ZS": 14.7103900909,
         "SE.TER.CUAT.MS.ZS": 1.3954199553,
         "SE.TER.CUAT.DO.ZS": 0.0762600005,
         "Country Code": "MEX",
         "Country Name": "Mexico",
         "Region": "Latin America & Caribbean ",
         "Income Group": "Upper middle income",
         "Lending Type": "IBRD",
         "_deepnote_index_column": 13
        },
        {
         "Year": 2017,
         "NY.ADJ.NNTY.PC.CD": 7283.8616644185,
         "SP.POP.TOTL": 124777324,
         "SE.TER.CUAT.BA.ZS": 15.3742599487,
         "SE.TER.CUAT.MS.ZS": 1.442819953,
         "SE.TER.CUAT.DO.ZS": 0.0768100023,
         "Country Code": "MEX",
         "Country Name": "Mexico",
         "Region": "Latin America & Caribbean ",
         "Income Group": "Upper middle income",
         "Lending Type": "IBRD",
         "_deepnote_index_column": 14
        },
        {
         "Year": 2013,
         "NY.ADJ.NNTY.PC.CD": 5372.0923192738,
         "SP.POP.TOTL": 7164132,
         "SE.TER.CUAT.BA.ZS": 11.4581804276,
         "SE.TER.CUAT.MS.ZS": 0.7617200017,
         "SE.TER.CUAT.DO.ZS": 0.2833099961,
         "Country Code": "SRB",
         "Country Name": "Serbia",
         "Region": "Europe & Central Asia",
         "Income Group": "Upper middle income",
         "Lending Type": "IBRD",
         "_deepnote_index_column": 15
        },
        {
         "Year": 2014,
         "NY.ADJ.NNTY.PC.CD": 5265.1250568294,
         "SP.POP.TOTL": 7130576,
         "SE.TER.CUAT.BA.ZS": 12.6497097015,
         "SE.TER.CUAT.MS.ZS": 1.4962300062,
         "SE.TER.CUAT.DO.ZS": 0.4092099965,
         "Country Code": "SRB",
         "Country Name": "Serbia",
         "Region": "Europe & Central Asia",
         "Income Group": "Upper middle income",
         "Lending Type": "IBRD",
         "_deepnote_index_column": 16
        },
        {
         "Year": 2015,
         "NY.ADJ.NNTY.PC.CD": 4418.4763412905,
         "SP.POP.TOTL": 7095383,
         "SE.TER.CUAT.BA.ZS": 13.5838098526,
         "SE.TER.CUAT.MS.ZS": 1.8697299957,
         "SE.TER.CUAT.DO.ZS": 0.3652099967,
         "Country Code": "SRB",
         "Country Name": "Serbia",
         "Region": "Europe & Central Asia",
         "Income Group": "Upper middle income",
         "Lending Type": "IBRD",
         "_deepnote_index_column": 17
        },
        {
         "Year": 2016,
         "NY.ADJ.NNTY.PC.CD": 4506.0276261835,
         "SP.POP.TOTL": 7058322,
         "SE.TER.CUAT.BA.ZS": 14.5109100342,
         "SE.TER.CUAT.MS.ZS": 2.1806600094,
         "SE.TER.CUAT.DO.ZS": 0.482039988,
         "Country Code": "SRB",
         "Country Name": "Serbia",
         "Region": "Europe & Central Asia",
         "Income Group": "Upper middle income",
         "Lending Type": "IBRD",
         "_deepnote_index_column": 18
        },
        {
         "Year": 2017,
         "NY.ADJ.NNTY.PC.CD": 4830.4828941008,
         "SP.POP.TOTL": 7020858,
         "SE.TER.CUAT.BA.ZS": 14.8972396851,
         "SE.TER.CUAT.MS.ZS": 2.1753900051,
         "SE.TER.CUAT.DO.ZS": 0.3932299912,
         "Country Code": "SRB",
         "Country Name": "Serbia",
         "Region": "Europe & Central Asia",
         "Income Group": "Upper middle income",
         "Lending Type": "IBRD",
         "_deepnote_index_column": 19
        },
        {
         "Year": 2013,
         "NY.ADJ.NNTY.PC.CD": 52102.8838496507,
         "SP.POP.TOTL": 9600379,
         "SE.TER.CUAT.BA.ZS": 22.039850235,
         "SE.TER.CUAT.MS.ZS": 10.3831796646,
         "SE.TER.CUAT.DO.ZS": 1.1589100361,
         "Country Code": "SWE",
         "Country Name": "Sweden",
         "Region": "Europe & Central Asia",
         "Income Group": "High income",
         "Lending Type": "Not classified",
         "_deepnote_index_column": 20
        },
        {
         "Year": 2014,
         "NY.ADJ.NNTY.PC.CD": 51115.9438302665,
         "SP.POP.TOTL": 9696110,
         "SE.TER.CUAT.BA.ZS": 22.535320282,
         "SE.TER.CUAT.MS.ZS": 10.6336202621,
         "SE.TER.CUAT.DO.ZS": 1.1831099987,
         "Country Code": "SWE",
         "Country Name": "Sweden",
         "Region": "Europe & Central Asia",
         "Income Group": "High income",
         "Lending Type": "Not classified",
         "_deepnote_index_column": 21
        },
        {
         "Year": 2015,
         "NY.ADJ.NNTY.PC.CD": 43378.4572568681,
         "SP.POP.TOTL": 9799186,
         "SE.TER.CUAT.BA.ZS": 22.9988498688,
         "SE.TER.CUAT.MS.ZS": 10.8662796021,
         "SE.TER.CUAT.DO.ZS": 1.2063599825,
         "Country Code": "SWE",
         "Country Name": "Sweden",
         "Region": "Europe & Central Asia",
         "Income Group": "High income",
         "Lending Type": "Not classified",
         "_deepnote_index_column": 22
        },
        {
         "Year": 2016,
         "NY.ADJ.NNTY.PC.CD": 43615.537713492,
         "SP.POP.TOTL": 9923085,
         "SE.TER.CUAT.BA.ZS": 23.4782295227,
         "SE.TER.CUAT.MS.ZS": 11.1166000366,
         "SE.TER.CUAT.DO.ZS": 1.2218099833,
         "Country Code": "SWE",
         "Country Name": "Sweden",
         "Region": "Europe & Central Asia",
         "Income Group": "High income",
         "Lending Type": "Not classified",
         "_deepnote_index_column": 23
        },
        {
         "Year": 2017,
         "NY.ADJ.NNTY.PC.CD": 45629.4411121591,
         "SP.POP.TOTL": 10057698,
         "SE.TER.CUAT.BA.ZS": 23.936920166,
         "SE.TER.CUAT.MS.ZS": 11.3197698593,
         "SE.TER.CUAT.DO.ZS": 1.2449100018,
         "Country Code": "SWE",
         "Country Name": "Sweden",
         "Region": "Europe & Central Asia",
         "Income Group": "High income",
         "Lending Type": "Not classified",
         "_deepnote_index_column": 24
        }
       ],
       "rows_bottom": null
      },
      "text/plain": "    Year  NY.ADJ.NNTY.PC.CD  SP.POP.TOTL  SE.TER.CUAT.BA.ZS  \\\n0   2013       53920.037029     23128129          26.743601   \n1   2014       48738.747973     23475686          24.946449   \n2   2015       44352.137846     23815995          29.784250   \n3   2016       39137.300358     24190907          30.029810   \n4   2017       42036.796420     24601860          31.391190   \n5   2013         972.921721    152764676           5.502320   \n6   2014        1091.481204    154520167           5.852140   \n7   2015        1217.843548    156256276           8.237140   \n8   2016        1360.206784    157970840           8.509600   \n9   2017        1493.554796    159670593           8.976880   \n10  2013        8251.412502    118827161          14.322610   \n11  2014        8568.525576    120355128          13.957130   \n12  2015        7638.864653    121858258          14.779650   \n13  2016        6905.109047    123333376          14.710390   \n14  2017        7283.861664    124777324          15.374260   \n15  2013        5372.092319      7164132          11.458180   \n16  2014        5265.125057      7130576          12.649710   \n17  2015        4418.476341      7095383          13.583810   \n18  2016        4506.027626      7058322          14.510910   \n19  2017        4830.482894      7020858          14.897240   \n20  2013       52102.883850      9600379          22.039850   \n21  2014       51115.943830      9696110          22.535320   \n22  2015       43378.457257      9799186          22.998850   \n23  2016       43615.537713      9923085          23.478230   \n24  2017       45629.441112     10057698          23.936920   \n\n    SE.TER.CUAT.MS.ZS  SE.TER.CUAT.DO.ZS Country Code Country Name  \\\n0             5.75698            0.98578          AUS    Australia   \n1             5.32485            0.93408          AUS    Australia   \n2             7.02229            1.31700          AUS    Australia   \n3             6.73469            1.08242          AUS    Australia   \n4             7.36984            1.20350          AUS    Australia   \n5             1.96671            0.09163          BGD   Bangladesh   \n6             2.05822            0.09679          BGD   Bangladesh   \n7             3.32594            0.15837          BGD   Bangladesh   \n8             3.48119            0.16596          BGD   Bangladesh   \n9             3.79244            0.17941          BGD   Bangladesh   \n10            1.28283            0.08504          MEX       Mexico   \n11            1.24434            0.08402          MEX       Mexico   \n12            2.08774            0.22477          MEX       Mexico   \n13            1.39542            0.07626          MEX       Mexico   \n14            1.44282            0.07681          MEX       Mexico   \n15            0.76172            0.28331          SRB       Serbia   \n16            1.49623            0.40921          SRB       Serbia   \n17            1.86973            0.36521          SRB       Serbia   \n18            2.18066            0.48204          SRB       Serbia   \n19            2.17539            0.39323          SRB       Serbia   \n20           10.38318            1.15891          SWE       Sweden   \n21           10.63362            1.18311          SWE       Sweden   \n22           10.86628            1.20636          SWE       Sweden   \n23           11.11660            1.22181          SWE       Sweden   \n24           11.31977            1.24491          SWE       Sweden   \n\n                        Region         Income Group    Lending Type  \n0          East Asia & Pacific          High income  Not classified  \n1          East Asia & Pacific          High income  Not classified  \n2          East Asia & Pacific          High income  Not classified  \n3          East Asia & Pacific          High income  Not classified  \n4          East Asia & Pacific          High income  Not classified  \n5                   South Asia  Lower middle income             IDA  \n6                   South Asia  Lower middle income             IDA  \n7                   South Asia  Lower middle income             IDA  \n8                   South Asia  Lower middle income             IDA  \n9                   South Asia  Lower middle income             IDA  \n10  Latin America & Caribbean   Upper middle income            IBRD  \n11  Latin America & Caribbean   Upper middle income            IBRD  \n12  Latin America & Caribbean   Upper middle income            IBRD  \n13  Latin America & Caribbean   Upper middle income            IBRD  \n14  Latin America & Caribbean   Upper middle income            IBRD  \n15       Europe & Central Asia  Upper middle income            IBRD  \n16       Europe & Central Asia  Upper middle income            IBRD  \n17       Europe & Central Asia  Upper middle income            IBRD  \n18       Europe & Central Asia  Upper middle income            IBRD  \n19       Europe & Central Asia  Upper middle income            IBRD  \n20       Europe & Central Asia          High income  Not classified  \n21       Europe & Central Asia          High income  Not classified  \n22       Europe & Central Asia          High income  Not classified  \n23       Europe & Central Asia          High income  Not classified  \n24       Europe & Central Asia          High income  Not classified  ",
      "text/html": "<div>\n<style scoped>\n    .dataframe tbody tr th:only-of-type {\n        vertical-align: middle;\n    }\n\n    .dataframe tbody tr th {\n        vertical-align: top;\n    }\n\n    .dataframe thead th {\n        text-align: right;\n    }\n</style>\n<table border=\"1\" class=\"dataframe\">\n  <thead>\n    <tr style=\"text-align: right;\">\n      <th></th>\n      <th>Year</th>\n      <th>NY.ADJ.NNTY.PC.CD</th>\n      <th>SP.POP.TOTL</th>\n      <th>SE.TER.CUAT.BA.ZS</th>\n      <th>SE.TER.CUAT.MS.ZS</th>\n      <th>SE.TER.CUAT.DO.ZS</th>\n      <th>Country Code</th>\n      <th>Country Name</th>\n      <th>Region</th>\n      <th>Income Group</th>\n      <th>Lending Type</th>\n    </tr>\n  </thead>\n  <tbody>\n    <tr>\n      <th>0</th>\n      <td>2013</td>\n      <td>53920.037029</td>\n      <td>23128129</td>\n      <td>26.743601</td>\n      <td>5.75698</td>\n      <td>0.98578</td>\n      <td>AUS</td>\n      <td>Australia</td>\n      <td>East Asia &amp; Pacific</td>\n      <td>High income</td>\n      <td>Not classified</td>\n    </tr>\n    <tr>\n      <th>1</th>\n      <td>2014</td>\n      <td>48738.747973</td>\n      <td>23475686</td>\n      <td>24.946449</td>\n      <td>5.32485</td>\n      <td>0.93408</td>\n      <td>AUS</td>\n      <td>Australia</td>\n      <td>East Asia &amp; Pacific</td>\n      <td>High income</td>\n      <td>Not classified</td>\n    </tr>\n    <tr>\n      <th>2</th>\n      <td>2015</td>\n      <td>44352.137846</td>\n      <td>23815995</td>\n      <td>29.784250</td>\n      <td>7.02229</td>\n      <td>1.31700</td>\n      <td>AUS</td>\n      <td>Australia</td>\n      <td>East Asia &amp; Pacific</td>\n      <td>High income</td>\n      <td>Not classified</td>\n    </tr>\n    <tr>\n      <th>3</th>\n      <td>2016</td>\n      <td>39137.300358</td>\n      <td>24190907</td>\n      <td>30.029810</td>\n      <td>6.73469</td>\n      <td>1.08242</td>\n      <td>AUS</td>\n      <td>Australia</td>\n      <td>East Asia &amp; Pacific</td>\n      <td>High income</td>\n      <td>Not classified</td>\n    </tr>\n    <tr>\n      <th>4</th>\n      <td>2017</td>\n      <td>42036.796420</td>\n      <td>24601860</td>\n      <td>31.391190</td>\n      <td>7.36984</td>\n      <td>1.20350</td>\n      <td>AUS</td>\n      <td>Australia</td>\n      <td>East Asia &amp; Pacific</td>\n      <td>High income</td>\n      <td>Not classified</td>\n    </tr>\n    <tr>\n      <th>5</th>\n      <td>2013</td>\n      <td>972.921721</td>\n      <td>152764676</td>\n      <td>5.502320</td>\n      <td>1.96671</td>\n      <td>0.09163</td>\n      <td>BGD</td>\n      <td>Bangladesh</td>\n      <td>South Asia</td>\n      <td>Lower middle income</td>\n      <td>IDA</td>\n    </tr>\n    <tr>\n      <th>6</th>\n      <td>2014</td>\n      <td>1091.481204</td>\n      <td>154520167</td>\n      <td>5.852140</td>\n      <td>2.05822</td>\n      <td>0.09679</td>\n      <td>BGD</td>\n      <td>Bangladesh</td>\n      <td>South Asia</td>\n      <td>Lower middle income</td>\n      <td>IDA</td>\n    </tr>\n    <tr>\n      <th>7</th>\n      <td>2015</td>\n      <td>1217.843548</td>\n      <td>156256276</td>\n      <td>8.237140</td>\n      <td>3.32594</td>\n      <td>0.15837</td>\n      <td>BGD</td>\n      <td>Bangladesh</td>\n      <td>South Asia</td>\n      <td>Lower middle income</td>\n      <td>IDA</td>\n    </tr>\n    <tr>\n      <th>8</th>\n      <td>2016</td>\n      <td>1360.206784</td>\n      <td>157970840</td>\n      <td>8.509600</td>\n      <td>3.48119</td>\n      <td>0.16596</td>\n      <td>BGD</td>\n      <td>Bangladesh</td>\n      <td>South Asia</td>\n      <td>Lower middle income</td>\n      <td>IDA</td>\n    </tr>\n    <tr>\n      <th>9</th>\n      <td>2017</td>\n      <td>1493.554796</td>\n      <td>159670593</td>\n      <td>8.976880</td>\n      <td>3.79244</td>\n      <td>0.17941</td>\n      <td>BGD</td>\n      <td>Bangladesh</td>\n      <td>South Asia</td>\n      <td>Lower middle income</td>\n      <td>IDA</td>\n    </tr>\n    <tr>\n      <th>10</th>\n      <td>2013</td>\n      <td>8251.412502</td>\n      <td>118827161</td>\n      <td>14.322610</td>\n      <td>1.28283</td>\n      <td>0.08504</td>\n      <td>MEX</td>\n      <td>Mexico</td>\n      <td>Latin America &amp; Caribbean</td>\n      <td>Upper middle income</td>\n      <td>IBRD</td>\n    </tr>\n    <tr>\n      <th>11</th>\n      <td>2014</td>\n      <td>8568.525576</td>\n      <td>120355128</td>\n      <td>13.957130</td>\n      <td>1.24434</td>\n      <td>0.08402</td>\n      <td>MEX</td>\n      <td>Mexico</td>\n      <td>Latin America &amp; Caribbean</td>\n      <td>Upper middle income</td>\n      <td>IBRD</td>\n    </tr>\n    <tr>\n      <th>12</th>\n      <td>2015</td>\n      <td>7638.864653</td>\n      <td>121858258</td>\n      <td>14.779650</td>\n      <td>2.08774</td>\n      <td>0.22477</td>\n      <td>MEX</td>\n      <td>Mexico</td>\n      <td>Latin America &amp; Caribbean</td>\n      <td>Upper middle income</td>\n      <td>IBRD</td>\n    </tr>\n    <tr>\n      <th>13</th>\n      <td>2016</td>\n      <td>6905.109047</td>\n      <td>123333376</td>\n      <td>14.710390</td>\n      <td>1.39542</td>\n      <td>0.07626</td>\n      <td>MEX</td>\n      <td>Mexico</td>\n      <td>Latin America &amp; Caribbean</td>\n      <td>Upper middle income</td>\n      <td>IBRD</td>\n    </tr>\n    <tr>\n      <th>14</th>\n      <td>2017</td>\n      <td>7283.861664</td>\n      <td>124777324</td>\n      <td>15.374260</td>\n      <td>1.44282</td>\n      <td>0.07681</td>\n      <td>MEX</td>\n      <td>Mexico</td>\n      <td>Latin America &amp; Caribbean</td>\n      <td>Upper middle income</td>\n      <td>IBRD</td>\n    </tr>\n    <tr>\n      <th>15</th>\n      <td>2013</td>\n      <td>5372.092319</td>\n      <td>7164132</td>\n      <td>11.458180</td>\n      <td>0.76172</td>\n      <td>0.28331</td>\n      <td>SRB</td>\n      <td>Serbia</td>\n      <td>Europe &amp; Central Asia</td>\n      <td>Upper middle income</td>\n      <td>IBRD</td>\n    </tr>\n    <tr>\n      <th>16</th>\n      <td>2014</td>\n      <td>5265.125057</td>\n      <td>7130576</td>\n      <td>12.649710</td>\n      <td>1.49623</td>\n      <td>0.40921</td>\n      <td>SRB</td>\n      <td>Serbia</td>\n      <td>Europe &amp; Central Asia</td>\n      <td>Upper middle income</td>\n      <td>IBRD</td>\n    </tr>\n    <tr>\n      <th>17</th>\n      <td>2015</td>\n      <td>4418.476341</td>\n      <td>7095383</td>\n      <td>13.583810</td>\n      <td>1.86973</td>\n      <td>0.36521</td>\n      <td>SRB</td>\n      <td>Serbia</td>\n      <td>Europe &amp; Central Asia</td>\n      <td>Upper middle income</td>\n      <td>IBRD</td>\n    </tr>\n    <tr>\n      <th>18</th>\n      <td>2016</td>\n      <td>4506.027626</td>\n      <td>7058322</td>\n      <td>14.510910</td>\n      <td>2.18066</td>\n      <td>0.48204</td>\n      <td>SRB</td>\n      <td>Serbia</td>\n      <td>Europe &amp; Central Asia</td>\n      <td>Upper middle income</td>\n      <td>IBRD</td>\n    </tr>\n    <tr>\n      <th>19</th>\n      <td>2017</td>\n      <td>4830.482894</td>\n      <td>7020858</td>\n      <td>14.897240</td>\n      <td>2.17539</td>\n      <td>0.39323</td>\n      <td>SRB</td>\n      <td>Serbia</td>\n      <td>Europe &amp; Central Asia</td>\n      <td>Upper middle income</td>\n      <td>IBRD</td>\n    </tr>\n    <tr>\n      <th>20</th>\n      <td>2013</td>\n      <td>52102.883850</td>\n      <td>9600379</td>\n      <td>22.039850</td>\n      <td>10.38318</td>\n      <td>1.15891</td>\n      <td>SWE</td>\n      <td>Sweden</td>\n      <td>Europe &amp; Central Asia</td>\n      <td>High income</td>\n      <td>Not classified</td>\n    </tr>\n    <tr>\n      <th>21</th>\n      <td>2014</td>\n      <td>51115.943830</td>\n      <td>9696110</td>\n      <td>22.535320</td>\n      <td>10.63362</td>\n      <td>1.18311</td>\n      <td>SWE</td>\n      <td>Sweden</td>\n      <td>Europe &amp; Central Asia</td>\n      <td>High income</td>\n      <td>Not classified</td>\n    </tr>\n    <tr>\n      <th>22</th>\n      <td>2015</td>\n      <td>43378.457257</td>\n      <td>9799186</td>\n      <td>22.998850</td>\n      <td>10.86628</td>\n      <td>1.20636</td>\n      <td>SWE</td>\n      <td>Sweden</td>\n      <td>Europe &amp; Central Asia</td>\n      <td>High income</td>\n      <td>Not classified</td>\n    </tr>\n    <tr>\n      <th>23</th>\n      <td>2016</td>\n      <td>43615.537713</td>\n      <td>9923085</td>\n      <td>23.478230</td>\n      <td>11.11660</td>\n      <td>1.22181</td>\n      <td>SWE</td>\n      <td>Sweden</td>\n      <td>Europe &amp; Central Asia</td>\n      <td>High income</td>\n      <td>Not classified</td>\n    </tr>\n    <tr>\n      <th>24</th>\n      <td>2017</td>\n      <td>45629.441112</td>\n      <td>10057698</td>\n      <td>23.936920</td>\n      <td>11.31977</td>\n      <td>1.24491</td>\n      <td>SWE</td>\n      <td>Sweden</td>\n      <td>Europe &amp; Central Asia</td>\n      <td>High income</td>\n      <td>Not classified</td>\n    </tr>\n  </tbody>\n</table>\n</div>"
     },
     "metadata": {}
    }
   ],
   "execution_count": 115
  },
  {
   "cell_type": "markdown",
   "source": "#### Now that everything is neat and tidy we can visualize the data\nI'll begin with the Bachelor's data followed by the Master's and end with the Doctoral data.",
   "metadata": {
    "tags": [],
    "cell_id": "00013-64a63d3f-82c3-43b6-b5bc-a7237ddc2d22",
    "deepnote_cell_type": "markdown"
   },
   "outputs": [],
   "execution_count": null
  },
  {
   "cell_type": "code",
   "source": "fig = px.scatter(data_frame = df_higher_ed,\n                 height=600,\n                 size_max=80,\n                 title = 'Bubble Size, Population, total',\n                 labels= {\n                   \"NY.ADJ.NNTY.PC.CD\": 'Adjusted net national income per capita (current US$)',\n                    'SE.TER.CUAT.BA.ZS': '% 25+ completed at least Bachelor\\'s Degree',\n                    'SP.POP.TOTL' : 'Population, total'\n                 },\n                 x='NY.ADJ.NNTY.PC.CD',\n                 y='SE.TER.CUAT.BA.ZS',\n                 color=\"Country Name\",\n                 size='SP.POP.TOTL', \n                 animation_frame=\"Year\")\nfig.update_layout(yaxis_range = (0,df_higher_ed['SE.TER.CUAT.BA.ZS'].max()+5))\nfig.show()",
   "metadata": {
    "tags": [],
    "cell_id": "00010-0130a63c-9d13-4deb-b565-885aea306a0d",
    "deepnote_to_be_reexecuted": false,
    "source_hash": "c0357080",
    "execution_start": 1621809297077,
    "execution_millis": 138,
    "deepnote_cell_type": "code"
   },
   "outputs": [
    {
     "data": {
      "text/html": "<html>\n<head><meta charset=\"utf-8\" /></head>\n<body>\n    <div>            <script src=\"https://cdnjs.cloudflare.com/ajax/libs/mathjax/2.7.5/MathJax.js?config=TeX-AMS-MML_SVG\"></script><script type=\"text/javascript\">if (window.MathJax) {MathJax.Hub.Config({SVG: {font: \"STIX-Web\"}});}</script>                <script type=\"text/javascript\">window.PlotlyConfig = {MathJaxConfig: 'local'};</script>\n        <script src=\"https://cdn.plot.ly/plotly-latest.min.js\"></script>                <div id=\"2363a9b4-fe01-419a-9c33-0b39a54fb86d\" class=\"plotly-graph-div\" style=\"height:600px; width:100%;\"></div>            <script type=\"text/javascript\">                                    window.PLOTLYENV=window.PLOTLYENV || {};                                    if (document.getElementById(\"2363a9b4-fe01-419a-9c33-0b39a54fb86d\")) {                    Plotly.newPlot(                        \"2363a9b4-fe01-419a-9c33-0b39a54fb86d\",                        [{\"hovertemplate\": \"Country Name=Australia<br>Year=2013<br>Adjusted net national income per capita (current US$)=%{x}<br>% 25+ completed at least Bachelor's Degree=%{y}<br>Population, total=%{marker.size}<extra></extra>\", \"legendgroup\": \"Australia\", \"marker\": {\"color\": \"#636efa\", \"size\": [23128129], \"sizemode\": \"area\", \"sizeref\": 24948.53015625, \"symbol\": \"circle\"}, \"mode\": \"markers\", \"name\": \"Australia\", \"orientation\": \"v\", \"showlegend\": true, \"type\": \"scatter\", \"x\": [53920.0370293533], \"xaxis\": \"x\", \"y\": [26.7436008453], \"yaxis\": \"y\"}, {\"hovertemplate\": \"Country Name=Bangladesh<br>Year=2013<br>Adjusted net national income per capita (current US$)=%{x}<br>% 25+ completed at least Bachelor's Degree=%{y}<br>Population, total=%{marker.size}<extra></extra>\", \"legendgroup\": \"Bangladesh\", \"marker\": {\"color\": \"#EF553B\", \"size\": [152764676], \"sizemode\": \"area\", \"sizeref\": 24948.53015625, \"symbol\": \"circle\"}, \"mode\": \"markers\", \"name\": \"Bangladesh\", \"orientation\": \"v\", \"showlegend\": true, \"type\": \"scatter\", \"x\": [972.9217209548], \"xaxis\": \"x\", \"y\": [5.5023198128], \"yaxis\": \"y\"}, {\"hovertemplate\": \"Country Name=Mexico<br>Year=2013<br>Adjusted net national income per capita (current US$)=%{x}<br>% 25+ completed at least Bachelor's Degree=%{y}<br>Population, total=%{marker.size}<extra></extra>\", \"legendgroup\": \"Mexico\", \"marker\": {\"color\": \"#00cc96\", \"size\": [118827161], \"sizemode\": \"area\", \"sizeref\": 24948.53015625, \"symbol\": \"circle\"}, \"mode\": \"markers\", \"name\": \"Mexico\", \"orientation\": \"v\", \"showlegend\": true, \"type\": \"scatter\", \"x\": [8251.4125021299], \"xaxis\": \"x\", \"y\": [14.3226099014], \"yaxis\": \"y\"}, {\"hovertemplate\": \"Country Name=Serbia<br>Year=2013<br>Adjusted net national income per capita (current US$)=%{x}<br>% 25+ completed at least Bachelor's Degree=%{y}<br>Population, total=%{marker.size}<extra></extra>\", \"legendgroup\": \"Serbia\", \"marker\": {\"color\": \"#ab63fa\", \"size\": [7164132], \"sizemode\": \"area\", \"sizeref\": 24948.53015625, \"symbol\": \"circle\"}, \"mode\": \"markers\", \"name\": \"Serbia\", \"orientation\": \"v\", \"showlegend\": true, \"type\": \"scatter\", \"x\": [5372.0923192738], \"xaxis\": \"x\", \"y\": [11.4581804276], \"yaxis\": \"y\"}, {\"hovertemplate\": \"Country Name=Sweden<br>Year=2013<br>Adjusted net national income per capita (current US$)=%{x}<br>% 25+ completed at least Bachelor's Degree=%{y}<br>Population, total=%{marker.size}<extra></extra>\", \"legendgroup\": \"Sweden\", \"marker\": {\"color\": \"#FFA15A\", \"size\": [9600379], \"sizemode\": \"area\", \"sizeref\": 24948.53015625, \"symbol\": \"circle\"}, \"mode\": \"markers\", \"name\": \"Sweden\", \"orientation\": \"v\", \"showlegend\": true, \"type\": \"scatter\", \"x\": [52102.8838496507], \"xaxis\": \"x\", \"y\": [22.039850235], \"yaxis\": \"y\"}],                        {\"height\": 600, \"legend\": {\"itemsizing\": \"constant\", \"title\": {\"text\": \"Country Name\"}, \"tracegroupgap\": 0}, \"sliders\": [{\"active\": 0, \"currentvalue\": {\"prefix\": \"Year=\"}, \"len\": 0.9, \"pad\": {\"b\": 10, \"t\": 60}, \"steps\": [{\"args\": [[\"2013\"], {\"frame\": {\"duration\": 0, \"redraw\": false}, \"fromcurrent\": true, \"mode\": \"immediate\", \"transition\": {\"duration\": 0, \"easing\": \"linear\"}}], \"label\": \"2013\", \"method\": \"animate\"}, {\"args\": [[\"2014\"], {\"frame\": {\"duration\": 0, \"redraw\": false}, \"fromcurrent\": true, \"mode\": \"immediate\", \"transition\": {\"duration\": 0, \"easing\": \"linear\"}}], \"label\": \"2014\", \"method\": \"animate\"}, {\"args\": [[\"2015\"], {\"frame\": {\"duration\": 0, \"redraw\": false}, \"fromcurrent\": true, \"mode\": \"immediate\", \"transition\": {\"duration\": 0, \"easing\": \"linear\"}}], \"label\": \"2015\", \"method\": \"animate\"}, {\"args\": [[\"2016\"], {\"frame\": {\"duration\": 0, \"redraw\": false}, \"fromcurrent\": true, \"mode\": \"immediate\", \"transition\": {\"duration\": 0, \"easing\": \"linear\"}}], \"label\": \"2016\", \"method\": \"animate\"}, {\"args\": [[\"2017\"], {\"frame\": {\"duration\": 0, \"redraw\": false}, \"fromcurrent\": true, \"mode\": \"immediate\", \"transition\": {\"duration\": 0, \"easing\": \"linear\"}}], \"label\": \"2017\", \"method\": \"animate\"}], \"x\": 0.1, \"xanchor\": \"left\", \"y\": 0, \"yanchor\": \"top\"}], \"template\": {\"data\": {\"bar\": [{\"error_x\": {\"color\": \"#f2f5fa\"}, \"error_y\": {\"color\": \"#f2f5fa\"}, \"marker\": {\"line\": {\"color\": \"rgb(17,17,17)\", \"width\": 0.5}}, \"type\": \"bar\"}], \"barpolar\": [{\"marker\": {\"line\": {\"color\": \"rgb(17,17,17)\", \"width\": 0.5}}, \"type\": \"barpolar\"}], \"carpet\": [{\"aaxis\": {\"endlinecolor\": \"#A2B1C6\", \"gridcolor\": \"#506784\", \"linecolor\": \"#506784\", \"minorgridcolor\": \"#506784\", \"startlinecolor\": \"#A2B1C6\"}, \"baxis\": {\"endlinecolor\": \"#A2B1C6\", \"gridcolor\": \"#506784\", \"linecolor\": \"#506784\", \"minorgridcolor\": \"#506784\", \"startlinecolor\": \"#A2B1C6\"}, \"type\": \"carpet\"}], \"choropleth\": [{\"colorbar\": {\"outlinewidth\": 0, \"ticks\": \"\"}, \"type\": \"choropleth\"}], \"contour\": [{\"colorbar\": {\"outlinewidth\": 0, \"ticks\": \"\"}, \"colorscale\": [[0.0, \"#0d0887\"], [0.1111111111111111, \"#46039f\"], [0.2222222222222222, \"#7201a8\"], [0.3333333333333333, \"#9c179e\"], [0.4444444444444444, \"#bd3786\"], [0.5555555555555556, \"#d8576b\"], [0.6666666666666666, \"#ed7953\"], [0.7777777777777778, \"#fb9f3a\"], [0.8888888888888888, \"#fdca26\"], [1.0, \"#f0f921\"]], \"type\": \"contour\"}], \"contourcarpet\": [{\"colorbar\": {\"outlinewidth\": 0, \"ticks\": \"\"}, \"type\": \"contourcarpet\"}], \"heatmap\": [{\"colorbar\": {\"outlinewidth\": 0, \"ticks\": \"\"}, \"colorscale\": [[0.0, \"#0d0887\"], [0.1111111111111111, \"#46039f\"], [0.2222222222222222, \"#7201a8\"], [0.3333333333333333, \"#9c179e\"], [0.4444444444444444, \"#bd3786\"], [0.5555555555555556, \"#d8576b\"], [0.6666666666666666, \"#ed7953\"], [0.7777777777777778, \"#fb9f3a\"], [0.8888888888888888, \"#fdca26\"], [1.0, \"#f0f921\"]], \"type\": \"heatmap\"}], \"heatmapgl\": [{\"colorbar\": {\"outlinewidth\": 0, \"ticks\": \"\"}, \"colorscale\": [[0.0, \"#0d0887\"], [0.1111111111111111, \"#46039f\"], [0.2222222222222222, \"#7201a8\"], [0.3333333333333333, \"#9c179e\"], [0.4444444444444444, \"#bd3786\"], [0.5555555555555556, \"#d8576b\"], [0.6666666666666666, \"#ed7953\"], [0.7777777777777778, \"#fb9f3a\"], [0.8888888888888888, \"#fdca26\"], [1.0, \"#f0f921\"]], \"type\": \"heatmapgl\"}], \"histogram\": [{\"marker\": {\"colorbar\": {\"outlinewidth\": 0, \"ticks\": \"\"}}, \"type\": \"histogram\"}], \"histogram2d\": [{\"colorbar\": {\"outlinewidth\": 0, \"ticks\": \"\"}, \"colorscale\": [[0.0, \"#0d0887\"], [0.1111111111111111, \"#46039f\"], [0.2222222222222222, \"#7201a8\"], [0.3333333333333333, \"#9c179e\"], [0.4444444444444444, \"#bd3786\"], [0.5555555555555556, \"#d8576b\"], [0.6666666666666666, \"#ed7953\"], [0.7777777777777778, \"#fb9f3a\"], [0.8888888888888888, \"#fdca26\"], [1.0, \"#f0f921\"]], \"type\": \"histogram2d\"}], \"histogram2dcontour\": [{\"colorbar\": {\"outlinewidth\": 0, \"ticks\": \"\"}, \"colorscale\": [[0.0, \"#0d0887\"], [0.1111111111111111, \"#46039f\"], [0.2222222222222222, \"#7201a8\"], [0.3333333333333333, \"#9c179e\"], [0.4444444444444444, \"#bd3786\"], [0.5555555555555556, \"#d8576b\"], [0.6666666666666666, \"#ed7953\"], [0.7777777777777778, \"#fb9f3a\"], [0.8888888888888888, \"#fdca26\"], [1.0, \"#f0f921\"]], \"type\": \"histogram2dcontour\"}], \"mesh3d\": [{\"colorbar\": {\"outlinewidth\": 0, \"ticks\": \"\"}, \"type\": \"mesh3d\"}], \"parcoords\": [{\"line\": {\"colorbar\": {\"outlinewidth\": 0, \"ticks\": \"\"}}, \"type\": \"parcoords\"}], \"pie\": [{\"automargin\": true, \"type\": \"pie\"}], \"scatter\": [{\"marker\": {\"line\": {\"color\": \"#283442\"}}, \"type\": \"scatter\"}], \"scatter3d\": [{\"line\": {\"colorbar\": {\"outlinewidth\": 0, \"ticks\": \"\"}}, \"marker\": {\"colorbar\": {\"outlinewidth\": 0, \"ticks\": \"\"}}, \"type\": \"scatter3d\"}], \"scattercarpet\": [{\"marker\": {\"colorbar\": {\"outlinewidth\": 0, \"ticks\": \"\"}}, \"type\": \"scattercarpet\"}], \"scattergeo\": [{\"marker\": {\"colorbar\": {\"outlinewidth\": 0, \"ticks\": \"\"}}, \"type\": \"scattergeo\"}], \"scattergl\": [{\"marker\": {\"line\": {\"color\": \"#283442\"}}, \"type\": \"scattergl\"}], \"scattermapbox\": [{\"marker\": {\"colorbar\": {\"outlinewidth\": 0, \"ticks\": \"\"}}, \"type\": \"scattermapbox\"}], \"scatterpolar\": [{\"marker\": {\"colorbar\": {\"outlinewidth\": 0, \"ticks\": \"\"}}, \"type\": \"scatterpolar\"}], \"scatterpolargl\": [{\"marker\": {\"colorbar\": {\"outlinewidth\": 0, \"ticks\": \"\"}}, \"type\": \"scatterpolargl\"}], \"scatterternary\": [{\"marker\": {\"colorbar\": {\"outlinewidth\": 0, \"ticks\": \"\"}}, \"type\": \"scatterternary\"}], \"surface\": [{\"colorbar\": {\"outlinewidth\": 0, \"ticks\": \"\"}, \"colorscale\": [[0.0, \"#0d0887\"], [0.1111111111111111, \"#46039f\"], [0.2222222222222222, \"#7201a8\"], [0.3333333333333333, \"#9c179e\"], [0.4444444444444444, \"#bd3786\"], [0.5555555555555556, \"#d8576b\"], [0.6666666666666666, \"#ed7953\"], [0.7777777777777778, \"#fb9f3a\"], [0.8888888888888888, \"#fdca26\"], [1.0, \"#f0f921\"]], \"type\": \"surface\"}], \"table\": [{\"cells\": {\"fill\": {\"color\": \"#506784\"}, \"line\": {\"color\": \"rgb(17,17,17)\"}}, \"header\": {\"fill\": {\"color\": \"#2a3f5f\"}, \"line\": {\"color\": \"rgb(17,17,17)\"}}, \"type\": \"table\"}]}, \"layout\": {\"annotationdefaults\": {\"arrowcolor\": \"#f2f5fa\", \"arrowhead\": 0, \"arrowwidth\": 1}, \"autotypenumbers\": \"strict\", \"coloraxis\": {\"colorbar\": {\"outlinewidth\": 0, \"ticks\": \"\"}}, \"colorscale\": {\"diverging\": [[0, \"#8e0152\"], [0.1, \"#c51b7d\"], [0.2, \"#de77ae\"], [0.3, \"#f1b6da\"], [0.4, \"#fde0ef\"], [0.5, \"#f7f7f7\"], [0.6, \"#e6f5d0\"], [0.7, \"#b8e186\"], [0.8, \"#7fbc41\"], [0.9, \"#4d9221\"], [1, \"#276419\"]], \"sequential\": [[0.0, \"#0d0887\"], [0.1111111111111111, \"#46039f\"], [0.2222222222222222, \"#7201a8\"], [0.3333333333333333, \"#9c179e\"], [0.4444444444444444, \"#bd3786\"], [0.5555555555555556, \"#d8576b\"], [0.6666666666666666, \"#ed7953\"], [0.7777777777777778, \"#fb9f3a\"], [0.8888888888888888, \"#fdca26\"], [1.0, \"#f0f921\"]], \"sequentialminus\": [[0.0, \"#0d0887\"], [0.1111111111111111, \"#46039f\"], [0.2222222222222222, \"#7201a8\"], [0.3333333333333333, \"#9c179e\"], [0.4444444444444444, \"#bd3786\"], [0.5555555555555556, \"#d8576b\"], [0.6666666666666666, \"#ed7953\"], [0.7777777777777778, \"#fb9f3a\"], [0.8888888888888888, \"#fdca26\"], [1.0, \"#f0f921\"]]}, \"colorway\": [\"#636efa\", \"#EF553B\", \"#00cc96\", \"#ab63fa\", \"#FFA15A\", \"#19d3f3\", \"#FF6692\", \"#B6E880\", \"#FF97FF\", \"#FECB52\"], \"font\": {\"color\": \"#f2f5fa\"}, \"geo\": {\"bgcolor\": \"rgb(17,17,17)\", \"lakecolor\": \"rgb(17,17,17)\", \"landcolor\": \"rgb(17,17,17)\", \"showlakes\": true, \"showland\": true, \"subunitcolor\": \"#506784\"}, \"hoverlabel\": {\"align\": \"left\"}, \"hovermode\": \"closest\", \"mapbox\": {\"style\": \"dark\"}, \"paper_bgcolor\": \"rgb(17,17,17)\", \"plot_bgcolor\": \"rgb(17,17,17)\", \"polar\": {\"angularaxis\": {\"gridcolor\": \"#506784\", \"linecolor\": \"#506784\", \"ticks\": \"\"}, \"bgcolor\": \"rgb(17,17,17)\", \"radialaxis\": {\"gridcolor\": \"#506784\", \"linecolor\": \"#506784\", \"ticks\": \"\"}}, \"scene\": {\"xaxis\": {\"backgroundcolor\": \"rgb(17,17,17)\", \"gridcolor\": \"#506784\", \"gridwidth\": 2, \"linecolor\": \"#506784\", \"showbackground\": true, \"ticks\": \"\", \"zerolinecolor\": \"#C8D4E3\"}, \"yaxis\": {\"backgroundcolor\": \"rgb(17,17,17)\", \"gridcolor\": \"#506784\", \"gridwidth\": 2, \"linecolor\": \"#506784\", \"showbackground\": true, \"ticks\": \"\", \"zerolinecolor\": \"#C8D4E3\"}, \"zaxis\": {\"backgroundcolor\": \"rgb(17,17,17)\", \"gridcolor\": \"#506784\", \"gridwidth\": 2, \"linecolor\": \"#506784\", \"showbackground\": true, \"ticks\": \"\", \"zerolinecolor\": \"#C8D4E3\"}}, \"shapedefaults\": {\"line\": {\"color\": \"#f2f5fa\"}}, \"sliderdefaults\": {\"bgcolor\": \"#C8D4E3\", \"bordercolor\": \"rgb(17,17,17)\", \"borderwidth\": 1, \"tickwidth\": 0}, \"ternary\": {\"aaxis\": {\"gridcolor\": \"#506784\", \"linecolor\": \"#506784\", \"ticks\": \"\"}, \"baxis\": {\"gridcolor\": \"#506784\", \"linecolor\": \"#506784\", \"ticks\": \"\"}, \"bgcolor\": \"rgb(17,17,17)\", \"caxis\": {\"gridcolor\": \"#506784\", \"linecolor\": \"#506784\", \"ticks\": \"\"}}, \"title\": {\"x\": 0.05}, \"updatemenudefaults\": {\"bgcolor\": \"#506784\", \"borderwidth\": 0}, \"xaxis\": {\"automargin\": true, \"gridcolor\": \"#283442\", \"linecolor\": \"#506784\", \"ticks\": \"\", \"title\": {\"standoff\": 15}, \"zerolinecolor\": \"#283442\", \"zerolinewidth\": 2}, \"yaxis\": {\"automargin\": true, \"gridcolor\": \"#283442\", \"linecolor\": \"#506784\", \"ticks\": \"\", \"title\": {\"standoff\": 15}, \"zerolinecolor\": \"#283442\", \"zerolinewidth\": 2}}}, \"title\": {\"text\": \"Bubble Size, Population, total\"}, \"updatemenus\": [{\"buttons\": [{\"args\": [null, {\"frame\": {\"duration\": 500, \"redraw\": false}, \"fromcurrent\": true, \"mode\": \"immediate\", \"transition\": {\"duration\": 500, \"easing\": \"linear\"}}], \"label\": \"&#9654;\", \"method\": \"animate\"}, {\"args\": [[null], {\"frame\": {\"duration\": 0, \"redraw\": false}, \"fromcurrent\": true, \"mode\": \"immediate\", \"transition\": {\"duration\": 0, \"easing\": \"linear\"}}], \"label\": \"&#9724;\", \"method\": \"animate\"}], \"direction\": \"left\", \"pad\": {\"r\": 10, \"t\": 70}, \"showactive\": false, \"type\": \"buttons\", \"x\": 0.1, \"xanchor\": \"right\", \"y\": 0, \"yanchor\": \"top\"}], \"xaxis\": {\"anchor\": \"y\", \"domain\": [0.0, 1.0], \"title\": {\"text\": \"Adjusted net national income per capita (current US$)\"}}, \"yaxis\": {\"anchor\": \"x\", \"domain\": [0.0, 1.0], \"range\": [0, 36.3911895752], \"title\": {\"text\": \"% 25+ completed at least Bachelor's Degree\"}}},                        {\"responsive\": true}                    ).then(function(){\n                            Plotly.addFrames('2363a9b4-fe01-419a-9c33-0b39a54fb86d', [{\"data\": [{\"hovertemplate\": \"Country Name=Australia<br>Year=2013<br>Adjusted net national income per capita (current US$)=%{x}<br>% 25+ completed at least Bachelor's Degree=%{y}<br>Population, total=%{marker.size}<extra></extra>\", \"legendgroup\": \"Australia\", \"marker\": {\"color\": \"#636efa\", \"size\": [23128129], \"sizemode\": \"area\", \"sizeref\": 24948.53015625, \"symbol\": \"circle\"}, \"mode\": \"markers\", \"name\": \"Australia\", \"orientation\": \"v\", \"showlegend\": true, \"x\": [53920.0370293533], \"xaxis\": \"x\", \"y\": [26.7436008453], \"yaxis\": \"y\", \"type\": \"scatter\"}, {\"hovertemplate\": \"Country Name=Bangladesh<br>Year=2013<br>Adjusted net national income per capita (current US$)=%{x}<br>% 25+ completed at least Bachelor's Degree=%{y}<br>Population, total=%{marker.size}<extra></extra>\", \"legendgroup\": \"Bangladesh\", \"marker\": {\"color\": \"#EF553B\", \"size\": [152764676], \"sizemode\": \"area\", \"sizeref\": 24948.53015625, \"symbol\": \"circle\"}, \"mode\": \"markers\", \"name\": \"Bangladesh\", \"orientation\": \"v\", \"showlegend\": true, \"x\": [972.9217209548], \"xaxis\": \"x\", \"y\": [5.5023198128], \"yaxis\": \"y\", \"type\": \"scatter\"}, {\"hovertemplate\": \"Country Name=Mexico<br>Year=2013<br>Adjusted net national income per capita (current US$)=%{x}<br>% 25+ completed at least Bachelor's Degree=%{y}<br>Population, total=%{marker.size}<extra></extra>\", \"legendgroup\": \"Mexico\", \"marker\": {\"color\": \"#00cc96\", \"size\": [118827161], \"sizemode\": \"area\", \"sizeref\": 24948.53015625, \"symbol\": \"circle\"}, \"mode\": \"markers\", \"name\": \"Mexico\", \"orientation\": \"v\", \"showlegend\": true, \"x\": [8251.4125021299], \"xaxis\": \"x\", \"y\": [14.3226099014], \"yaxis\": \"y\", \"type\": \"scatter\"}, {\"hovertemplate\": \"Country Name=Serbia<br>Year=2013<br>Adjusted net national income per capita (current US$)=%{x}<br>% 25+ completed at least Bachelor's Degree=%{y}<br>Population, total=%{marker.size}<extra></extra>\", \"legendgroup\": \"Serbia\", \"marker\": {\"color\": \"#ab63fa\", \"size\": [7164132], \"sizemode\": \"area\", \"sizeref\": 24948.53015625, \"symbol\": \"circle\"}, \"mode\": \"markers\", \"name\": \"Serbia\", \"orientation\": \"v\", \"showlegend\": true, \"x\": [5372.0923192738], \"xaxis\": \"x\", \"y\": [11.4581804276], \"yaxis\": \"y\", \"type\": \"scatter\"}, {\"hovertemplate\": \"Country Name=Sweden<br>Year=2013<br>Adjusted net national income per capita (current US$)=%{x}<br>% 25+ completed at least Bachelor's Degree=%{y}<br>Population, total=%{marker.size}<extra></extra>\", \"legendgroup\": \"Sweden\", \"marker\": {\"color\": \"#FFA15A\", \"size\": [9600379], \"sizemode\": \"area\", \"sizeref\": 24948.53015625, \"symbol\": \"circle\"}, \"mode\": \"markers\", \"name\": \"Sweden\", \"orientation\": \"v\", \"showlegend\": true, \"x\": [52102.8838496507], \"xaxis\": \"x\", \"y\": [22.039850235], \"yaxis\": \"y\", \"type\": \"scatter\"}], \"name\": \"2013\"}, {\"data\": [{\"hovertemplate\": \"Country Name=Australia<br>Year=2014<br>Adjusted net national income per capita (current US$)=%{x}<br>% 25+ completed at least Bachelor's Degree=%{y}<br>Population, total=%{marker.size}<extra></extra>\", \"legendgroup\": \"Australia\", \"marker\": {\"color\": \"#636efa\", \"size\": [23475686], \"sizemode\": \"area\", \"sizeref\": 24948.53015625, \"symbol\": \"circle\"}, \"mode\": \"markers\", \"name\": \"Australia\", \"orientation\": \"v\", \"showlegend\": true, \"x\": [48738.7479734066], \"xaxis\": \"x\", \"y\": [24.9464492798], \"yaxis\": \"y\", \"type\": \"scatter\"}, {\"hovertemplate\": \"Country Name=Bangladesh<br>Year=2014<br>Adjusted net national income per capita (current US$)=%{x}<br>% 25+ completed at least Bachelor's Degree=%{y}<br>Population, total=%{marker.size}<extra></extra>\", \"legendgroup\": \"Bangladesh\", \"marker\": {\"color\": \"#EF553B\", \"size\": [154520167], \"sizemode\": \"area\", \"sizeref\": 24948.53015625, \"symbol\": \"circle\"}, \"mode\": \"markers\", \"name\": \"Bangladesh\", \"orientation\": \"v\", \"showlegend\": true, \"x\": [1091.4812041342], \"xaxis\": \"x\", \"y\": [5.8521399498], \"yaxis\": \"y\", \"type\": \"scatter\"}, {\"hovertemplate\": \"Country Name=Mexico<br>Year=2014<br>Adjusted net national income per capita (current US$)=%{x}<br>% 25+ completed at least Bachelor's Degree=%{y}<br>Population, total=%{marker.size}<extra></extra>\", \"legendgroup\": \"Mexico\", \"marker\": {\"color\": \"#00cc96\", \"size\": [120355128], \"sizemode\": \"area\", \"sizeref\": 24948.53015625, \"symbol\": \"circle\"}, \"mode\": \"markers\", \"name\": \"Mexico\", \"orientation\": \"v\", \"showlegend\": true, \"x\": [8568.5255756291], \"xaxis\": \"x\", \"y\": [13.9571304321], \"yaxis\": \"y\", \"type\": \"scatter\"}, {\"hovertemplate\": \"Country Name=Serbia<br>Year=2014<br>Adjusted net national income per capita (current US$)=%{x}<br>% 25+ completed at least Bachelor's Degree=%{y}<br>Population, total=%{marker.size}<extra></extra>\", \"legendgroup\": \"Serbia\", \"marker\": {\"color\": \"#ab63fa\", \"size\": [7130576], \"sizemode\": \"area\", \"sizeref\": 24948.53015625, \"symbol\": \"circle\"}, \"mode\": \"markers\", \"name\": \"Serbia\", \"orientation\": \"v\", \"showlegend\": true, \"x\": [5265.1250568294], \"xaxis\": \"x\", \"y\": [12.6497097015], \"yaxis\": \"y\", \"type\": \"scatter\"}, {\"hovertemplate\": \"Country Name=Sweden<br>Year=2014<br>Adjusted net national income per capita (current US$)=%{x}<br>% 25+ completed at least Bachelor's Degree=%{y}<br>Population, total=%{marker.size}<extra></extra>\", \"legendgroup\": \"Sweden\", \"marker\": {\"color\": \"#FFA15A\", \"size\": [9696110], \"sizemode\": \"area\", \"sizeref\": 24948.53015625, \"symbol\": \"circle\"}, \"mode\": \"markers\", \"name\": \"Sweden\", \"orientation\": \"v\", \"showlegend\": true, \"x\": [51115.9438302665], \"xaxis\": \"x\", \"y\": [22.535320282], \"yaxis\": \"y\", \"type\": \"scatter\"}], \"name\": \"2014\"}, {\"data\": [{\"hovertemplate\": \"Country Name=Australia<br>Year=2015<br>Adjusted net national income per capita (current US$)=%{x}<br>% 25+ completed at least Bachelor's Degree=%{y}<br>Population, total=%{marker.size}<extra></extra>\", \"legendgroup\": \"Australia\", \"marker\": {\"color\": \"#636efa\", \"size\": [23815995], \"sizemode\": \"area\", \"sizeref\": 24948.53015625, \"symbol\": \"circle\"}, \"mode\": \"markers\", \"name\": \"Australia\", \"orientation\": \"v\", \"showlegend\": true, \"x\": [44352.1378460602], \"xaxis\": \"x\", \"y\": [29.7842502594], \"yaxis\": \"y\", \"type\": \"scatter\"}, {\"hovertemplate\": \"Country Name=Bangladesh<br>Year=2015<br>Adjusted net national income per capita (current US$)=%{x}<br>% 25+ completed at least Bachelor's Degree=%{y}<br>Population, total=%{marker.size}<extra></extra>\", \"legendgroup\": \"Bangladesh\", \"marker\": {\"color\": \"#EF553B\", \"size\": [156256276], \"sizemode\": \"area\", \"sizeref\": 24948.53015625, \"symbol\": \"circle\"}, \"mode\": \"markers\", \"name\": \"Bangladesh\", \"orientation\": \"v\", \"showlegend\": true, \"x\": [1217.8435479379], \"xaxis\": \"x\", \"y\": [8.2371397018], \"yaxis\": \"y\", \"type\": \"scatter\"}, {\"hovertemplate\": \"Country Name=Mexico<br>Year=2015<br>Adjusted net national income per capita (current US$)=%{x}<br>% 25+ completed at least Bachelor's Degree=%{y}<br>Population, total=%{marker.size}<extra></extra>\", \"legendgroup\": \"Mexico\", \"marker\": {\"color\": \"#00cc96\", \"size\": [121858258], \"sizemode\": \"area\", \"sizeref\": 24948.53015625, \"symbol\": \"circle\"}, \"mode\": \"markers\", \"name\": \"Mexico\", \"orientation\": \"v\", \"showlegend\": true, \"x\": [7638.8646525228], \"xaxis\": \"x\", \"y\": [14.7796497345], \"yaxis\": \"y\", \"type\": \"scatter\"}, {\"hovertemplate\": \"Country Name=Serbia<br>Year=2015<br>Adjusted net national income per capita (current US$)=%{x}<br>% 25+ completed at least Bachelor's Degree=%{y}<br>Population, total=%{marker.size}<extra></extra>\", \"legendgroup\": \"Serbia\", \"marker\": {\"color\": \"#ab63fa\", \"size\": [7095383], \"sizemode\": \"area\", \"sizeref\": 24948.53015625, \"symbol\": \"circle\"}, \"mode\": \"markers\", \"name\": \"Serbia\", \"orientation\": \"v\", \"showlegend\": true, \"x\": [4418.4763412905], \"xaxis\": \"x\", \"y\": [13.5838098526], \"yaxis\": \"y\", \"type\": \"scatter\"}, {\"hovertemplate\": \"Country Name=Sweden<br>Year=2015<br>Adjusted net national income per capita (current US$)=%{x}<br>% 25+ completed at least Bachelor's Degree=%{y}<br>Population, total=%{marker.size}<extra></extra>\", \"legendgroup\": \"Sweden\", \"marker\": {\"color\": \"#FFA15A\", \"size\": [9799186], \"sizemode\": \"area\", \"sizeref\": 24948.53015625, \"symbol\": \"circle\"}, \"mode\": \"markers\", \"name\": \"Sweden\", \"orientation\": \"v\", \"showlegend\": true, \"x\": [43378.4572568681], \"xaxis\": \"x\", \"y\": [22.9988498688], \"yaxis\": \"y\", \"type\": \"scatter\"}], \"name\": \"2015\"}, {\"data\": [{\"hovertemplate\": \"Country Name=Australia<br>Year=2016<br>Adjusted net national income per capita (current US$)=%{x}<br>% 25+ completed at least Bachelor's Degree=%{y}<br>Population, total=%{marker.size}<extra></extra>\", \"legendgroup\": \"Australia\", \"marker\": {\"color\": \"#636efa\", \"size\": [24190907], \"sizemode\": \"area\", \"sizeref\": 24948.53015625, \"symbol\": \"circle\"}, \"mode\": \"markers\", \"name\": \"Australia\", \"orientation\": \"v\", \"showlegend\": true, \"x\": [39137.3003580273], \"xaxis\": \"x\", \"y\": [30.0298099518], \"yaxis\": \"y\", \"type\": \"scatter\"}, {\"hovertemplate\": \"Country Name=Bangladesh<br>Year=2016<br>Adjusted net national income per capita (current US$)=%{x}<br>% 25+ completed at least Bachelor's Degree=%{y}<br>Population, total=%{marker.size}<extra></extra>\", \"legendgroup\": \"Bangladesh\", \"marker\": {\"color\": \"#EF553B\", \"size\": [157970840], \"sizemode\": \"area\", \"sizeref\": 24948.53015625, \"symbol\": \"circle\"}, \"mode\": \"markers\", \"name\": \"Bangladesh\", \"orientation\": \"v\", \"showlegend\": true, \"x\": [1360.2067836738], \"xaxis\": \"x\", \"y\": [8.5095996857], \"yaxis\": \"y\", \"type\": \"scatter\"}, {\"hovertemplate\": \"Country Name=Mexico<br>Year=2016<br>Adjusted net national income per capita (current US$)=%{x}<br>% 25+ completed at least Bachelor's Degree=%{y}<br>Population, total=%{marker.size}<extra></extra>\", \"legendgroup\": \"Mexico\", \"marker\": {\"color\": \"#00cc96\", \"size\": [123333376], \"sizemode\": \"area\", \"sizeref\": 24948.53015625, \"symbol\": \"circle\"}, \"mode\": \"markers\", \"name\": \"Mexico\", \"orientation\": \"v\", \"showlegend\": true, \"x\": [6905.1090466206], \"xaxis\": \"x\", \"y\": [14.7103900909], \"yaxis\": \"y\", \"type\": \"scatter\"}, {\"hovertemplate\": \"Country Name=Serbia<br>Year=2016<br>Adjusted net national income per capita (current US$)=%{x}<br>% 25+ completed at least Bachelor's Degree=%{y}<br>Population, total=%{marker.size}<extra></extra>\", \"legendgroup\": \"Serbia\", \"marker\": {\"color\": \"#ab63fa\", \"size\": [7058322], \"sizemode\": \"area\", \"sizeref\": 24948.53015625, \"symbol\": \"circle\"}, \"mode\": \"markers\", \"name\": \"Serbia\", \"orientation\": \"v\", \"showlegend\": true, \"x\": [4506.0276261835], \"xaxis\": \"x\", \"y\": [14.5109100342], \"yaxis\": \"y\", \"type\": \"scatter\"}, {\"hovertemplate\": \"Country Name=Sweden<br>Year=2016<br>Adjusted net national income per capita (current US$)=%{x}<br>% 25+ completed at least Bachelor's Degree=%{y}<br>Population, total=%{marker.size}<extra></extra>\", \"legendgroup\": \"Sweden\", \"marker\": {\"color\": \"#FFA15A\", \"size\": [9923085], \"sizemode\": \"area\", \"sizeref\": 24948.53015625, \"symbol\": \"circle\"}, \"mode\": \"markers\", \"name\": \"Sweden\", \"orientation\": \"v\", \"showlegend\": true, \"x\": [43615.537713492], \"xaxis\": \"x\", \"y\": [23.4782295227], \"yaxis\": \"y\", \"type\": \"scatter\"}], \"name\": \"2016\"}, {\"data\": [{\"hovertemplate\": \"Country Name=Australia<br>Year=2017<br>Adjusted net national income per capita (current US$)=%{x}<br>% 25+ completed at least Bachelor's Degree=%{y}<br>Population, total=%{marker.size}<extra></extra>\", \"legendgroup\": \"Australia\", \"marker\": {\"color\": \"#636efa\", \"size\": [24601860], \"sizemode\": \"area\", \"sizeref\": 24948.53015625, \"symbol\": \"circle\"}, \"mode\": \"markers\", \"name\": \"Australia\", \"orientation\": \"v\", \"showlegend\": true, \"x\": [42036.7964195284], \"xaxis\": \"x\", \"y\": [31.3911895752], \"yaxis\": \"y\", \"type\": \"scatter\"}, {\"hovertemplate\": \"Country Name=Bangladesh<br>Year=2017<br>Adjusted net national income per capita (current US$)=%{x}<br>% 25+ completed at least Bachelor's Degree=%{y}<br>Population, total=%{marker.size}<extra></extra>\", \"legendgroup\": \"Bangladesh\", \"marker\": {\"color\": \"#EF553B\", \"size\": [159670593], \"sizemode\": \"area\", \"sizeref\": 24948.53015625, \"symbol\": \"circle\"}, \"mode\": \"markers\", \"name\": \"Bangladesh\", \"orientation\": \"v\", \"showlegend\": true, \"x\": [1493.5547956769], \"xaxis\": \"x\", \"y\": [8.9768800735], \"yaxis\": \"y\", \"type\": \"scatter\"}, {\"hovertemplate\": \"Country Name=Mexico<br>Year=2017<br>Adjusted net national income per capita (current US$)=%{x}<br>% 25+ completed at least Bachelor's Degree=%{y}<br>Population, total=%{marker.size}<extra></extra>\", \"legendgroup\": \"Mexico\", \"marker\": {\"color\": \"#00cc96\", \"size\": [124777324], \"sizemode\": \"area\", \"sizeref\": 24948.53015625, \"symbol\": \"circle\"}, \"mode\": \"markers\", \"name\": \"Mexico\", \"orientation\": \"v\", \"showlegend\": true, \"x\": [7283.8616644185], \"xaxis\": \"x\", \"y\": [15.3742599487], \"yaxis\": \"y\", \"type\": \"scatter\"}, {\"hovertemplate\": \"Country Name=Serbia<br>Year=2017<br>Adjusted net national income per capita (current US$)=%{x}<br>% 25+ completed at least Bachelor's Degree=%{y}<br>Population, total=%{marker.size}<extra></extra>\", \"legendgroup\": \"Serbia\", \"marker\": {\"color\": \"#ab63fa\", \"size\": [7020858], \"sizemode\": \"area\", \"sizeref\": 24948.53015625, \"symbol\": \"circle\"}, \"mode\": \"markers\", \"name\": \"Serbia\", \"orientation\": \"v\", \"showlegend\": true, \"x\": [4830.4828941008], \"xaxis\": \"x\", \"y\": [14.8972396851], \"yaxis\": \"y\", \"type\": \"scatter\"}, {\"hovertemplate\": \"Country Name=Sweden<br>Year=2017<br>Adjusted net national income per capita (current US$)=%{x}<br>% 25+ completed at least Bachelor's Degree=%{y}<br>Population, total=%{marker.size}<extra></extra>\", \"legendgroup\": \"Sweden\", \"marker\": {\"color\": \"#FFA15A\", \"size\": [10057698], \"sizemode\": \"area\", \"sizeref\": 24948.53015625, \"symbol\": \"circle\"}, \"mode\": \"markers\", \"name\": \"Sweden\", \"orientation\": \"v\", \"showlegend\": true, \"x\": [45629.4411121591], \"xaxis\": \"x\", \"y\": [23.936920166], \"yaxis\": \"y\", \"type\": \"scatter\"}], \"name\": \"2017\"}]);\n                        }).then(function(){\n                            \nvar gd = document.getElementById('2363a9b4-fe01-419a-9c33-0b39a54fb86d');\nvar x = new MutationObserver(function (mutations, observer) {{\n        var display = window.getComputedStyle(gd).display;\n        if (!display || display === 'none') {{\n            console.log([gd, 'removed!']);\n            Plotly.purge(gd);\n            observer.disconnect();\n        }}\n}});\n\n// Listen for the removal of the full notebook cells\nvar notebookContainer = gd.closest('#notebook-container');\nif (notebookContainer) {{\n    x.observe(notebookContainer, {childList: true});\n}}\n\n// Listen for the clearing of the current output cell\nvar outputEl = gd.closest('.output');\nif (outputEl) {{\n    x.observe(outputEl, {childList: true});\n}}\n\n                        })                };                            </script>        </div>\n</body>\n</html>"
     },
     "metadata": {},
     "output_type": "display_data"
    }
   ],
   "execution_count": 137
  },
  {
   "cell_type": "code",
   "source": "fig = px.scatter(data_frame = df_higher_ed,\n                 height=600,\n                 size_max=80,\n                 title = 'Bubble Size, Population, total',\n                 labels= {\n                   \"NY.ADJ.NNTY.PC.CD\": 'Adjusted net national income per capita (current US$)',\n                    'SE.TER.CUAT.MS.ZS': '% 25+ completed at least Master\\'s Degree',\n                    'SP.POP.TOTL' : 'Population, total'\n                 },\n                 x='NY.ADJ.NNTY.PC.CD',\n                 y='SE.TER.CUAT.MS.ZS',\n                 color=\"Country Name\",\n                 size='SP.POP.TOTL',                  \n                 animation_frame=\"Year\")\nfig.update_layout(yaxis_range = (0,df_higher_ed['SE.TER.CUAT.MS.ZS'].max()+1))\nfig.show()",
   "metadata": {
    "tags": [],
    "cell_id": "00015-cf0f2f6b-463d-4095-be47-39570a6bc578",
    "deepnote_to_be_reexecuted": false,
    "source_hash": "782cecaa",
    "execution_start": 1621809284259,
    "execution_millis": 159,
    "deepnote_cell_type": "code"
   },
   "outputs": [
    {
     "data": {
      "text/html": "<html>\n<head><meta charset=\"utf-8\" /></head>\n<body>\n    <div>            <script src=\"https://cdnjs.cloudflare.com/ajax/libs/mathjax/2.7.5/MathJax.js?config=TeX-AMS-MML_SVG\"></script><script type=\"text/javascript\">if (window.MathJax) {MathJax.Hub.Config({SVG: {font: \"STIX-Web\"}});}</script>                <script type=\"text/javascript\">window.PlotlyConfig = {MathJaxConfig: 'local'};</script>\n        <script src=\"https://cdn.plot.ly/plotly-latest.min.js\"></script>                <div id=\"a38cbca4-6755-4289-97f3-38887f2b9283\" class=\"plotly-graph-div\" style=\"height:600px; width:100%;\"></div>            <script type=\"text/javascript\">                                    window.PLOTLYENV=window.PLOTLYENV || {};                                    if (document.getElementById(\"a38cbca4-6755-4289-97f3-38887f2b9283\")) {                    Plotly.newPlot(                        \"a38cbca4-6755-4289-97f3-38887f2b9283\",                        [{\"hovertemplate\": \"Country Name=Australia<br>Year=2013<br>Adjusted net national income per capita (current US$)=%{x}<br>% 25+ completed at least Master's Degree=%{y}<br>Population, total=%{marker.size}<extra></extra>\", \"legendgroup\": \"Australia\", \"marker\": {\"color\": \"#636efa\", \"size\": [23128129], \"sizemode\": \"area\", \"sizeref\": 24948.53015625, \"symbol\": \"circle\"}, \"mode\": \"markers\", \"name\": \"Australia\", \"orientation\": \"v\", \"showlegend\": true, \"type\": \"scatter\", \"x\": [53920.0370293533], \"xaxis\": \"x\", \"y\": [5.7569799423], \"yaxis\": \"y\"}, {\"hovertemplate\": \"Country Name=Bangladesh<br>Year=2013<br>Adjusted net national income per capita (current US$)=%{x}<br>% 25+ completed at least Master's Degree=%{y}<br>Population, total=%{marker.size}<extra></extra>\", \"legendgroup\": \"Bangladesh\", \"marker\": {\"color\": \"#EF553B\", \"size\": [152764676], \"sizemode\": \"area\", \"sizeref\": 24948.53015625, \"symbol\": \"circle\"}, \"mode\": \"markers\", \"name\": \"Bangladesh\", \"orientation\": \"v\", \"showlegend\": true, \"type\": \"scatter\", \"x\": [972.9217209548], \"xaxis\": \"x\", \"y\": [1.9667099714], \"yaxis\": \"y\"}, {\"hovertemplate\": \"Country Name=Mexico<br>Year=2013<br>Adjusted net national income per capita (current US$)=%{x}<br>% 25+ completed at least Master's Degree=%{y}<br>Population, total=%{marker.size}<extra></extra>\", \"legendgroup\": \"Mexico\", \"marker\": {\"color\": \"#00cc96\", \"size\": [118827161], \"sizemode\": \"area\", \"sizeref\": 24948.53015625, \"symbol\": \"circle\"}, \"mode\": \"markers\", \"name\": \"Mexico\", \"orientation\": \"v\", \"showlegend\": true, \"type\": \"scatter\", \"x\": [8251.4125021299], \"xaxis\": \"x\", \"y\": [1.2828299999], \"yaxis\": \"y\"}, {\"hovertemplate\": \"Country Name=Serbia<br>Year=2013<br>Adjusted net national income per capita (current US$)=%{x}<br>% 25+ completed at least Master's Degree=%{y}<br>Population, total=%{marker.size}<extra></extra>\", \"legendgroup\": \"Serbia\", \"marker\": {\"color\": \"#ab63fa\", \"size\": [7164132], \"sizemode\": \"area\", \"sizeref\": 24948.53015625, \"symbol\": \"circle\"}, \"mode\": \"markers\", \"name\": \"Serbia\", \"orientation\": \"v\", \"showlegend\": true, \"type\": \"scatter\", \"x\": [5372.0923192738], \"xaxis\": \"x\", \"y\": [0.7617200017], \"yaxis\": \"y\"}, {\"hovertemplate\": \"Country Name=Sweden<br>Year=2013<br>Adjusted net national income per capita (current US$)=%{x}<br>% 25+ completed at least Master's Degree=%{y}<br>Population, total=%{marker.size}<extra></extra>\", \"legendgroup\": \"Sweden\", \"marker\": {\"color\": \"#FFA15A\", \"size\": [9600379], \"sizemode\": \"area\", \"sizeref\": 24948.53015625, \"symbol\": \"circle\"}, \"mode\": \"markers\", \"name\": \"Sweden\", \"orientation\": \"v\", \"showlegend\": true, \"type\": \"scatter\", \"x\": [52102.8838496507], \"xaxis\": \"x\", \"y\": [10.3831796646], \"yaxis\": \"y\"}],                        {\"height\": 600, \"legend\": {\"itemsizing\": \"constant\", \"title\": {\"text\": \"Country Name\"}, \"tracegroupgap\": 0}, \"sliders\": [{\"active\": 0, \"currentvalue\": {\"prefix\": \"Year=\"}, \"len\": 0.9, \"pad\": {\"b\": 10, \"t\": 60}, \"steps\": [{\"args\": [[\"2013\"], {\"frame\": {\"duration\": 0, \"redraw\": false}, \"fromcurrent\": true, \"mode\": \"immediate\", \"transition\": {\"duration\": 0, \"easing\": \"linear\"}}], \"label\": \"2013\", \"method\": \"animate\"}, {\"args\": [[\"2014\"], {\"frame\": {\"duration\": 0, \"redraw\": false}, \"fromcurrent\": true, \"mode\": \"immediate\", \"transition\": {\"duration\": 0, \"easing\": \"linear\"}}], \"label\": \"2014\", \"method\": \"animate\"}, {\"args\": [[\"2015\"], {\"frame\": {\"duration\": 0, \"redraw\": false}, \"fromcurrent\": true, \"mode\": \"immediate\", \"transition\": {\"duration\": 0, \"easing\": \"linear\"}}], \"label\": \"2015\", \"method\": \"animate\"}, {\"args\": [[\"2016\"], {\"frame\": {\"duration\": 0, \"redraw\": false}, \"fromcurrent\": true, \"mode\": \"immediate\", \"transition\": {\"duration\": 0, \"easing\": \"linear\"}}], \"label\": \"2016\", \"method\": \"animate\"}, {\"args\": [[\"2017\"], {\"frame\": {\"duration\": 0, \"redraw\": false}, \"fromcurrent\": true, \"mode\": \"immediate\", \"transition\": {\"duration\": 0, \"easing\": \"linear\"}}], \"label\": \"2017\", \"method\": \"animate\"}], \"x\": 0.1, \"xanchor\": \"left\", \"y\": 0, \"yanchor\": \"top\"}], \"template\": {\"data\": {\"bar\": [{\"error_x\": {\"color\": \"#f2f5fa\"}, \"error_y\": {\"color\": \"#f2f5fa\"}, \"marker\": {\"line\": {\"color\": \"rgb(17,17,17)\", \"width\": 0.5}}, \"type\": \"bar\"}], \"barpolar\": [{\"marker\": {\"line\": {\"color\": \"rgb(17,17,17)\", \"width\": 0.5}}, \"type\": \"barpolar\"}], \"carpet\": [{\"aaxis\": {\"endlinecolor\": \"#A2B1C6\", \"gridcolor\": \"#506784\", \"linecolor\": \"#506784\", \"minorgridcolor\": \"#506784\", \"startlinecolor\": \"#A2B1C6\"}, \"baxis\": {\"endlinecolor\": \"#A2B1C6\", \"gridcolor\": \"#506784\", \"linecolor\": \"#506784\", \"minorgridcolor\": \"#506784\", \"startlinecolor\": \"#A2B1C6\"}, \"type\": \"carpet\"}], \"choropleth\": [{\"colorbar\": {\"outlinewidth\": 0, \"ticks\": \"\"}, \"type\": \"choropleth\"}], \"contour\": [{\"colorbar\": {\"outlinewidth\": 0, \"ticks\": \"\"}, \"colorscale\": [[0.0, \"#0d0887\"], [0.1111111111111111, \"#46039f\"], [0.2222222222222222, \"#7201a8\"], [0.3333333333333333, \"#9c179e\"], [0.4444444444444444, \"#bd3786\"], [0.5555555555555556, \"#d8576b\"], [0.6666666666666666, \"#ed7953\"], [0.7777777777777778, \"#fb9f3a\"], [0.8888888888888888, \"#fdca26\"], [1.0, \"#f0f921\"]], \"type\": \"contour\"}], \"contourcarpet\": [{\"colorbar\": {\"outlinewidth\": 0, \"ticks\": \"\"}, \"type\": \"contourcarpet\"}], \"heatmap\": [{\"colorbar\": {\"outlinewidth\": 0, \"ticks\": \"\"}, \"colorscale\": [[0.0, \"#0d0887\"], [0.1111111111111111, \"#46039f\"], [0.2222222222222222, \"#7201a8\"], [0.3333333333333333, \"#9c179e\"], [0.4444444444444444, \"#bd3786\"], [0.5555555555555556, \"#d8576b\"], [0.6666666666666666, \"#ed7953\"], [0.7777777777777778, \"#fb9f3a\"], [0.8888888888888888, \"#fdca26\"], [1.0, \"#f0f921\"]], \"type\": \"heatmap\"}], \"heatmapgl\": [{\"colorbar\": {\"outlinewidth\": 0, \"ticks\": \"\"}, \"colorscale\": [[0.0, \"#0d0887\"], [0.1111111111111111, \"#46039f\"], [0.2222222222222222, \"#7201a8\"], [0.3333333333333333, \"#9c179e\"], [0.4444444444444444, \"#bd3786\"], [0.5555555555555556, \"#d8576b\"], [0.6666666666666666, \"#ed7953\"], [0.7777777777777778, \"#fb9f3a\"], [0.8888888888888888, \"#fdca26\"], [1.0, \"#f0f921\"]], \"type\": \"heatmapgl\"}], \"histogram\": [{\"marker\": {\"colorbar\": {\"outlinewidth\": 0, \"ticks\": \"\"}}, \"type\": \"histogram\"}], \"histogram2d\": [{\"colorbar\": {\"outlinewidth\": 0, \"ticks\": \"\"}, \"colorscale\": [[0.0, \"#0d0887\"], [0.1111111111111111, \"#46039f\"], [0.2222222222222222, \"#7201a8\"], [0.3333333333333333, \"#9c179e\"], [0.4444444444444444, \"#bd3786\"], [0.5555555555555556, \"#d8576b\"], [0.6666666666666666, \"#ed7953\"], [0.7777777777777778, \"#fb9f3a\"], [0.8888888888888888, \"#fdca26\"], [1.0, \"#f0f921\"]], \"type\": \"histogram2d\"}], \"histogram2dcontour\": [{\"colorbar\": {\"outlinewidth\": 0, \"ticks\": \"\"}, \"colorscale\": [[0.0, \"#0d0887\"], [0.1111111111111111, \"#46039f\"], [0.2222222222222222, \"#7201a8\"], [0.3333333333333333, \"#9c179e\"], [0.4444444444444444, \"#bd3786\"], [0.5555555555555556, \"#d8576b\"], [0.6666666666666666, \"#ed7953\"], [0.7777777777777778, \"#fb9f3a\"], [0.8888888888888888, \"#fdca26\"], [1.0, \"#f0f921\"]], \"type\": \"histogram2dcontour\"}], \"mesh3d\": [{\"colorbar\": {\"outlinewidth\": 0, \"ticks\": \"\"}, \"type\": \"mesh3d\"}], \"parcoords\": [{\"line\": {\"colorbar\": {\"outlinewidth\": 0, \"ticks\": \"\"}}, \"type\": \"parcoords\"}], \"pie\": [{\"automargin\": true, \"type\": \"pie\"}], \"scatter\": [{\"marker\": {\"line\": {\"color\": \"#283442\"}}, \"type\": \"scatter\"}], \"scatter3d\": [{\"line\": {\"colorbar\": {\"outlinewidth\": 0, \"ticks\": \"\"}}, \"marker\": {\"colorbar\": {\"outlinewidth\": 0, \"ticks\": \"\"}}, \"type\": \"scatter3d\"}], \"scattercarpet\": [{\"marker\": {\"colorbar\": {\"outlinewidth\": 0, \"ticks\": \"\"}}, \"type\": \"scattercarpet\"}], \"scattergeo\": [{\"marker\": {\"colorbar\": {\"outlinewidth\": 0, \"ticks\": \"\"}}, \"type\": \"scattergeo\"}], \"scattergl\": [{\"marker\": {\"line\": {\"color\": \"#283442\"}}, \"type\": \"scattergl\"}], \"scattermapbox\": [{\"marker\": {\"colorbar\": {\"outlinewidth\": 0, \"ticks\": \"\"}}, \"type\": \"scattermapbox\"}], \"scatterpolar\": [{\"marker\": {\"colorbar\": {\"outlinewidth\": 0, \"ticks\": \"\"}}, \"type\": \"scatterpolar\"}], \"scatterpolargl\": [{\"marker\": {\"colorbar\": {\"outlinewidth\": 0, \"ticks\": \"\"}}, \"type\": \"scatterpolargl\"}], \"scatterternary\": [{\"marker\": {\"colorbar\": {\"outlinewidth\": 0, \"ticks\": \"\"}}, \"type\": \"scatterternary\"}], \"surface\": [{\"colorbar\": {\"outlinewidth\": 0, \"ticks\": \"\"}, \"colorscale\": [[0.0, \"#0d0887\"], [0.1111111111111111, \"#46039f\"], [0.2222222222222222, \"#7201a8\"], [0.3333333333333333, \"#9c179e\"], [0.4444444444444444, \"#bd3786\"], [0.5555555555555556, \"#d8576b\"], [0.6666666666666666, \"#ed7953\"], [0.7777777777777778, \"#fb9f3a\"], [0.8888888888888888, \"#fdca26\"], [1.0, \"#f0f921\"]], \"type\": \"surface\"}], \"table\": [{\"cells\": {\"fill\": {\"color\": \"#506784\"}, \"line\": {\"color\": \"rgb(17,17,17)\"}}, \"header\": {\"fill\": {\"color\": \"#2a3f5f\"}, \"line\": {\"color\": \"rgb(17,17,17)\"}}, \"type\": \"table\"}]}, \"layout\": {\"annotationdefaults\": {\"arrowcolor\": \"#f2f5fa\", \"arrowhead\": 0, \"arrowwidth\": 1}, \"autotypenumbers\": \"strict\", \"coloraxis\": {\"colorbar\": {\"outlinewidth\": 0, \"ticks\": \"\"}}, \"colorscale\": {\"diverging\": [[0, \"#8e0152\"], [0.1, \"#c51b7d\"], [0.2, \"#de77ae\"], [0.3, \"#f1b6da\"], [0.4, \"#fde0ef\"], [0.5, \"#f7f7f7\"], [0.6, \"#e6f5d0\"], [0.7, \"#b8e186\"], [0.8, \"#7fbc41\"], [0.9, \"#4d9221\"], [1, \"#276419\"]], \"sequential\": [[0.0, \"#0d0887\"], [0.1111111111111111, \"#46039f\"], [0.2222222222222222, \"#7201a8\"], [0.3333333333333333, \"#9c179e\"], [0.4444444444444444, \"#bd3786\"], [0.5555555555555556, \"#d8576b\"], [0.6666666666666666, \"#ed7953\"], [0.7777777777777778, \"#fb9f3a\"], [0.8888888888888888, \"#fdca26\"], [1.0, \"#f0f921\"]], \"sequentialminus\": [[0.0, \"#0d0887\"], [0.1111111111111111, \"#46039f\"], [0.2222222222222222, \"#7201a8\"], [0.3333333333333333, \"#9c179e\"], [0.4444444444444444, \"#bd3786\"], [0.5555555555555556, \"#d8576b\"], [0.6666666666666666, \"#ed7953\"], [0.7777777777777778, \"#fb9f3a\"], [0.8888888888888888, \"#fdca26\"], [1.0, \"#f0f921\"]]}, \"colorway\": [\"#636efa\", \"#EF553B\", \"#00cc96\", \"#ab63fa\", \"#FFA15A\", \"#19d3f3\", \"#FF6692\", \"#B6E880\", \"#FF97FF\", \"#FECB52\"], \"font\": {\"color\": \"#f2f5fa\"}, \"geo\": {\"bgcolor\": \"rgb(17,17,17)\", \"lakecolor\": \"rgb(17,17,17)\", \"landcolor\": \"rgb(17,17,17)\", \"showlakes\": true, \"showland\": true, \"subunitcolor\": \"#506784\"}, \"hoverlabel\": {\"align\": \"left\"}, \"hovermode\": \"closest\", \"mapbox\": {\"style\": \"dark\"}, \"paper_bgcolor\": \"rgb(17,17,17)\", \"plot_bgcolor\": \"rgb(17,17,17)\", \"polar\": {\"angularaxis\": {\"gridcolor\": \"#506784\", \"linecolor\": \"#506784\", \"ticks\": \"\"}, \"bgcolor\": \"rgb(17,17,17)\", \"radialaxis\": {\"gridcolor\": \"#506784\", \"linecolor\": \"#506784\", \"ticks\": \"\"}}, \"scene\": {\"xaxis\": {\"backgroundcolor\": \"rgb(17,17,17)\", \"gridcolor\": \"#506784\", \"gridwidth\": 2, \"linecolor\": \"#506784\", \"showbackground\": true, \"ticks\": \"\", \"zerolinecolor\": \"#C8D4E3\"}, \"yaxis\": {\"backgroundcolor\": \"rgb(17,17,17)\", \"gridcolor\": \"#506784\", \"gridwidth\": 2, \"linecolor\": \"#506784\", \"showbackground\": true, \"ticks\": \"\", \"zerolinecolor\": \"#C8D4E3\"}, \"zaxis\": {\"backgroundcolor\": \"rgb(17,17,17)\", \"gridcolor\": \"#506784\", \"gridwidth\": 2, \"linecolor\": \"#506784\", \"showbackground\": true, \"ticks\": \"\", \"zerolinecolor\": \"#C8D4E3\"}}, \"shapedefaults\": {\"line\": {\"color\": \"#f2f5fa\"}}, \"sliderdefaults\": {\"bgcolor\": \"#C8D4E3\", \"bordercolor\": \"rgb(17,17,17)\", \"borderwidth\": 1, \"tickwidth\": 0}, \"ternary\": {\"aaxis\": {\"gridcolor\": \"#506784\", \"linecolor\": \"#506784\", \"ticks\": \"\"}, \"baxis\": {\"gridcolor\": \"#506784\", \"linecolor\": \"#506784\", \"ticks\": \"\"}, \"bgcolor\": \"rgb(17,17,17)\", \"caxis\": {\"gridcolor\": \"#506784\", \"linecolor\": \"#506784\", \"ticks\": \"\"}}, \"title\": {\"x\": 0.05}, \"updatemenudefaults\": {\"bgcolor\": \"#506784\", \"borderwidth\": 0}, \"xaxis\": {\"automargin\": true, \"gridcolor\": \"#283442\", \"linecolor\": \"#506784\", \"ticks\": \"\", \"title\": {\"standoff\": 15}, \"zerolinecolor\": \"#283442\", \"zerolinewidth\": 2}, \"yaxis\": {\"automargin\": true, \"gridcolor\": \"#283442\", \"linecolor\": \"#506784\", \"ticks\": \"\", \"title\": {\"standoff\": 15}, \"zerolinecolor\": \"#283442\", \"zerolinewidth\": 2}}}, \"title\": {\"text\": \"Bubble Size, Population, total\"}, \"updatemenus\": [{\"buttons\": [{\"args\": [null, {\"frame\": {\"duration\": 500, \"redraw\": false}, \"fromcurrent\": true, \"mode\": \"immediate\", \"transition\": {\"duration\": 500, \"easing\": \"linear\"}}], \"label\": \"&#9654;\", \"method\": \"animate\"}, {\"args\": [[null], {\"frame\": {\"duration\": 0, \"redraw\": false}, \"fromcurrent\": true, \"mode\": \"immediate\", \"transition\": {\"duration\": 0, \"easing\": \"linear\"}}], \"label\": \"&#9724;\", \"method\": \"animate\"}], \"direction\": \"left\", \"pad\": {\"r\": 10, \"t\": 70}, \"showactive\": false, \"type\": \"buttons\", \"x\": 0.1, \"xanchor\": \"right\", \"y\": 0, \"yanchor\": \"top\"}], \"xaxis\": {\"anchor\": \"y\", \"domain\": [0.0, 1.0], \"title\": {\"text\": \"Adjusted net national income per capita (current US$)\"}}, \"yaxis\": {\"anchor\": \"x\", \"domain\": [0.0, 1.0], \"range\": [0, 12.3197698593], \"title\": {\"text\": \"% 25+ completed at least Master's Degree\"}}},                        {\"responsive\": true}                    ).then(function(){\n                            Plotly.addFrames('a38cbca4-6755-4289-97f3-38887f2b9283', [{\"data\": [{\"hovertemplate\": \"Country Name=Australia<br>Year=2013<br>Adjusted net national income per capita (current US$)=%{x}<br>% 25+ completed at least Master's Degree=%{y}<br>Population, total=%{marker.size}<extra></extra>\", \"legendgroup\": \"Australia\", \"marker\": {\"color\": \"#636efa\", \"size\": [23128129], \"sizemode\": \"area\", \"sizeref\": 24948.53015625, \"symbol\": \"circle\"}, \"mode\": \"markers\", \"name\": \"Australia\", \"orientation\": \"v\", \"showlegend\": true, \"x\": [53920.0370293533], \"xaxis\": \"x\", \"y\": [5.7569799423], \"yaxis\": \"y\", \"type\": \"scatter\"}, {\"hovertemplate\": \"Country Name=Bangladesh<br>Year=2013<br>Adjusted net national income per capita (current US$)=%{x}<br>% 25+ completed at least Master's Degree=%{y}<br>Population, total=%{marker.size}<extra></extra>\", \"legendgroup\": \"Bangladesh\", \"marker\": {\"color\": \"#EF553B\", \"size\": [152764676], \"sizemode\": \"area\", \"sizeref\": 24948.53015625, \"symbol\": \"circle\"}, \"mode\": \"markers\", \"name\": \"Bangladesh\", \"orientation\": \"v\", \"showlegend\": true, \"x\": [972.9217209548], \"xaxis\": \"x\", \"y\": [1.9667099714], \"yaxis\": \"y\", \"type\": \"scatter\"}, {\"hovertemplate\": \"Country Name=Mexico<br>Year=2013<br>Adjusted net national income per capita (current US$)=%{x}<br>% 25+ completed at least Master's Degree=%{y}<br>Population, total=%{marker.size}<extra></extra>\", \"legendgroup\": \"Mexico\", \"marker\": {\"color\": \"#00cc96\", \"size\": [118827161], \"sizemode\": \"area\", \"sizeref\": 24948.53015625, \"symbol\": \"circle\"}, \"mode\": \"markers\", \"name\": \"Mexico\", \"orientation\": \"v\", \"showlegend\": true, \"x\": [8251.4125021299], \"xaxis\": \"x\", \"y\": [1.2828299999], \"yaxis\": \"y\", \"type\": \"scatter\"}, {\"hovertemplate\": \"Country Name=Serbia<br>Year=2013<br>Adjusted net national income per capita (current US$)=%{x}<br>% 25+ completed at least Master's Degree=%{y}<br>Population, total=%{marker.size}<extra></extra>\", \"legendgroup\": \"Serbia\", \"marker\": {\"color\": \"#ab63fa\", \"size\": [7164132], \"sizemode\": \"area\", \"sizeref\": 24948.53015625, \"symbol\": \"circle\"}, \"mode\": \"markers\", \"name\": \"Serbia\", \"orientation\": \"v\", \"showlegend\": true, \"x\": [5372.0923192738], \"xaxis\": \"x\", \"y\": [0.7617200017], \"yaxis\": \"y\", \"type\": \"scatter\"}, {\"hovertemplate\": \"Country Name=Sweden<br>Year=2013<br>Adjusted net national income per capita (current US$)=%{x}<br>% 25+ completed at least Master's Degree=%{y}<br>Population, total=%{marker.size}<extra></extra>\", \"legendgroup\": \"Sweden\", \"marker\": {\"color\": \"#FFA15A\", \"size\": [9600379], \"sizemode\": \"area\", \"sizeref\": 24948.53015625, \"symbol\": \"circle\"}, \"mode\": \"markers\", \"name\": \"Sweden\", \"orientation\": \"v\", \"showlegend\": true, \"x\": [52102.8838496507], \"xaxis\": \"x\", \"y\": [10.3831796646], \"yaxis\": \"y\", \"type\": \"scatter\"}], \"name\": \"2013\"}, {\"data\": [{\"hovertemplate\": \"Country Name=Australia<br>Year=2014<br>Adjusted net national income per capita (current US$)=%{x}<br>% 25+ completed at least Master's Degree=%{y}<br>Population, total=%{marker.size}<extra></extra>\", \"legendgroup\": \"Australia\", \"marker\": {\"color\": \"#636efa\", \"size\": [23475686], \"sizemode\": \"area\", \"sizeref\": 24948.53015625, \"symbol\": \"circle\"}, \"mode\": \"markers\", \"name\": \"Australia\", \"orientation\": \"v\", \"showlegend\": true, \"x\": [48738.7479734066], \"xaxis\": \"x\", \"y\": [5.3248500824], \"yaxis\": \"y\", \"type\": \"scatter\"}, {\"hovertemplate\": \"Country Name=Bangladesh<br>Year=2014<br>Adjusted net national income per capita (current US$)=%{x}<br>% 25+ completed at least Master's Degree=%{y}<br>Population, total=%{marker.size}<extra></extra>\", \"legendgroup\": \"Bangladesh\", \"marker\": {\"color\": \"#EF553B\", \"size\": [154520167], \"sizemode\": \"area\", \"sizeref\": 24948.53015625, \"symbol\": \"circle\"}, \"mode\": \"markers\", \"name\": \"Bangladesh\", \"orientation\": \"v\", \"showlegend\": true, \"x\": [1091.4812041342], \"xaxis\": \"x\", \"y\": [2.0582199097], \"yaxis\": \"y\", \"type\": \"scatter\"}, {\"hovertemplate\": \"Country Name=Mexico<br>Year=2014<br>Adjusted net national income per capita (current US$)=%{x}<br>% 25+ completed at least Master's Degree=%{y}<br>Population, total=%{marker.size}<extra></extra>\", \"legendgroup\": \"Mexico\", \"marker\": {\"color\": \"#00cc96\", \"size\": [120355128], \"sizemode\": \"area\", \"sizeref\": 24948.53015625, \"symbol\": \"circle\"}, \"mode\": \"markers\", \"name\": \"Mexico\", \"orientation\": \"v\", \"showlegend\": true, \"x\": [8568.5255756291], \"xaxis\": \"x\", \"y\": [1.2443399429], \"yaxis\": \"y\", \"type\": \"scatter\"}, {\"hovertemplate\": \"Country Name=Serbia<br>Year=2014<br>Adjusted net national income per capita (current US$)=%{x}<br>% 25+ completed at least Master's Degree=%{y}<br>Population, total=%{marker.size}<extra></extra>\", \"legendgroup\": \"Serbia\", \"marker\": {\"color\": \"#ab63fa\", \"size\": [7130576], \"sizemode\": \"area\", \"sizeref\": 24948.53015625, \"symbol\": \"circle\"}, \"mode\": \"markers\", \"name\": \"Serbia\", \"orientation\": \"v\", \"showlegend\": true, \"x\": [5265.1250568294], \"xaxis\": \"x\", \"y\": [1.4962300062], \"yaxis\": \"y\", \"type\": \"scatter\"}, {\"hovertemplate\": \"Country Name=Sweden<br>Year=2014<br>Adjusted net national income per capita (current US$)=%{x}<br>% 25+ completed at least Master's Degree=%{y}<br>Population, total=%{marker.size}<extra></extra>\", \"legendgroup\": \"Sweden\", \"marker\": {\"color\": \"#FFA15A\", \"size\": [9696110], \"sizemode\": \"area\", \"sizeref\": 24948.53015625, \"symbol\": \"circle\"}, \"mode\": \"markers\", \"name\": \"Sweden\", \"orientation\": \"v\", \"showlegend\": true, \"x\": [51115.9438302665], \"xaxis\": \"x\", \"y\": [10.6336202621], \"yaxis\": \"y\", \"type\": \"scatter\"}], \"name\": \"2014\"}, {\"data\": [{\"hovertemplate\": \"Country Name=Australia<br>Year=2015<br>Adjusted net national income per capita (current US$)=%{x}<br>% 25+ completed at least Master's Degree=%{y}<br>Population, total=%{marker.size}<extra></extra>\", \"legendgroup\": \"Australia\", \"marker\": {\"color\": \"#636efa\", \"size\": [23815995], \"sizemode\": \"area\", \"sizeref\": 24948.53015625, \"symbol\": \"circle\"}, \"mode\": \"markers\", \"name\": \"Australia\", \"orientation\": \"v\", \"showlegend\": true, \"x\": [44352.1378460602], \"xaxis\": \"x\", \"y\": [7.0222902298], \"yaxis\": \"y\", \"type\": \"scatter\"}, {\"hovertemplate\": \"Country Name=Bangladesh<br>Year=2015<br>Adjusted net national income per capita (current US$)=%{x}<br>% 25+ completed at least Master's Degree=%{y}<br>Population, total=%{marker.size}<extra></extra>\", \"legendgroup\": \"Bangladesh\", \"marker\": {\"color\": \"#EF553B\", \"size\": [156256276], \"sizemode\": \"area\", \"sizeref\": 24948.53015625, \"symbol\": \"circle\"}, \"mode\": \"markers\", \"name\": \"Bangladesh\", \"orientation\": \"v\", \"showlegend\": true, \"x\": [1217.8435479379], \"xaxis\": \"x\", \"y\": [3.3259398937], \"yaxis\": \"y\", \"type\": \"scatter\"}, {\"hovertemplate\": \"Country Name=Mexico<br>Year=2015<br>Adjusted net national income per capita (current US$)=%{x}<br>% 25+ completed at least Master's Degree=%{y}<br>Population, total=%{marker.size}<extra></extra>\", \"legendgroup\": \"Mexico\", \"marker\": {\"color\": \"#00cc96\", \"size\": [121858258], \"sizemode\": \"area\", \"sizeref\": 24948.53015625, \"symbol\": \"circle\"}, \"mode\": \"markers\", \"name\": \"Mexico\", \"orientation\": \"v\", \"showlegend\": true, \"x\": [7638.8646525228], \"xaxis\": \"x\", \"y\": [2.0877399445], \"yaxis\": \"y\", \"type\": \"scatter\"}, {\"hovertemplate\": \"Country Name=Serbia<br>Year=2015<br>Adjusted net national income per capita (current US$)=%{x}<br>% 25+ completed at least Master's Degree=%{y}<br>Population, total=%{marker.size}<extra></extra>\", \"legendgroup\": \"Serbia\", \"marker\": {\"color\": \"#ab63fa\", \"size\": [7095383], \"sizemode\": \"area\", \"sizeref\": 24948.53015625, \"symbol\": \"circle\"}, \"mode\": \"markers\", \"name\": \"Serbia\", \"orientation\": \"v\", \"showlegend\": true, \"x\": [4418.4763412905], \"xaxis\": \"x\", \"y\": [1.8697299957], \"yaxis\": \"y\", \"type\": \"scatter\"}, {\"hovertemplate\": \"Country Name=Sweden<br>Year=2015<br>Adjusted net national income per capita (current US$)=%{x}<br>% 25+ completed at least Master's Degree=%{y}<br>Population, total=%{marker.size}<extra></extra>\", \"legendgroup\": \"Sweden\", \"marker\": {\"color\": \"#FFA15A\", \"size\": [9799186], \"sizemode\": \"area\", \"sizeref\": 24948.53015625, \"symbol\": \"circle\"}, \"mode\": \"markers\", \"name\": \"Sweden\", \"orientation\": \"v\", \"showlegend\": true, \"x\": [43378.4572568681], \"xaxis\": \"x\", \"y\": [10.8662796021], \"yaxis\": \"y\", \"type\": \"scatter\"}], \"name\": \"2015\"}, {\"data\": [{\"hovertemplate\": \"Country Name=Australia<br>Year=2016<br>Adjusted net national income per capita (current US$)=%{x}<br>% 25+ completed at least Master's Degree=%{y}<br>Population, total=%{marker.size}<extra></extra>\", \"legendgroup\": \"Australia\", \"marker\": {\"color\": \"#636efa\", \"size\": [24190907], \"sizemode\": \"area\", \"sizeref\": 24948.53015625, \"symbol\": \"circle\"}, \"mode\": \"markers\", \"name\": \"Australia\", \"orientation\": \"v\", \"showlegend\": true, \"x\": [39137.3003580273], \"xaxis\": \"x\", \"y\": [6.7346901894], \"yaxis\": \"y\", \"type\": \"scatter\"}, {\"hovertemplate\": \"Country Name=Bangladesh<br>Year=2016<br>Adjusted net national income per capita (current US$)=%{x}<br>% 25+ completed at least Master's Degree=%{y}<br>Population, total=%{marker.size}<extra></extra>\", \"legendgroup\": \"Bangladesh\", \"marker\": {\"color\": \"#EF553B\", \"size\": [157970840], \"sizemode\": \"area\", \"sizeref\": 24948.53015625, \"symbol\": \"circle\"}, \"mode\": \"markers\", \"name\": \"Bangladesh\", \"orientation\": \"v\", \"showlegend\": true, \"x\": [1360.2067836738], \"xaxis\": \"x\", \"y\": [3.4811899662], \"yaxis\": \"y\", \"type\": \"scatter\"}, {\"hovertemplate\": \"Country Name=Mexico<br>Year=2016<br>Adjusted net national income per capita (current US$)=%{x}<br>% 25+ completed at least Master's Degree=%{y}<br>Population, total=%{marker.size}<extra></extra>\", \"legendgroup\": \"Mexico\", \"marker\": {\"color\": \"#00cc96\", \"size\": [123333376], \"sizemode\": \"area\", \"sizeref\": 24948.53015625, \"symbol\": \"circle\"}, \"mode\": \"markers\", \"name\": \"Mexico\", \"orientation\": \"v\", \"showlegend\": true, \"x\": [6905.1090466206], \"xaxis\": \"x\", \"y\": [1.3954199553], \"yaxis\": \"y\", \"type\": \"scatter\"}, {\"hovertemplate\": \"Country Name=Serbia<br>Year=2016<br>Adjusted net national income per capita (current US$)=%{x}<br>% 25+ completed at least Master's Degree=%{y}<br>Population, total=%{marker.size}<extra></extra>\", \"legendgroup\": \"Serbia\", \"marker\": {\"color\": \"#ab63fa\", \"size\": [7058322], \"sizemode\": \"area\", \"sizeref\": 24948.53015625, \"symbol\": \"circle\"}, \"mode\": \"markers\", \"name\": \"Serbia\", \"orientation\": \"v\", \"showlegend\": true, \"x\": [4506.0276261835], \"xaxis\": \"x\", \"y\": [2.1806600094], \"yaxis\": \"y\", \"type\": \"scatter\"}, {\"hovertemplate\": \"Country Name=Sweden<br>Year=2016<br>Adjusted net national income per capita (current US$)=%{x}<br>% 25+ completed at least Master's Degree=%{y}<br>Population, total=%{marker.size}<extra></extra>\", \"legendgroup\": \"Sweden\", \"marker\": {\"color\": \"#FFA15A\", \"size\": [9923085], \"sizemode\": \"area\", \"sizeref\": 24948.53015625, \"symbol\": \"circle\"}, \"mode\": \"markers\", \"name\": \"Sweden\", \"orientation\": \"v\", \"showlegend\": true, \"x\": [43615.537713492], \"xaxis\": \"x\", \"y\": [11.1166000366], \"yaxis\": \"y\", \"type\": \"scatter\"}], \"name\": \"2016\"}, {\"data\": [{\"hovertemplate\": \"Country Name=Australia<br>Year=2017<br>Adjusted net national income per capita (current US$)=%{x}<br>% 25+ completed at least Master's Degree=%{y}<br>Population, total=%{marker.size}<extra></extra>\", \"legendgroup\": \"Australia\", \"marker\": {\"color\": \"#636efa\", \"size\": [24601860], \"sizemode\": \"area\", \"sizeref\": 24948.53015625, \"symbol\": \"circle\"}, \"mode\": \"markers\", \"name\": \"Australia\", \"orientation\": \"v\", \"showlegend\": true, \"x\": [42036.7964195284], \"xaxis\": \"x\", \"y\": [7.3698401451], \"yaxis\": \"y\", \"type\": \"scatter\"}, {\"hovertemplate\": \"Country Name=Bangladesh<br>Year=2017<br>Adjusted net national income per capita (current US$)=%{x}<br>% 25+ completed at least Master's Degree=%{y}<br>Population, total=%{marker.size}<extra></extra>\", \"legendgroup\": \"Bangladesh\", \"marker\": {\"color\": \"#EF553B\", \"size\": [159670593], \"sizemode\": \"area\", \"sizeref\": 24948.53015625, \"symbol\": \"circle\"}, \"mode\": \"markers\", \"name\": \"Bangladesh\", \"orientation\": \"v\", \"showlegend\": true, \"x\": [1493.5547956769], \"xaxis\": \"x\", \"y\": [3.7924399376], \"yaxis\": \"y\", \"type\": \"scatter\"}, {\"hovertemplate\": \"Country Name=Mexico<br>Year=2017<br>Adjusted net national income per capita (current US$)=%{x}<br>% 25+ completed at least Master's Degree=%{y}<br>Population, total=%{marker.size}<extra></extra>\", \"legendgroup\": \"Mexico\", \"marker\": {\"color\": \"#00cc96\", \"size\": [124777324], \"sizemode\": \"area\", \"sizeref\": 24948.53015625, \"symbol\": \"circle\"}, \"mode\": \"markers\", \"name\": \"Mexico\", \"orientation\": \"v\", \"showlegend\": true, \"x\": [7283.8616644185], \"xaxis\": \"x\", \"y\": [1.442819953], \"yaxis\": \"y\", \"type\": \"scatter\"}, {\"hovertemplate\": \"Country Name=Serbia<br>Year=2017<br>Adjusted net national income per capita (current US$)=%{x}<br>% 25+ completed at least Master's Degree=%{y}<br>Population, total=%{marker.size}<extra></extra>\", \"legendgroup\": \"Serbia\", \"marker\": {\"color\": \"#ab63fa\", \"size\": [7020858], \"sizemode\": \"area\", \"sizeref\": 24948.53015625, \"symbol\": \"circle\"}, \"mode\": \"markers\", \"name\": \"Serbia\", \"orientation\": \"v\", \"showlegend\": true, \"x\": [4830.4828941008], \"xaxis\": \"x\", \"y\": [2.1753900051], \"yaxis\": \"y\", \"type\": \"scatter\"}, {\"hovertemplate\": \"Country Name=Sweden<br>Year=2017<br>Adjusted net national income per capita (current US$)=%{x}<br>% 25+ completed at least Master's Degree=%{y}<br>Population, total=%{marker.size}<extra></extra>\", \"legendgroup\": \"Sweden\", \"marker\": {\"color\": \"#FFA15A\", \"size\": [10057698], \"sizemode\": \"area\", \"sizeref\": 24948.53015625, \"symbol\": \"circle\"}, \"mode\": \"markers\", \"name\": \"Sweden\", \"orientation\": \"v\", \"showlegend\": true, \"x\": [45629.4411121591], \"xaxis\": \"x\", \"y\": [11.3197698593], \"yaxis\": \"y\", \"type\": \"scatter\"}], \"name\": \"2017\"}]);\n                        }).then(function(){\n                            \nvar gd = document.getElementById('a38cbca4-6755-4289-97f3-38887f2b9283');\nvar x = new MutationObserver(function (mutations, observer) {{\n        var display = window.getComputedStyle(gd).display;\n        if (!display || display === 'none') {{\n            console.log([gd, 'removed!']);\n            Plotly.purge(gd);\n            observer.disconnect();\n        }}\n}});\n\n// Listen for the removal of the full notebook cells\nvar notebookContainer = gd.closest('#notebook-container');\nif (notebookContainer) {{\n    x.observe(notebookContainer, {childList: true});\n}}\n\n// Listen for the clearing of the current output cell\nvar outputEl = gd.closest('.output');\nif (outputEl) {{\n    x.observe(outputEl, {childList: true});\n}}\n\n                        })                };                            </script>        </div>\n</body>\n</html>"
     },
     "metadata": {},
     "output_type": "display_data"
    }
   ],
   "execution_count": 136
  },
  {
   "cell_type": "code",
   "source": "fig = px.scatter(data_frame = df_higher_ed,\n                 height=600,\n                 size_max=80,\n                 title = 'Bubble Size, Population, total',\n                 labels= {\n                   \"NY.ADJ.NNTY.PC.CD\": 'Adjusted net national income per capita (current US$)',\n                    'SE.TER.CUAT.DO.ZS': '% 25+ completed at least Doctoral Degree',\n                    'SP.POP.TOTL' : 'Population, total'\n                 },\n                 x='NY.ADJ.NNTY.PC.CD',\n                 y='SE.TER.CUAT.DO.ZS',\n                 color=\"Country Name\",\n                 size='SP.POP.TOTL',              \n                 animation_frame=\"Year\")\nfig.update_layout(yaxis_range = (0,df_higher_ed['SE.TER.CUAT.DO.ZS'].max()+.1))\nfig.show()",
   "metadata": {
    "tags": [],
    "cell_id": "00016-50ae520a-6dbb-457d-a3b4-d90dafa30771",
    "deepnote_to_be_reexecuted": false,
    "source_hash": "24ca868f",
    "execution_start": 1621809266822,
    "execution_millis": 91,
    "deepnote_cell_type": "code"
   },
   "outputs": [
    {
     "data": {
      "text/html": "<html>\n<head><meta charset=\"utf-8\" /></head>\n<body>\n    <div>            <script src=\"https://cdnjs.cloudflare.com/ajax/libs/mathjax/2.7.5/MathJax.js?config=TeX-AMS-MML_SVG\"></script><script type=\"text/javascript\">if (window.MathJax) {MathJax.Hub.Config({SVG: {font: \"STIX-Web\"}});}</script>                <script type=\"text/javascript\">window.PlotlyConfig = {MathJaxConfig: 'local'};</script>\n        <script src=\"https://cdn.plot.ly/plotly-latest.min.js\"></script>                <div id=\"1ac0b815-f7e2-4354-9e0e-9c47abf75ae2\" class=\"plotly-graph-div\" style=\"height:600px; width:100%;\"></div>            <script type=\"text/javascript\">                                    window.PLOTLYENV=window.PLOTLYENV || {};                                    if (document.getElementById(\"1ac0b815-f7e2-4354-9e0e-9c47abf75ae2\")) {                    Plotly.newPlot(                        \"1ac0b815-f7e2-4354-9e0e-9c47abf75ae2\",                        [{\"hovertemplate\": \"Country Name=Australia<br>Year=2013<br>Adjusted net national income per capita (current US$)=%{x}<br>% 25+ completed at least Doctoral Degree=%{y}<br>Population, total=%{marker.size}<extra></extra>\", \"legendgroup\": \"Australia\", \"marker\": {\"color\": \"#636efa\", \"size\": [23128129], \"sizemode\": \"area\", \"sizeref\": 24948.53015625, \"symbol\": \"circle\"}, \"mode\": \"markers\", \"name\": \"Australia\", \"orientation\": \"v\", \"showlegend\": true, \"type\": \"scatter\", \"x\": [53920.0370293533], \"xaxis\": \"x\", \"y\": [0.9857800007], \"yaxis\": \"y\"}, {\"hovertemplate\": \"Country Name=Bangladesh<br>Year=2013<br>Adjusted net national income per capita (current US$)=%{x}<br>% 25+ completed at least Doctoral Degree=%{y}<br>Population, total=%{marker.size}<extra></extra>\", \"legendgroup\": \"Bangladesh\", \"marker\": {\"color\": \"#EF553B\", \"size\": [152764676], \"sizemode\": \"area\", \"sizeref\": 24948.53015625, \"symbol\": \"circle\"}, \"mode\": \"markers\", \"name\": \"Bangladesh\", \"orientation\": \"v\", \"showlegend\": true, \"type\": \"scatter\", \"x\": [972.9217209548], \"xaxis\": \"x\", \"y\": [0.0916299969], \"yaxis\": \"y\"}, {\"hovertemplate\": \"Country Name=Mexico<br>Year=2013<br>Adjusted net national income per capita (current US$)=%{x}<br>% 25+ completed at least Doctoral Degree=%{y}<br>Population, total=%{marker.size}<extra></extra>\", \"legendgroup\": \"Mexico\", \"marker\": {\"color\": \"#00cc96\", \"size\": [118827161], \"sizemode\": \"area\", \"sizeref\": 24948.53015625, \"symbol\": \"circle\"}, \"mode\": \"markers\", \"name\": \"Mexico\", \"orientation\": \"v\", \"showlegend\": true, \"type\": \"scatter\", \"x\": [8251.4125021299], \"xaxis\": \"x\", \"y\": [0.0850400031], \"yaxis\": \"y\"}, {\"hovertemplate\": \"Country Name=Serbia<br>Year=2013<br>Adjusted net national income per capita (current US$)=%{x}<br>% 25+ completed at least Doctoral Degree=%{y}<br>Population, total=%{marker.size}<extra></extra>\", \"legendgroup\": \"Serbia\", \"marker\": {\"color\": \"#ab63fa\", \"size\": [7164132], \"sizemode\": \"area\", \"sizeref\": 24948.53015625, \"symbol\": \"circle\"}, \"mode\": \"markers\", \"name\": \"Serbia\", \"orientation\": \"v\", \"showlegend\": true, \"type\": \"scatter\", \"x\": [5372.0923192738], \"xaxis\": \"x\", \"y\": [0.2833099961], \"yaxis\": \"y\"}, {\"hovertemplate\": \"Country Name=Sweden<br>Year=2013<br>Adjusted net national income per capita (current US$)=%{x}<br>% 25+ completed at least Doctoral Degree=%{y}<br>Population, total=%{marker.size}<extra></extra>\", \"legendgroup\": \"Sweden\", \"marker\": {\"color\": \"#FFA15A\", \"size\": [9600379], \"sizemode\": \"area\", \"sizeref\": 24948.53015625, \"symbol\": \"circle\"}, \"mode\": \"markers\", \"name\": \"Sweden\", \"orientation\": \"v\", \"showlegend\": true, \"type\": \"scatter\", \"x\": [52102.8838496507], \"xaxis\": \"x\", \"y\": [1.1589100361], \"yaxis\": \"y\"}],                        {\"height\": 600, \"legend\": {\"itemsizing\": \"constant\", \"title\": {\"text\": \"Country Name\"}, \"tracegroupgap\": 0}, \"sliders\": [{\"active\": 0, \"currentvalue\": {\"prefix\": \"Year=\"}, \"len\": 0.9, \"pad\": {\"b\": 10, \"t\": 60}, \"steps\": [{\"args\": [[\"2013\"], {\"frame\": {\"duration\": 0, \"redraw\": false}, \"fromcurrent\": true, \"mode\": \"immediate\", \"transition\": {\"duration\": 0, \"easing\": \"linear\"}}], \"label\": \"2013\", \"method\": \"animate\"}, {\"args\": [[\"2014\"], {\"frame\": {\"duration\": 0, \"redraw\": false}, \"fromcurrent\": true, \"mode\": \"immediate\", \"transition\": {\"duration\": 0, \"easing\": \"linear\"}}], \"label\": \"2014\", \"method\": \"animate\"}, {\"args\": [[\"2015\"], {\"frame\": {\"duration\": 0, \"redraw\": false}, \"fromcurrent\": true, \"mode\": \"immediate\", \"transition\": {\"duration\": 0, \"easing\": \"linear\"}}], \"label\": \"2015\", \"method\": \"animate\"}, {\"args\": [[\"2016\"], {\"frame\": {\"duration\": 0, \"redraw\": false}, \"fromcurrent\": true, \"mode\": \"immediate\", \"transition\": {\"duration\": 0, \"easing\": \"linear\"}}], \"label\": \"2016\", \"method\": \"animate\"}, {\"args\": [[\"2017\"], {\"frame\": {\"duration\": 0, \"redraw\": false}, \"fromcurrent\": true, \"mode\": \"immediate\", \"transition\": {\"duration\": 0, \"easing\": \"linear\"}}], \"label\": \"2017\", \"method\": \"animate\"}], \"x\": 0.1, \"xanchor\": \"left\", \"y\": 0, \"yanchor\": \"top\"}], \"template\": {\"data\": {\"bar\": [{\"error_x\": {\"color\": \"#f2f5fa\"}, \"error_y\": {\"color\": \"#f2f5fa\"}, \"marker\": {\"line\": {\"color\": \"rgb(17,17,17)\", \"width\": 0.5}}, \"type\": \"bar\"}], \"barpolar\": [{\"marker\": {\"line\": {\"color\": \"rgb(17,17,17)\", \"width\": 0.5}}, \"type\": \"barpolar\"}], \"carpet\": [{\"aaxis\": {\"endlinecolor\": \"#A2B1C6\", \"gridcolor\": \"#506784\", \"linecolor\": \"#506784\", \"minorgridcolor\": \"#506784\", \"startlinecolor\": \"#A2B1C6\"}, \"baxis\": {\"endlinecolor\": \"#A2B1C6\", \"gridcolor\": \"#506784\", \"linecolor\": \"#506784\", \"minorgridcolor\": \"#506784\", \"startlinecolor\": \"#A2B1C6\"}, \"type\": \"carpet\"}], \"choropleth\": [{\"colorbar\": {\"outlinewidth\": 0, \"ticks\": \"\"}, \"type\": \"choropleth\"}], \"contour\": [{\"colorbar\": {\"outlinewidth\": 0, \"ticks\": \"\"}, \"colorscale\": [[0.0, \"#0d0887\"], [0.1111111111111111, \"#46039f\"], [0.2222222222222222, \"#7201a8\"], [0.3333333333333333, \"#9c179e\"], [0.4444444444444444, \"#bd3786\"], [0.5555555555555556, \"#d8576b\"], [0.6666666666666666, \"#ed7953\"], [0.7777777777777778, \"#fb9f3a\"], [0.8888888888888888, \"#fdca26\"], [1.0, \"#f0f921\"]], \"type\": \"contour\"}], \"contourcarpet\": [{\"colorbar\": {\"outlinewidth\": 0, \"ticks\": \"\"}, \"type\": \"contourcarpet\"}], \"heatmap\": [{\"colorbar\": {\"outlinewidth\": 0, \"ticks\": \"\"}, \"colorscale\": [[0.0, \"#0d0887\"], [0.1111111111111111, \"#46039f\"], [0.2222222222222222, \"#7201a8\"], [0.3333333333333333, \"#9c179e\"], [0.4444444444444444, \"#bd3786\"], [0.5555555555555556, \"#d8576b\"], [0.6666666666666666, \"#ed7953\"], [0.7777777777777778, \"#fb9f3a\"], [0.8888888888888888, \"#fdca26\"], [1.0, \"#f0f921\"]], \"type\": \"heatmap\"}], \"heatmapgl\": [{\"colorbar\": {\"outlinewidth\": 0, \"ticks\": \"\"}, \"colorscale\": [[0.0, \"#0d0887\"], [0.1111111111111111, \"#46039f\"], [0.2222222222222222, \"#7201a8\"], [0.3333333333333333, \"#9c179e\"], [0.4444444444444444, \"#bd3786\"], [0.5555555555555556, \"#d8576b\"], [0.6666666666666666, \"#ed7953\"], [0.7777777777777778, \"#fb9f3a\"], [0.8888888888888888, \"#fdca26\"], [1.0, \"#f0f921\"]], \"type\": \"heatmapgl\"}], \"histogram\": [{\"marker\": {\"colorbar\": {\"outlinewidth\": 0, \"ticks\": \"\"}}, \"type\": \"histogram\"}], \"histogram2d\": [{\"colorbar\": {\"outlinewidth\": 0, \"ticks\": \"\"}, \"colorscale\": [[0.0, \"#0d0887\"], [0.1111111111111111, \"#46039f\"], [0.2222222222222222, \"#7201a8\"], [0.3333333333333333, \"#9c179e\"], [0.4444444444444444, \"#bd3786\"], [0.5555555555555556, \"#d8576b\"], [0.6666666666666666, \"#ed7953\"], [0.7777777777777778, \"#fb9f3a\"], [0.8888888888888888, \"#fdca26\"], [1.0, \"#f0f921\"]], \"type\": \"histogram2d\"}], \"histogram2dcontour\": [{\"colorbar\": {\"outlinewidth\": 0, \"ticks\": \"\"}, \"colorscale\": [[0.0, \"#0d0887\"], [0.1111111111111111, \"#46039f\"], [0.2222222222222222, \"#7201a8\"], [0.3333333333333333, \"#9c179e\"], [0.4444444444444444, \"#bd3786\"], [0.5555555555555556, \"#d8576b\"], [0.6666666666666666, \"#ed7953\"], [0.7777777777777778, \"#fb9f3a\"], [0.8888888888888888, \"#fdca26\"], [1.0, \"#f0f921\"]], \"type\": \"histogram2dcontour\"}], \"mesh3d\": [{\"colorbar\": {\"outlinewidth\": 0, \"ticks\": \"\"}, \"type\": \"mesh3d\"}], \"parcoords\": [{\"line\": {\"colorbar\": {\"outlinewidth\": 0, \"ticks\": \"\"}}, \"type\": \"parcoords\"}], \"pie\": [{\"automargin\": true, \"type\": \"pie\"}], \"scatter\": [{\"marker\": {\"line\": {\"color\": \"#283442\"}}, \"type\": \"scatter\"}], \"scatter3d\": [{\"line\": {\"colorbar\": {\"outlinewidth\": 0, \"ticks\": \"\"}}, \"marker\": {\"colorbar\": {\"outlinewidth\": 0, \"ticks\": \"\"}}, \"type\": \"scatter3d\"}], \"scattercarpet\": [{\"marker\": {\"colorbar\": {\"outlinewidth\": 0, \"ticks\": \"\"}}, \"type\": \"scattercarpet\"}], \"scattergeo\": [{\"marker\": {\"colorbar\": {\"outlinewidth\": 0, \"ticks\": \"\"}}, \"type\": \"scattergeo\"}], \"scattergl\": [{\"marker\": {\"line\": {\"color\": \"#283442\"}}, \"type\": \"scattergl\"}], \"scattermapbox\": [{\"marker\": {\"colorbar\": {\"outlinewidth\": 0, \"ticks\": \"\"}}, \"type\": \"scattermapbox\"}], \"scatterpolar\": [{\"marker\": {\"colorbar\": {\"outlinewidth\": 0, \"ticks\": \"\"}}, \"type\": \"scatterpolar\"}], \"scatterpolargl\": [{\"marker\": {\"colorbar\": {\"outlinewidth\": 0, \"ticks\": \"\"}}, \"type\": \"scatterpolargl\"}], \"scatterternary\": [{\"marker\": {\"colorbar\": {\"outlinewidth\": 0, \"ticks\": \"\"}}, \"type\": \"scatterternary\"}], \"surface\": [{\"colorbar\": {\"outlinewidth\": 0, \"ticks\": \"\"}, \"colorscale\": [[0.0, \"#0d0887\"], [0.1111111111111111, \"#46039f\"], [0.2222222222222222, \"#7201a8\"], [0.3333333333333333, \"#9c179e\"], [0.4444444444444444, \"#bd3786\"], [0.5555555555555556, \"#d8576b\"], [0.6666666666666666, \"#ed7953\"], [0.7777777777777778, \"#fb9f3a\"], [0.8888888888888888, \"#fdca26\"], [1.0, \"#f0f921\"]], \"type\": \"surface\"}], \"table\": [{\"cells\": {\"fill\": {\"color\": \"#506784\"}, \"line\": {\"color\": \"rgb(17,17,17)\"}}, \"header\": {\"fill\": {\"color\": \"#2a3f5f\"}, \"line\": {\"color\": \"rgb(17,17,17)\"}}, \"type\": \"table\"}]}, \"layout\": {\"annotationdefaults\": {\"arrowcolor\": \"#f2f5fa\", \"arrowhead\": 0, \"arrowwidth\": 1}, \"autotypenumbers\": \"strict\", \"coloraxis\": {\"colorbar\": {\"outlinewidth\": 0, \"ticks\": \"\"}}, \"colorscale\": {\"diverging\": [[0, \"#8e0152\"], [0.1, \"#c51b7d\"], [0.2, \"#de77ae\"], [0.3, \"#f1b6da\"], [0.4, \"#fde0ef\"], [0.5, \"#f7f7f7\"], [0.6, \"#e6f5d0\"], [0.7, \"#b8e186\"], [0.8, \"#7fbc41\"], [0.9, \"#4d9221\"], [1, \"#276419\"]], \"sequential\": [[0.0, \"#0d0887\"], [0.1111111111111111, \"#46039f\"], [0.2222222222222222, \"#7201a8\"], [0.3333333333333333, \"#9c179e\"], [0.4444444444444444, \"#bd3786\"], [0.5555555555555556, \"#d8576b\"], [0.6666666666666666, \"#ed7953\"], [0.7777777777777778, \"#fb9f3a\"], [0.8888888888888888, \"#fdca26\"], [1.0, \"#f0f921\"]], \"sequentialminus\": [[0.0, \"#0d0887\"], [0.1111111111111111, \"#46039f\"], [0.2222222222222222, \"#7201a8\"], [0.3333333333333333, \"#9c179e\"], [0.4444444444444444, \"#bd3786\"], [0.5555555555555556, \"#d8576b\"], [0.6666666666666666, \"#ed7953\"], [0.7777777777777778, \"#fb9f3a\"], [0.8888888888888888, \"#fdca26\"], [1.0, \"#f0f921\"]]}, \"colorway\": [\"#636efa\", \"#EF553B\", \"#00cc96\", \"#ab63fa\", \"#FFA15A\", \"#19d3f3\", \"#FF6692\", \"#B6E880\", \"#FF97FF\", \"#FECB52\"], \"font\": {\"color\": \"#f2f5fa\"}, \"geo\": {\"bgcolor\": \"rgb(17,17,17)\", \"lakecolor\": \"rgb(17,17,17)\", \"landcolor\": \"rgb(17,17,17)\", \"showlakes\": true, \"showland\": true, \"subunitcolor\": \"#506784\"}, \"hoverlabel\": {\"align\": \"left\"}, \"hovermode\": \"closest\", \"mapbox\": {\"style\": \"dark\"}, \"paper_bgcolor\": \"rgb(17,17,17)\", \"plot_bgcolor\": \"rgb(17,17,17)\", \"polar\": {\"angularaxis\": {\"gridcolor\": \"#506784\", \"linecolor\": \"#506784\", \"ticks\": \"\"}, \"bgcolor\": \"rgb(17,17,17)\", \"radialaxis\": {\"gridcolor\": \"#506784\", \"linecolor\": \"#506784\", \"ticks\": \"\"}}, \"scene\": {\"xaxis\": {\"backgroundcolor\": \"rgb(17,17,17)\", \"gridcolor\": \"#506784\", \"gridwidth\": 2, \"linecolor\": \"#506784\", \"showbackground\": true, \"ticks\": \"\", \"zerolinecolor\": \"#C8D4E3\"}, \"yaxis\": {\"backgroundcolor\": \"rgb(17,17,17)\", \"gridcolor\": \"#506784\", \"gridwidth\": 2, \"linecolor\": \"#506784\", \"showbackground\": true, \"ticks\": \"\", \"zerolinecolor\": \"#C8D4E3\"}, \"zaxis\": {\"backgroundcolor\": \"rgb(17,17,17)\", \"gridcolor\": \"#506784\", \"gridwidth\": 2, \"linecolor\": \"#506784\", \"showbackground\": true, \"ticks\": \"\", \"zerolinecolor\": \"#C8D4E3\"}}, \"shapedefaults\": {\"line\": {\"color\": \"#f2f5fa\"}}, \"sliderdefaults\": {\"bgcolor\": \"#C8D4E3\", \"bordercolor\": \"rgb(17,17,17)\", \"borderwidth\": 1, \"tickwidth\": 0}, \"ternary\": {\"aaxis\": {\"gridcolor\": \"#506784\", \"linecolor\": \"#506784\", \"ticks\": \"\"}, \"baxis\": {\"gridcolor\": \"#506784\", \"linecolor\": \"#506784\", \"ticks\": \"\"}, \"bgcolor\": \"rgb(17,17,17)\", \"caxis\": {\"gridcolor\": \"#506784\", \"linecolor\": \"#506784\", \"ticks\": \"\"}}, \"title\": {\"x\": 0.05}, \"updatemenudefaults\": {\"bgcolor\": \"#506784\", \"borderwidth\": 0}, \"xaxis\": {\"automargin\": true, \"gridcolor\": \"#283442\", \"linecolor\": \"#506784\", \"ticks\": \"\", \"title\": {\"standoff\": 15}, \"zerolinecolor\": \"#283442\", \"zerolinewidth\": 2}, \"yaxis\": {\"automargin\": true, \"gridcolor\": \"#283442\", \"linecolor\": \"#506784\", \"ticks\": \"\", \"title\": {\"standoff\": 15}, \"zerolinecolor\": \"#283442\", \"zerolinewidth\": 2}}}, \"title\": {\"text\": \"Bubble Size, Population, total\"}, \"updatemenus\": [{\"buttons\": [{\"args\": [null, {\"frame\": {\"duration\": 500, \"redraw\": false}, \"fromcurrent\": true, \"mode\": \"immediate\", \"transition\": {\"duration\": 500, \"easing\": \"linear\"}}], \"label\": \"&#9654;\", \"method\": \"animate\"}, {\"args\": [[null], {\"frame\": {\"duration\": 0, \"redraw\": false}, \"fromcurrent\": true, \"mode\": \"immediate\", \"transition\": {\"duration\": 0, \"easing\": \"linear\"}}], \"label\": \"&#9724;\", \"method\": \"animate\"}], \"direction\": \"left\", \"pad\": {\"r\": 10, \"t\": 70}, \"showactive\": false, \"type\": \"buttons\", \"x\": 0.1, \"xanchor\": \"right\", \"y\": 0, \"yanchor\": \"top\"}], \"xaxis\": {\"anchor\": \"y\", \"domain\": [0.0, 1.0], \"title\": {\"text\": \"Adjusted net national income per capita (current US$)\"}}, \"yaxis\": {\"anchor\": \"x\", \"domain\": [0.0, 1.0], \"range\": [0, 1.4170000315], \"title\": {\"text\": \"% 25+ completed at least Doctoral Degree\"}}},                        {\"responsive\": true}                    ).then(function(){\n                            Plotly.addFrames('1ac0b815-f7e2-4354-9e0e-9c47abf75ae2', [{\"data\": [{\"hovertemplate\": \"Country Name=Australia<br>Year=2013<br>Adjusted net national income per capita (current US$)=%{x}<br>% 25+ completed at least Doctoral Degree=%{y}<br>Population, total=%{marker.size}<extra></extra>\", \"legendgroup\": \"Australia\", \"marker\": {\"color\": \"#636efa\", \"size\": [23128129], \"sizemode\": \"area\", \"sizeref\": 24948.53015625, \"symbol\": \"circle\"}, \"mode\": \"markers\", \"name\": \"Australia\", \"orientation\": \"v\", \"showlegend\": true, \"x\": [53920.0370293533], \"xaxis\": \"x\", \"y\": [0.9857800007], \"yaxis\": \"y\", \"type\": \"scatter\"}, {\"hovertemplate\": \"Country Name=Bangladesh<br>Year=2013<br>Adjusted net national income per capita (current US$)=%{x}<br>% 25+ completed at least Doctoral Degree=%{y}<br>Population, total=%{marker.size}<extra></extra>\", \"legendgroup\": \"Bangladesh\", \"marker\": {\"color\": \"#EF553B\", \"size\": [152764676], \"sizemode\": \"area\", \"sizeref\": 24948.53015625, \"symbol\": \"circle\"}, \"mode\": \"markers\", \"name\": \"Bangladesh\", \"orientation\": \"v\", \"showlegend\": true, \"x\": [972.9217209548], \"xaxis\": \"x\", \"y\": [0.0916299969], \"yaxis\": \"y\", \"type\": \"scatter\"}, {\"hovertemplate\": \"Country Name=Mexico<br>Year=2013<br>Adjusted net national income per capita (current US$)=%{x}<br>% 25+ completed at least Doctoral Degree=%{y}<br>Population, total=%{marker.size}<extra></extra>\", \"legendgroup\": \"Mexico\", \"marker\": {\"color\": \"#00cc96\", \"size\": [118827161], \"sizemode\": \"area\", \"sizeref\": 24948.53015625, \"symbol\": \"circle\"}, \"mode\": \"markers\", \"name\": \"Mexico\", \"orientation\": \"v\", \"showlegend\": true, \"x\": [8251.4125021299], \"xaxis\": \"x\", \"y\": [0.0850400031], \"yaxis\": \"y\", \"type\": \"scatter\"}, {\"hovertemplate\": \"Country Name=Serbia<br>Year=2013<br>Adjusted net national income per capita (current US$)=%{x}<br>% 25+ completed at least Doctoral Degree=%{y}<br>Population, total=%{marker.size}<extra></extra>\", \"legendgroup\": \"Serbia\", \"marker\": {\"color\": \"#ab63fa\", \"size\": [7164132], \"sizemode\": \"area\", \"sizeref\": 24948.53015625, \"symbol\": \"circle\"}, \"mode\": \"markers\", \"name\": \"Serbia\", \"orientation\": \"v\", \"showlegend\": true, \"x\": [5372.0923192738], \"xaxis\": \"x\", \"y\": [0.2833099961], \"yaxis\": \"y\", \"type\": \"scatter\"}, {\"hovertemplate\": \"Country Name=Sweden<br>Year=2013<br>Adjusted net national income per capita (current US$)=%{x}<br>% 25+ completed at least Doctoral Degree=%{y}<br>Population, total=%{marker.size}<extra></extra>\", \"legendgroup\": \"Sweden\", \"marker\": {\"color\": \"#FFA15A\", \"size\": [9600379], \"sizemode\": \"area\", \"sizeref\": 24948.53015625, \"symbol\": \"circle\"}, \"mode\": \"markers\", \"name\": \"Sweden\", \"orientation\": \"v\", \"showlegend\": true, \"x\": [52102.8838496507], \"xaxis\": \"x\", \"y\": [1.1589100361], \"yaxis\": \"y\", \"type\": \"scatter\"}], \"name\": \"2013\"}, {\"data\": [{\"hovertemplate\": \"Country Name=Australia<br>Year=2014<br>Adjusted net national income per capita (current US$)=%{x}<br>% 25+ completed at least Doctoral Degree=%{y}<br>Population, total=%{marker.size}<extra></extra>\", \"legendgroup\": \"Australia\", \"marker\": {\"color\": \"#636efa\", \"size\": [23475686], \"sizemode\": \"area\", \"sizeref\": 24948.53015625, \"symbol\": \"circle\"}, \"mode\": \"markers\", \"name\": \"Australia\", \"orientation\": \"v\", \"showlegend\": true, \"x\": [48738.7479734066], \"xaxis\": \"x\", \"y\": [0.9340800047], \"yaxis\": \"y\", \"type\": \"scatter\"}, {\"hovertemplate\": \"Country Name=Bangladesh<br>Year=2014<br>Adjusted net national income per capita (current US$)=%{x}<br>% 25+ completed at least Doctoral Degree=%{y}<br>Population, total=%{marker.size}<extra></extra>\", \"legendgroup\": \"Bangladesh\", \"marker\": {\"color\": \"#EF553B\", \"size\": [154520167], \"sizemode\": \"area\", \"sizeref\": 24948.53015625, \"symbol\": \"circle\"}, \"mode\": \"markers\", \"name\": \"Bangladesh\", \"orientation\": \"v\", \"showlegend\": true, \"x\": [1091.4812041342], \"xaxis\": \"x\", \"y\": [0.0967900008], \"yaxis\": \"y\", \"type\": \"scatter\"}, {\"hovertemplate\": \"Country Name=Mexico<br>Year=2014<br>Adjusted net national income per capita (current US$)=%{x}<br>% 25+ completed at least Doctoral Degree=%{y}<br>Population, total=%{marker.size}<extra></extra>\", \"legendgroup\": \"Mexico\", \"marker\": {\"color\": \"#00cc96\", \"size\": [120355128], \"sizemode\": \"area\", \"sizeref\": 24948.53015625, \"symbol\": \"circle\"}, \"mode\": \"markers\", \"name\": \"Mexico\", \"orientation\": \"v\", \"showlegend\": true, \"x\": [8568.5255756291], \"xaxis\": \"x\", \"y\": [0.0840200037], \"yaxis\": \"y\", \"type\": \"scatter\"}, {\"hovertemplate\": \"Country Name=Serbia<br>Year=2014<br>Adjusted net national income per capita (current US$)=%{x}<br>% 25+ completed at least Doctoral Degree=%{y}<br>Population, total=%{marker.size}<extra></extra>\", \"legendgroup\": \"Serbia\", \"marker\": {\"color\": \"#ab63fa\", \"size\": [7130576], \"sizemode\": \"area\", \"sizeref\": 24948.53015625, \"symbol\": \"circle\"}, \"mode\": \"markers\", \"name\": \"Serbia\", \"orientation\": \"v\", \"showlegend\": true, \"x\": [5265.1250568294], \"xaxis\": \"x\", \"y\": [0.4092099965], \"yaxis\": \"y\", \"type\": \"scatter\"}, {\"hovertemplate\": \"Country Name=Sweden<br>Year=2014<br>Adjusted net national income per capita (current US$)=%{x}<br>% 25+ completed at least Doctoral Degree=%{y}<br>Population, total=%{marker.size}<extra></extra>\", \"legendgroup\": \"Sweden\", \"marker\": {\"color\": \"#FFA15A\", \"size\": [9696110], \"sizemode\": \"area\", \"sizeref\": 24948.53015625, \"symbol\": \"circle\"}, \"mode\": \"markers\", \"name\": \"Sweden\", \"orientation\": \"v\", \"showlegend\": true, \"x\": [51115.9438302665], \"xaxis\": \"x\", \"y\": [1.1831099987], \"yaxis\": \"y\", \"type\": \"scatter\"}], \"name\": \"2014\"}, {\"data\": [{\"hovertemplate\": \"Country Name=Australia<br>Year=2015<br>Adjusted net national income per capita (current US$)=%{x}<br>% 25+ completed at least Doctoral Degree=%{y}<br>Population, total=%{marker.size}<extra></extra>\", \"legendgroup\": \"Australia\", \"marker\": {\"color\": \"#636efa\", \"size\": [23815995], \"sizemode\": \"area\", \"sizeref\": 24948.53015625, \"symbol\": \"circle\"}, \"mode\": \"markers\", \"name\": \"Australia\", \"orientation\": \"v\", \"showlegend\": true, \"x\": [44352.1378460602], \"xaxis\": \"x\", \"y\": [1.3170000315], \"yaxis\": \"y\", \"type\": \"scatter\"}, {\"hovertemplate\": \"Country Name=Bangladesh<br>Year=2015<br>Adjusted net national income per capita (current US$)=%{x}<br>% 25+ completed at least Doctoral Degree=%{y}<br>Population, total=%{marker.size}<extra></extra>\", \"legendgroup\": \"Bangladesh\", \"marker\": {\"color\": \"#EF553B\", \"size\": [156256276], \"sizemode\": \"area\", \"sizeref\": 24948.53015625, \"symbol\": \"circle\"}, \"mode\": \"markers\", \"name\": \"Bangladesh\", \"orientation\": \"v\", \"showlegend\": true, \"x\": [1217.8435479379], \"xaxis\": \"x\", \"y\": [0.1583700031], \"yaxis\": \"y\", \"type\": \"scatter\"}, {\"hovertemplate\": \"Country Name=Mexico<br>Year=2015<br>Adjusted net national income per capita (current US$)=%{x}<br>% 25+ completed at least Doctoral Degree=%{y}<br>Population, total=%{marker.size}<extra></extra>\", \"legendgroup\": \"Mexico\", \"marker\": {\"color\": \"#00cc96\", \"size\": [121858258], \"sizemode\": \"area\", \"sizeref\": 24948.53015625, \"symbol\": \"circle\"}, \"mode\": \"markers\", \"name\": \"Mexico\", \"orientation\": \"v\", \"showlegend\": true, \"x\": [7638.8646525228], \"xaxis\": \"x\", \"y\": [0.2247699946], \"yaxis\": \"y\", \"type\": \"scatter\"}, {\"hovertemplate\": \"Country Name=Serbia<br>Year=2015<br>Adjusted net national income per capita (current US$)=%{x}<br>% 25+ completed at least Doctoral Degree=%{y}<br>Population, total=%{marker.size}<extra></extra>\", \"legendgroup\": \"Serbia\", \"marker\": {\"color\": \"#ab63fa\", \"size\": [7095383], \"sizemode\": \"area\", \"sizeref\": 24948.53015625, \"symbol\": \"circle\"}, \"mode\": \"markers\", \"name\": \"Serbia\", \"orientation\": \"v\", \"showlegend\": true, \"x\": [4418.4763412905], \"xaxis\": \"x\", \"y\": [0.3652099967], \"yaxis\": \"y\", \"type\": \"scatter\"}, {\"hovertemplate\": \"Country Name=Sweden<br>Year=2015<br>Adjusted net national income per capita (current US$)=%{x}<br>% 25+ completed at least Doctoral Degree=%{y}<br>Population, total=%{marker.size}<extra></extra>\", \"legendgroup\": \"Sweden\", \"marker\": {\"color\": \"#FFA15A\", \"size\": [9799186], \"sizemode\": \"area\", \"sizeref\": 24948.53015625, \"symbol\": \"circle\"}, \"mode\": \"markers\", \"name\": \"Sweden\", \"orientation\": \"v\", \"showlegend\": true, \"x\": [43378.4572568681], \"xaxis\": \"x\", \"y\": [1.2063599825], \"yaxis\": \"y\", \"type\": \"scatter\"}], \"name\": \"2015\"}, {\"data\": [{\"hovertemplate\": \"Country Name=Australia<br>Year=2016<br>Adjusted net national income per capita (current US$)=%{x}<br>% 25+ completed at least Doctoral Degree=%{y}<br>Population, total=%{marker.size}<extra></extra>\", \"legendgroup\": \"Australia\", \"marker\": {\"color\": \"#636efa\", \"size\": [24190907], \"sizemode\": \"area\", \"sizeref\": 24948.53015625, \"symbol\": \"circle\"}, \"mode\": \"markers\", \"name\": \"Australia\", \"orientation\": \"v\", \"showlegend\": true, \"x\": [39137.3003580273], \"xaxis\": \"x\", \"y\": [1.0824199915], \"yaxis\": \"y\", \"type\": \"scatter\"}, {\"hovertemplate\": \"Country Name=Bangladesh<br>Year=2016<br>Adjusted net national income per capita (current US$)=%{x}<br>% 25+ completed at least Doctoral Degree=%{y}<br>Population, total=%{marker.size}<extra></extra>\", \"legendgroup\": \"Bangladesh\", \"marker\": {\"color\": \"#EF553B\", \"size\": [157970840], \"sizemode\": \"area\", \"sizeref\": 24948.53015625, \"symbol\": \"circle\"}, \"mode\": \"markers\", \"name\": \"Bangladesh\", \"orientation\": \"v\", \"showlegend\": true, \"x\": [1360.2067836738], \"xaxis\": \"x\", \"y\": [0.165959999], \"yaxis\": \"y\", \"type\": \"scatter\"}, {\"hovertemplate\": \"Country Name=Mexico<br>Year=2016<br>Adjusted net national income per capita (current US$)=%{x}<br>% 25+ completed at least Doctoral Degree=%{y}<br>Population, total=%{marker.size}<extra></extra>\", \"legendgroup\": \"Mexico\", \"marker\": {\"color\": \"#00cc96\", \"size\": [123333376], \"sizemode\": \"area\", \"sizeref\": 24948.53015625, \"symbol\": \"circle\"}, \"mode\": \"markers\", \"name\": \"Mexico\", \"orientation\": \"v\", \"showlegend\": true, \"x\": [6905.1090466206], \"xaxis\": \"x\", \"y\": [0.0762600005], \"yaxis\": \"y\", \"type\": \"scatter\"}, {\"hovertemplate\": \"Country Name=Serbia<br>Year=2016<br>Adjusted net national income per capita (current US$)=%{x}<br>% 25+ completed at least Doctoral Degree=%{y}<br>Population, total=%{marker.size}<extra></extra>\", \"legendgroup\": \"Serbia\", \"marker\": {\"color\": \"#ab63fa\", \"size\": [7058322], \"sizemode\": \"area\", \"sizeref\": 24948.53015625, \"symbol\": \"circle\"}, \"mode\": \"markers\", \"name\": \"Serbia\", \"orientation\": \"v\", \"showlegend\": true, \"x\": [4506.0276261835], \"xaxis\": \"x\", \"y\": [0.482039988], \"yaxis\": \"y\", \"type\": \"scatter\"}, {\"hovertemplate\": \"Country Name=Sweden<br>Year=2016<br>Adjusted net national income per capita (current US$)=%{x}<br>% 25+ completed at least Doctoral Degree=%{y}<br>Population, total=%{marker.size}<extra></extra>\", \"legendgroup\": \"Sweden\", \"marker\": {\"color\": \"#FFA15A\", \"size\": [9923085], \"sizemode\": \"area\", \"sizeref\": 24948.53015625, \"symbol\": \"circle\"}, \"mode\": \"markers\", \"name\": \"Sweden\", \"orientation\": \"v\", \"showlegend\": true, \"x\": [43615.537713492], \"xaxis\": \"x\", \"y\": [1.2218099833], \"yaxis\": \"y\", \"type\": \"scatter\"}], \"name\": \"2016\"}, {\"data\": [{\"hovertemplate\": \"Country Name=Australia<br>Year=2017<br>Adjusted net national income per capita (current US$)=%{x}<br>% 25+ completed at least Doctoral Degree=%{y}<br>Population, total=%{marker.size}<extra></extra>\", \"legendgroup\": \"Australia\", \"marker\": {\"color\": \"#636efa\", \"size\": [24601860], \"sizemode\": \"area\", \"sizeref\": 24948.53015625, \"symbol\": \"circle\"}, \"mode\": \"markers\", \"name\": \"Australia\", \"orientation\": \"v\", \"showlegend\": true, \"x\": [42036.7964195284], \"xaxis\": \"x\", \"y\": [1.2035000324], \"yaxis\": \"y\", \"type\": \"scatter\"}, {\"hovertemplate\": \"Country Name=Bangladesh<br>Year=2017<br>Adjusted net national income per capita (current US$)=%{x}<br>% 25+ completed at least Doctoral Degree=%{y}<br>Population, total=%{marker.size}<extra></extra>\", \"legendgroup\": \"Bangladesh\", \"marker\": {\"color\": \"#EF553B\", \"size\": [159670593], \"sizemode\": \"area\", \"sizeref\": 24948.53015625, \"symbol\": \"circle\"}, \"mode\": \"markers\", \"name\": \"Bangladesh\", \"orientation\": \"v\", \"showlegend\": true, \"x\": [1493.5547956769], \"xaxis\": \"x\", \"y\": [0.1794099957], \"yaxis\": \"y\", \"type\": \"scatter\"}, {\"hovertemplate\": \"Country Name=Mexico<br>Year=2017<br>Adjusted net national income per capita (current US$)=%{x}<br>% 25+ completed at least Doctoral Degree=%{y}<br>Population, total=%{marker.size}<extra></extra>\", \"legendgroup\": \"Mexico\", \"marker\": {\"color\": \"#00cc96\", \"size\": [124777324], \"sizemode\": \"area\", \"sizeref\": 24948.53015625, \"symbol\": \"circle\"}, \"mode\": \"markers\", \"name\": \"Mexico\", \"orientation\": \"v\", \"showlegend\": true, \"x\": [7283.8616644185], \"xaxis\": \"x\", \"y\": [0.0768100023], \"yaxis\": \"y\", \"type\": \"scatter\"}, {\"hovertemplate\": \"Country Name=Serbia<br>Year=2017<br>Adjusted net national income per capita (current US$)=%{x}<br>% 25+ completed at least Doctoral Degree=%{y}<br>Population, total=%{marker.size}<extra></extra>\", \"legendgroup\": \"Serbia\", \"marker\": {\"color\": \"#ab63fa\", \"size\": [7020858], \"sizemode\": \"area\", \"sizeref\": 24948.53015625, \"symbol\": \"circle\"}, \"mode\": \"markers\", \"name\": \"Serbia\", \"orientation\": \"v\", \"showlegend\": true, \"x\": [4830.4828941008], \"xaxis\": \"x\", \"y\": [0.3932299912], \"yaxis\": \"y\", \"type\": \"scatter\"}, {\"hovertemplate\": \"Country Name=Sweden<br>Year=2017<br>Adjusted net national income per capita (current US$)=%{x}<br>% 25+ completed at least Doctoral Degree=%{y}<br>Population, total=%{marker.size}<extra></extra>\", \"legendgroup\": \"Sweden\", \"marker\": {\"color\": \"#FFA15A\", \"size\": [10057698], \"sizemode\": \"area\", \"sizeref\": 24948.53015625, \"symbol\": \"circle\"}, \"mode\": \"markers\", \"name\": \"Sweden\", \"orientation\": \"v\", \"showlegend\": true, \"x\": [45629.4411121591], \"xaxis\": \"x\", \"y\": [1.2449100018], \"yaxis\": \"y\", \"type\": \"scatter\"}], \"name\": \"2017\"}]);\n                        }).then(function(){\n                            \nvar gd = document.getElementById('1ac0b815-f7e2-4354-9e0e-9c47abf75ae2');\nvar x = new MutationObserver(function (mutations, observer) {{\n        var display = window.getComputedStyle(gd).display;\n        if (!display || display === 'none') {{\n            console.log([gd, 'removed!']);\n            Plotly.purge(gd);\n            observer.disconnect();\n        }}\n}});\n\n// Listen for the removal of the full notebook cells\nvar notebookContainer = gd.closest('#notebook-container');\nif (notebookContainer) {{\n    x.observe(notebookContainer, {childList: true});\n}}\n\n// Listen for the clearing of the current output cell\nvar outputEl = gd.closest('.output');\nif (outputEl) {{\n    x.observe(outputEl, {childList: true});\n}}\n\n                        })                };                            </script>        </div>\n</body>\n</html>"
     },
     "metadata": {},
     "output_type": "display_data"
    }
   ],
   "execution_count": 135
  },
  {
   "cell_type": "markdown",
   "source": "### Two data walk into a bar....\n \nNow seeing that there is an established trend that wealth and educational attainment certainly are strongly correlated we can dive deeper. I want to take a closer look at Bachelor's degree attainment. \n \nThe bar graphs reiterate the findings established above. But they make the contrast clearer than ever. The bar graphs show a substantial difference between the leaders and the laggards. But that distinction almost jumps out of the screen when looking at the second bar graph. Here we see how much factors like education contribute to a nation's wealth and the wealth of its citizens.\n",
   "metadata": {
    "tags": [],
    "cell_id": "00006-b6b70ef0-2e88-4039-adfa-d35659726b95",
    "deepnote_cell_type": "markdown"
   }
  },
  {
   "cell_type": "code",
   "source": "fig = px.bar(data_frame = df_higher_ed,\n                 height=600,\n                 title= '% 25+ completed at least Bachelor\\'s Degree by Country',\n                 labels= {\n                   \"NY.ADJ.NNTY.PC.CD\": 'Adjusted net national income per capita (current US$)',\n                    'SE.TER.CUAT.BA.ZS': '% 25+ completed at least Bachelor\\'s Degree',\n                    'SP.POP.TOTL' : 'Population, total'\n                 },\n                 x='Country Name',\n                 y='SE.TER.CUAT.BA.ZS',\n                 color=\"Country Name\",\n                 animation_frame=\"Year\")\nfig.update_xaxes(categoryorder='total descending')                 \n\nfig.show()                ",
   "metadata": {
    "tags": [],
    "cell_id": "00018-8e2355a9-ea91-4e52-9999-299829e1d574",
    "deepnote_to_be_reexecuted": false,
    "source_hash": "ee131634",
    "execution_start": 1621809777636,
    "execution_millis": 109,
    "deepnote_cell_type": "code"
   },
   "outputs": [
    {
     "data": {
      "text/html": "<html>\n<head><meta charset=\"utf-8\" /></head>\n<body>\n    <div>            <script src=\"https://cdnjs.cloudflare.com/ajax/libs/mathjax/2.7.5/MathJax.js?config=TeX-AMS-MML_SVG\"></script><script type=\"text/javascript\">if (window.MathJax) {MathJax.Hub.Config({SVG: {font: \"STIX-Web\"}});}</script>                <script type=\"text/javascript\">window.PlotlyConfig = {MathJaxConfig: 'local'};</script>\n        <script src=\"https://cdn.plot.ly/plotly-latest.min.js\"></script>                <div id=\"62b12928-7cea-4b20-a159-399bdef2e4b6\" class=\"plotly-graph-div\" style=\"height:600px; width:100%;\"></div>            <script type=\"text/javascript\">                                    window.PLOTLYENV=window.PLOTLYENV || {};                                    if (document.getElementById(\"62b12928-7cea-4b20-a159-399bdef2e4b6\")) {                    Plotly.newPlot(                        \"62b12928-7cea-4b20-a159-399bdef2e4b6\",                        [{\"alignmentgroup\": \"True\", \"hovertemplate\": \"Country Name=%{x}<br>Year=2013<br>% 25+ completed at least Bachelor's Degree=%{y}<extra></extra>\", \"legendgroup\": \"Australia\", \"marker\": {\"color\": \"#636efa\"}, \"name\": \"Australia\", \"offsetgroup\": \"Australia\", \"orientation\": \"v\", \"showlegend\": true, \"textposition\": \"auto\", \"type\": \"bar\", \"x\": [\"Australia\"], \"xaxis\": \"x\", \"y\": [26.7436008453], \"yaxis\": \"y\"}, {\"alignmentgroup\": \"True\", \"hovertemplate\": \"Country Name=%{x}<br>Year=2013<br>% 25+ completed at least Bachelor's Degree=%{y}<extra></extra>\", \"legendgroup\": \"Bangladesh\", \"marker\": {\"color\": \"#EF553B\"}, \"name\": \"Bangladesh\", \"offsetgroup\": \"Bangladesh\", \"orientation\": \"v\", \"showlegend\": true, \"textposition\": \"auto\", \"type\": \"bar\", \"x\": [\"Bangladesh\"], \"xaxis\": \"x\", \"y\": [5.5023198128], \"yaxis\": \"y\"}, {\"alignmentgroup\": \"True\", \"hovertemplate\": \"Country Name=%{x}<br>Year=2013<br>% 25+ completed at least Bachelor's Degree=%{y}<extra></extra>\", \"legendgroup\": \"Mexico\", \"marker\": {\"color\": \"#00cc96\"}, \"name\": \"Mexico\", \"offsetgroup\": \"Mexico\", \"orientation\": \"v\", \"showlegend\": true, \"textposition\": \"auto\", \"type\": \"bar\", \"x\": [\"Mexico\"], \"xaxis\": \"x\", \"y\": [14.3226099014], \"yaxis\": \"y\"}, {\"alignmentgroup\": \"True\", \"hovertemplate\": \"Country Name=%{x}<br>Year=2013<br>% 25+ completed at least Bachelor's Degree=%{y}<extra></extra>\", \"legendgroup\": \"Serbia\", \"marker\": {\"color\": \"#ab63fa\"}, \"name\": \"Serbia\", \"offsetgroup\": \"Serbia\", \"orientation\": \"v\", \"showlegend\": true, \"textposition\": \"auto\", \"type\": \"bar\", \"x\": [\"Serbia\"], \"xaxis\": \"x\", \"y\": [11.4581804276], \"yaxis\": \"y\"}, {\"alignmentgroup\": \"True\", \"hovertemplate\": \"Country Name=%{x}<br>Year=2013<br>% 25+ completed at least Bachelor's Degree=%{y}<extra></extra>\", \"legendgroup\": \"Sweden\", \"marker\": {\"color\": \"#FFA15A\"}, \"name\": \"Sweden\", \"offsetgroup\": \"Sweden\", \"orientation\": \"v\", \"showlegend\": true, \"textposition\": \"auto\", \"type\": \"bar\", \"x\": [\"Sweden\"], \"xaxis\": \"x\", \"y\": [22.039850235], \"yaxis\": \"y\"}],                        {\"barmode\": \"relative\", \"height\": 600, \"legend\": {\"title\": {\"text\": \"Country Name\"}, \"tracegroupgap\": 0}, \"sliders\": [{\"active\": 0, \"currentvalue\": {\"prefix\": \"Year=\"}, \"len\": 0.9, \"pad\": {\"b\": 10, \"t\": 60}, \"steps\": [{\"args\": [[\"2013\"], {\"frame\": {\"duration\": 0, \"redraw\": true}, \"fromcurrent\": true, \"mode\": \"immediate\", \"transition\": {\"duration\": 0, \"easing\": \"linear\"}}], \"label\": \"2013\", \"method\": \"animate\"}, {\"args\": [[\"2014\"], {\"frame\": {\"duration\": 0, \"redraw\": true}, \"fromcurrent\": true, \"mode\": \"immediate\", \"transition\": {\"duration\": 0, \"easing\": \"linear\"}}], \"label\": \"2014\", \"method\": \"animate\"}, {\"args\": [[\"2015\"], {\"frame\": {\"duration\": 0, \"redraw\": true}, \"fromcurrent\": true, \"mode\": \"immediate\", \"transition\": {\"duration\": 0, \"easing\": \"linear\"}}], \"label\": \"2015\", \"method\": \"animate\"}, {\"args\": [[\"2016\"], {\"frame\": {\"duration\": 0, \"redraw\": true}, \"fromcurrent\": true, \"mode\": \"immediate\", \"transition\": {\"duration\": 0, \"easing\": \"linear\"}}], \"label\": \"2016\", \"method\": \"animate\"}, {\"args\": [[\"2017\"], {\"frame\": {\"duration\": 0, \"redraw\": true}, \"fromcurrent\": true, \"mode\": \"immediate\", \"transition\": {\"duration\": 0, \"easing\": \"linear\"}}], \"label\": \"2017\", \"method\": \"animate\"}], \"x\": 0.1, \"xanchor\": \"left\", \"y\": 0, \"yanchor\": \"top\"}], \"template\": {\"data\": {\"bar\": [{\"error_x\": {\"color\": \"#f2f5fa\"}, \"error_y\": {\"color\": \"#f2f5fa\"}, \"marker\": {\"line\": {\"color\": \"rgb(17,17,17)\", \"width\": 0.5}}, \"type\": \"bar\"}], \"barpolar\": [{\"marker\": {\"line\": {\"color\": \"rgb(17,17,17)\", \"width\": 0.5}}, \"type\": \"barpolar\"}], \"carpet\": [{\"aaxis\": {\"endlinecolor\": \"#A2B1C6\", \"gridcolor\": \"#506784\", \"linecolor\": \"#506784\", \"minorgridcolor\": \"#506784\", \"startlinecolor\": \"#A2B1C6\"}, \"baxis\": {\"endlinecolor\": \"#A2B1C6\", \"gridcolor\": \"#506784\", \"linecolor\": \"#506784\", \"minorgridcolor\": \"#506784\", \"startlinecolor\": \"#A2B1C6\"}, \"type\": \"carpet\"}], \"choropleth\": [{\"colorbar\": {\"outlinewidth\": 0, \"ticks\": \"\"}, \"type\": \"choropleth\"}], \"contour\": [{\"colorbar\": {\"outlinewidth\": 0, \"ticks\": \"\"}, \"colorscale\": [[0.0, \"#0d0887\"], [0.1111111111111111, \"#46039f\"], [0.2222222222222222, \"#7201a8\"], [0.3333333333333333, \"#9c179e\"], [0.4444444444444444, \"#bd3786\"], [0.5555555555555556, \"#d8576b\"], [0.6666666666666666, \"#ed7953\"], [0.7777777777777778, \"#fb9f3a\"], [0.8888888888888888, \"#fdca26\"], [1.0, \"#f0f921\"]], \"type\": \"contour\"}], \"contourcarpet\": [{\"colorbar\": {\"outlinewidth\": 0, \"ticks\": \"\"}, \"type\": \"contourcarpet\"}], \"heatmap\": [{\"colorbar\": {\"outlinewidth\": 0, \"ticks\": \"\"}, \"colorscale\": [[0.0, \"#0d0887\"], [0.1111111111111111, \"#46039f\"], [0.2222222222222222, \"#7201a8\"], [0.3333333333333333, \"#9c179e\"], [0.4444444444444444, \"#bd3786\"], [0.5555555555555556, \"#d8576b\"], [0.6666666666666666, \"#ed7953\"], [0.7777777777777778, \"#fb9f3a\"], [0.8888888888888888, \"#fdca26\"], [1.0, \"#f0f921\"]], \"type\": \"heatmap\"}], \"heatmapgl\": [{\"colorbar\": {\"outlinewidth\": 0, \"ticks\": \"\"}, \"colorscale\": [[0.0, \"#0d0887\"], [0.1111111111111111, \"#46039f\"], [0.2222222222222222, \"#7201a8\"], [0.3333333333333333, \"#9c179e\"], [0.4444444444444444, \"#bd3786\"], [0.5555555555555556, \"#d8576b\"], [0.6666666666666666, \"#ed7953\"], [0.7777777777777778, \"#fb9f3a\"], [0.8888888888888888, \"#fdca26\"], [1.0, \"#f0f921\"]], \"type\": \"heatmapgl\"}], \"histogram\": [{\"marker\": {\"colorbar\": {\"outlinewidth\": 0, \"ticks\": \"\"}}, \"type\": \"histogram\"}], \"histogram2d\": [{\"colorbar\": {\"outlinewidth\": 0, \"ticks\": \"\"}, \"colorscale\": [[0.0, \"#0d0887\"], [0.1111111111111111, \"#46039f\"], [0.2222222222222222, \"#7201a8\"], [0.3333333333333333, \"#9c179e\"], [0.4444444444444444, \"#bd3786\"], [0.5555555555555556, \"#d8576b\"], [0.6666666666666666, \"#ed7953\"], [0.7777777777777778, \"#fb9f3a\"], [0.8888888888888888, \"#fdca26\"], [1.0, \"#f0f921\"]], \"type\": \"histogram2d\"}], \"histogram2dcontour\": [{\"colorbar\": {\"outlinewidth\": 0, \"ticks\": \"\"}, \"colorscale\": [[0.0, \"#0d0887\"], [0.1111111111111111, \"#46039f\"], [0.2222222222222222, \"#7201a8\"], [0.3333333333333333, \"#9c179e\"], [0.4444444444444444, \"#bd3786\"], [0.5555555555555556, \"#d8576b\"], [0.6666666666666666, \"#ed7953\"], [0.7777777777777778, \"#fb9f3a\"], [0.8888888888888888, \"#fdca26\"], [1.0, \"#f0f921\"]], \"type\": \"histogram2dcontour\"}], \"mesh3d\": [{\"colorbar\": {\"outlinewidth\": 0, \"ticks\": \"\"}, \"type\": \"mesh3d\"}], \"parcoords\": [{\"line\": {\"colorbar\": {\"outlinewidth\": 0, \"ticks\": \"\"}}, \"type\": \"parcoords\"}], \"pie\": [{\"automargin\": true, \"type\": \"pie\"}], \"scatter\": [{\"marker\": {\"line\": {\"color\": \"#283442\"}}, \"type\": \"scatter\"}], \"scatter3d\": [{\"line\": {\"colorbar\": {\"outlinewidth\": 0, \"ticks\": \"\"}}, \"marker\": {\"colorbar\": {\"outlinewidth\": 0, \"ticks\": \"\"}}, \"type\": \"scatter3d\"}], \"scattercarpet\": [{\"marker\": {\"colorbar\": {\"outlinewidth\": 0, \"ticks\": \"\"}}, \"type\": \"scattercarpet\"}], \"scattergeo\": [{\"marker\": {\"colorbar\": {\"outlinewidth\": 0, \"ticks\": \"\"}}, \"type\": \"scattergeo\"}], \"scattergl\": [{\"marker\": {\"line\": {\"color\": \"#283442\"}}, \"type\": \"scattergl\"}], \"scattermapbox\": [{\"marker\": {\"colorbar\": {\"outlinewidth\": 0, \"ticks\": \"\"}}, \"type\": \"scattermapbox\"}], \"scatterpolar\": [{\"marker\": {\"colorbar\": {\"outlinewidth\": 0, \"ticks\": \"\"}}, \"type\": \"scatterpolar\"}], \"scatterpolargl\": [{\"marker\": {\"colorbar\": {\"outlinewidth\": 0, \"ticks\": \"\"}}, \"type\": \"scatterpolargl\"}], \"scatterternary\": [{\"marker\": {\"colorbar\": {\"outlinewidth\": 0, \"ticks\": \"\"}}, \"type\": \"scatterternary\"}], \"surface\": [{\"colorbar\": {\"outlinewidth\": 0, \"ticks\": \"\"}, \"colorscale\": [[0.0, \"#0d0887\"], [0.1111111111111111, \"#46039f\"], [0.2222222222222222, \"#7201a8\"], [0.3333333333333333, \"#9c179e\"], [0.4444444444444444, \"#bd3786\"], [0.5555555555555556, \"#d8576b\"], [0.6666666666666666, \"#ed7953\"], [0.7777777777777778, \"#fb9f3a\"], [0.8888888888888888, \"#fdca26\"], [1.0, \"#f0f921\"]], \"type\": \"surface\"}], \"table\": [{\"cells\": {\"fill\": {\"color\": \"#506784\"}, \"line\": {\"color\": \"rgb(17,17,17)\"}}, \"header\": {\"fill\": {\"color\": \"#2a3f5f\"}, \"line\": {\"color\": \"rgb(17,17,17)\"}}, \"type\": \"table\"}]}, \"layout\": {\"annotationdefaults\": {\"arrowcolor\": \"#f2f5fa\", \"arrowhead\": 0, \"arrowwidth\": 1}, \"autotypenumbers\": \"strict\", \"coloraxis\": {\"colorbar\": {\"outlinewidth\": 0, \"ticks\": \"\"}}, \"colorscale\": {\"diverging\": [[0, \"#8e0152\"], [0.1, \"#c51b7d\"], [0.2, \"#de77ae\"], [0.3, \"#f1b6da\"], [0.4, \"#fde0ef\"], [0.5, \"#f7f7f7\"], [0.6, \"#e6f5d0\"], [0.7, \"#b8e186\"], [0.8, \"#7fbc41\"], [0.9, \"#4d9221\"], [1, \"#276419\"]], \"sequential\": [[0.0, \"#0d0887\"], [0.1111111111111111, \"#46039f\"], [0.2222222222222222, \"#7201a8\"], [0.3333333333333333, \"#9c179e\"], [0.4444444444444444, \"#bd3786\"], [0.5555555555555556, \"#d8576b\"], [0.6666666666666666, \"#ed7953\"], [0.7777777777777778, \"#fb9f3a\"], [0.8888888888888888, \"#fdca26\"], [1.0, \"#f0f921\"]], \"sequentialminus\": [[0.0, \"#0d0887\"], [0.1111111111111111, \"#46039f\"], [0.2222222222222222, \"#7201a8\"], [0.3333333333333333, \"#9c179e\"], [0.4444444444444444, \"#bd3786\"], [0.5555555555555556, \"#d8576b\"], [0.6666666666666666, \"#ed7953\"], [0.7777777777777778, \"#fb9f3a\"], [0.8888888888888888, \"#fdca26\"], [1.0, \"#f0f921\"]]}, \"colorway\": [\"#636efa\", \"#EF553B\", \"#00cc96\", \"#ab63fa\", \"#FFA15A\", \"#19d3f3\", \"#FF6692\", \"#B6E880\", \"#FF97FF\", \"#FECB52\"], \"font\": {\"color\": \"#f2f5fa\"}, \"geo\": {\"bgcolor\": \"rgb(17,17,17)\", \"lakecolor\": \"rgb(17,17,17)\", \"landcolor\": \"rgb(17,17,17)\", \"showlakes\": true, \"showland\": true, \"subunitcolor\": \"#506784\"}, \"hoverlabel\": {\"align\": \"left\"}, \"hovermode\": \"closest\", \"mapbox\": {\"style\": \"dark\"}, \"paper_bgcolor\": \"rgb(17,17,17)\", \"plot_bgcolor\": \"rgb(17,17,17)\", \"polar\": {\"angularaxis\": {\"gridcolor\": \"#506784\", \"linecolor\": \"#506784\", \"ticks\": \"\"}, \"bgcolor\": \"rgb(17,17,17)\", \"radialaxis\": {\"gridcolor\": \"#506784\", \"linecolor\": \"#506784\", \"ticks\": \"\"}}, \"scene\": {\"xaxis\": {\"backgroundcolor\": \"rgb(17,17,17)\", \"gridcolor\": \"#506784\", \"gridwidth\": 2, \"linecolor\": \"#506784\", \"showbackground\": true, \"ticks\": \"\", \"zerolinecolor\": \"#C8D4E3\"}, \"yaxis\": {\"backgroundcolor\": \"rgb(17,17,17)\", \"gridcolor\": \"#506784\", \"gridwidth\": 2, \"linecolor\": \"#506784\", \"showbackground\": true, \"ticks\": \"\", \"zerolinecolor\": \"#C8D4E3\"}, \"zaxis\": {\"backgroundcolor\": \"rgb(17,17,17)\", \"gridcolor\": \"#506784\", \"gridwidth\": 2, \"linecolor\": \"#506784\", \"showbackground\": true, \"ticks\": \"\", \"zerolinecolor\": \"#C8D4E3\"}}, \"shapedefaults\": {\"line\": {\"color\": \"#f2f5fa\"}}, \"sliderdefaults\": {\"bgcolor\": \"#C8D4E3\", \"bordercolor\": \"rgb(17,17,17)\", \"borderwidth\": 1, \"tickwidth\": 0}, \"ternary\": {\"aaxis\": {\"gridcolor\": \"#506784\", \"linecolor\": \"#506784\", \"ticks\": \"\"}, \"baxis\": {\"gridcolor\": \"#506784\", \"linecolor\": \"#506784\", \"ticks\": \"\"}, \"bgcolor\": \"rgb(17,17,17)\", \"caxis\": {\"gridcolor\": \"#506784\", \"linecolor\": \"#506784\", \"ticks\": \"\"}}, \"title\": {\"x\": 0.05}, \"updatemenudefaults\": {\"bgcolor\": \"#506784\", \"borderwidth\": 0}, \"xaxis\": {\"automargin\": true, \"gridcolor\": \"#283442\", \"linecolor\": \"#506784\", \"ticks\": \"\", \"title\": {\"standoff\": 15}, \"zerolinecolor\": \"#283442\", \"zerolinewidth\": 2}, \"yaxis\": {\"automargin\": true, \"gridcolor\": \"#283442\", \"linecolor\": \"#506784\", \"ticks\": \"\", \"title\": {\"standoff\": 15}, \"zerolinecolor\": \"#283442\", \"zerolinewidth\": 2}}}, \"title\": {\"text\": \"% 25+ completed at least Bachelor's Degree by Country\"}, \"updatemenus\": [{\"buttons\": [{\"args\": [null, {\"frame\": {\"duration\": 500, \"redraw\": true}, \"fromcurrent\": true, \"mode\": \"immediate\", \"transition\": {\"duration\": 500, \"easing\": \"linear\"}}], \"label\": \"&#9654;\", \"method\": \"animate\"}, {\"args\": [[null], {\"frame\": {\"duration\": 0, \"redraw\": true}, \"fromcurrent\": true, \"mode\": \"immediate\", \"transition\": {\"duration\": 0, \"easing\": \"linear\"}}], \"label\": \"&#9724;\", \"method\": \"animate\"}], \"direction\": \"left\", \"pad\": {\"r\": 10, \"t\": 70}, \"showactive\": false, \"type\": \"buttons\", \"x\": 0.1, \"xanchor\": \"right\", \"y\": 0, \"yanchor\": \"top\"}], \"xaxis\": {\"anchor\": \"y\", \"categoryarray\": [\"Australia\", \"Bangladesh\", \"Mexico\", \"Serbia\", \"Sweden\"], \"categoryorder\": \"total descending\", \"domain\": [0.0, 1.0], \"title\": {\"text\": \"Country Name\"}}, \"yaxis\": {\"anchor\": \"x\", \"domain\": [0.0, 1.0], \"title\": {\"text\": \"% 25+ completed at least Bachelor's Degree\"}}},                        {\"responsive\": true}                    ).then(function(){\n                            Plotly.addFrames('62b12928-7cea-4b20-a159-399bdef2e4b6', [{\"data\": [{\"alignmentgroup\": \"True\", \"hovertemplate\": \"Country Name=%{x}<br>Year=2013<br>% 25+ completed at least Bachelor's Degree=%{y}<extra></extra>\", \"legendgroup\": \"Australia\", \"marker\": {\"color\": \"#636efa\"}, \"name\": \"Australia\", \"offsetgroup\": \"Australia\", \"orientation\": \"v\", \"showlegend\": true, \"textposition\": \"auto\", \"x\": [\"Australia\"], \"xaxis\": \"x\", \"y\": [26.7436008453], \"yaxis\": \"y\", \"type\": \"bar\"}, {\"alignmentgroup\": \"True\", \"hovertemplate\": \"Country Name=%{x}<br>Year=2013<br>% 25+ completed at least Bachelor's Degree=%{y}<extra></extra>\", \"legendgroup\": \"Bangladesh\", \"marker\": {\"color\": \"#EF553B\"}, \"name\": \"Bangladesh\", \"offsetgroup\": \"Bangladesh\", \"orientation\": \"v\", \"showlegend\": true, \"textposition\": \"auto\", \"x\": [\"Bangladesh\"], \"xaxis\": \"x\", \"y\": [5.5023198128], \"yaxis\": \"y\", \"type\": \"bar\"}, {\"alignmentgroup\": \"True\", \"hovertemplate\": \"Country Name=%{x}<br>Year=2013<br>% 25+ completed at least Bachelor's Degree=%{y}<extra></extra>\", \"legendgroup\": \"Mexico\", \"marker\": {\"color\": \"#00cc96\"}, \"name\": \"Mexico\", \"offsetgroup\": \"Mexico\", \"orientation\": \"v\", \"showlegend\": true, \"textposition\": \"auto\", \"x\": [\"Mexico\"], \"xaxis\": \"x\", \"y\": [14.3226099014], \"yaxis\": \"y\", \"type\": \"bar\"}, {\"alignmentgroup\": \"True\", \"hovertemplate\": \"Country Name=%{x}<br>Year=2013<br>% 25+ completed at least Bachelor's Degree=%{y}<extra></extra>\", \"legendgroup\": \"Serbia\", \"marker\": {\"color\": \"#ab63fa\"}, \"name\": \"Serbia\", \"offsetgroup\": \"Serbia\", \"orientation\": \"v\", \"showlegend\": true, \"textposition\": \"auto\", \"x\": [\"Serbia\"], \"xaxis\": \"x\", \"y\": [11.4581804276], \"yaxis\": \"y\", \"type\": \"bar\"}, {\"alignmentgroup\": \"True\", \"hovertemplate\": \"Country Name=%{x}<br>Year=2013<br>% 25+ completed at least Bachelor's Degree=%{y}<extra></extra>\", \"legendgroup\": \"Sweden\", \"marker\": {\"color\": \"#FFA15A\"}, \"name\": \"Sweden\", \"offsetgroup\": \"Sweden\", \"orientation\": \"v\", \"showlegend\": true, \"textposition\": \"auto\", \"x\": [\"Sweden\"], \"xaxis\": \"x\", \"y\": [22.039850235], \"yaxis\": \"y\", \"type\": \"bar\"}], \"name\": \"2013\"}, {\"data\": [{\"alignmentgroup\": \"True\", \"hovertemplate\": \"Country Name=%{x}<br>Year=2014<br>% 25+ completed at least Bachelor's Degree=%{y}<extra></extra>\", \"legendgroup\": \"Australia\", \"marker\": {\"color\": \"#636efa\"}, \"name\": \"Australia\", \"offsetgroup\": \"Australia\", \"orientation\": \"v\", \"showlegend\": true, \"textposition\": \"auto\", \"x\": [\"Australia\"], \"xaxis\": \"x\", \"y\": [24.9464492798], \"yaxis\": \"y\", \"type\": \"bar\"}, {\"alignmentgroup\": \"True\", \"hovertemplate\": \"Country Name=%{x}<br>Year=2014<br>% 25+ completed at least Bachelor's Degree=%{y}<extra></extra>\", \"legendgroup\": \"Bangladesh\", \"marker\": {\"color\": \"#EF553B\"}, \"name\": \"Bangladesh\", \"offsetgroup\": \"Bangladesh\", \"orientation\": \"v\", \"showlegend\": true, \"textposition\": \"auto\", \"x\": [\"Bangladesh\"], \"xaxis\": \"x\", \"y\": [5.8521399498], \"yaxis\": \"y\", \"type\": \"bar\"}, {\"alignmentgroup\": \"True\", \"hovertemplate\": \"Country Name=%{x}<br>Year=2014<br>% 25+ completed at least Bachelor's Degree=%{y}<extra></extra>\", \"legendgroup\": \"Mexico\", \"marker\": {\"color\": \"#00cc96\"}, \"name\": \"Mexico\", \"offsetgroup\": \"Mexico\", \"orientation\": \"v\", \"showlegend\": true, \"textposition\": \"auto\", \"x\": [\"Mexico\"], \"xaxis\": \"x\", \"y\": [13.9571304321], \"yaxis\": \"y\", \"type\": \"bar\"}, {\"alignmentgroup\": \"True\", \"hovertemplate\": \"Country Name=%{x}<br>Year=2014<br>% 25+ completed at least Bachelor's Degree=%{y}<extra></extra>\", \"legendgroup\": \"Serbia\", \"marker\": {\"color\": \"#ab63fa\"}, \"name\": \"Serbia\", \"offsetgroup\": \"Serbia\", \"orientation\": \"v\", \"showlegend\": true, \"textposition\": \"auto\", \"x\": [\"Serbia\"], \"xaxis\": \"x\", \"y\": [12.6497097015], \"yaxis\": \"y\", \"type\": \"bar\"}, {\"alignmentgroup\": \"True\", \"hovertemplate\": \"Country Name=%{x}<br>Year=2014<br>% 25+ completed at least Bachelor's Degree=%{y}<extra></extra>\", \"legendgroup\": \"Sweden\", \"marker\": {\"color\": \"#FFA15A\"}, \"name\": \"Sweden\", \"offsetgroup\": \"Sweden\", \"orientation\": \"v\", \"showlegend\": true, \"textposition\": \"auto\", \"x\": [\"Sweden\"], \"xaxis\": \"x\", \"y\": [22.535320282], \"yaxis\": \"y\", \"type\": \"bar\"}], \"name\": \"2014\"}, {\"data\": [{\"alignmentgroup\": \"True\", \"hovertemplate\": \"Country Name=%{x}<br>Year=2015<br>% 25+ completed at least Bachelor's Degree=%{y}<extra></extra>\", \"legendgroup\": \"Australia\", \"marker\": {\"color\": \"#636efa\"}, \"name\": \"Australia\", \"offsetgroup\": \"Australia\", \"orientation\": \"v\", \"showlegend\": true, \"textposition\": \"auto\", \"x\": [\"Australia\"], \"xaxis\": \"x\", \"y\": [29.7842502594], \"yaxis\": \"y\", \"type\": \"bar\"}, {\"alignmentgroup\": \"True\", \"hovertemplate\": \"Country Name=%{x}<br>Year=2015<br>% 25+ completed at least Bachelor's Degree=%{y}<extra></extra>\", \"legendgroup\": \"Bangladesh\", \"marker\": {\"color\": \"#EF553B\"}, \"name\": \"Bangladesh\", \"offsetgroup\": \"Bangladesh\", \"orientation\": \"v\", \"showlegend\": true, \"textposition\": \"auto\", \"x\": [\"Bangladesh\"], \"xaxis\": \"x\", \"y\": [8.2371397018], \"yaxis\": \"y\", \"type\": \"bar\"}, {\"alignmentgroup\": \"True\", \"hovertemplate\": \"Country Name=%{x}<br>Year=2015<br>% 25+ completed at least Bachelor's Degree=%{y}<extra></extra>\", \"legendgroup\": \"Mexico\", \"marker\": {\"color\": \"#00cc96\"}, \"name\": \"Mexico\", \"offsetgroup\": \"Mexico\", \"orientation\": \"v\", \"showlegend\": true, \"textposition\": \"auto\", \"x\": [\"Mexico\"], \"xaxis\": \"x\", \"y\": [14.7796497345], \"yaxis\": \"y\", \"type\": \"bar\"}, {\"alignmentgroup\": \"True\", \"hovertemplate\": \"Country Name=%{x}<br>Year=2015<br>% 25+ completed at least Bachelor's Degree=%{y}<extra></extra>\", \"legendgroup\": \"Serbia\", \"marker\": {\"color\": \"#ab63fa\"}, \"name\": \"Serbia\", \"offsetgroup\": \"Serbia\", \"orientation\": \"v\", \"showlegend\": true, \"textposition\": \"auto\", \"x\": [\"Serbia\"], \"xaxis\": \"x\", \"y\": [13.5838098526], \"yaxis\": \"y\", \"type\": \"bar\"}, {\"alignmentgroup\": \"True\", \"hovertemplate\": \"Country Name=%{x}<br>Year=2015<br>% 25+ completed at least Bachelor's Degree=%{y}<extra></extra>\", \"legendgroup\": \"Sweden\", \"marker\": {\"color\": \"#FFA15A\"}, \"name\": \"Sweden\", \"offsetgroup\": \"Sweden\", \"orientation\": \"v\", \"showlegend\": true, \"textposition\": \"auto\", \"x\": [\"Sweden\"], \"xaxis\": \"x\", \"y\": [22.9988498688], \"yaxis\": \"y\", \"type\": \"bar\"}], \"name\": \"2015\"}, {\"data\": [{\"alignmentgroup\": \"True\", \"hovertemplate\": \"Country Name=%{x}<br>Year=2016<br>% 25+ completed at least Bachelor's Degree=%{y}<extra></extra>\", \"legendgroup\": \"Australia\", \"marker\": {\"color\": \"#636efa\"}, \"name\": \"Australia\", \"offsetgroup\": \"Australia\", \"orientation\": \"v\", \"showlegend\": true, \"textposition\": \"auto\", \"x\": [\"Australia\"], \"xaxis\": \"x\", \"y\": [30.0298099518], \"yaxis\": \"y\", \"type\": \"bar\"}, {\"alignmentgroup\": \"True\", \"hovertemplate\": \"Country Name=%{x}<br>Year=2016<br>% 25+ completed at least Bachelor's Degree=%{y}<extra></extra>\", \"legendgroup\": \"Bangladesh\", \"marker\": {\"color\": \"#EF553B\"}, \"name\": \"Bangladesh\", \"offsetgroup\": \"Bangladesh\", \"orientation\": \"v\", \"showlegend\": true, \"textposition\": \"auto\", \"x\": [\"Bangladesh\"], \"xaxis\": \"x\", \"y\": [8.5095996857], \"yaxis\": \"y\", \"type\": \"bar\"}, {\"alignmentgroup\": \"True\", \"hovertemplate\": \"Country Name=%{x}<br>Year=2016<br>% 25+ completed at least Bachelor's Degree=%{y}<extra></extra>\", \"legendgroup\": \"Mexico\", \"marker\": {\"color\": \"#00cc96\"}, \"name\": \"Mexico\", \"offsetgroup\": \"Mexico\", \"orientation\": \"v\", \"showlegend\": true, \"textposition\": \"auto\", \"x\": [\"Mexico\"], \"xaxis\": \"x\", \"y\": [14.7103900909], \"yaxis\": \"y\", \"type\": \"bar\"}, {\"alignmentgroup\": \"True\", \"hovertemplate\": \"Country Name=%{x}<br>Year=2016<br>% 25+ completed at least Bachelor's Degree=%{y}<extra></extra>\", \"legendgroup\": \"Serbia\", \"marker\": {\"color\": \"#ab63fa\"}, \"name\": \"Serbia\", \"offsetgroup\": \"Serbia\", \"orientation\": \"v\", \"showlegend\": true, \"textposition\": \"auto\", \"x\": [\"Serbia\"], \"xaxis\": \"x\", \"y\": [14.5109100342], \"yaxis\": \"y\", \"type\": \"bar\"}, {\"alignmentgroup\": \"True\", \"hovertemplate\": \"Country Name=%{x}<br>Year=2016<br>% 25+ completed at least Bachelor's Degree=%{y}<extra></extra>\", \"legendgroup\": \"Sweden\", \"marker\": {\"color\": \"#FFA15A\"}, \"name\": \"Sweden\", \"offsetgroup\": \"Sweden\", \"orientation\": \"v\", \"showlegend\": true, \"textposition\": \"auto\", \"x\": [\"Sweden\"], \"xaxis\": \"x\", \"y\": [23.4782295227], \"yaxis\": \"y\", \"type\": \"bar\"}], \"name\": \"2016\"}, {\"data\": [{\"alignmentgroup\": \"True\", \"hovertemplate\": \"Country Name=%{x}<br>Year=2017<br>% 25+ completed at least Bachelor's Degree=%{y}<extra></extra>\", \"legendgroup\": \"Australia\", \"marker\": {\"color\": \"#636efa\"}, \"name\": \"Australia\", \"offsetgroup\": \"Australia\", \"orientation\": \"v\", \"showlegend\": true, \"textposition\": \"auto\", \"x\": [\"Australia\"], \"xaxis\": \"x\", \"y\": [31.3911895752], \"yaxis\": \"y\", \"type\": \"bar\"}, {\"alignmentgroup\": \"True\", \"hovertemplate\": \"Country Name=%{x}<br>Year=2017<br>% 25+ completed at least Bachelor's Degree=%{y}<extra></extra>\", \"legendgroup\": \"Bangladesh\", \"marker\": {\"color\": \"#EF553B\"}, \"name\": \"Bangladesh\", \"offsetgroup\": \"Bangladesh\", \"orientation\": \"v\", \"showlegend\": true, \"textposition\": \"auto\", \"x\": [\"Bangladesh\"], \"xaxis\": \"x\", \"y\": [8.9768800735], \"yaxis\": \"y\", \"type\": \"bar\"}, {\"alignmentgroup\": \"True\", \"hovertemplate\": \"Country Name=%{x}<br>Year=2017<br>% 25+ completed at least Bachelor's Degree=%{y}<extra></extra>\", \"legendgroup\": \"Mexico\", \"marker\": {\"color\": \"#00cc96\"}, \"name\": \"Mexico\", \"offsetgroup\": \"Mexico\", \"orientation\": \"v\", \"showlegend\": true, \"textposition\": \"auto\", \"x\": [\"Mexico\"], \"xaxis\": \"x\", \"y\": [15.3742599487], \"yaxis\": \"y\", \"type\": \"bar\"}, {\"alignmentgroup\": \"True\", \"hovertemplate\": \"Country Name=%{x}<br>Year=2017<br>% 25+ completed at least Bachelor's Degree=%{y}<extra></extra>\", \"legendgroup\": \"Serbia\", \"marker\": {\"color\": \"#ab63fa\"}, \"name\": \"Serbia\", \"offsetgroup\": \"Serbia\", \"orientation\": \"v\", \"showlegend\": true, \"textposition\": \"auto\", \"x\": [\"Serbia\"], \"xaxis\": \"x\", \"y\": [14.8972396851], \"yaxis\": \"y\", \"type\": \"bar\"}, {\"alignmentgroup\": \"True\", \"hovertemplate\": \"Country Name=%{x}<br>Year=2017<br>% 25+ completed at least Bachelor's Degree=%{y}<extra></extra>\", \"legendgroup\": \"Sweden\", \"marker\": {\"color\": \"#FFA15A\"}, \"name\": \"Sweden\", \"offsetgroup\": \"Sweden\", \"orientation\": \"v\", \"showlegend\": true, \"textposition\": \"auto\", \"x\": [\"Sweden\"], \"xaxis\": \"x\", \"y\": [23.936920166], \"yaxis\": \"y\", \"type\": \"bar\"}], \"name\": \"2017\"}]);\n                        }).then(function(){\n                            \nvar gd = document.getElementById('62b12928-7cea-4b20-a159-399bdef2e4b6');\nvar x = new MutationObserver(function (mutations, observer) {{\n        var display = window.getComputedStyle(gd).display;\n        if (!display || display === 'none') {{\n            console.log([gd, 'removed!']);\n            Plotly.purge(gd);\n            observer.disconnect();\n        }}\n}});\n\n// Listen for the removal of the full notebook cells\nvar notebookContainer = gd.closest('#notebook-container');\nif (notebookContainer) {{\n    x.observe(notebookContainer, {childList: true});\n}}\n\n// Listen for the clearing of the current output cell\nvar outputEl = gd.closest('.output');\nif (outputEl) {{\n    x.observe(outputEl, {childList: true});\n}}\n\n                        })                };                            </script>        </div>\n</body>\n</html>"
     },
     "metadata": {},
     "output_type": "display_data"
    }
   ],
   "execution_count": 147
  },
  {
   "cell_type": "code",
   "source": "fig = px.bar(data_frame = df_higher_ed,\n                 height=600,\n                 title= 'Adjusted net national income per capita (current US$) by Country',\n                 labels= {\n                   \"NY.ADJ.NNTY.PC.CD\": 'Adjusted net national income per capita (current US$)',\n                    'SE.TER.CUAT.BA.ZS': '% 25+ completed at least Bachelor\\'s Degree',\n                    'SP.POP.TOTL' : 'Population, total'\n                 },\n                 x='Country Name',\n                 y='NY.ADJ.NNTY.PC.CD',\n                 color=\"Country Name\",\n                 animation_frame=\"Year\")\nfig.update_xaxes(categoryorder='total descending')                 \n\nfig.show()                ",
   "metadata": {
    "tags": [],
    "cell_id": "00019-bfd933b4-d079-4aa5-a98b-a6903c29311e",
    "deepnote_to_be_reexecuted": false,
    "source_hash": "22a259e",
    "execution_start": 1621810056697,
    "execution_millis": 88,
    "deepnote_cell_type": "code"
   },
   "outputs": [
    {
     "data": {
      "text/html": "<html>\n<head><meta charset=\"utf-8\" /></head>\n<body>\n    <div>            <script src=\"https://cdnjs.cloudflare.com/ajax/libs/mathjax/2.7.5/MathJax.js?config=TeX-AMS-MML_SVG\"></script><script type=\"text/javascript\">if (window.MathJax) {MathJax.Hub.Config({SVG: {font: \"STIX-Web\"}});}</script>                <script type=\"text/javascript\">window.PlotlyConfig = {MathJaxConfig: 'local'};</script>\n        <script src=\"https://cdn.plot.ly/plotly-latest.min.js\"></script>                <div id=\"2930266e-83e3-462e-935c-bb3c1989b3c6\" class=\"plotly-graph-div\" style=\"height:600px; width:100%;\"></div>            <script type=\"text/javascript\">                                    window.PLOTLYENV=window.PLOTLYENV || {};                                    if (document.getElementById(\"2930266e-83e3-462e-935c-bb3c1989b3c6\")) {                    Plotly.newPlot(                        \"2930266e-83e3-462e-935c-bb3c1989b3c6\",                        [{\"alignmentgroup\": \"True\", \"hovertemplate\": \"Country Name=%{x}<br>Year=2013<br>Adjusted net national income per capita (current US$)=%{y}<extra></extra>\", \"legendgroup\": \"Australia\", \"marker\": {\"color\": \"#636efa\"}, \"name\": \"Australia\", \"offsetgroup\": \"Australia\", \"orientation\": \"v\", \"showlegend\": true, \"textposition\": \"auto\", \"type\": \"bar\", \"x\": [\"Australia\"], \"xaxis\": \"x\", \"y\": [53920.0370293533], \"yaxis\": \"y\"}, {\"alignmentgroup\": \"True\", \"hovertemplate\": \"Country Name=%{x}<br>Year=2013<br>Adjusted net national income per capita (current US$)=%{y}<extra></extra>\", \"legendgroup\": \"Bangladesh\", \"marker\": {\"color\": \"#EF553B\"}, \"name\": \"Bangladesh\", \"offsetgroup\": \"Bangladesh\", \"orientation\": \"v\", \"showlegend\": true, \"textposition\": \"auto\", \"type\": \"bar\", \"x\": [\"Bangladesh\"], \"xaxis\": \"x\", \"y\": [972.9217209548], \"yaxis\": \"y\"}, {\"alignmentgroup\": \"True\", \"hovertemplate\": \"Country Name=%{x}<br>Year=2013<br>Adjusted net national income per capita (current US$)=%{y}<extra></extra>\", \"legendgroup\": \"Mexico\", \"marker\": {\"color\": \"#00cc96\"}, \"name\": \"Mexico\", \"offsetgroup\": \"Mexico\", \"orientation\": \"v\", \"showlegend\": true, \"textposition\": \"auto\", \"type\": \"bar\", \"x\": [\"Mexico\"], \"xaxis\": \"x\", \"y\": [8251.4125021299], \"yaxis\": \"y\"}, {\"alignmentgroup\": \"True\", \"hovertemplate\": \"Country Name=%{x}<br>Year=2013<br>Adjusted net national income per capita (current US$)=%{y}<extra></extra>\", \"legendgroup\": \"Serbia\", \"marker\": {\"color\": \"#ab63fa\"}, \"name\": \"Serbia\", \"offsetgroup\": \"Serbia\", \"orientation\": \"v\", \"showlegend\": true, \"textposition\": \"auto\", \"type\": \"bar\", \"x\": [\"Serbia\"], \"xaxis\": \"x\", \"y\": [5372.0923192738], \"yaxis\": \"y\"}, {\"alignmentgroup\": \"True\", \"hovertemplate\": \"Country Name=%{x}<br>Year=2013<br>Adjusted net national income per capita (current US$)=%{y}<extra></extra>\", \"legendgroup\": \"Sweden\", \"marker\": {\"color\": \"#FFA15A\"}, \"name\": \"Sweden\", \"offsetgroup\": \"Sweden\", \"orientation\": \"v\", \"showlegend\": true, \"textposition\": \"auto\", \"type\": \"bar\", \"x\": [\"Sweden\"], \"xaxis\": \"x\", \"y\": [52102.8838496507], \"yaxis\": \"y\"}],                        {\"barmode\": \"relative\", \"height\": 600, \"legend\": {\"title\": {\"text\": \"Country Name\"}, \"tracegroupgap\": 0}, \"sliders\": [{\"active\": 0, \"currentvalue\": {\"prefix\": \"Year=\"}, \"len\": 0.9, \"pad\": {\"b\": 10, \"t\": 60}, \"steps\": [{\"args\": [[\"2013\"], {\"frame\": {\"duration\": 0, \"redraw\": true}, \"fromcurrent\": true, \"mode\": \"immediate\", \"transition\": {\"duration\": 0, \"easing\": \"linear\"}}], \"label\": \"2013\", \"method\": \"animate\"}, {\"args\": [[\"2014\"], {\"frame\": {\"duration\": 0, \"redraw\": true}, \"fromcurrent\": true, \"mode\": \"immediate\", \"transition\": {\"duration\": 0, \"easing\": \"linear\"}}], \"label\": \"2014\", \"method\": \"animate\"}, {\"args\": [[\"2015\"], {\"frame\": {\"duration\": 0, \"redraw\": true}, \"fromcurrent\": true, \"mode\": \"immediate\", \"transition\": {\"duration\": 0, \"easing\": \"linear\"}}], \"label\": \"2015\", \"method\": \"animate\"}, {\"args\": [[\"2016\"], {\"frame\": {\"duration\": 0, \"redraw\": true}, \"fromcurrent\": true, \"mode\": \"immediate\", \"transition\": {\"duration\": 0, \"easing\": \"linear\"}}], \"label\": \"2016\", \"method\": \"animate\"}, {\"args\": [[\"2017\"], {\"frame\": {\"duration\": 0, \"redraw\": true}, \"fromcurrent\": true, \"mode\": \"immediate\", \"transition\": {\"duration\": 0, \"easing\": \"linear\"}}], \"label\": \"2017\", \"method\": \"animate\"}], \"x\": 0.1, \"xanchor\": \"left\", \"y\": 0, \"yanchor\": \"top\"}], \"template\": {\"data\": {\"bar\": [{\"error_x\": {\"color\": \"#f2f5fa\"}, \"error_y\": {\"color\": \"#f2f5fa\"}, \"marker\": {\"line\": {\"color\": \"rgb(17,17,17)\", \"width\": 0.5}}, \"type\": \"bar\"}], \"barpolar\": [{\"marker\": {\"line\": {\"color\": \"rgb(17,17,17)\", \"width\": 0.5}}, \"type\": \"barpolar\"}], \"carpet\": [{\"aaxis\": {\"endlinecolor\": \"#A2B1C6\", \"gridcolor\": \"#506784\", \"linecolor\": \"#506784\", \"minorgridcolor\": \"#506784\", \"startlinecolor\": \"#A2B1C6\"}, \"baxis\": {\"endlinecolor\": \"#A2B1C6\", \"gridcolor\": \"#506784\", \"linecolor\": \"#506784\", \"minorgridcolor\": \"#506784\", \"startlinecolor\": \"#A2B1C6\"}, \"type\": \"carpet\"}], \"choropleth\": [{\"colorbar\": {\"outlinewidth\": 0, \"ticks\": \"\"}, \"type\": \"choropleth\"}], \"contour\": [{\"colorbar\": {\"outlinewidth\": 0, \"ticks\": \"\"}, \"colorscale\": [[0.0, \"#0d0887\"], [0.1111111111111111, \"#46039f\"], [0.2222222222222222, \"#7201a8\"], [0.3333333333333333, \"#9c179e\"], [0.4444444444444444, \"#bd3786\"], [0.5555555555555556, \"#d8576b\"], [0.6666666666666666, \"#ed7953\"], [0.7777777777777778, \"#fb9f3a\"], [0.8888888888888888, \"#fdca26\"], [1.0, \"#f0f921\"]], \"type\": \"contour\"}], \"contourcarpet\": [{\"colorbar\": {\"outlinewidth\": 0, \"ticks\": \"\"}, \"type\": \"contourcarpet\"}], \"heatmap\": [{\"colorbar\": {\"outlinewidth\": 0, \"ticks\": \"\"}, \"colorscale\": [[0.0, \"#0d0887\"], [0.1111111111111111, \"#46039f\"], [0.2222222222222222, \"#7201a8\"], [0.3333333333333333, \"#9c179e\"], [0.4444444444444444, \"#bd3786\"], [0.5555555555555556, \"#d8576b\"], [0.6666666666666666, \"#ed7953\"], [0.7777777777777778, \"#fb9f3a\"], [0.8888888888888888, \"#fdca26\"], [1.0, \"#f0f921\"]], \"type\": \"heatmap\"}], \"heatmapgl\": [{\"colorbar\": {\"outlinewidth\": 0, \"ticks\": \"\"}, \"colorscale\": [[0.0, \"#0d0887\"], [0.1111111111111111, \"#46039f\"], [0.2222222222222222, \"#7201a8\"], [0.3333333333333333, \"#9c179e\"], [0.4444444444444444, \"#bd3786\"], [0.5555555555555556, \"#d8576b\"], [0.6666666666666666, \"#ed7953\"], [0.7777777777777778, \"#fb9f3a\"], [0.8888888888888888, \"#fdca26\"], [1.0, \"#f0f921\"]], \"type\": \"heatmapgl\"}], \"histogram\": [{\"marker\": {\"colorbar\": {\"outlinewidth\": 0, \"ticks\": \"\"}}, \"type\": \"histogram\"}], \"histogram2d\": [{\"colorbar\": {\"outlinewidth\": 0, \"ticks\": \"\"}, \"colorscale\": [[0.0, \"#0d0887\"], [0.1111111111111111, \"#46039f\"], [0.2222222222222222, \"#7201a8\"], [0.3333333333333333, \"#9c179e\"], [0.4444444444444444, \"#bd3786\"], [0.5555555555555556, \"#d8576b\"], [0.6666666666666666, \"#ed7953\"], [0.7777777777777778, \"#fb9f3a\"], [0.8888888888888888, \"#fdca26\"], [1.0, \"#f0f921\"]], \"type\": \"histogram2d\"}], \"histogram2dcontour\": [{\"colorbar\": {\"outlinewidth\": 0, \"ticks\": \"\"}, \"colorscale\": [[0.0, \"#0d0887\"], [0.1111111111111111, \"#46039f\"], [0.2222222222222222, \"#7201a8\"], [0.3333333333333333, \"#9c179e\"], [0.4444444444444444, \"#bd3786\"], [0.5555555555555556, \"#d8576b\"], [0.6666666666666666, \"#ed7953\"], [0.7777777777777778, \"#fb9f3a\"], [0.8888888888888888, \"#fdca26\"], [1.0, \"#f0f921\"]], \"type\": \"histogram2dcontour\"}], \"mesh3d\": [{\"colorbar\": {\"outlinewidth\": 0, \"ticks\": \"\"}, \"type\": \"mesh3d\"}], \"parcoords\": [{\"line\": {\"colorbar\": {\"outlinewidth\": 0, \"ticks\": \"\"}}, \"type\": \"parcoords\"}], \"pie\": [{\"automargin\": true, \"type\": \"pie\"}], \"scatter\": [{\"marker\": {\"line\": {\"color\": \"#283442\"}}, \"type\": \"scatter\"}], \"scatter3d\": [{\"line\": {\"colorbar\": {\"outlinewidth\": 0, \"ticks\": \"\"}}, \"marker\": {\"colorbar\": {\"outlinewidth\": 0, \"ticks\": \"\"}}, \"type\": \"scatter3d\"}], \"scattercarpet\": [{\"marker\": {\"colorbar\": {\"outlinewidth\": 0, \"ticks\": \"\"}}, \"type\": \"scattercarpet\"}], \"scattergeo\": [{\"marker\": {\"colorbar\": {\"outlinewidth\": 0, \"ticks\": \"\"}}, \"type\": \"scattergeo\"}], \"scattergl\": [{\"marker\": {\"line\": {\"color\": \"#283442\"}}, \"type\": \"scattergl\"}], \"scattermapbox\": [{\"marker\": {\"colorbar\": {\"outlinewidth\": 0, \"ticks\": \"\"}}, \"type\": \"scattermapbox\"}], \"scatterpolar\": [{\"marker\": {\"colorbar\": {\"outlinewidth\": 0, \"ticks\": \"\"}}, \"type\": \"scatterpolar\"}], \"scatterpolargl\": [{\"marker\": {\"colorbar\": {\"outlinewidth\": 0, \"ticks\": \"\"}}, \"type\": \"scatterpolargl\"}], \"scatterternary\": [{\"marker\": {\"colorbar\": {\"outlinewidth\": 0, \"ticks\": \"\"}}, \"type\": \"scatterternary\"}], \"surface\": [{\"colorbar\": {\"outlinewidth\": 0, \"ticks\": \"\"}, \"colorscale\": [[0.0, \"#0d0887\"], [0.1111111111111111, \"#46039f\"], [0.2222222222222222, \"#7201a8\"], [0.3333333333333333, \"#9c179e\"], [0.4444444444444444, \"#bd3786\"], [0.5555555555555556, \"#d8576b\"], [0.6666666666666666, \"#ed7953\"], [0.7777777777777778, \"#fb9f3a\"], [0.8888888888888888, \"#fdca26\"], [1.0, \"#f0f921\"]], \"type\": \"surface\"}], \"table\": [{\"cells\": {\"fill\": {\"color\": \"#506784\"}, \"line\": {\"color\": \"rgb(17,17,17)\"}}, \"header\": {\"fill\": {\"color\": \"#2a3f5f\"}, \"line\": {\"color\": \"rgb(17,17,17)\"}}, \"type\": \"table\"}]}, \"layout\": {\"annotationdefaults\": {\"arrowcolor\": \"#f2f5fa\", \"arrowhead\": 0, \"arrowwidth\": 1}, \"autotypenumbers\": \"strict\", \"coloraxis\": {\"colorbar\": {\"outlinewidth\": 0, \"ticks\": \"\"}}, \"colorscale\": {\"diverging\": [[0, \"#8e0152\"], [0.1, \"#c51b7d\"], [0.2, \"#de77ae\"], [0.3, \"#f1b6da\"], [0.4, \"#fde0ef\"], [0.5, \"#f7f7f7\"], [0.6, \"#e6f5d0\"], [0.7, \"#b8e186\"], [0.8, \"#7fbc41\"], [0.9, \"#4d9221\"], [1, \"#276419\"]], \"sequential\": [[0.0, \"#0d0887\"], [0.1111111111111111, \"#46039f\"], [0.2222222222222222, \"#7201a8\"], [0.3333333333333333, \"#9c179e\"], [0.4444444444444444, \"#bd3786\"], [0.5555555555555556, \"#d8576b\"], [0.6666666666666666, \"#ed7953\"], [0.7777777777777778, \"#fb9f3a\"], [0.8888888888888888, \"#fdca26\"], [1.0, \"#f0f921\"]], \"sequentialminus\": [[0.0, \"#0d0887\"], [0.1111111111111111, \"#46039f\"], [0.2222222222222222, \"#7201a8\"], [0.3333333333333333, \"#9c179e\"], [0.4444444444444444, \"#bd3786\"], [0.5555555555555556, \"#d8576b\"], [0.6666666666666666, \"#ed7953\"], [0.7777777777777778, \"#fb9f3a\"], [0.8888888888888888, \"#fdca26\"], [1.0, \"#f0f921\"]]}, \"colorway\": [\"#636efa\", \"#EF553B\", \"#00cc96\", \"#ab63fa\", \"#FFA15A\", \"#19d3f3\", \"#FF6692\", \"#B6E880\", \"#FF97FF\", \"#FECB52\"], \"font\": {\"color\": \"#f2f5fa\"}, \"geo\": {\"bgcolor\": \"rgb(17,17,17)\", \"lakecolor\": \"rgb(17,17,17)\", \"landcolor\": \"rgb(17,17,17)\", \"showlakes\": true, \"showland\": true, \"subunitcolor\": \"#506784\"}, \"hoverlabel\": {\"align\": \"left\"}, \"hovermode\": \"closest\", \"mapbox\": {\"style\": \"dark\"}, \"paper_bgcolor\": \"rgb(17,17,17)\", \"plot_bgcolor\": \"rgb(17,17,17)\", \"polar\": {\"angularaxis\": {\"gridcolor\": \"#506784\", \"linecolor\": \"#506784\", \"ticks\": \"\"}, \"bgcolor\": \"rgb(17,17,17)\", \"radialaxis\": {\"gridcolor\": \"#506784\", \"linecolor\": \"#506784\", \"ticks\": \"\"}}, \"scene\": {\"xaxis\": {\"backgroundcolor\": \"rgb(17,17,17)\", \"gridcolor\": \"#506784\", \"gridwidth\": 2, \"linecolor\": \"#506784\", \"showbackground\": true, \"ticks\": \"\", \"zerolinecolor\": \"#C8D4E3\"}, \"yaxis\": {\"backgroundcolor\": \"rgb(17,17,17)\", \"gridcolor\": \"#506784\", \"gridwidth\": 2, \"linecolor\": \"#506784\", \"showbackground\": true, \"ticks\": \"\", \"zerolinecolor\": \"#C8D4E3\"}, \"zaxis\": {\"backgroundcolor\": \"rgb(17,17,17)\", \"gridcolor\": \"#506784\", \"gridwidth\": 2, \"linecolor\": \"#506784\", \"showbackground\": true, \"ticks\": \"\", \"zerolinecolor\": \"#C8D4E3\"}}, \"shapedefaults\": {\"line\": {\"color\": \"#f2f5fa\"}}, \"sliderdefaults\": {\"bgcolor\": \"#C8D4E3\", \"bordercolor\": \"rgb(17,17,17)\", \"borderwidth\": 1, \"tickwidth\": 0}, \"ternary\": {\"aaxis\": {\"gridcolor\": \"#506784\", \"linecolor\": \"#506784\", \"ticks\": \"\"}, \"baxis\": {\"gridcolor\": \"#506784\", \"linecolor\": \"#506784\", \"ticks\": \"\"}, \"bgcolor\": \"rgb(17,17,17)\", \"caxis\": {\"gridcolor\": \"#506784\", \"linecolor\": \"#506784\", \"ticks\": \"\"}}, \"title\": {\"x\": 0.05}, \"updatemenudefaults\": {\"bgcolor\": \"#506784\", \"borderwidth\": 0}, \"xaxis\": {\"automargin\": true, \"gridcolor\": \"#283442\", \"linecolor\": \"#506784\", \"ticks\": \"\", \"title\": {\"standoff\": 15}, \"zerolinecolor\": \"#283442\", \"zerolinewidth\": 2}, \"yaxis\": {\"automargin\": true, \"gridcolor\": \"#283442\", \"linecolor\": \"#506784\", \"ticks\": \"\", \"title\": {\"standoff\": 15}, \"zerolinecolor\": \"#283442\", \"zerolinewidth\": 2}}}, \"title\": {\"text\": \"Adjusted net national income per capita (current US$) by Country\"}, \"updatemenus\": [{\"buttons\": [{\"args\": [null, {\"frame\": {\"duration\": 500, \"redraw\": true}, \"fromcurrent\": true, \"mode\": \"immediate\", \"transition\": {\"duration\": 500, \"easing\": \"linear\"}}], \"label\": \"&#9654;\", \"method\": \"animate\"}, {\"args\": [[null], {\"frame\": {\"duration\": 0, \"redraw\": true}, \"fromcurrent\": true, \"mode\": \"immediate\", \"transition\": {\"duration\": 0, \"easing\": \"linear\"}}], \"label\": \"&#9724;\", \"method\": \"animate\"}], \"direction\": \"left\", \"pad\": {\"r\": 10, \"t\": 70}, \"showactive\": false, \"type\": \"buttons\", \"x\": 0.1, \"xanchor\": \"right\", \"y\": 0, \"yanchor\": \"top\"}], \"xaxis\": {\"anchor\": \"y\", \"categoryarray\": [\"Australia\", \"Bangladesh\", \"Mexico\", \"Serbia\", \"Sweden\"], \"categoryorder\": \"total descending\", \"domain\": [0.0, 1.0], \"title\": {\"text\": \"Country Name\"}}, \"yaxis\": {\"anchor\": \"x\", \"domain\": [0.0, 1.0], \"title\": {\"text\": \"Adjusted net national income per capita (current US$)\"}}},                        {\"responsive\": true}                    ).then(function(){\n                            Plotly.addFrames('2930266e-83e3-462e-935c-bb3c1989b3c6', [{\"data\": [{\"alignmentgroup\": \"True\", \"hovertemplate\": \"Country Name=%{x}<br>Year=2013<br>Adjusted net national income per capita (current US$)=%{y}<extra></extra>\", \"legendgroup\": \"Australia\", \"marker\": {\"color\": \"#636efa\"}, \"name\": \"Australia\", \"offsetgroup\": \"Australia\", \"orientation\": \"v\", \"showlegend\": true, \"textposition\": \"auto\", \"x\": [\"Australia\"], \"xaxis\": \"x\", \"y\": [53920.0370293533], \"yaxis\": \"y\", \"type\": \"bar\"}, {\"alignmentgroup\": \"True\", \"hovertemplate\": \"Country Name=%{x}<br>Year=2013<br>Adjusted net national income per capita (current US$)=%{y}<extra></extra>\", \"legendgroup\": \"Bangladesh\", \"marker\": {\"color\": \"#EF553B\"}, \"name\": \"Bangladesh\", \"offsetgroup\": \"Bangladesh\", \"orientation\": \"v\", \"showlegend\": true, \"textposition\": \"auto\", \"x\": [\"Bangladesh\"], \"xaxis\": \"x\", \"y\": [972.9217209548], \"yaxis\": \"y\", \"type\": \"bar\"}, {\"alignmentgroup\": \"True\", \"hovertemplate\": \"Country Name=%{x}<br>Year=2013<br>Adjusted net national income per capita (current US$)=%{y}<extra></extra>\", \"legendgroup\": \"Mexico\", \"marker\": {\"color\": \"#00cc96\"}, \"name\": \"Mexico\", \"offsetgroup\": \"Mexico\", \"orientation\": \"v\", \"showlegend\": true, \"textposition\": \"auto\", \"x\": [\"Mexico\"], \"xaxis\": \"x\", \"y\": [8251.4125021299], \"yaxis\": \"y\", \"type\": \"bar\"}, {\"alignmentgroup\": \"True\", \"hovertemplate\": \"Country Name=%{x}<br>Year=2013<br>Adjusted net national income per capita (current US$)=%{y}<extra></extra>\", \"legendgroup\": \"Serbia\", \"marker\": {\"color\": \"#ab63fa\"}, \"name\": \"Serbia\", \"offsetgroup\": \"Serbia\", \"orientation\": \"v\", \"showlegend\": true, \"textposition\": \"auto\", \"x\": [\"Serbia\"], \"xaxis\": \"x\", \"y\": [5372.0923192738], \"yaxis\": \"y\", \"type\": \"bar\"}, {\"alignmentgroup\": \"True\", \"hovertemplate\": \"Country Name=%{x}<br>Year=2013<br>Adjusted net national income per capita (current US$)=%{y}<extra></extra>\", \"legendgroup\": \"Sweden\", \"marker\": {\"color\": \"#FFA15A\"}, \"name\": \"Sweden\", \"offsetgroup\": \"Sweden\", \"orientation\": \"v\", \"showlegend\": true, \"textposition\": \"auto\", \"x\": [\"Sweden\"], \"xaxis\": \"x\", \"y\": [52102.8838496507], \"yaxis\": \"y\", \"type\": \"bar\"}], \"name\": \"2013\"}, {\"data\": [{\"alignmentgroup\": \"True\", \"hovertemplate\": \"Country Name=%{x}<br>Year=2014<br>Adjusted net national income per capita (current US$)=%{y}<extra></extra>\", \"legendgroup\": \"Australia\", \"marker\": {\"color\": \"#636efa\"}, \"name\": \"Australia\", \"offsetgroup\": \"Australia\", \"orientation\": \"v\", \"showlegend\": true, \"textposition\": \"auto\", \"x\": [\"Australia\"], \"xaxis\": \"x\", \"y\": [48738.7479734066], \"yaxis\": \"y\", \"type\": \"bar\"}, {\"alignmentgroup\": \"True\", \"hovertemplate\": \"Country Name=%{x}<br>Year=2014<br>Adjusted net national income per capita (current US$)=%{y}<extra></extra>\", \"legendgroup\": \"Bangladesh\", \"marker\": {\"color\": \"#EF553B\"}, \"name\": \"Bangladesh\", \"offsetgroup\": \"Bangladesh\", \"orientation\": \"v\", \"showlegend\": true, \"textposition\": \"auto\", \"x\": [\"Bangladesh\"], \"xaxis\": \"x\", \"y\": [1091.4812041342], \"yaxis\": \"y\", \"type\": \"bar\"}, {\"alignmentgroup\": \"True\", \"hovertemplate\": \"Country Name=%{x}<br>Year=2014<br>Adjusted net national income per capita (current US$)=%{y}<extra></extra>\", \"legendgroup\": \"Mexico\", \"marker\": {\"color\": \"#00cc96\"}, \"name\": \"Mexico\", \"offsetgroup\": \"Mexico\", \"orientation\": \"v\", \"showlegend\": true, \"textposition\": \"auto\", \"x\": [\"Mexico\"], \"xaxis\": \"x\", \"y\": [8568.5255756291], \"yaxis\": \"y\", \"type\": \"bar\"}, {\"alignmentgroup\": \"True\", \"hovertemplate\": \"Country Name=%{x}<br>Year=2014<br>Adjusted net national income per capita (current US$)=%{y}<extra></extra>\", \"legendgroup\": \"Serbia\", \"marker\": {\"color\": \"#ab63fa\"}, \"name\": \"Serbia\", \"offsetgroup\": \"Serbia\", \"orientation\": \"v\", \"showlegend\": true, \"textposition\": \"auto\", \"x\": [\"Serbia\"], \"xaxis\": \"x\", \"y\": [5265.1250568294], \"yaxis\": \"y\", \"type\": \"bar\"}, {\"alignmentgroup\": \"True\", \"hovertemplate\": \"Country Name=%{x}<br>Year=2014<br>Adjusted net national income per capita (current US$)=%{y}<extra></extra>\", \"legendgroup\": \"Sweden\", \"marker\": {\"color\": \"#FFA15A\"}, \"name\": \"Sweden\", \"offsetgroup\": \"Sweden\", \"orientation\": \"v\", \"showlegend\": true, \"textposition\": \"auto\", \"x\": [\"Sweden\"], \"xaxis\": \"x\", \"y\": [51115.9438302665], \"yaxis\": \"y\", \"type\": \"bar\"}], \"name\": \"2014\"}, {\"data\": [{\"alignmentgroup\": \"True\", \"hovertemplate\": \"Country Name=%{x}<br>Year=2015<br>Adjusted net national income per capita (current US$)=%{y}<extra></extra>\", \"legendgroup\": \"Australia\", \"marker\": {\"color\": \"#636efa\"}, \"name\": \"Australia\", \"offsetgroup\": \"Australia\", \"orientation\": \"v\", \"showlegend\": true, \"textposition\": \"auto\", \"x\": [\"Australia\"], \"xaxis\": \"x\", \"y\": [44352.1378460602], \"yaxis\": \"y\", \"type\": \"bar\"}, {\"alignmentgroup\": \"True\", \"hovertemplate\": \"Country Name=%{x}<br>Year=2015<br>Adjusted net national income per capita (current US$)=%{y}<extra></extra>\", \"legendgroup\": \"Bangladesh\", \"marker\": {\"color\": \"#EF553B\"}, \"name\": \"Bangladesh\", \"offsetgroup\": \"Bangladesh\", \"orientation\": \"v\", \"showlegend\": true, \"textposition\": \"auto\", \"x\": [\"Bangladesh\"], \"xaxis\": \"x\", \"y\": [1217.8435479379], \"yaxis\": \"y\", \"type\": \"bar\"}, {\"alignmentgroup\": \"True\", \"hovertemplate\": \"Country Name=%{x}<br>Year=2015<br>Adjusted net national income per capita (current US$)=%{y}<extra></extra>\", \"legendgroup\": \"Mexico\", \"marker\": {\"color\": \"#00cc96\"}, \"name\": \"Mexico\", \"offsetgroup\": \"Mexico\", \"orientation\": \"v\", \"showlegend\": true, \"textposition\": \"auto\", \"x\": [\"Mexico\"], \"xaxis\": \"x\", \"y\": [7638.8646525228], \"yaxis\": \"y\", \"type\": \"bar\"}, {\"alignmentgroup\": \"True\", \"hovertemplate\": \"Country Name=%{x}<br>Year=2015<br>Adjusted net national income per capita (current US$)=%{y}<extra></extra>\", \"legendgroup\": \"Serbia\", \"marker\": {\"color\": \"#ab63fa\"}, \"name\": \"Serbia\", \"offsetgroup\": \"Serbia\", \"orientation\": \"v\", \"showlegend\": true, \"textposition\": \"auto\", \"x\": [\"Serbia\"], \"xaxis\": \"x\", \"y\": [4418.4763412905], \"yaxis\": \"y\", \"type\": \"bar\"}, {\"alignmentgroup\": \"True\", \"hovertemplate\": \"Country Name=%{x}<br>Year=2015<br>Adjusted net national income per capita (current US$)=%{y}<extra></extra>\", \"legendgroup\": \"Sweden\", \"marker\": {\"color\": \"#FFA15A\"}, \"name\": \"Sweden\", \"offsetgroup\": \"Sweden\", \"orientation\": \"v\", \"showlegend\": true, \"textposition\": \"auto\", \"x\": [\"Sweden\"], \"xaxis\": \"x\", \"y\": [43378.4572568681], \"yaxis\": \"y\", \"type\": \"bar\"}], \"name\": \"2015\"}, {\"data\": [{\"alignmentgroup\": \"True\", \"hovertemplate\": \"Country Name=%{x}<br>Year=2016<br>Adjusted net national income per capita (current US$)=%{y}<extra></extra>\", \"legendgroup\": \"Australia\", \"marker\": {\"color\": \"#636efa\"}, \"name\": \"Australia\", \"offsetgroup\": \"Australia\", \"orientation\": \"v\", \"showlegend\": true, \"textposition\": \"auto\", \"x\": [\"Australia\"], \"xaxis\": \"x\", \"y\": [39137.3003580273], \"yaxis\": \"y\", \"type\": \"bar\"}, {\"alignmentgroup\": \"True\", \"hovertemplate\": \"Country Name=%{x}<br>Year=2016<br>Adjusted net national income per capita (current US$)=%{y}<extra></extra>\", \"legendgroup\": \"Bangladesh\", \"marker\": {\"color\": \"#EF553B\"}, \"name\": \"Bangladesh\", \"offsetgroup\": \"Bangladesh\", \"orientation\": \"v\", \"showlegend\": true, \"textposition\": \"auto\", \"x\": [\"Bangladesh\"], \"xaxis\": \"x\", \"y\": [1360.2067836738], \"yaxis\": \"y\", \"type\": \"bar\"}, {\"alignmentgroup\": \"True\", \"hovertemplate\": \"Country Name=%{x}<br>Year=2016<br>Adjusted net national income per capita (current US$)=%{y}<extra></extra>\", \"legendgroup\": \"Mexico\", \"marker\": {\"color\": \"#00cc96\"}, \"name\": \"Mexico\", \"offsetgroup\": \"Mexico\", \"orientation\": \"v\", \"showlegend\": true, \"textposition\": \"auto\", \"x\": [\"Mexico\"], \"xaxis\": \"x\", \"y\": [6905.1090466206], \"yaxis\": \"y\", \"type\": \"bar\"}, {\"alignmentgroup\": \"True\", \"hovertemplate\": \"Country Name=%{x}<br>Year=2016<br>Adjusted net national income per capita (current US$)=%{y}<extra></extra>\", \"legendgroup\": \"Serbia\", \"marker\": {\"color\": \"#ab63fa\"}, \"name\": \"Serbia\", \"offsetgroup\": \"Serbia\", \"orientation\": \"v\", \"showlegend\": true, \"textposition\": \"auto\", \"x\": [\"Serbia\"], \"xaxis\": \"x\", \"y\": [4506.0276261835], \"yaxis\": \"y\", \"type\": \"bar\"}, {\"alignmentgroup\": \"True\", \"hovertemplate\": \"Country Name=%{x}<br>Year=2016<br>Adjusted net national income per capita (current US$)=%{y}<extra></extra>\", \"legendgroup\": \"Sweden\", \"marker\": {\"color\": \"#FFA15A\"}, \"name\": \"Sweden\", \"offsetgroup\": \"Sweden\", \"orientation\": \"v\", \"showlegend\": true, \"textposition\": \"auto\", \"x\": [\"Sweden\"], \"xaxis\": \"x\", \"y\": [43615.537713492], \"yaxis\": \"y\", \"type\": \"bar\"}], \"name\": \"2016\"}, {\"data\": [{\"alignmentgroup\": \"True\", \"hovertemplate\": \"Country Name=%{x}<br>Year=2017<br>Adjusted net national income per capita (current US$)=%{y}<extra></extra>\", \"legendgroup\": \"Australia\", \"marker\": {\"color\": \"#636efa\"}, \"name\": \"Australia\", \"offsetgroup\": \"Australia\", \"orientation\": \"v\", \"showlegend\": true, \"textposition\": \"auto\", \"x\": [\"Australia\"], \"xaxis\": \"x\", \"y\": [42036.7964195284], \"yaxis\": \"y\", \"type\": \"bar\"}, {\"alignmentgroup\": \"True\", \"hovertemplate\": \"Country Name=%{x}<br>Year=2017<br>Adjusted net national income per capita (current US$)=%{y}<extra></extra>\", \"legendgroup\": \"Bangladesh\", \"marker\": {\"color\": \"#EF553B\"}, \"name\": \"Bangladesh\", \"offsetgroup\": \"Bangladesh\", \"orientation\": \"v\", \"showlegend\": true, \"textposition\": \"auto\", \"x\": [\"Bangladesh\"], \"xaxis\": \"x\", \"y\": [1493.5547956769], \"yaxis\": \"y\", \"type\": \"bar\"}, {\"alignmentgroup\": \"True\", \"hovertemplate\": \"Country Name=%{x}<br>Year=2017<br>Adjusted net national income per capita (current US$)=%{y}<extra></extra>\", \"legendgroup\": \"Mexico\", \"marker\": {\"color\": \"#00cc96\"}, \"name\": \"Mexico\", \"offsetgroup\": \"Mexico\", \"orientation\": \"v\", \"showlegend\": true, \"textposition\": \"auto\", \"x\": [\"Mexico\"], \"xaxis\": \"x\", \"y\": [7283.8616644185], \"yaxis\": \"y\", \"type\": \"bar\"}, {\"alignmentgroup\": \"True\", \"hovertemplate\": \"Country Name=%{x}<br>Year=2017<br>Adjusted net national income per capita (current US$)=%{y}<extra></extra>\", \"legendgroup\": \"Serbia\", \"marker\": {\"color\": \"#ab63fa\"}, \"name\": \"Serbia\", \"offsetgroup\": \"Serbia\", \"orientation\": \"v\", \"showlegend\": true, \"textposition\": \"auto\", \"x\": [\"Serbia\"], \"xaxis\": \"x\", \"y\": [4830.4828941008], \"yaxis\": \"y\", \"type\": \"bar\"}, {\"alignmentgroup\": \"True\", \"hovertemplate\": \"Country Name=%{x}<br>Year=2017<br>Adjusted net national income per capita (current US$)=%{y}<extra></extra>\", \"legendgroup\": \"Sweden\", \"marker\": {\"color\": \"#FFA15A\"}, \"name\": \"Sweden\", \"offsetgroup\": \"Sweden\", \"orientation\": \"v\", \"showlegend\": true, \"textposition\": \"auto\", \"x\": [\"Sweden\"], \"xaxis\": \"x\", \"y\": [45629.4411121591], \"yaxis\": \"y\", \"type\": \"bar\"}], \"name\": \"2017\"}]);\n                        }).then(function(){\n                            \nvar gd = document.getElementById('2930266e-83e3-462e-935c-bb3c1989b3c6');\nvar x = new MutationObserver(function (mutations, observer) {{\n        var display = window.getComputedStyle(gd).display;\n        if (!display || display === 'none') {{\n            console.log([gd, 'removed!']);\n            Plotly.purge(gd);\n            observer.disconnect();\n        }}\n}});\n\n// Listen for the removal of the full notebook cells\nvar notebookContainer = gd.closest('#notebook-container');\nif (notebookContainer) {{\n    x.observe(notebookContainer, {childList: true});\n}}\n\n// Listen for the clearing of the current output cell\nvar outputEl = gd.closest('.output');\nif (outputEl) {{\n    x.observe(outputEl, {childList: true});\n}}\n\n                        })                };                            </script>        </div>\n</body>\n</html>"
     },
     "metadata": {},
     "output_type": "display_data"
    }
   ],
   "execution_count": 148
  },
  {
   "cell_type": "markdown",
   "source": " \n### The end of the line\n \nLast but not least is a graph looking at bachelor's attainment across these five countries over time. As suspected there are some fluctuations here and there but largely there is an upward trend as we march ever forward in time. Perhaps the most interesting thing of note is that each of the five countries (barring large anomalies) have lines that have the same slope. I'm not sure what that means but it could have to do with a population grown and their university systems have not met their respective capacities. \n",
   "metadata": {
    "tags": [],
    "cell_id": "00008-9b371f06-5797-4c30-b363-2fea001a87ba",
    "deepnote_cell_type": "markdown"
   }
  },
  {
   "cell_type": "code",
   "source": "fig = px.line(data_frame = df_higher_ed,\n                 height=600,\n                 title= 'Adjusted net national income per capita (current US$) by Country',\n                 labels= {\n                   \"NY.ADJ.NNTY.PC.CD\": 'Adjusted net national income per capita (current US$)',\n                    'SE.TER.CUAT.BA.ZS': '% 25+ completed at least Bachelor\\'s Degree',\n                    'SP.POP.TOTL' : 'Population, total'\n                 },\n                 x='Year',\n                 y='SE.TER.CUAT.BA.ZS',\n                 color=\"Country Name\")\nfig.update_xaxes(categoryorder='total descending').update_layout(xaxis= dict(dtick = 1))                 \n\nfig.show()                ",
   "metadata": {
    "tags": [],
    "cell_id": "00021-ac6dfbc1-5ac4-4f33-ab8d-acc2eb85a217",
    "deepnote_to_be_reexecuted": false,
    "source_hash": "4cded32c",
    "execution_start": 1621810458793,
    "execution_millis": 60,
    "deepnote_cell_type": "code"
   },
   "outputs": [
    {
     "data": {
      "text/html": "<html>\n<head><meta charset=\"utf-8\" /></head>\n<body>\n    <div>            <script src=\"https://cdnjs.cloudflare.com/ajax/libs/mathjax/2.7.5/MathJax.js?config=TeX-AMS-MML_SVG\"></script><script type=\"text/javascript\">if (window.MathJax) {MathJax.Hub.Config({SVG: {font: \"STIX-Web\"}});}</script>                <script type=\"text/javascript\">window.PlotlyConfig = {MathJaxConfig: 'local'};</script>\n        <script src=\"https://cdn.plot.ly/plotly-latest.min.js\"></script>                <div id=\"889194ba-f8fd-4306-848a-865398905fea\" class=\"plotly-graph-div\" style=\"height:600px; width:100%;\"></div>            <script type=\"text/javascript\">                                    window.PLOTLYENV=window.PLOTLYENV || {};                                    if (document.getElementById(\"889194ba-f8fd-4306-848a-865398905fea\")) {                    Plotly.newPlot(                        \"889194ba-f8fd-4306-848a-865398905fea\",                        [{\"hovertemplate\": \"Country Name=Australia<br>Year=%{x}<br>% 25+ completed at least Bachelor's Degree=%{y}<extra></extra>\", \"legendgroup\": \"Australia\", \"line\": {\"color\": \"#636efa\", \"dash\": \"solid\"}, \"mode\": \"lines\", \"name\": \"Australia\", \"orientation\": \"v\", \"showlegend\": true, \"type\": \"scatter\", \"x\": [2013, 2014, 2015, 2016, 2017], \"xaxis\": \"x\", \"y\": [26.7436008453, 24.9464492798, 29.7842502594, 30.0298099518, 31.3911895752], \"yaxis\": \"y\"}, {\"hovertemplate\": \"Country Name=Bangladesh<br>Year=%{x}<br>% 25+ completed at least Bachelor's Degree=%{y}<extra></extra>\", \"legendgroup\": \"Bangladesh\", \"line\": {\"color\": \"#EF553B\", \"dash\": \"solid\"}, \"mode\": \"lines\", \"name\": \"Bangladesh\", \"orientation\": \"v\", \"showlegend\": true, \"type\": \"scatter\", \"x\": [2013, 2014, 2015, 2016, 2017], \"xaxis\": \"x\", \"y\": [5.5023198128, 5.8521399498, 8.2371397018, 8.5095996857, 8.9768800735], \"yaxis\": \"y\"}, {\"hovertemplate\": \"Country Name=Mexico<br>Year=%{x}<br>% 25+ completed at least Bachelor's Degree=%{y}<extra></extra>\", \"legendgroup\": \"Mexico\", \"line\": {\"color\": \"#00cc96\", \"dash\": \"solid\"}, \"mode\": \"lines\", \"name\": \"Mexico\", \"orientation\": \"v\", \"showlegend\": true, \"type\": \"scatter\", \"x\": [2013, 2014, 2015, 2016, 2017], \"xaxis\": \"x\", \"y\": [14.3226099014, 13.9571304321, 14.7796497345, 14.7103900909, 15.3742599487], \"yaxis\": \"y\"}, {\"hovertemplate\": \"Country Name=Serbia<br>Year=%{x}<br>% 25+ completed at least Bachelor's Degree=%{y}<extra></extra>\", \"legendgroup\": \"Serbia\", \"line\": {\"color\": \"#ab63fa\", \"dash\": \"solid\"}, \"mode\": \"lines\", \"name\": \"Serbia\", \"orientation\": \"v\", \"showlegend\": true, \"type\": \"scatter\", \"x\": [2013, 2014, 2015, 2016, 2017], \"xaxis\": \"x\", \"y\": [11.4581804276, 12.6497097015, 13.5838098526, 14.5109100342, 14.8972396851], \"yaxis\": \"y\"}, {\"hovertemplate\": \"Country Name=Sweden<br>Year=%{x}<br>% 25+ completed at least Bachelor's Degree=%{y}<extra></extra>\", \"legendgroup\": \"Sweden\", \"line\": {\"color\": \"#FFA15A\", \"dash\": \"solid\"}, \"mode\": \"lines\", \"name\": \"Sweden\", \"orientation\": \"v\", \"showlegend\": true, \"type\": \"scatter\", \"x\": [2013, 2014, 2015, 2016, 2017], \"xaxis\": \"x\", \"y\": [22.039850235, 22.535320282, 22.9988498688, 23.4782295227, 23.936920166], \"yaxis\": \"y\"}],                        {\"height\": 600, \"legend\": {\"title\": {\"text\": \"Country Name\"}, \"tracegroupgap\": 0}, \"template\": {\"data\": {\"bar\": [{\"error_x\": {\"color\": \"#f2f5fa\"}, \"error_y\": {\"color\": \"#f2f5fa\"}, \"marker\": {\"line\": {\"color\": \"rgb(17,17,17)\", \"width\": 0.5}}, \"type\": \"bar\"}], \"barpolar\": [{\"marker\": {\"line\": {\"color\": \"rgb(17,17,17)\", \"width\": 0.5}}, \"type\": \"barpolar\"}], \"carpet\": [{\"aaxis\": {\"endlinecolor\": \"#A2B1C6\", \"gridcolor\": \"#506784\", \"linecolor\": \"#506784\", \"minorgridcolor\": \"#506784\", \"startlinecolor\": \"#A2B1C6\"}, \"baxis\": {\"endlinecolor\": \"#A2B1C6\", \"gridcolor\": \"#506784\", \"linecolor\": \"#506784\", \"minorgridcolor\": \"#506784\", \"startlinecolor\": \"#A2B1C6\"}, \"type\": \"carpet\"}], \"choropleth\": [{\"colorbar\": {\"outlinewidth\": 0, \"ticks\": \"\"}, \"type\": \"choropleth\"}], \"contour\": [{\"colorbar\": {\"outlinewidth\": 0, \"ticks\": \"\"}, \"colorscale\": [[0.0, \"#0d0887\"], [0.1111111111111111, \"#46039f\"], [0.2222222222222222, \"#7201a8\"], [0.3333333333333333, \"#9c179e\"], [0.4444444444444444, \"#bd3786\"], [0.5555555555555556, \"#d8576b\"], [0.6666666666666666, \"#ed7953\"], [0.7777777777777778, \"#fb9f3a\"], [0.8888888888888888, \"#fdca26\"], [1.0, \"#f0f921\"]], \"type\": \"contour\"}], \"contourcarpet\": [{\"colorbar\": {\"outlinewidth\": 0, \"ticks\": \"\"}, \"type\": \"contourcarpet\"}], \"heatmap\": [{\"colorbar\": {\"outlinewidth\": 0, \"ticks\": \"\"}, \"colorscale\": [[0.0, \"#0d0887\"], [0.1111111111111111, \"#46039f\"], [0.2222222222222222, \"#7201a8\"], [0.3333333333333333, \"#9c179e\"], [0.4444444444444444, \"#bd3786\"], [0.5555555555555556, \"#d8576b\"], [0.6666666666666666, \"#ed7953\"], [0.7777777777777778, \"#fb9f3a\"], [0.8888888888888888, \"#fdca26\"], [1.0, \"#f0f921\"]], \"type\": \"heatmap\"}], \"heatmapgl\": [{\"colorbar\": {\"outlinewidth\": 0, \"ticks\": \"\"}, \"colorscale\": [[0.0, \"#0d0887\"], [0.1111111111111111, \"#46039f\"], [0.2222222222222222, \"#7201a8\"], [0.3333333333333333, \"#9c179e\"], [0.4444444444444444, \"#bd3786\"], [0.5555555555555556, \"#d8576b\"], [0.6666666666666666, \"#ed7953\"], [0.7777777777777778, \"#fb9f3a\"], [0.8888888888888888, \"#fdca26\"], [1.0, \"#f0f921\"]], \"type\": \"heatmapgl\"}], \"histogram\": [{\"marker\": {\"colorbar\": {\"outlinewidth\": 0, \"ticks\": \"\"}}, \"type\": \"histogram\"}], \"histogram2d\": [{\"colorbar\": {\"outlinewidth\": 0, \"ticks\": \"\"}, \"colorscale\": [[0.0, \"#0d0887\"], [0.1111111111111111, \"#46039f\"], [0.2222222222222222, \"#7201a8\"], [0.3333333333333333, \"#9c179e\"], [0.4444444444444444, \"#bd3786\"], [0.5555555555555556, \"#d8576b\"], [0.6666666666666666, \"#ed7953\"], [0.7777777777777778, \"#fb9f3a\"], [0.8888888888888888, \"#fdca26\"], [1.0, \"#f0f921\"]], \"type\": \"histogram2d\"}], \"histogram2dcontour\": [{\"colorbar\": {\"outlinewidth\": 0, \"ticks\": \"\"}, \"colorscale\": [[0.0, \"#0d0887\"], [0.1111111111111111, \"#46039f\"], [0.2222222222222222, \"#7201a8\"], [0.3333333333333333, \"#9c179e\"], [0.4444444444444444, \"#bd3786\"], [0.5555555555555556, \"#d8576b\"], [0.6666666666666666, \"#ed7953\"], [0.7777777777777778, \"#fb9f3a\"], [0.8888888888888888, \"#fdca26\"], [1.0, \"#f0f921\"]], \"type\": \"histogram2dcontour\"}], \"mesh3d\": [{\"colorbar\": {\"outlinewidth\": 0, \"ticks\": \"\"}, \"type\": \"mesh3d\"}], \"parcoords\": [{\"line\": {\"colorbar\": {\"outlinewidth\": 0, \"ticks\": \"\"}}, \"type\": \"parcoords\"}], \"pie\": [{\"automargin\": true, \"type\": \"pie\"}], \"scatter\": [{\"marker\": {\"line\": {\"color\": \"#283442\"}}, \"type\": \"scatter\"}], \"scatter3d\": [{\"line\": {\"colorbar\": {\"outlinewidth\": 0, \"ticks\": \"\"}}, \"marker\": {\"colorbar\": {\"outlinewidth\": 0, \"ticks\": \"\"}}, \"type\": \"scatter3d\"}], \"scattercarpet\": [{\"marker\": {\"colorbar\": {\"outlinewidth\": 0, \"ticks\": \"\"}}, \"type\": \"scattercarpet\"}], \"scattergeo\": [{\"marker\": {\"colorbar\": {\"outlinewidth\": 0, \"ticks\": \"\"}}, \"type\": \"scattergeo\"}], \"scattergl\": [{\"marker\": {\"line\": {\"color\": \"#283442\"}}, \"type\": \"scattergl\"}], \"scattermapbox\": [{\"marker\": {\"colorbar\": {\"outlinewidth\": 0, \"ticks\": \"\"}}, \"type\": \"scattermapbox\"}], \"scatterpolar\": [{\"marker\": {\"colorbar\": {\"outlinewidth\": 0, \"ticks\": \"\"}}, \"type\": \"scatterpolar\"}], \"scatterpolargl\": [{\"marker\": {\"colorbar\": {\"outlinewidth\": 0, \"ticks\": \"\"}}, \"type\": \"scatterpolargl\"}], \"scatterternary\": [{\"marker\": {\"colorbar\": {\"outlinewidth\": 0, \"ticks\": \"\"}}, \"type\": \"scatterternary\"}], \"surface\": [{\"colorbar\": {\"outlinewidth\": 0, \"ticks\": \"\"}, \"colorscale\": [[0.0, \"#0d0887\"], [0.1111111111111111, \"#46039f\"], [0.2222222222222222, \"#7201a8\"], [0.3333333333333333, \"#9c179e\"], [0.4444444444444444, \"#bd3786\"], [0.5555555555555556, \"#d8576b\"], [0.6666666666666666, \"#ed7953\"], [0.7777777777777778, \"#fb9f3a\"], [0.8888888888888888, \"#fdca26\"], [1.0, \"#f0f921\"]], \"type\": \"surface\"}], \"table\": [{\"cells\": {\"fill\": {\"color\": \"#506784\"}, \"line\": {\"color\": \"rgb(17,17,17)\"}}, \"header\": {\"fill\": {\"color\": \"#2a3f5f\"}, \"line\": {\"color\": \"rgb(17,17,17)\"}}, \"type\": \"table\"}]}, \"layout\": {\"annotationdefaults\": {\"arrowcolor\": \"#f2f5fa\", \"arrowhead\": 0, \"arrowwidth\": 1}, \"autotypenumbers\": \"strict\", \"coloraxis\": {\"colorbar\": {\"outlinewidth\": 0, \"ticks\": \"\"}}, \"colorscale\": {\"diverging\": [[0, \"#8e0152\"], [0.1, \"#c51b7d\"], [0.2, \"#de77ae\"], [0.3, \"#f1b6da\"], [0.4, \"#fde0ef\"], [0.5, \"#f7f7f7\"], [0.6, \"#e6f5d0\"], [0.7, \"#b8e186\"], [0.8, \"#7fbc41\"], [0.9, \"#4d9221\"], [1, \"#276419\"]], \"sequential\": [[0.0, \"#0d0887\"], [0.1111111111111111, \"#46039f\"], [0.2222222222222222, \"#7201a8\"], [0.3333333333333333, \"#9c179e\"], [0.4444444444444444, \"#bd3786\"], [0.5555555555555556, \"#d8576b\"], [0.6666666666666666, \"#ed7953\"], [0.7777777777777778, \"#fb9f3a\"], [0.8888888888888888, \"#fdca26\"], [1.0, \"#f0f921\"]], \"sequentialminus\": [[0.0, \"#0d0887\"], [0.1111111111111111, \"#46039f\"], [0.2222222222222222, \"#7201a8\"], [0.3333333333333333, \"#9c179e\"], [0.4444444444444444, \"#bd3786\"], [0.5555555555555556, \"#d8576b\"], [0.6666666666666666, \"#ed7953\"], [0.7777777777777778, \"#fb9f3a\"], [0.8888888888888888, \"#fdca26\"], [1.0, \"#f0f921\"]]}, \"colorway\": [\"#636efa\", \"#EF553B\", \"#00cc96\", \"#ab63fa\", \"#FFA15A\", \"#19d3f3\", \"#FF6692\", \"#B6E880\", \"#FF97FF\", \"#FECB52\"], \"font\": {\"color\": \"#f2f5fa\"}, \"geo\": {\"bgcolor\": \"rgb(17,17,17)\", \"lakecolor\": \"rgb(17,17,17)\", \"landcolor\": \"rgb(17,17,17)\", \"showlakes\": true, \"showland\": true, \"subunitcolor\": \"#506784\"}, \"hoverlabel\": {\"align\": \"left\"}, \"hovermode\": \"closest\", \"mapbox\": {\"style\": \"dark\"}, \"paper_bgcolor\": \"rgb(17,17,17)\", \"plot_bgcolor\": \"rgb(17,17,17)\", \"polar\": {\"angularaxis\": {\"gridcolor\": \"#506784\", \"linecolor\": \"#506784\", \"ticks\": \"\"}, \"bgcolor\": \"rgb(17,17,17)\", \"radialaxis\": {\"gridcolor\": \"#506784\", \"linecolor\": \"#506784\", \"ticks\": \"\"}}, \"scene\": {\"xaxis\": {\"backgroundcolor\": \"rgb(17,17,17)\", \"gridcolor\": \"#506784\", \"gridwidth\": 2, \"linecolor\": \"#506784\", \"showbackground\": true, \"ticks\": \"\", \"zerolinecolor\": \"#C8D4E3\"}, \"yaxis\": {\"backgroundcolor\": \"rgb(17,17,17)\", \"gridcolor\": \"#506784\", \"gridwidth\": 2, \"linecolor\": \"#506784\", \"showbackground\": true, \"ticks\": \"\", \"zerolinecolor\": \"#C8D4E3\"}, \"zaxis\": {\"backgroundcolor\": \"rgb(17,17,17)\", \"gridcolor\": \"#506784\", \"gridwidth\": 2, \"linecolor\": \"#506784\", \"showbackground\": true, \"ticks\": \"\", \"zerolinecolor\": \"#C8D4E3\"}}, \"shapedefaults\": {\"line\": {\"color\": \"#f2f5fa\"}}, \"sliderdefaults\": {\"bgcolor\": \"#C8D4E3\", \"bordercolor\": \"rgb(17,17,17)\", \"borderwidth\": 1, \"tickwidth\": 0}, \"ternary\": {\"aaxis\": {\"gridcolor\": \"#506784\", \"linecolor\": \"#506784\", \"ticks\": \"\"}, \"baxis\": {\"gridcolor\": \"#506784\", \"linecolor\": \"#506784\", \"ticks\": \"\"}, \"bgcolor\": \"rgb(17,17,17)\", \"caxis\": {\"gridcolor\": \"#506784\", \"linecolor\": \"#506784\", \"ticks\": \"\"}}, \"title\": {\"x\": 0.05}, \"updatemenudefaults\": {\"bgcolor\": \"#506784\", \"borderwidth\": 0}, \"xaxis\": {\"automargin\": true, \"gridcolor\": \"#283442\", \"linecolor\": \"#506784\", \"ticks\": \"\", \"title\": {\"standoff\": 15}, \"zerolinecolor\": \"#283442\", \"zerolinewidth\": 2}, \"yaxis\": {\"automargin\": true, \"gridcolor\": \"#283442\", \"linecolor\": \"#506784\", \"ticks\": \"\", \"title\": {\"standoff\": 15}, \"zerolinecolor\": \"#283442\", \"zerolinewidth\": 2}}}, \"title\": {\"text\": \"Adjusted net national income per capita (current US$) by Country\"}, \"xaxis\": {\"anchor\": \"y\", \"categoryorder\": \"total descending\", \"domain\": [0.0, 1.0], \"dtick\": 1, \"title\": {\"text\": \"Year\"}}, \"yaxis\": {\"anchor\": \"x\", \"domain\": [0.0, 1.0], \"title\": {\"text\": \"% 25+ completed at least Bachelor's Degree\"}}},                        {\"responsive\": true}                    ).then(function(){\n                            \nvar gd = document.getElementById('889194ba-f8fd-4306-848a-865398905fea');\nvar x = new MutationObserver(function (mutations, observer) {{\n        var display = window.getComputedStyle(gd).display;\n        if (!display || display === 'none') {{\n            console.log([gd, 'removed!']);\n            Plotly.purge(gd);\n            observer.disconnect();\n        }}\n}});\n\n// Listen for the removal of the full notebook cells\nvar notebookContainer = gd.closest('#notebook-container');\nif (notebookContainer) {{\n    x.observe(notebookContainer, {childList: true});\n}}\n\n// Listen for the clearing of the current output cell\nvar outputEl = gd.closest('.output');\nif (outputEl) {{\n    x.observe(outputEl, {childList: true});\n}}\n\n                        })                };                            </script>        </div>\n</body>\n</html>"
     },
     "metadata": {},
     "output_type": "display_data"
    }
   ],
   "execution_count": 153
  },
  {
   "cell_type": "markdown",
   "source": "### This is the end my friend\n \nIn conclusion, I think that we learned there is a correlation between wealth and educational attainment. But I don’t think there is enough to go on to say that it is the factor that determines whether a country is wealthy or not.\n \nWhat can poorer nations do to improve the education of their citizens? I think that access to food and running water and reliable access to electricity are table stakes. They are critical things that allow a country to become stable. Only then can children be reliably educated and only after completing primary and secondary education they can go on to attempt post-secondary degree attainment. Being highly educated ultimately is a luxury. Even though being educated can lead to even more wealth. The gap between the rich and the poor will only grow bigger if the ‘little guys’ can’t ever catch up.",
   "metadata": {
    "tags": [],
    "cell_id": "00010-646cea74-b38e-4fdf-95fd-73296bc9f482",
    "deepnote_cell_type": "markdown"
   }
  },
  {
   "cell_type": "markdown",
   "source": "<a style='text-decoration:none;line-height:16px;display:flex;color:#5B5B62;padding:10px;justify-content:end;' href='https://deepnote.com?utm_source=created-in-deepnote-cell&projectId=123b262d-35f2-47ab-b1cf-53ab82f88de9' target=\"_blank\">\n<img alt='Created in deepnote.com' style='display:inline;max-height:16px;margin:0px;margin-right:7.5px;' src='data:image/svg+xml;base64,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' > </img>\nCreated in <span style='font-weight:600;margin-left:4px;'>Deepnote</span></a>",
   "metadata": {
    "tags": [],
    "created_in_deepnote_cell": true,
    "deepnote_cell_type": "markdown"
   }
  }
 ],
 "nbformat": 4,
 "nbformat_minor": 2,
 "metadata": {
  "orig_nbformat": 2,
  "deepnote": {
   "is_reactive": false
  },
  "deepnote_notebook_id": "4336b3aa-fa49-46a0-9a7c-e760004a4a08",
  "deepnote_execution_queue": []
 }
}
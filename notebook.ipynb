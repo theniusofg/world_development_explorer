{
  "cells": [
    {
      "cell_type": "markdown",
      "source": "# Start writing code here...2012-2016\naustralia\naustria\nazerbaijan\nbangladesh\nbelgium\nbrazil\ncolombia\ncyprus\nczech rep\ndominican rep\necuador\nfrance\ngermany\nhungary\nlatvia\nlithuania\nmalta\nmexico\nnetherlands\nportugal\nromania\nsingapore\nslovak rep\nslovenia\nsweden\nturkey\nunited states\nuruguay\nwest bank gaza",
      "metadata": {
        "tags": [],
        "cell_id": "00000-74eb909d-40e0-4d39-a937-b44b00847247",
        "deepnote_cell_type": "markdown"
      }
    },
    {
      "cell_type": "markdown",
      "source": "# Individual Project Part A\nFor this part, you wear a different role. **No programming is required**. Analytical and communications skills are required.\n## You ARE a\n- Data analyst\n- Business analyst\n- Social science researcher \n## You are NOT a \n- Data scientist\n- Python programmer \n- Software engineer\n## Step 1. Visit the World Bank website for information about the World Development Indicators \n- https://datatopics.worldbank.org/world-development-indicators/\n## Step 2. Play with the World Development Explorer (WDX) and get familar with its functionalities\n- The WDX main page (the explorer) \n    - http://www.worlddev.xyz\n- Use this page to understand the definition of each topic and its indicators\n    - http://www.worlddev.xyz/indicators\n- Use this page to get familiar with regions and countries \n    - http://www.worlddev.xyz/countries    - \n## Step 3. Think about your interests \n- Determine What Topics are interesting to you? \n    - There are 22 topics inclding Health, Environment, Education, Energy, etc.\n    - For each topic of your interest, explore the vast indicators \n- Determine what indicators are interesting to you\n- Determine what countries are interesting to you\n    - You must select at least two countries for comparison\n- Determine what time span you would like to cover\n    -  The data span from 1960 to 2018\n    -  Your time span must be at least 5 years\n    -  Suggestion: **2010 to 2018**\n## Step 4. Use WDX to explore the topics and indicators of your interests\n- Try to utilize all charts provided by WDX\n- Download the charts that are insightful \n- Taking note of your understanding of the charts\n    - what does it reveal to you?\n## Step 5. Write a report using Markdown format to document your effort\n- Think of yourself writing a blog that will be published on the web. \n    - For example, http://www.medium.com\n- You must use Markdown format not Jupyter Notebook format\n- You must use at least three different charts (for example, 2D scatter, Bar, and Line chart)\n- You should provide a detailed introduction about the project, for example,\n    - What is it that you are investigating/exploring/analyzing (provide sufficient background information)?\n    - Why is it important to you and/or to others?\n    - What questions do you have in mind and would like to answer?\n    - Where do you get the data to help answer your questions?  \n    - What process/step you use to analyze the situation/issue\n- You will report the findings and your analysis of each issue/question after the introduction\n- Use the downloaded charts and provide interpretations/explanations/analysis\n- You compare different countries and show similarities/differences and their implcations \n    - Use Bar charts\n- You also look at the historic trend to spot any changes\n    - Use Line charts\n- You will also explore relations between different topics/indicators \n    - For example, wealth may impact health, women's education levels may impact their employment.\n    - Use scatter plots (2D scatter and/or bubble chart)\n## Step 6. Create a separate GitHub repository for this project\n- Name the project \"world_development_explorer\"\n- Create a folder call \"charts\" and upload the charts there\n- Create a Markdown file called \"wdx_analysis.md\" for your report\n- Submit the link to this repository to Black Board\n",
      "metadata": {
        "tags": [],
        "cell_id": "00001-6086fc2f-dbd2-4fde-9bc4-6013b5221e4e",
        "deepnote_to_be_reexecuted": false,
        "source_hash": "8c7bb4ad",
        "execution_start": 1618520035618,
        "execution_millis": 9,
        "deepnote_cell_type": "markdown"
      }
    },
    {
      "cell_type": "markdown",
      "source": "### intstructions\n- Think of yourself writing a blog that will be published on the web. \n    - For example, http://www.medium.com\n- You must use Markdown format not Jupyter Notebook format\n- You must use at least three different charts (for example, 2D scatter, Bar, and Line chart)\n- You should provide a detailed introduction about the project, for example,\n    - What is it that you are investigating/exploring/analyzing (provide sufficient background information)?\n    - Why is it important to you and/or to others?\n    - What questions do you have in mind and would like to answer?\n    - Where do you get the data to help answer your questions?  \n    - What process/step you use to analyze the situation/issue\n- You will report the findings and your analysis of each issue/question after the introduction\n- Use the downloaded charts and provide interpretations/explanations/analysis\n- You compare different countries and show similarities/differences and their implcations \n    - Use Bar charts\n- You also look at the historic trend to spot any changes\n    - Use Line charts\n- You will also explore relations between different topics/indicators \n    - For example, wealth may impact health, women's education levels may impact their employment.\n    - Use scatter plots (2D scatter and/or bubble chart)",
      "metadata": {
        "tags": [],
        "cell_id": "00003-f8128018-908c-4774-84d9-bf779c0be070",
        "deepnote_cell_type": "markdown"
      }
    },
    {
      "cell_type": "markdown",
      "source": "![2012 select countries percent of population over age 25 with post-secondary education](./charts/2012country_post2nd.png)\n![2012 income groups percent of population over age 25 with post-secondary education](./charts/2012income_post2nd.png)\n![2012 all countries percent of population over age 25 with post-secondary education](./charts/2012world_post2nd.png)\n![2013 countries percent of population over age 25 with at least bachelor's degree](./charts/2017country_bach.png)\n![2013 countries percent of population over age 25 with at least master's degree](./charts/2013country_mast.png)\n![2013 countries percent of population over age 25 with at least doctoral degree](./charts/2013country_phd.png)\n![this](./charts/2013world_bach.png)\n![that](./charts/2016world_bach.png)\n\n",
      "metadata": {
        "tags": [],
        "cell_id": "00003-07b7b737-e57c-45d3-875a-c6ac40cbfb7f",
        "deepnote_cell_type": "markdown"
      },
      "outputs": [],
      "execution_count": null
    },
    {
      "cell_type": "markdown",
      "source": "<a style='text-decoration:none;line-height:16px;display:flex;color:#5B5B62;padding:10px;justify-content:end;' href='https://deepnote.com?utm_source=created-in-deepnote-cell&projectId=123b262d-35f2-47ab-b1cf-53ab82f88de9' target=\"_blank\">\n<img alt='Created in deepnote.com' style='display:inline;max-height:16px;margin:0px;margin-right:7.5px;' src='data:image/svg+xml;base64,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' > </img>\nCreated in <span style='font-weight:600;margin-left:4px;'>Deepnote</span></a>",
      "metadata": {
        "tags": [],
        "created_in_deepnote_cell": true,
        "deepnote_cell_type": "markdown"
      }
    }
  ],
  "nbformat": 4,
  "nbformat_minor": 2,
  "metadata": {
    "orig_nbformat": 2,
    "deepnote": {
      "is_reactive": false
    },
    "deepnote_notebook_id": "4336b3aa-fa49-46a0-9a7c-e760004a4a08",
    "deepnote_execution_queue": []
  }
}